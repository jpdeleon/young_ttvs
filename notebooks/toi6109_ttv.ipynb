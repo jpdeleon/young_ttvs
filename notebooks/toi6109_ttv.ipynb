{
 "cells": [
  {
   "cell_type": "markdown",
   "metadata": {},
   "source": [
    "## allesfitter results"
   ]
  },
  {
   "cell_type": "raw",
   "metadata": {
    "ExecuteTime": {
     "end_time": "2023-03-20T05:26:12.079679Z",
     "start_time": "2023-03-20T05:26:11.665279Z"
    }
   },
   "source": [
    "%matplotlib inline"
   ]
  },
  {
   "cell_type": "code",
   "execution_count": 3,
   "metadata": {},
   "outputs": [
    {
     "name": "stdout",
     "output_type": "stream",
     "text": [
      "\u001b[0m\u001b[01;35mb_ttv.png\u001b[0m  params2.csv  params_star.csv  run.py        tess.csv\n",
      "\u001b[01;35mc_ttv.png\u001b[0m  params.csv   \u001b[01;34mresults\u001b[0m/         settings.csv  \u001b[01;34mttv_preparation\u001b[0m/\n"
     ]
    }
   ],
   "source": [
    "ls ~/github/research/project/young_ttvs/allesfitter/toi_in_resonance/toi6109/ttv"
   ]
  },
  {
   "cell_type": "code",
   "execution_count": 4,
   "metadata": {
    "ExecuteTime": {
     "end_time": "2023-03-20T05:27:42.985597Z",
     "start_time": "2023-03-20T05:27:34.122620Z"
    }
   },
   "outputs": [
    {
     "name": "stdout",
     "output_type": "stream",
     "text": [
      "Filling the Basement\n",
      "\n",
      "OrderedDict([('user-given:', ''),\n",
      "             ('companions_phot', ['b', 'c']),\n",
      "             ('companions_rv', []),\n",
      "             ('inst_phot', ['tess']),\n",
      "             ('inst_rv', []),\n",
      "             ('multiprocess', True),\n",
      "             ('multiprocess_cores', '40'),\n",
      "             ('fast_fit', 'True'),\n",
      "             ('fast_fit_width', '0.5'),\n",
      "             ('secondary_eclipse', 'False'),\n",
      "             ('phase_curve', 'False'),\n",
      "             ('shift_epoch', True),\n",
      "             ('inst_for_b_epoch', ['tess']),\n",
      "             ('mcmc_nwalkers', '100'),\n",
      "             ('mcmc_total_steps', '2000'),\n",
      "             ('mcmc_burn_steps', '1000'),\n",
      "             ('mcmc_thin_by', '2'),\n",
      "             ('ns_modus', 'dynamic'),\n",
      "             ('ns_nlive', '1000'),\n",
      "             ('ns_bound', 'single'),\n",
      "             ('ns_sample', 'auto'),\n",
      "             ('ns_tol', '0.01'),\n",
      "             ('host_ld_law_tess', 'quad'),\n",
      "             ('baseline_flux_tess', 'sample_GP_Matern32'),\n",
      "             ('error_flux_tess', 'sample'),\n",
      "             ('host_grid_tess', 'very_sparse'),\n",
      "             ('use_host_density_prior', 'True'),\n",
      "             ('fit_ttvs', 'True'),\n",
      "             ('automatically set:', ''),\n",
      "             ('time_format', 'BJD_TDB'),\n",
      "             ('inst_rv2', []),\n",
      "             ('companions_all', ['b', 'c']),\n",
      "             ('inst_all', ['tess']),\n",
      "             ('print_progress', True),\n",
      "             ('inst_for_c_epoch', ['tess'])])\n",
      "Filling the Basement\n",
      "\n",
      "\n",
      "allesfitter version\n",
      "---------------------\n",
      "v1.2.10\n",
      "OrderedDict([('user-given:', ''),\n",
      "             ('companions_phot', ['b', 'c']),\n",
      "             ('companions_rv', []),\n",
      "             ('inst_phot', ['tess']),\n",
      "             ('inst_rv', []),\n",
      "             ('multiprocess', True),\n",
      "             ('multiprocess_cores', '40'),\n",
      "             ('fast_fit', 'True'),\n",
      "             ('fast_fit_width', '0.5'),\n",
      "             ('secondary_eclipse', 'False'),\n",
      "             ('phase_curve', 'False'),\n",
      "             ('shift_epoch', True),\n",
      "             ('inst_for_b_epoch', ['tess']),\n",
      "             ('mcmc_nwalkers', '100'),\n",
      "             ('mcmc_total_steps', '2000'),\n",
      "             ('mcmc_burn_steps', '1000'),\n",
      "             ('mcmc_thin_by', '2'),\n",
      "             ('ns_modus', 'dynamic'),\n",
      "             ('ns_nlive', '1000'),\n",
      "             ('ns_bound', 'single'),\n",
      "             ('ns_sample', 'auto'),\n",
      "             ('ns_tol', '0.01'),\n",
      "             ('host_ld_law_tess', 'quad'),\n",
      "             ('baseline_flux_tess', 'sample_GP_Matern32'),\n",
      "             ('error_flux_tess', 'sample'),\n",
      "             ('host_grid_tess', 'very_sparse'),\n",
      "             ('use_host_density_prior', 'True'),\n",
      "             ('fit_ttvs', 'True'),\n",
      "             ('automatically set:', ''),\n",
      "             ('time_format', 'BJD_TDB'),\n",
      "             ('inst_rv2', []),\n",
      "             ('companions_all', ['b', 'c']),\n",
      "             ('inst_all', ['tess']),\n",
      "             ('print_progress', True),\n",
      "             ('inst_for_c_epoch', ['tess'])])\n",
      "\n",
      "Shifting epochs into the data center\n",
      "------------------------------------\n",
      "Companion b\n",
      "\tinput epoch: 2459353.077606\n",
      "Companion c\n",
      "\tinput epoch: 2459354.04314\n",
      "working\n"
     ]
    }
   ],
   "source": [
    "import numpy as np\n",
    "import matplotlib.pyplot as plt    \n",
    "from pprint import pprint\n",
    "import allesfitter\n",
    "import seaborn as sb\n",
    "\n",
    "alles = allesfitter.allesclass('../allesfitter/toi_in_resonance/toi6109/ttv')"
   ]
  },
  {
   "cell_type": "code",
   "execution_count": 5,
   "metadata": {},
   "outputs": [
    {
     "data": {
      "text/plain": [
       "{'b': (0.2980392156862745, 0.4470588235294118, 0.6901960784313725),\n",
       " 'c': (0.8666666666666667, 0.5176470588235295, 0.3215686274509804)}"
      ]
     },
     "execution_count": 5,
     "metadata": {},
     "output_type": "execute_result"
    }
   ],
   "source": [
    "colors = {pl: sb.color_palette()[i] for i,pl in enumerate(alles.settings['companions_all'])}\n",
    "colors"
   ]
  },
  {
   "cell_type": "raw",
   "metadata": {},
   "source": [
    "#saves on disk\n",
    "from allesfitter.general_output import plot_ttv_results\n",
    "\n",
    "plot_ttv_results(alles.posterior_params_median, alles.posterior_params_ll, alles.posterior_params_ul)"
   ]
  },
  {
   "cell_type": "code",
   "execution_count": 21,
   "metadata": {},
   "outputs": [],
   "source": [
    "from aesthetic.plot import savefig"
   ]
  },
  {
   "cell_type": "code",
   "execution_count": 23,
   "metadata": {},
   "outputs": [
    {
     "name": "stdout",
     "output_type": "stream",
     "text": [
      "2024-03-06T02:00:58.484421: made ../allesfitter/toi_in_resonance/toi6109/ttv/b_ttv.png\n",
      "2024-03-06T02:00:58.893055: made ../allesfitter/toi_in_resonance/toi6109/ttv/c_ttv.png\n"
     ]
    }
   ],
   "source": [
    "for companion in alles.settings['companions_all']:\n",
    "    fig, axes = plt.subplots()\n",
    "    axes.axhline(0, color='grey', ls='--')\n",
    "    for i in range(len(alles.data[f'{companion}_tmid_observed_transits'])):\n",
    "        axes.errorbar(i+1, alles.posterior_params_median[f'{companion}_ttv_transit_'+str(i+1)]*24*60, \n",
    "                       yerr=np.array([[alles.posterior_params_ll[f'{companion}_ttv_transit_'+str(i+1)]*24*60, \n",
    "                                       alles.posterior_params_ul[f'{companion}_ttv_transit_'+str(i+1)]*24*60 ]]).T, \n",
    "                       color=alles.settings[f'{companion}_color'], fmt='.')\n",
    "    target = alles.BASEMENT.datadir.split('/')[-2]\n",
    "    axes.set(xlabel='Transit Number.', ylabel='TTV (mins)', title=f'{target}{companion}')\n",
    "    # savefig(fig, f\"{alles.BASEMENT.datadir}/{companion}_ttv.png\", writepdf=False)"
   ]
  },
  {
   "cell_type": "raw",
   "metadata": {
    "ExecuteTime": {
     "end_time": "2023-03-02T05:01:56.103287Z",
     "start_time": "2023-03-02T05:01:56.095406Z"
    }
   },
   "source": [
    "alles.posterior_params.keys()"
   ]
  },
  {
   "cell_type": "code",
   "execution_count": 8,
   "metadata": {
    "ExecuteTime": {
     "end_time": "2023-03-17T07:56:09.424652Z",
     "start_time": "2023-03-17T07:56:09.413242Z"
    }
   },
   "outputs": [],
   "source": [
    "def get_infos(companion):\n",
    "    infos = {}\n",
    "    \n",
    "    infos['transit_midtime_linear'] = np.array(alles.data[companion+'_tmid_observed_transits'] ) #linear-ephemerides midtimes that fall into the observation windows\n",
    "    infos['transit_number'] = np.array( [int(np.round( ( t - alles.posterior_params_median[companion+'_epoch'] ) / alles.posterior_params_median[companion+'_period'] ) ) for t in infos['transit_midtime_linear']] )\n",
    "    infos['N_transits'] = len(infos['transit_number']) #number of linear-ephemerides midtimes that fall into the observation windows\n",
    "    \n",
    "    infos['ttv_median'] = np.array([alles.posterior_params_median[companion+'_ttv_transit_'+str(i+1)] for i in range(infos['N_transits'])] )\n",
    "    ttv_sig = []\n",
    "    for i in range(infos['N_transits']):\n",
    "        try:\n",
    "            ttv_sig.append(np.std(alles.posterior_params[companion+'_ttv_transit_'+str(i+1)]))\n",
    "        except:\n",
    "            ttv_sig.append(np.nan)\n",
    "    infos['ttv_sig'] = np.array(ttv_sig)\n",
    "    \n",
    "    infos['ttv_lerr'] = np.array([alles.posterior_params_ll[companion+'_ttv_transit_'+str(i+1)] for i in range(infos['N_transits'])] )\n",
    "    infos['ttv_uerr'] = np.array([alles.posterior_params_ul[companion+'_ttv_transit_'+str(i+1)] for i in range(infos['N_transits'])] )\n",
    "\n",
    "    infos['ttv_median'][infos['ttv_median']==0] = np.nan #remove the one we fixed\n",
    "    infos['ttv_sig'][infos['ttv_sig']==0] = np.nan #remove the one we fixed\n",
    "    infos['ttv_lerr'][infos['ttv_lerr']==0] = np.nan #remove the one we fixed\n",
    "    infos['ttv_uerr'][infos['ttv_uerr']==0] = np.nan #remove the one we fixed\n",
    "    \n",
    "    infos['transit_midtime_median'] = infos['transit_midtime_linear'] + infos['ttv_median']\n",
    "    infos['transit_midtime_lerr'] = infos['ttv_lerr']\n",
    "    infos['transit_midtime_uerr'] = infos['ttv_uerr']\n",
    "    \n",
    "    k = ~np.isnan(infos['ttv_median'])\n",
    "    z = np.polyfit(infos['transit_number'][k], infos['transit_midtime_median'][k], 1)\n",
    "    p = np.poly1d(z)\n",
    "    infos['period_linear'] = z[0]\n",
    "    infos['epoch_linear'] = z[1]\n",
    "    infos['o_minus_c_median'] = infos['transit_midtime_median'] - p(infos['transit_number'])\n",
    "    infos['o_minus_c_lerr'] = infos['ttv_lerr']\n",
    "    infos['o_minus_c_uerr'] = infos['ttv_uerr']\n",
    "    \n",
    "    return infos\n",
    "    \n",
    "def save_infos(companion, xlim=None):\n",
    "    infos = get_infos(companion)\n",
    "    \n",
    "    t = infos['transit_midtime_linear']\n",
    "    if xlim:\n",
    "        idx = (t>=xlim[0]) & (t<=xlim[1])\n",
    "    else:\n",
    "        idx = np.ones_like(t, dtype=bool)\n",
    "    #::: save csv\n",
    "    header = 'period_linear = '+str(infos['period_linear'])+'\\n'+\\\n",
    "             'epoch_linear = '+str(infos['epoch_linear'])+'\\n'+\\\n",
    "             'transit_number,transit_midtime_median,transit_midtime_lerr,transit_midtime_uerr,o_minus_c,o_minus_c_lerr,o_minus_c_uerr'\n",
    "    X = np.column_stack((infos['transit_number'][idx], \n",
    "                         infos['transit_midtime_median'][idx], \n",
    "                         infos['transit_midtime_lerr'][idx], \n",
    "                         infos['transit_midtime_uerr'][idx], \n",
    "                         infos['o_minus_c_median'][idx], \n",
    "                         infos['o_minus_c_lerr'][idx], \n",
    "                         infos['o_minus_c_uerr'][idx]))\n",
    "    fp = f'{target}_'+companion+'_summary.csv'\n",
    "    np.savetxt(fp, X, delimiter=',', header=header)\n",
    "    print(\"Saved: \", fp)\n",
    "    \n",
    "    #::: save latex table\n",
    "    fp = f'{target}_'+companion+'_latex_table.txt'\n",
    "    with open(fp,'w') as f:\n",
    "        f.write('Transit mid-time ($\\mathrm{BJD_\\{TDB}$) & O-C (min.)\\n')\n",
    "        for i in range(infos['N_transits']):\n",
    "            a = allesfitter.utils.latex_printer.round_tex(infos['transit_midtime_median'][i], infos['transit_midtime_lerr'][i], infos['transit_midtime_uerr'][i])\n",
    "            b = allesfitter.utils.latex_printer.round_tex(infos['o_minus_c_median'][i], infos['o_minus_c_lerr'][i], infos['o_minus_c_uerr'][i])\n",
    "            f.write('$'+a+'$' + ' & ' + '$'+b+'$' + '\\\\\\\\\\n')\n",
    "    print(\"Saved: \", fp)"
   ]
  },
  {
   "cell_type": "code",
   "execution_count": 9,
   "metadata": {
    "ExecuteTime": {
     "end_time": "2023-03-17T07:56:09.450387Z",
     "start_time": "2023-03-17T07:56:09.427143Z"
    }
   },
   "outputs": [
    {
     "data": {
      "text/plain": [
       "dict_keys(['tess', 'inst_phot', 'inst_rv', 'inst_rv2', 'b_tmid_observed_transits', 'c_tmid_observed_transits'])"
      ]
     },
     "execution_count": 9,
     "metadata": {},
     "output_type": "execute_result"
    }
   ],
   "source": [
    "alles.data.keys()"
   ]
  },
  {
   "cell_type": "code",
   "execution_count": 10,
   "metadata": {
    "ExecuteTime": {
     "end_time": "2023-03-17T07:56:09.541142Z",
     "start_time": "2023-03-17T07:56:09.454997Z"
    }
   },
   "outputs": [],
   "source": [
    "param_names = list(alles.posterior_params.keys())\n",
    "\n",
    "tcs = {}\n",
    "tcs_err = {}\n",
    "for companion in alles.settings['companions_all']:\n",
    "    tcs[companion] = {}\n",
    "    tcs_err[companion] = {}\n",
    "    i = 0\n",
    "    for name in param_names:\n",
    "        x = name.split('_')\n",
    "        if x[0]==companion:\n",
    "            if x[1]=='ttv':\n",
    "                tcs[companion][name] = alles.posterior_params_median[name]+np.array(alles.data[companion+'_tmid_observed_transits'])[i]\n",
    "                tcs_err[companion][name] = np.std(alles.posterior_params[name])\n",
    "                i+=1"
   ]
  },
  {
   "cell_type": "code",
   "execution_count": 11,
   "metadata": {
    "ExecuteTime": {
     "end_time": "2023-03-17T07:56:09.932392Z",
     "start_time": "2023-03-17T07:56:09.543298Z"
    }
   },
   "outputs": [],
   "source": [
    "import sys\n",
    "sys.path.insert(0, '/home/jp/github/research/project/young_ttvs/code/')\n",
    "\n",
    "from utils import *"
   ]
  },
  {
   "cell_type": "code",
   "execution_count": 12,
   "metadata": {
    "ExecuteTime": {
     "end_time": "2023-03-17T07:56:29.313452Z",
     "start_time": "2023-03-17T07:56:29.290831Z"
    }
   },
   "outputs": [
    {
     "data": {
      "text/html": [
       "<div>\n",
       "<style scoped>\n",
       "    .dataframe tbody tr th:only-of-type {\n",
       "        vertical-align: middle;\n",
       "    }\n",
       "\n",
       "    .dataframe tbody tr th {\n",
       "        vertical-align: top;\n",
       "    }\n",
       "\n",
       "    .dataframe thead th {\n",
       "        text-align: right;\n",
       "    }\n",
       "</style>\n",
       "<table border=\"1\" class=\"dataframe\">\n",
       "  <thead>\n",
       "    <tr style=\"text-align: right;\">\n",
       "      <th></th>\n",
       "      <th>Dates</th>\n",
       "      <th>Spacecraft</th>\n",
       "      <th>Camera 1</th>\n",
       "      <th>Camera 2</th>\n",
       "      <th>Camera 3</th>\n",
       "      <th>Camera 4</th>\n",
       "      <th>start</th>\n",
       "      <th>end</th>\n",
       "    </tr>\n",
       "    <tr>\n",
       "      <th>Sector</th>\n",
       "      <th></th>\n",
       "      <th></th>\n",
       "      <th></th>\n",
       "      <th></th>\n",
       "      <th></th>\n",
       "      <th></th>\n",
       "      <th></th>\n",
       "      <th></th>\n",
       "    </tr>\n",
       "  </thead>\n",
       "  <tbody>\n",
       "    <tr>\n",
       "      <th>79</th>\n",
       "      <td>05/21/24-06/18/24</td>\n",
       "      <td>266.06, 60.30, 347.51</td>\n",
       "      <td>258.01, 24.74, 83.22</td>\n",
       "      <td>262.17, 48.51, 80.69</td>\n",
       "      <td>274.36, 71.85, 249.88</td>\n",
       "      <td>33.61, 80.77, 131.93</td>\n",
       "      <td>2460451.5</td>\n",
       "      <td>2460479.5</td>\n",
       "    </tr>\n",
       "    <tr>\n",
       "      <th>80</th>\n",
       "      <td>06/18/24-07/15/24</td>\n",
       "      <td>275.70, 32.23, 5.49</td>\n",
       "      <td>278.93, -3.64, 94.65</td>\n",
       "      <td>276.91, 20.28, 94.95</td>\n",
       "      <td>274.11, 44.17, 276.48</td>\n",
       "      <td>267.10, 67.88, 282.42</td>\n",
       "      <td>2460479.5</td>\n",
       "      <td>2460506.5</td>\n",
       "    </tr>\n",
       "    <tr>\n",
       "      <th>81</th>\n",
       "      <td>07/15/24-08/10/24</td>\n",
       "      <td>292.57, 34.69, 17.13</td>\n",
       "      <td>302.54, -0.09, 104.02</td>\n",
       "      <td>296.39, 23.16, 105.27</td>\n",
       "      <td>287.51, 46.06, 290.43</td>\n",
       "      <td>265.96, 67.26, 308.80</td>\n",
       "      <td>2460506.5</td>\n",
       "      <td>2460532.5</td>\n",
       "    </tr>\n",
       "    <tr>\n",
       "      <th>82</th>\n",
       "      <td>08/10/24-09/05/24</td>\n",
       "      <td>309.13, 39.78, 27.80</td>\n",
       "      <td>325.16, 6.78, 111.16</td>\n",
       "      <td>315.49, 28.98, 114.19</td>\n",
       "      <td>300.44, 50.10, 303.97</td>\n",
       "      <td>265.65, 66.52, 334.11</td>\n",
       "      <td>2460532.5</td>\n",
       "      <td>2460558.5</td>\n",
       "    </tr>\n",
       "    <tr>\n",
       "      <th>83</th>\n",
       "      <td>09/05/24-10/01/24</td>\n",
       "      <td>325.89, 47.12, 37.05</td>\n",
       "      <td>347.50, 15.88, 115.23</td>\n",
       "      <td>334.93, 37.15, 120.95</td>\n",
       "      <td>312.93, 56.07, 317.26</td>\n",
       "      <td>266.16, 65.80, 358.80</td>\n",
       "      <td>2460558.5</td>\n",
       "      <td>2460584.5</td>\n",
       "    </tr>\n",
       "  </tbody>\n",
       "</table>\n",
       "</div>"
      ],
      "text/plain": [
       "                    Dates             Spacecraft               Camera 1  \\\n",
       "Sector                                                                    \n",
       "79      05/21/24-06/18/24  266.06, 60.30, 347.51   258.01, 24.74, 83.22   \n",
       "80      06/18/24-07/15/24    275.70, 32.23, 5.49   278.93, -3.64, 94.65   \n",
       "81      07/15/24-08/10/24   292.57, 34.69, 17.13  302.54, -0.09, 104.02   \n",
       "82      08/10/24-09/05/24   309.13, 39.78, 27.80   325.16, 6.78, 111.16   \n",
       "83      09/05/24-10/01/24   325.89, 47.12, 37.05  347.50, 15.88, 115.23   \n",
       "\n",
       "                     Camera 2               Camera 3               Camera 4  \\\n",
       "Sector                                                                        \n",
       "79       262.17, 48.51, 80.69  274.36, 71.85, 249.88   33.61, 80.77, 131.93   \n",
       "80       276.91, 20.28, 94.95  274.11, 44.17, 276.48  267.10, 67.88, 282.42   \n",
       "81      296.39, 23.16, 105.27  287.51, 46.06, 290.43  265.96, 67.26, 308.80   \n",
       "82      315.49, 28.98, 114.19  300.44, 50.10, 303.97  265.65, 66.52, 334.11   \n",
       "83      334.93, 37.15, 120.95  312.93, 56.07, 317.26  266.16, 65.80, 358.80   \n",
       "\n",
       "            start        end  \n",
       "Sector                        \n",
       "79      2460451.5  2460479.5  \n",
       "80      2460479.5  2460506.5  \n",
       "81      2460506.5  2460532.5  \n",
       "82      2460532.5  2460558.5  \n",
       "83      2460558.5  2460584.5  "
      ]
     },
     "execution_count": 12,
     "metadata": {},
     "output_type": "execute_result"
    }
   ],
   "source": [
    "df = get_tess_obs_dates(clobber=False)\n",
    "df.tail()"
   ]
  },
  {
   "cell_type": "code",
   "execution_count": 13,
   "metadata": {},
   "outputs": [
    {
     "data": {
      "text/plain": [
       "2458795.87777"
      ]
     },
     "execution_count": 13,
     "metadata": {},
     "output_type": "execute_result"
    }
   ],
   "source": [
    "t0 = alles.data[companion+'_tmid_observed_transits'][0]\n",
    "t0"
   ]
  },
  {
   "cell_type": "code",
   "execution_count": 14,
   "metadata": {
    "ExecuteTime": {
     "end_time": "2023-03-17T07:57:50.575710Z",
     "start_time": "2023-03-17T07:57:50.569785Z"
    }
   },
   "outputs": [
    {
     "data": {
      "text/plain": [
       "65"
      ]
     },
     "execution_count": 14,
     "metadata": {},
     "output_type": "execute_result"
    }
   ],
   "source": [
    "companion='b'\n",
    "epoch = alles.posterior_params_median[companion+'_epoch']\n",
    "period = alles.posterior_params_median[companion+'_period']\n",
    "\n",
    "t0 = alles.data[companion+'_tmid_observed_transits'][0]\n",
    "n0=round((epoch-t0)/period)\n",
    "n0"
   ]
  },
  {
   "cell_type": "code",
   "execution_count": 15,
   "metadata": {
    "ExecuteTime": {
     "end_time": "2023-03-17T07:57:50.957238Z",
     "start_time": "2023-03-17T07:57:50.951408Z"
    }
   },
   "outputs": [
    {
     "data": {
      "text/plain": [
       "-2.794739798162027e-05"
      ]
     },
     "execution_count": 15,
     "metadata": {},
     "output_type": "execute_result"
    }
   ],
   "source": [
    "n0+(t0-epoch)/period"
   ]
  },
  {
   "cell_type": "code",
   "execution_count": 16,
   "metadata": {
    "ExecuteTime": {
     "end_time": "2023-03-17T07:57:52.743771Z",
     "start_time": "2023-03-17T07:57:52.529737Z"
    }
   },
   "outputs": [
    {
     "name": "stdout",
     "output_type": "stream",
     "text": [
      "planet,epoch,tc,tc_unc,sector\n",
      "0,0,2458798.0652929395,0.0029954080809077455,18\n",
      "0,1,2458806.6013095924,0.004004473105638659,18\n",
      "0,127,2459882.4961469457,0.00343887384762796,58\n",
      "0,128,2459891.0210533924,0.007016705884694931,58\n",
      "0,129,2459899.549439814,0.003043200695346999,58\n",
      "0,130,2459908.081071644,0.003155509129773643,58\n"
     ]
    }
   ],
   "source": [
    "print(\"planet,epoch,tc,tc_unc,sector\")\n",
    "for pl,companion in enumerate(alles.settings['companions_all']):\n",
    "    epoch = alles.posterior_params_median[companion+'_epoch']\n",
    "    period = alles.posterior_params_median[companion+'_period']\n",
    "    for i,(k,tc) in enumerate(tcs[companion].items()):\n",
    "        sec = get_sector(tc)\n",
    "        n = round((tc-epoch)/period)\n",
    "        if i==0:\n",
    "            n0=n\n",
    "        tc_err = tcs_err[companion][k]\n",
    "        diff_mins = (tc-(n*period+epoch))*24*60\n",
    "        err_mins = tc_err*24*60\n",
    "#         print(f\"{pl},{n-n0},{tc},{tc_err},{sec}\")\n",
    "#         print(diff_mins,err_mins)\n",
    "        if (abs(diff_mins) < 60) and (err_mins<30):\n",
    "            print(f\"{pl},{n-n0},{tc},{tc_err},{sec}\")"
   ]
  },
  {
   "cell_type": "code",
   "execution_count": 17,
   "metadata": {
    "ExecuteTime": {
     "end_time": "2023-03-01T08:54:51.877337Z",
     "start_time": "2023-03-01T08:54:51.643732Z"
    }
   },
   "outputs": [
    {
     "data": {
      "text/plain": [
       "True"
      ]
     },
     "execution_count": 17,
     "metadata": {},
     "output_type": "execute_result"
    },
    {
     "data": {
      "image/png": "[encoded data removed]",
      "text/plain": [
       "<Figure size 640x480 with 1 Axes>"
      ]
     },
     "metadata": {},
     "output_type": "display_data"
    }
   ],
   "source": [
    "import matplotlib.pyplot as plt\n",
    "\n",
    "infos = get_infos('c')\n",
    "tml = infos['transit_midtime_linear']\n",
    "tmm = infos['transit_midtime_median']\n",
    "toffset = int(min(infos['transit_midtime_linear']))\n",
    "tm  = infos['ttv_median']\n",
    "plt.plot(tml-toffset, tm*24*60, '.')\n",
    "plt.xlabel(f\"BJD_TDB-{toffset}\")\n",
    "plt.ylabel(\"O-C (minutes)\")\n",
    "np.allclose(tmm, tml+tm, atol=1e-3)"
   ]
  },
  {
   "cell_type": "code",
   "execution_count": 6,
   "metadata": {
    "ExecuteTime": {
     "end_time": "2023-02-28T21:16:56.081128Z",
     "start_time": "2023-02-28T21:16:56.073549Z"
    }
   },
   "outputs": [],
   "source": [
    "def plot_ttv(companion, ax, \n",
    "             xaxis='transit_midtime_linear', \n",
    "             toffset=None,\n",
    "             xlim=None, label=None):\n",
    "    \"\"\"xaxis=['transit_number','transit_midtime_linear']\"\"\"\n",
    "    infos = get_infos(companion)\n",
    "    toffset = int(min(infos[xaxis]))\n",
    "    if xaxis=='transit_midtime_linear':\n",
    "        x=infos[xaxis]-toffset\n",
    "    else:\n",
    "        x=infos['transit_number']\n",
    "    y=infos['o_minus_c_median']*24*60\n",
    "    yerr1 = infos['o_minus_c_lerr']*24*60\n",
    "    yerr2 = infos['o_minus_c_uerr']*24*60\n",
    "        \n",
    "    if xlim:\n",
    "        idx = (x>=xlim[0]) & (x<=xlim[1])\n",
    "    else:\n",
    "        idx = np.ones_like(x, dtype=bool)\n",
    "    \n",
    "    ax.errorbar(x[idx], y[idx], yerr=[yerr1[idx], yerr2[idx]], \n",
    "                marker='o', ls='none', color=colors[companion], label=label)\n",
    "    if xaxis=='transit_midtime_linear':\n",
    "        ax.set_xlabel(f'BJD-{toffset}')\n",
    "    else:\n",
    "        ax.set_xlabel('Transit number')\n",
    "    ax.set_ylabel('O-C (min)')\n",
    "    return ax"
   ]
  },
  {
   "cell_type": "code",
   "execution_count": 17,
   "metadata": {
    "ExecuteTime": {
     "end_time": "2023-03-02T08:12:40.188564Z",
     "start_time": "2023-03-02T08:12:40.008280Z"
    }
   },
   "outputs": [
    {
     "data": {
      "text/plain": [
       "<matplotlib.legend.Legend at 0x7f5ee3613070>"
      ]
     },
     "execution_count": 17,
     "metadata": {},
     "output_type": "execute_result"
    },
    {
     "data": {
      "image/png": "[encoded data removed]",
      "text/plain": [
       "<Figure size 640x480 with 1 Axes>"
      ]
     },
     "metadata": {},
     "output_type": "display_data"
    }
   ],
   "source": [
    "fig, ax = plt.subplots()\n",
    "\n",
    "ax=plot_ttv('b', ax, label='b')\n",
    "ax=plot_ttv('c', ax, label='c')\n",
    "ax.legend()"
   ]
  },
  {
   "cell_type": "code",
   "execution_count": 28,
   "metadata": {},
   "outputs": [
    {
     "data": {
      "text/plain": [
       "[Text(0.5, 0, ''), Text(0.5, 0, '')]"
      ]
     },
     "execution_count": 28,
     "metadata": {},
     "output_type": "execute_result"
    },
    {
     "data": {
      "image/png": "[encoded data removed]",
      "text/plain": [
       "<Figure size 640x480 with 2 Axes>"
      ]
     },
     "metadata": {},
     "output_type": "display_data"
    }
   ],
   "source": [
    "fig, ax = plt.subplots(2, 1, sharex=True, constrained_layout=True)\n",
    "\n",
    "fig.suptitle('TOI-6109')\n",
    "_=plot_ttv('b', ax=ax[0], xaxis='transit_midtime_linear', label='b')\n",
    "_=plot_ttv('c', ax=ax[1], xaxis='transit_midtime_linear', label='c')\n",
    "[x.set_xlabel('') for x in ax]\n",
    "# [x.set_xlim(-100,1200) for x in ax]"
   ]
  },
  {
   "cell_type": "code",
   "execution_count": 30,
   "metadata": {},
   "outputs": [
    {
     "name": "stdout",
     "output_type": "stream",
     "text": [
      "2024-03-10T00:27:48.602254: made ../allesfitter/toi_in_resonance/toi6109/ttv/ttv.png\n"
     ]
    }
   ],
   "source": [
    "from aesthetic.plot import savefig\n",
    "savefig(fig, f\"{alles.BASEMENT.datadir}/ttv.png\", writepdf=False)"
   ]
  },
  {
   "cell_type": "raw",
   "metadata": {
    "ExecuteTime": {
     "end_time": "2023-02-28T22:19:28.807750Z",
     "start_time": "2023-02-28T22:19:28.775944Z"
    }
   },
   "source": [
    "save_infos('b', xlim=(2200,2600))\n",
    "save_infos('c', xlim=(2200,2600))"
   ]
  },
  {
   "cell_type": "raw",
   "metadata": {
    "ExecuteTime": {
     "end_time": "2023-02-28T21:36:38.605809Z",
     "start_time": "2023-02-28T21:36:37.701501Z"
    }
   },
   "source": [
    "import allesfitter\n",
    "from allesfitter.lightcurves import eclipse_width_smart\n",
    "from allesfitter.exoworlds_rdx.lightcurves.index_transits import index_transits, get_tmid_observed_transits\n",
    "from allesfitter.plotting import fullplot, brokenplot, chunkplot, tessplot\n",
    "\n",
    "\n",
    "style = 'tessplot'\n",
    "window = alles.settings['fast_fit_width']\n",
    "#----------------------------------------------------------------------\n",
    "#::: get the combined, full data from all instruments\n",
    "#----------------------------------------------------------------------\n",
    "time_combined = []\n",
    "flux_combined = []\n",
    "for inst in alles.settings['inst_phot']:\n",
    "    time_combined += list(alles.fulldata[inst]['time'])\n",
    "    flux_combined += list(alles.fulldata[inst]['flux'])\n",
    "ind_sort = np.argsort(time_combined)\n",
    "time_combined = np.array(time_combined)[ind_sort]\n",
    "flux_combined = np.array(flux_combined)[ind_sort]\n",
    "\n",
    "axes = tessplot(time_combined, flux_combined, color='silver')\n",
    "\n",
    "#::: mark the tranists/eclipses of each photometric companion\n",
    "for i, c in enumerate(alles.settings['companions_phot']):\n",
    "    ind_tr, ind_out = index_transits(time_combined, alles.posterior_params_median[c+'_epoch'], alles.posterior_params_median[c+'_period'], window)\n",
    "    axes = tessplot(time_combined[ind_tr], flux_combined[ind_tr], color=alles.settings[c+'_color'], axes=axes, label=c)"
   ]
  },
  {
   "cell_type": "markdown",
   "metadata": {},
   "source": [
    "## rotation period"
   ]
  },
  {
   "cell_type": "code",
   "execution_count": 2,
   "metadata": {
    "ExecuteTime": {
     "end_time": "2023-02-26T03:49:04.516996Z",
     "start_time": "2023-02-26T03:49:04.499496Z"
    }
   },
   "outputs": [],
   "source": [
    "import sys\n",
    "sys.path.insert(0, '/home/jp/github/research/project/young_ttvs/code')\n",
    "from gls import Gls"
   ]
  },
  {
   "cell_type": "code",
   "execution_count": 20,
   "metadata": {
    "ExecuteTime": {
     "end_time": "2023-02-26T03:55:54.178711Z",
     "start_time": "2023-02-26T03:55:54.117596Z"
    }
   },
   "outputs": [
    {
     "data": {
      "text/html": [
       "<div>\n",
       "<style scoped>\n",
       "    .dataframe tbody tr th:only-of-type {\n",
       "        vertical-align: middle;\n",
       "    }\n",
       "\n",
       "    .dataframe tbody tr th {\n",
       "        vertical-align: top;\n",
       "    }\n",
       "\n",
       "    .dataframe thead th {\n",
       "        text-align: right;\n",
       "    }\n",
       "</style>\n",
       "<table border=\"1\" class=\"dataframe\">\n",
       "  <thead>\n",
       "    <tr style=\"text-align: right;\">\n",
       "      <th></th>\n",
       "      <th>t</th>\n",
       "      <th>f</th>\n",
       "      <th>e</th>\n",
       "    </tr>\n",
       "  </thead>\n",
       "  <tbody>\n",
       "    <tr>\n",
       "      <th>0</th>\n",
       "      <td>2.458518e+06</td>\n",
       "      <td>0.999887</td>\n",
       "      <td>0.000276</td>\n",
       "    </tr>\n",
       "    <tr>\n",
       "      <th>1</th>\n",
       "      <td>2.458518e+06</td>\n",
       "      <td>1.000122</td>\n",
       "      <td>0.000276</td>\n",
       "    </tr>\n",
       "    <tr>\n",
       "      <th>2</th>\n",
       "      <td>2.458518e+06</td>\n",
       "      <td>0.999985</td>\n",
       "      <td>0.000276</td>\n",
       "    </tr>\n",
       "    <tr>\n",
       "      <th>3</th>\n",
       "      <td>2.458518e+06</td>\n",
       "      <td>0.999651</td>\n",
       "      <td>0.000276</td>\n",
       "    </tr>\n",
       "    <tr>\n",
       "      <th>4</th>\n",
       "      <td>2.458518e+06</td>\n",
       "      <td>1.000115</td>\n",
       "      <td>0.000276</td>\n",
       "    </tr>\n",
       "    <tr>\n",
       "      <th>...</th>\n",
       "      <td>...</td>\n",
       "      <td>...</td>\n",
       "      <td>...</td>\n",
       "    </tr>\n",
       "    <tr>\n",
       "      <th>41463</th>\n",
       "      <td>2.460286e+06</td>\n",
       "      <td>0.999868</td>\n",
       "      <td>0.000276</td>\n",
       "    </tr>\n",
       "    <tr>\n",
       "      <th>41464</th>\n",
       "      <td>2.460286e+06</td>\n",
       "      <td>1.000432</td>\n",
       "      <td>0.000276</td>\n",
       "    </tr>\n",
       "    <tr>\n",
       "      <th>41465</th>\n",
       "      <td>2.460286e+06</td>\n",
       "      <td>0.999608</td>\n",
       "      <td>0.000276</td>\n",
       "    </tr>\n",
       "    <tr>\n",
       "      <th>41466</th>\n",
       "      <td>2.460286e+06</td>\n",
       "      <td>0.999750</td>\n",
       "      <td>0.000276</td>\n",
       "    </tr>\n",
       "    <tr>\n",
       "      <th>41467</th>\n",
       "      <td>2.460286e+06</td>\n",
       "      <td>1.000155</td>\n",
       "      <td>0.000276</td>\n",
       "    </tr>\n",
       "  </tbody>\n",
       "</table>\n",
       "<p>41468 rows × 3 columns</p>\n",
       "</div>"
      ],
      "text/plain": [
       "                  t         f         e\n",
       "0      2.458518e+06  0.999887  0.000276\n",
       "1      2.458518e+06  1.000122  0.000276\n",
       "2      2.458518e+06  0.999985  0.000276\n",
       "3      2.458518e+06  0.999651  0.000276\n",
       "4      2.458518e+06  1.000115  0.000276\n",
       "...             ...       ...       ...\n",
       "41463  2.460286e+06  0.999868  0.000276\n",
       "41464  2.460286e+06  1.000432  0.000276\n",
       "41465  2.460286e+06  0.999608  0.000276\n",
       "41466  2.460286e+06  0.999750  0.000276\n",
       "41467  2.460286e+06  1.000155  0.000276\n",
       "\n",
       "[41468 rows x 3 columns]"
      ]
     },
     "execution_count": 20,
     "metadata": {},
     "output_type": "execute_result"
    }
   ],
   "source": [
    "import pandas as pd\n",
    "\n",
    "df = pd.read_csv('/home/jp/github/research/project/young_ttvs/allesfitter/toi_in_resonance/toi6265/ttv/tess.csv', names=['t','f','e'])\n",
    "df"
   ]
  },
  {
   "cell_type": "raw",
   "metadata": {
    "ExecuteTime": {
     "end_time": "2023-02-26T03:41:20.946136Z",
     "start_time": "2023-02-26T03:41:20.917762Z"
    }
   },
   "source": [
    "data = alles.data['tess']\n",
    "t, f, e = data['time'], data['flux'], data['flux_err']"
   ]
  },
  {
   "cell_type": "code",
   "execution_count": null,
   "metadata": {
    "ExecuteTime": {
     "end_time": "2023-02-26T03:56:40.940357Z",
     "start_time": "2023-02-26T03:56:17.260274Z"
    }
   },
   "outputs": [],
   "source": [
    "xlims = [(1400,2000),(2200,2600), (2600,3000)]\n",
    "c = 2457000\n",
    "\n",
    "for x1,x2 in xlims:\n",
    "    idx = (df.t>=x1+c) & (df.t<=x2+c)    \n",
    "    d = df[idx]\n",
    "    data = d.T.to_numpy()\n",
    "    gls = Gls(data)\n",
    "    fig = gls.plot();"
   ]
  },
  {
   "cell_type": "code",
   "execution_count": null,
   "metadata": {},
   "outputs": [],
   "source": []
  }
 ],
 "metadata": {
  "kernelspec": {
   "display_name": "Python 3 (ipykernel)",
   "language": "python",
   "name": "python3"
  },
  "language_info": {
   "codemirror_mode": {
    "name": "ipython",
    "version": 3
   },
   "file_extension": ".py",
   "mimetype": "text/x-python",
   "name": "python",
   "nbconvert_exporter": "python",
   "pygments_lexer": "ipython3",
   "version": "3.10.9"
  },
  "toc": {
   "base_numbering": 1,
   "nav_menu": {},
   "number_sections": true,
   "sideBar": true,
   "skip_h1_title": false,
   "title_cell": "Table of Contents",
   "title_sidebar": "Contents",
   "toc_cell": false,
   "toc_position": {},
   "toc_section_display": true,
   "toc_window_display": false
  },
  "vscode": {
   "interpreter": {
    "hash": "157ce51e786811614271cf4691153036f626054effbf0c983d191b0b90b92299"
   }
  }
 },
 "nbformat": 4,
 "nbformat_minor": 4
}
