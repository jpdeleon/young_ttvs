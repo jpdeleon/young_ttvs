{
 "cells": [
  {
   "cell_type": "code",
   "execution_count": 1,
   "id": "3c8fc647-1a6b-4a33-9cee-179d80cf09d0",
   "metadata": {},
   "outputs": [],
   "source": [
    "import pandas as pd"
   ]
  },
  {
   "cell_type": "code",
   "execution_count": 2,
   "id": "4025eb25-e9c9-42d0-9e34-3a1a4d8fa39f",
   "metadata": {},
   "outputs": [
    {
     "data": {
      "text/html": [
       "<div>\n",
       "<style scoped>\n",
       "    .dataframe tbody tr th:only-of-type {\n",
       "        vertical-align: middle;\n",
       "    }\n",
       "\n",
       "    .dataframe tbody tr th {\n",
       "        vertical-align: top;\n",
       "    }\n",
       "\n",
       "    .dataframe thead th {\n",
       "        text-align: right;\n",
       "    }\n",
       "</style>\n",
       "<table border=\"1\" class=\"dataframe\">\n",
       "  <thead>\n",
       "    <tr style=\"text-align: right;\">\n",
       "      <th></th>\n",
       "      <th>toi</th>\n",
       "      <th>name</th>\n",
       "      <th>exofop_url</th>\n",
       "      <th>harps_url</th>\n",
       "      <th>rv_url</th>\n",
       "      <th>ndata</th>\n",
       "      <th>comment</th>\n",
       "    </tr>\n",
       "  </thead>\n",
       "  <tbody>\n",
       "    <tr>\n",
       "      <th>0</th>\n",
       "      <td>TOI6978</td>\n",
       "      <td>GJ1247</td>\n",
       "      <td>https://exofop.ipac.caltech.edu/tess/target.ph...</td>\n",
       "      <td>https://www2.mpia-hd.mpg.de/homes/trifonov/GLS...</td>\n",
       "      <td>https://www2.mpia-hd.mpg.de/homes/trifonov/Ver...</td>\n",
       "      <td>33</td>\n",
       "      <td>low SNR</td>\n",
       "    </tr>\n",
       "    <tr>\n",
       "      <th>1</th>\n",
       "      <td>TOI6965</td>\n",
       "      <td>HD50554</td>\n",
       "      <td>https://exofop.ipac.caltech.edu/tess/target.ph...</td>\n",
       "      <td>https://www2.mpia-hd.mpg.de/homes/trifonov/GLS...</td>\n",
       "      <td>https://www2.mpia-hd.mpg.de/homes/trifonov/Ver...</td>\n",
       "      <td>1</td>\n",
       "      <td>interior to HD 50554 b; period may be double (...</td>\n",
       "    </tr>\n",
       "    <tr>\n",
       "      <th>2</th>\n",
       "      <td>TOI6835</td>\n",
       "      <td>K2-141</td>\n",
       "      <td>https://exofop.ipac.caltech.edu/tess/target.ph...</td>\n",
       "      <td>https://www2.mpia-hd.mpg.de/homes/trifonov/GLS...</td>\n",
       "      <td>https://www2.mpia-hd.mpg.de/homes/trifonov/Ver...</td>\n",
       "      <td>28</td>\n",
       "      <td>K2-141 b</td>\n",
       "    </tr>\n",
       "    <tr>\n",
       "      <th>3</th>\n",
       "      <td>TOI6833</td>\n",
       "      <td>K2-138</td>\n",
       "      <td>https://exofop.ipac.caltech.edu/tess/target.ph...</td>\n",
       "      <td>https://www2.mpia-hd.mpg.de/homes/trifonov/GLS...</td>\n",
       "      <td>https://www2.mpia-hd.mpg.de/homes/trifonov/Ver...</td>\n",
       "      <td>214</td>\n",
       "      <td>K2-138 e; marginal QLP detection in combined T...</td>\n",
       "    </tr>\n",
       "    <tr>\n",
       "      <th>4</th>\n",
       "      <td>TOI6806</td>\n",
       "      <td>TYC8459-487-1</td>\n",
       "      <td>https://exofop.ipac.caltech.edu/tess/target.ph...</td>\n",
       "      <td>https://www2.mpia-hd.mpg.de/homes/trifonov/GLS...</td>\n",
       "      <td>https://www2.mpia-hd.mpg.de/homes/trifonov/Ver...</td>\n",
       "      <td>6</td>\n",
       "      <td>period may be half; found in faint-star QLP se...</td>\n",
       "    </tr>\n",
       "  </tbody>\n",
       "</table>\n",
       "</div>"
      ],
      "text/plain": [
       "       toi           name                                         exofop_url  \\\n",
       "0  TOI6978         GJ1247  https://exofop.ipac.caltech.edu/tess/target.ph...   \n",
       "1  TOI6965        HD50554  https://exofop.ipac.caltech.edu/tess/target.ph...   \n",
       "2  TOI6835         K2-141  https://exofop.ipac.caltech.edu/tess/target.ph...   \n",
       "3  TOI6833         K2-138  https://exofop.ipac.caltech.edu/tess/target.ph...   \n",
       "4  TOI6806  TYC8459-487-1  https://exofop.ipac.caltech.edu/tess/target.ph...   \n",
       "\n",
       "                                           harps_url  \\\n",
       "0  https://www2.mpia-hd.mpg.de/homes/trifonov/GLS...   \n",
       "1  https://www2.mpia-hd.mpg.de/homes/trifonov/GLS...   \n",
       "2  https://www2.mpia-hd.mpg.de/homes/trifonov/GLS...   \n",
       "3  https://www2.mpia-hd.mpg.de/homes/trifonov/GLS...   \n",
       "4  https://www2.mpia-hd.mpg.de/homes/trifonov/GLS...   \n",
       "\n",
       "                                              rv_url  ndata  \\\n",
       "0  https://www2.mpia-hd.mpg.de/homes/trifonov/Ver...     33   \n",
       "1  https://www2.mpia-hd.mpg.de/homes/trifonov/Ver...      1   \n",
       "2  https://www2.mpia-hd.mpg.de/homes/trifonov/Ver...     28   \n",
       "3  https://www2.mpia-hd.mpg.de/homes/trifonov/Ver...    214   \n",
       "4  https://www2.mpia-hd.mpg.de/homes/trifonov/Ver...      6   \n",
       "\n",
       "                                             comment  \n",
       "0                                            low SNR  \n",
       "1  interior to HD 50554 b; period may be double (...  \n",
       "2                                           K2-141 b  \n",
       "3  K2-138 e; marginal QLP detection in combined T...  \n",
       "4  period may be half; found in faint-star QLP se...  "
      ]
     },
     "execution_count": 2,
     "metadata": {},
     "output_type": "execute_result"
    }
   ],
   "source": [
    "df = pd.read_csv('../../archive_digger/data/toi_with_harps_v2.csv')\n",
    "df.head()"
   ]
  },
  {
   "cell_type": "code",
   "execution_count": 17,
   "id": "426fa01e-362f-4f1d-b55c-ed29035831c6",
   "metadata": {},
   "outputs": [],
   "source": [
    "with open('../data/tois_resonance_from_toi.txt') as r:\n",
    "    tois = r.read().split('\\n')\n",
    "tois=list(map(int,tois))"
   ]
  },
  {
   "cell_type": "code",
   "execution_count": 22,
   "id": "5c1d13e8-2938-414a-93d5-50150de30b48",
   "metadata": {},
   "outputs": [
    {
     "data": {
      "text/plain": [
       "8"
      ]
     },
     "execution_count": 22,
     "metadata": {},
     "output_type": "execute_result"
    }
   ],
   "source": [
    "idx = df.toi.apply(lambda x: int(x[3:])).isin(tois)\n",
    "idx.sum()"
   ]
  },
  {
   "cell_type": "code",
   "execution_count": 27,
   "id": "549d863e-9495-4566-8152-7848788cbc7a",
   "metadata": {},
   "outputs": [
    {
     "data": {
      "text/plain": [
       "array([['TOI5520', 'K2-266', 'K2-266 d\\t',\n",
       "        'https://www2.mpia-hd.mpg.de/homes/trifonov/GLS/gls.html?fend=1&url=../Ver_02/K2-266_RVs/K2-266_HARPS_RVBank_ver02_rvsonly.dat&run'],\n",
       "       ['TOI1097', 'HD109833',\n",
       "        'bright potential L1 candidate; TCE at TBJD ~2358 delayed by a few hours',\n",
       "        'https://www2.mpia-hd.mpg.de/homes/trifonov/GLS/gls.html?fend=1&url=../Ver_02/HD109833_RVs/HD109833_HARPS_RVBank_ver02_rvsonly.dat&run'],\n",
       "       ['TOI0700', 'TOI-700', 'TOI-700 c / TOI-700.01',\n",
       "        'https://www2.mpia-hd.mpg.de/homes/trifonov/GLS/gls.html?fend=1&url=../Ver_02/TOI-700_RVs/TOI-700_HARPS_RVBank_ver02_rvsonly.dat&run'],\n",
       "       ['TOI0396', 'HD17926', 'HR 858 c / TOI 396.01',\n",
       "        'https://www2.mpia-hd.mpg.de/homes/trifonov/GLS/gls.html?fend=1&url=../Ver_02/HD17926_RVs/HD17926_HARPS_RVBank_ver02_rvsonly.dat&run'],\n",
       "       ['TOI0282', 'HD28109', 'HD 28109 c',\n",
       "        'https://www2.mpia-hd.mpg.de/homes/trifonov/GLS/gls.html?fend=1&url=../Ver_02/HD28109_RVs/HD28109_HARPS_RVBank_ver02_rvsonly.dat&run'],\n",
       "       ['TOI0216', 'TOI-216',\n",
       "        'TOI-216.01/TOI-216 c; clear TTVs in spoc-s1-s39 multisector',\n",
       "        'https://www2.mpia-hd.mpg.de/homes/trifonov/GLS/gls.html?fend=1&url=../Ver_02/TOI-216_RVs/TOI-216_HARPS_RVBank_ver02_rvsonly.dat&run'],\n",
       "       ['TOI0175', 'TOI175', 'L 98-59 c; TOI 175.01',\n",
       "        'https://www2.mpia-hd.mpg.de/homes/trifonov/GLS/gls.html?fend=1&url=../Ver_02/TOI175_RVs/TOI175_HARPS_RVBank_ver02_rvsonly.dat&run'],\n",
       "       ['TOI0174', 'HD23472', 'HD 23472 b / TOI 174.01',\n",
       "        'https://www2.mpia-hd.mpg.de/homes/trifonov/GLS/gls.html?fend=1&url=../Ver_02/HD23472_RVs/HD23472_HARPS_RVBank_ver02_rvsonly.dat&run']],\n",
       "      dtype=object)"
      ]
     },
     "execution_count": 27,
     "metadata": {},
     "output_type": "execute_result"
    }
   ],
   "source": [
    "df[idx][['toi','name','comment','harps_url']].values"
   ]
  },
  {
   "cell_type": "code",
   "execution_count": null,
   "id": "30418f14-692f-4866-ba53-63762f7f94b5",
   "metadata": {},
   "outputs": [],
   "source": []
  }
 ],
 "metadata": {
  "kernelspec": {
   "display_name": "ttv",
   "language": "python",
   "name": "ttv"
  },
  "language_info": {
   "codemirror_mode": {
    "name": "ipython",
    "version": 3
   },
   "file_extension": ".py",
   "mimetype": "text/x-python",
   "name": "python",
   "nbconvert_exporter": "python",
   "pygments_lexer": "ipython3",
   "version": "3.10.9"
  }
 },
 "nbformat": 4,
 "nbformat_minor": 5
}
