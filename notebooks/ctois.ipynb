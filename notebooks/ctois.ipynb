{
 "cells": [
  {
   "cell_type": "code",
   "execution_count": 1,
   "id": "05f7280f",
   "metadata": {
    "ExecuteTime": {
     "end_time": "2023-02-20T01:11:31.321292Z",
     "start_time": "2023-02-20T01:11:31.316910Z"
    }
   },
   "outputs": [],
   "source": [
    "import os\n",
    "\n",
    "assert os.environ['CONDA_DEFAULT_ENV']=='ttv'"
   ]
  },
  {
   "cell_type": "markdown",
   "id": "f2816268",
   "metadata": {},
   "source": [
    "## CTOIS"
   ]
  },
  {
   "cell_type": "code",
   "execution_count": 2,
   "id": "aa298acb",
   "metadata": {
    "ExecuteTime": {
     "end_time": "2023-02-20T01:11:36.486026Z",
     "start_time": "2023-02-20T01:11:31.832569Z"
    }
   },
   "outputs": [],
   "source": [
    "import sys\n",
    "sys.path.insert(0, '../code')\n",
    "from utils import *"
   ]
  },
  {
   "cell_type": "code",
   "execution_count": 3,
   "id": "0e4d6063",
   "metadata": {
    "ExecuteTime": {
     "end_time": "2023-02-20T01:11:39.383121Z",
     "start_time": "2023-02-20T01:11:36.490437Z"
    }
   },
   "outputs": [
    {
     "data": {
      "text/html": [
       "<div>\n",
       "<style scoped>\n",
       "    .dataframe tbody tr th:only-of-type {\n",
       "        vertical-align: middle;\n",
       "    }\n",
       "\n",
       "    .dataframe tbody tr th {\n",
       "        vertical-align: top;\n",
       "    }\n",
       "\n",
       "    .dataframe thead th {\n",
       "        text-align: right;\n",
       "    }\n",
       "</style>\n",
       "<table border=\"1\" class=\"dataframe\">\n",
       "  <thead>\n",
       "    <tr style=\"text-align: right;\">\n",
       "      <th></th>\n",
       "      <th>TIC ID</th>\n",
       "      <th>CTOI</th>\n",
       "      <th>Promoted to TOI</th>\n",
       "      <th>MASTER</th>\n",
       "      <th>SG1A</th>\n",
       "      <th>SG1B</th>\n",
       "      <th>SG2</th>\n",
       "      <th>SG3</th>\n",
       "      <th>SG4</th>\n",
       "      <th>SG5</th>\n",
       "      <th>...</th>\n",
       "      <th>Stellar Eff Temp (K) err</th>\n",
       "      <th>Stellar log(g) (cm/s^2)</th>\n",
       "      <th>Stellar log(g) (cm/s^2) err</th>\n",
       "      <th>Stellar Radius (R_Sun)</th>\n",
       "      <th>Stellar Radius (R_Sun) err</th>\n",
       "      <th>CTOI lastmod</th>\n",
       "      <th>User</th>\n",
       "      <th>Group</th>\n",
       "      <th>Tag</th>\n",
       "      <th>Notes</th>\n",
       "    </tr>\n",
       "  </thead>\n",
       "  <tbody>\n",
       "    <tr>\n",
       "      <th>0</th>\n",
       "      <td>17361</td>\n",
       "      <td>17361.01</td>\n",
       "      <td>3127.01</td>\n",
       "      <td>NaN</td>\n",
       "      <td>NaN</td>\n",
       "      <td>NaN</td>\n",
       "      <td>NaN</td>\n",
       "      <td>NaN</td>\n",
       "      <td>NaN</td>\n",
       "      <td>NaN</td>\n",
       "      <td>...</td>\n",
       "      <td>121.637</td>\n",
       "      <td>4.25352</td>\n",
       "      <td>0.078445</td>\n",
       "      <td>1.25819</td>\n",
       "      <td>0.062226</td>\n",
       "      <td>2020-08-10 07:20:18</td>\n",
       "      <td>montalto</td>\n",
       "      <td>NaN</td>\n",
       "      <td>29419</td>\n",
       "      <td>new CTOI, Montalto et al. (2020)</td>\n",
       "    </tr>\n",
       "    <tr>\n",
       "      <th>1</th>\n",
       "      <td>160363</td>\n",
       "      <td>160363.01</td>\n",
       "      <td>NaN</td>\n",
       "      <td>NaN</td>\n",
       "      <td>NaN</td>\n",
       "      <td>NaN</td>\n",
       "      <td>NaN</td>\n",
       "      <td>NaN</td>\n",
       "      <td>NaN</td>\n",
       "      <td>NaN</td>\n",
       "      <td>...</td>\n",
       "      <td>129.081</td>\n",
       "      <td>4.15460</td>\n",
       "      <td>0.093692</td>\n",
       "      <td>1.66309</td>\n",
       "      <td>0.075980</td>\n",
       "      <td>2021-02-11 04:13:20</td>\n",
       "      <td>steuer</td>\n",
       "      <td>NaN</td>\n",
       "      <td>94179</td>\n",
       "      <td>Found with our in-house single transit finder</td>\n",
       "    </tr>\n",
       "    <tr>\n",
       "      <th>2</th>\n",
       "      <td>592503</td>\n",
       "      <td>592503.01</td>\n",
       "      <td>NaN</td>\n",
       "      <td>NaN</td>\n",
       "      <td>NaN</td>\n",
       "      <td>NaN</td>\n",
       "      <td>NaN</td>\n",
       "      <td>NaN</td>\n",
       "      <td>NaN</td>\n",
       "      <td>NaN</td>\n",
       "      <td>...</td>\n",
       "      <td>70.000</td>\n",
       "      <td>NaN</td>\n",
       "      <td>NaN</td>\n",
       "      <td>3.23242</td>\n",
       "      <td>NaN</td>\n",
       "      <td>2022-10-20 09:02:36</td>\n",
       "      <td>montalto</td>\n",
       "      <td>NaN</td>\n",
       "      <td>420769</td>\n",
       "      <td>new CTOI, Montalto (2022)</td>\n",
       "    </tr>\n",
       "    <tr>\n",
       "      <th>3</th>\n",
       "      <td>769986</td>\n",
       "      <td>769986.01</td>\n",
       "      <td>NaN</td>\n",
       "      <td>NaN</td>\n",
       "      <td>NaN</td>\n",
       "      <td>NaN</td>\n",
       "      <td>NaN</td>\n",
       "      <td>NaN</td>\n",
       "      <td>NaN</td>\n",
       "      <td>NaN</td>\n",
       "      <td>...</td>\n",
       "      <td>122.000</td>\n",
       "      <td>4.20725</td>\n",
       "      <td>NaN</td>\n",
       "      <td>1.04351</td>\n",
       "      <td>NaN</td>\n",
       "      <td>2022-10-20 09:04:55</td>\n",
       "      <td>montalto</td>\n",
       "      <td>NaN</td>\n",
       "      <td>421495</td>\n",
       "      <td>new CTOI, Montalto (2022)</td>\n",
       "    </tr>\n",
       "    <tr>\n",
       "      <th>4</th>\n",
       "      <td>991806</td>\n",
       "      <td>991806.01</td>\n",
       "      <td>NaN</td>\n",
       "      <td>NaN</td>\n",
       "      <td>NaN</td>\n",
       "      <td>NaN</td>\n",
       "      <td>NaN</td>\n",
       "      <td>NaN</td>\n",
       "      <td>NaN</td>\n",
       "      <td>NaN</td>\n",
       "      <td>...</td>\n",
       "      <td>17.480</td>\n",
       "      <td>NaN</td>\n",
       "      <td>NaN</td>\n",
       "      <td>3.63923</td>\n",
       "      <td>NaN</td>\n",
       "      <td>2022-10-20 09:02:36</td>\n",
       "      <td>montalto</td>\n",
       "      <td>NaN</td>\n",
       "      <td>420793</td>\n",
       "      <td>new CTOI, Montalto (2022)</td>\n",
       "    </tr>\n",
       "  </tbody>\n",
       "</table>\n",
       "<p>5 rows × 71 columns</p>\n",
       "</div>"
      ],
      "text/plain": [
       "   TIC ID       CTOI  Promoted to TOI  MASTER  SG1A  SG1B  SG2  SG3  SG4  SG5  \\\n",
       "0   17361   17361.01          3127.01     NaN   NaN   NaN  NaN  NaN  NaN  NaN   \n",
       "1  160363  160363.01              NaN     NaN   NaN   NaN  NaN  NaN  NaN  NaN   \n",
       "2  592503  592503.01              NaN     NaN   NaN   NaN  NaN  NaN  NaN  NaN   \n",
       "3  769986  769986.01              NaN     NaN   NaN   NaN  NaN  NaN  NaN  NaN   \n",
       "4  991806  991806.01              NaN     NaN   NaN   NaN  NaN  NaN  NaN  NaN   \n",
       "\n",
       "   ... Stellar Eff Temp (K) err Stellar log(g) (cm/s^2)  \\\n",
       "0  ...                  121.637                 4.25352   \n",
       "1  ...                  129.081                 4.15460   \n",
       "2  ...                   70.000                     NaN   \n",
       "3  ...                  122.000                 4.20725   \n",
       "4  ...                   17.480                     NaN   \n",
       "\n",
       "   Stellar log(g) (cm/s^2) err  Stellar Radius (R_Sun)  \\\n",
       "0                     0.078445                 1.25819   \n",
       "1                     0.093692                 1.66309   \n",
       "2                          NaN                 3.23242   \n",
       "3                          NaN                 1.04351   \n",
       "4                          NaN                 3.63923   \n",
       "\n",
       "   Stellar Radius (R_Sun) err         CTOI lastmod      User  Group     Tag  \\\n",
       "0                    0.062226  2020-08-10 07:20:18  montalto    NaN   29419   \n",
       "1                    0.075980  2021-02-11 04:13:20    steuer    NaN   94179   \n",
       "2                         NaN  2022-10-20 09:02:36  montalto    NaN  420769   \n",
       "3                         NaN  2022-10-20 09:04:55  montalto    NaN  421495   \n",
       "4                         NaN  2022-10-20 09:02:36  montalto    NaN  420793   \n",
       "\n",
       "                                           Notes  \n",
       "0               new CTOI, Montalto et al. (2020)  \n",
       "1  Found with our in-house single transit finder  \n",
       "2                      new CTOI, Montalto (2022)  \n",
       "3                      new CTOI, Montalto (2022)  \n",
       "4                      new CTOI, Montalto (2022)  \n",
       "\n",
       "[5 rows x 71 columns]"
      ]
     },
     "execution_count": 3,
     "metadata": {},
     "output_type": "execute_result"
    }
   ],
   "source": [
    "df2 = get_ctois()\n",
    "df2.head()"
   ]
  },
  {
   "cell_type": "code",
   "execution_count": 4,
   "id": "8c4b39b8",
   "metadata": {
    "ExecuteTime": {
     "end_time": "2023-02-20T01:11:39.405886Z",
     "start_time": "2023-02-20T01:11:39.386816Z"
    }
   },
   "outputs": [
    {
     "data": {
      "text/plain": [
       "64837857      4\n",
       "206544316     4\n",
       "92349924      3\n",
       "300903537     3\n",
       "100504488     3\n",
       "             ..\n",
       "159059181     1\n",
       "159098316     1\n",
       "159159904     1\n",
       "159185219     1\n",
       "2050290974    1\n",
       "Name: TIC ID, Length: 2707, dtype: int64"
      ]
     },
     "execution_count": 4,
     "metadata": {},
     "output_type": "execute_result"
    }
   ],
   "source": [
    "nsys2 = df2['TIC ID'].value_counts()\n",
    "nsys2"
   ]
  },
  {
   "cell_type": "code",
   "execution_count": 5,
   "id": "a004bbdf",
   "metadata": {
    "ExecuteTime": {
     "end_time": "2023-02-20T01:11:39.434341Z",
     "start_time": "2023-02-20T01:11:39.412809Z"
    }
   },
   "outputs": [
    {
     "name": "stdout",
     "output_type": "stream",
     "text": [
      "136\n"
     ]
    }
   ],
   "source": [
    "tics_multis2 = list(nsys2[nsys2>1].index)\n",
    "print(len(tics_multis2))"
   ]
  },
  {
   "cell_type": "code",
   "execution_count": 21,
   "id": "290ec945",
   "metadata": {
    "ExecuteTime": {
     "end_time": "2023-02-20T03:07:02.967599Z",
     "start_time": "2023-02-20T03:07:02.881482Z"
    },
    "scrolled": false
   },
   "outputs": [
    {
     "name": "stdout",
     "output_type": "stream",
     "text": [
      "TIC 204497617 (nplanets=2): <br>\n",
      "First Order: 2:1 | P=(3.18,1.59) n=(1,2) (delta=0.02%)\n",
      "Second Order: 4:2 | P=(3.18,1.59) n=(1,2) (delta=0.02%)\n",
      "\n",
      "TIC 29478974 (nplanets=2): <br>\n",
      "First Order: 2:1 | P=(24.90,12.46) n=(1,2) (delta=0.06%)\n",
      "Second Order: 4:2 | P=(24.90,12.46) n=(1,2) (delta=0.06%)\n",
      "\n",
      "TIC 207080350 (nplanets=2): <br>\n",
      "First Order: 2:1 | P=(18.38,9.11) n=(1,2) (delta=0.94%)\n",
      "Second Order: 4:2 | P=(18.38,9.11) n=(1,2) (delta=0.94%)\n",
      "\n",
      "TIC 347332255 (nplanets=2): <br>\n",
      "First Order: 3:2 | P=(13.67,9.11) n=(1,2) (delta=0.02%)\n",
      "Second Order: 6:4 | P=(13.67,9.11) n=(1,2) (delta=0.02%)\n",
      "\n",
      "TIC 253922296 (nplanets=2): <br>\n",
      "Second Order: 3:1 | P=(9.43,3.14) n=(1,2) (delta=0.03%)\n",
      "\n"
     ]
    }
   ],
   "source": [
    "ttv_1st_order2 = []       # commensurability in 1 planet pair \n",
    "ttv_2nd_order2 = []\n",
    "ttv_chain2 = []           # more than 1 planet pair\n",
    "deltas1 = []\n",
    "deltas2 = []\n",
    "texts = []\n",
    "for tic in tics_multis2:\n",
    "    dd = df2[df2['TIC ID']==tic].squeeze()\n",
    "    periods = dd[\"Period (days)\"].values\n",
    "    Nplanets = len(periods)\n",
    "    \n",
    "    resonances_1st_order, delta1 = get_resonant_pairs(periods, order=1, tol=0.01);\n",
    "    resonances_2nd_order, delta2 = get_resonant_pairs(periods, order=2, tol=0.01);\n",
    "    msg = f\"TIC {tic} (nplanets={Nplanets}): <br>\\n\"\n",
    "    show = False\n",
    "    if len(resonances_1st_order)>=1:\n",
    "        msg += f\"First Order: {' '.join(resonances_1st_order)}\\n\"\n",
    "        ttv_1st_order2.append(tic)\n",
    "        deltas1.append(min(delta1))\n",
    "        if len(resonances_1st_order)>=2:\n",
    "            ttv_chain2.append(tic)\n",
    "        show = True\n",
    "    if len(resonances_2nd_order)>=1:\n",
    "        msg += f\"Second Order: {' '.join(resonances_2nd_order)}\\n\"\n",
    "        ttv_2nd_order2.append(tic)\n",
    "        deltas2.append(min(delta2))\n",
    "        show = True\n",
    "    if show:\n",
    "        print(msg)\n",
    "        texts.append(msg)"
   ]
  },
  {
   "cell_type": "code",
   "execution_count": 8,
   "id": "737196a7",
   "metadata": {
    "ExecuteTime": {
     "end_time": "2023-02-20T01:13:22.129929Z",
     "start_time": "2023-02-20T01:13:22.086261Z"
    }
   },
   "outputs": [
    {
     "data": {
      "text/html": [
       "<div>\n",
       "<style scoped>\n",
       "    .dataframe tbody tr th:only-of-type {\n",
       "        vertical-align: middle;\n",
       "    }\n",
       "\n",
       "    .dataframe tbody tr th {\n",
       "        vertical-align: top;\n",
       "    }\n",
       "\n",
       "    .dataframe thead th {\n",
       "        text-align: right;\n",
       "    }\n",
       "</style>\n",
       "<table border=\"1\" class=\"dataframe\">\n",
       "  <thead>\n",
       "    <tr style=\"text-align: right;\">\n",
       "      <th></th>\n",
       "      <th>tic</th>\n",
       "      <th>delta_min</th>\n",
       "      <th>1st order</th>\n",
       "    </tr>\n",
       "  </thead>\n",
       "  <tbody>\n",
       "    <tr>\n",
       "      <th>0</th>\n",
       "      <td>204497617.0</td>\n",
       "      <td>0.000219</td>\n",
       "      <td>True</td>\n",
       "    </tr>\n",
       "    <tr>\n",
       "      <th>3</th>\n",
       "      <td>347332255.0</td>\n",
       "      <td>0.000219</td>\n",
       "      <td>True</td>\n",
       "    </tr>\n",
       "    <tr>\n",
       "      <th>1</th>\n",
       "      <td>29478974.0</td>\n",
       "      <td>0.000557</td>\n",
       "      <td>True</td>\n",
       "    </tr>\n",
       "    <tr>\n",
       "      <th>2</th>\n",
       "      <td>207080350.0</td>\n",
       "      <td>0.009380</td>\n",
       "      <td>True</td>\n",
       "    </tr>\n",
       "  </tbody>\n",
       "</table>\n",
       "</div>"
      ],
      "text/plain": [
       "           tic  delta_min  1st order\n",
       "0  204497617.0   0.000219       True\n",
       "3  347332255.0   0.000219       True\n",
       "1   29478974.0   0.000557       True\n",
       "2  207080350.0   0.009380       True"
      ]
     },
     "execution_count": 8,
     "metadata": {},
     "output_type": "execute_result"
    }
   ],
   "source": [
    "import pandas as pd\n",
    "\n",
    "s1 = pd.DataFrame(np.c_[ttv_1st_order2,deltas1], columns=['tic','delta_min'])\n",
    "s1['1st order'] = True\n",
    "s1.sort_values(by='delta_min')"
   ]
  },
  {
   "cell_type": "code",
   "execution_count": 9,
   "id": "56506857",
   "metadata": {
    "ExecuteTime": {
     "end_time": "2023-02-20T01:13:25.444273Z",
     "start_time": "2023-02-20T01:13:25.422027Z"
    }
   },
   "outputs": [
    {
     "data": {
      "text/html": [
       "<div>\n",
       "<style scoped>\n",
       "    .dataframe tbody tr th:only-of-type {\n",
       "        vertical-align: middle;\n",
       "    }\n",
       "\n",
       "    .dataframe tbody tr th {\n",
       "        vertical-align: top;\n",
       "    }\n",
       "\n",
       "    .dataframe thead th {\n",
       "        text-align: right;\n",
       "    }\n",
       "</style>\n",
       "<table border=\"1\" class=\"dataframe\">\n",
       "  <thead>\n",
       "    <tr style=\"text-align: right;\">\n",
       "      <th></th>\n",
       "      <th>tic</th>\n",
       "      <th>delta_min</th>\n",
       "      <th>2nd order</th>\n",
       "    </tr>\n",
       "  </thead>\n",
       "  <tbody>\n",
       "    <tr>\n",
       "      <th>0</th>\n",
       "      <td>204497617.0</td>\n",
       "      <td>0.000219</td>\n",
       "      <td>True</td>\n",
       "    </tr>\n",
       "    <tr>\n",
       "      <th>3</th>\n",
       "      <td>347332255.0</td>\n",
       "      <td>0.000219</td>\n",
       "      <td>True</td>\n",
       "    </tr>\n",
       "    <tr>\n",
       "      <th>4</th>\n",
       "      <td>253922296.0</td>\n",
       "      <td>0.000295</td>\n",
       "      <td>True</td>\n",
       "    </tr>\n",
       "    <tr>\n",
       "      <th>1</th>\n",
       "      <td>29478974.0</td>\n",
       "      <td>0.000557</td>\n",
       "      <td>True</td>\n",
       "    </tr>\n",
       "    <tr>\n",
       "      <th>2</th>\n",
       "      <td>207080350.0</td>\n",
       "      <td>0.009380</td>\n",
       "      <td>True</td>\n",
       "    </tr>\n",
       "  </tbody>\n",
       "</table>\n",
       "</div>"
      ],
      "text/plain": [
       "           tic  delta_min  2nd order\n",
       "0  204497617.0   0.000219       True\n",
       "3  347332255.0   0.000219       True\n",
       "4  253922296.0   0.000295       True\n",
       "1   29478974.0   0.000557       True\n",
       "2  207080350.0   0.009380       True"
      ]
     },
     "execution_count": 9,
     "metadata": {},
     "output_type": "execute_result"
    }
   ],
   "source": [
    "s2 = pd.DataFrame(np.c_[ttv_2nd_order2,deltas2], columns=['tic','delta_min'])\n",
    "s2['2nd order'] = True\n",
    "s2.sort_values(by='delta_min')"
   ]
  },
  {
   "cell_type": "code",
   "execution_count": 17,
   "id": "7b1efafc",
   "metadata": {
    "ExecuteTime": {
     "end_time": "2023-02-20T01:53:13.128756Z",
     "start_time": "2023-02-20T01:53:13.110722Z"
    }
   },
   "outputs": [
    {
     "data": {
      "text/html": [
       "<div>\n",
       "<style scoped>\n",
       "    .dataframe tbody tr th:only-of-type {\n",
       "        vertical-align: middle;\n",
       "    }\n",
       "\n",
       "    .dataframe tbody tr th {\n",
       "        vertical-align: top;\n",
       "    }\n",
       "\n",
       "    .dataframe thead th {\n",
       "        text-align: right;\n",
       "    }\n",
       "</style>\n",
       "<table border=\"1\" class=\"dataframe\">\n",
       "  <thead>\n",
       "    <tr style=\"text-align: right;\">\n",
       "      <th></th>\n",
       "      <th>tic</th>\n",
       "      <th>delta_min</th>\n",
       "      <th>1st order</th>\n",
       "      <th>2nd order</th>\n",
       "    </tr>\n",
       "  </thead>\n",
       "  <tbody>\n",
       "    <tr>\n",
       "      <th>0</th>\n",
       "      <td>204497617</td>\n",
       "      <td>0.000219</td>\n",
       "      <td>True</td>\n",
       "      <td>True</td>\n",
       "    </tr>\n",
       "    <tr>\n",
       "      <th>3</th>\n",
       "      <td>347332255</td>\n",
       "      <td>0.000219</td>\n",
       "      <td>True</td>\n",
       "      <td>True</td>\n",
       "    </tr>\n",
       "    <tr>\n",
       "      <th>4</th>\n",
       "      <td>253922296</td>\n",
       "      <td>0.000295</td>\n",
       "      <td>False</td>\n",
       "      <td>True</td>\n",
       "    </tr>\n",
       "    <tr>\n",
       "      <th>1</th>\n",
       "      <td>29478974</td>\n",
       "      <td>0.000557</td>\n",
       "      <td>True</td>\n",
       "      <td>True</td>\n",
       "    </tr>\n",
       "    <tr>\n",
       "      <th>2</th>\n",
       "      <td>207080350</td>\n",
       "      <td>0.009380</td>\n",
       "      <td>True</td>\n",
       "      <td>True</td>\n",
       "    </tr>\n",
       "  </tbody>\n",
       "</table>\n",
       "</div>"
      ],
      "text/plain": [
       "         tic  delta_min  1st order  2nd order\n",
       "0  204497617   0.000219       True       True\n",
       "3  347332255   0.000219       True       True\n",
       "4  253922296   0.000295      False       True\n",
       "1   29478974   0.000557       True       True\n",
       "2  207080350   0.009380       True       True"
      ]
     },
     "execution_count": 17,
     "metadata": {},
     "output_type": "execute_result"
    }
   ],
   "source": [
    "res2 = pd.merge(s1, s2, how='outer')\n",
    "res2 = res2.replace(np.nan, False)\n",
    "res2['tic'] = res2.tic.map(int)\n",
    "res2 = res2.sort_values(by='delta_min')\n",
    "res2"
   ]
  },
  {
   "cell_type": "code",
   "execution_count": 18,
   "id": "cc012ed2",
   "metadata": {
    "ExecuteTime": {
     "end_time": "2023-02-20T01:53:15.659482Z",
     "start_time": "2023-02-20T01:53:15.654886Z"
    }
   },
   "outputs": [],
   "source": [
    "res2.to_csv('../data/tics_resonance_from_ctoi.csv')"
   ]
  },
  {
   "cell_type": "code",
   "execution_count": 24,
   "id": "b358d9a1",
   "metadata": {
    "ExecuteTime": {
     "end_time": "2023-02-20T03:08:51.696117Z",
     "start_time": "2023-02-20T03:08:51.689976Z"
    }
   },
   "outputs": [
    {
     "data": {
      "text/plain": [
       "(5, 5)"
      ]
     },
     "execution_count": 24,
     "metadata": {},
     "output_type": "execute_result"
    }
   ],
   "source": [
    "len(texts), len(res2)"
   ]
  },
  {
   "cell_type": "code",
   "execution_count": 23,
   "id": "77ed7346",
   "metadata": {
    "ExecuteTime": {
     "end_time": "2023-02-20T03:07:29.483969Z",
     "start_time": "2023-02-20T03:07:29.478959Z"
    }
   },
   "outputs": [
    {
     "name": "stdout",
     "output_type": "stream",
     "text": [
      "TIC 204497617 (nplanets=2): <br>\n",
      "First Order: 2:1 | P=(3.18,1.59) n=(1,2) (delta=0.02%)\n",
      "Second Order: 4:2 | P=(3.18,1.59) n=(1,2) (delta=0.02%)\n",
      "\n",
      "TIC 347332255 (nplanets=2): <br>\n",
      "First Order: 3:2 | P=(13.67,9.11) n=(1,2) (delta=0.02%)\n",
      "Second Order: 6:4 | P=(13.67,9.11) n=(1,2) (delta=0.02%)\n",
      "\n",
      "TIC 253922296 (nplanets=2): <br>\n",
      "Second Order: 3:1 | P=(9.43,3.14) n=(1,2) (delta=0.03%)\n",
      "\n",
      "TIC 29478974 (nplanets=2): <br>\n",
      "First Order: 2:1 | P=(24.90,12.46) n=(1,2) (delta=0.06%)\n",
      "Second Order: 4:2 | P=(24.90,12.46) n=(1,2) (delta=0.06%)\n",
      "\n",
      "TIC 207080350 (nplanets=2): <br>\n",
      "First Order: 2:1 | P=(18.38,9.11) n=(1,2) (delta=0.94%)\n",
      "Second Order: 4:2 | P=(18.38,9.11) n=(1,2) (delta=0.94%)\n",
      "\n"
     ]
    }
   ],
   "source": [
    "idx = res2.index.values\n",
    "for i in idx:\n",
    "    print(texts[i])"
   ]
  },
  {
   "cell_type": "code",
   "execution_count": 16,
   "id": "edd52000",
   "metadata": {
    "ExecuteTime": {
     "end_time": "2023-02-20T01:15:12.940442Z",
     "start_time": "2023-02-20T01:15:12.921420Z"
    }
   },
   "outputs": [],
   "source": [
    "np.savetxt('../data/tics_resonance_from_ctoi.txt', res2.tic.tolist(), fmt=\"%d\")\n",
    "np.savetxt('../data/tics_resonance_from_ctoi_1st_order.txt', ttv_1st_order2, fmt=\"%d\")\n",
    "np.savetxt('../data/tics_resonance_from_ctoi_2nd_order.txt', ttv_2nd_order2, fmt=\"%d\")"
   ]
  },
  {
   "cell_type": "code",
   "execution_count": null,
   "id": "ab211649",
   "metadata": {},
   "outputs": [],
   "source": []
  }
 ],
 "metadata": {
  "kernelspec": {
   "display_name": "Python 3 (ipykernel)",
   "language": "python",
   "name": "python3"
  },
  "language_info": {
   "codemirror_mode": {
    "name": "ipython",
    "version": 3
   },
   "file_extension": ".py",
   "mimetype": "text/x-python",
   "name": "python",
   "nbconvert_exporter": "python",
   "pygments_lexer": "ipython3",
   "version": "3.10.9"
  },
  "toc": {
   "base_numbering": 1,
   "nav_menu": {},
   "number_sections": true,
   "sideBar": true,
   "skip_h1_title": false,
   "title_cell": "Table of Contents",
   "title_sidebar": "Contents",
   "toc_cell": false,
   "toc_position": {},
   "toc_section_display": true,
   "toc_window_display": false
  }
 },
 "nbformat": 4,
 "nbformat_minor": 5
}
