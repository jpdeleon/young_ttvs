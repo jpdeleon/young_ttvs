{
 "cells": [
  {
   "cell_type": "code",
   "execution_count": 1,
   "id": "05f7280f",
   "metadata": {
    "ExecuteTime": {
     "end_time": "2023-02-20T07:32:02.694007Z",
     "start_time": "2023-02-20T07:32:02.690915Z"
    }
   },
   "outputs": [],
   "source": [
    "import os\n",
    "\n",
    "assert os.environ['CONDA_DEFAULT_ENV']=='ttv'"
   ]
  },
  {
   "cell_type": "markdown",
   "id": "832e7198",
   "metadata": {},
   "source": [
    "## TOIs"
   ]
  },
  {
   "cell_type": "code",
   "execution_count": 2,
   "id": "8c97dbb5",
   "metadata": {
    "ExecuteTime": {
     "end_time": "2023-02-20T07:32:03.431114Z",
     "start_time": "2023-02-20T07:32:02.695842Z"
    }
   },
   "outputs": [],
   "source": [
    "import sys\n",
    "sys.path.insert(0, '../code')\n",
    "from utils import *"
   ]
  },
  {
   "cell_type": "code",
   "execution_count": 3,
   "id": "464c3a0a",
   "metadata": {
    "ExecuteTime": {
     "end_time": "2023-02-20T07:32:03.521634Z",
     "start_time": "2023-02-20T07:32:03.433907Z"
    }
   },
   "outputs": [
    {
     "name": "stdout",
     "output_type": "stream",
     "text": [
      "Downloading TOIs from: https://exofop.ipac.caltech.edu/tess/download_toi.php?sort=toi&output=csv\n",
      "Saved:  TOIs with TFPWG disposition==FP are removed.\n"
     ]
    },
    {
     "data": {
      "text/html": [
       "<div>\n",
       "<style scoped>\n",
       "    .dataframe tbody tr th:only-of-type {\n",
       "        vertical-align: middle;\n",
       "    }\n",
       "\n",
       "    .dataframe tbody tr th {\n",
       "        vertical-align: top;\n",
       "    }\n",
       "\n",
       "    .dataframe thead th {\n",
       "        text-align: right;\n",
       "    }\n",
       "</style>\n",
       "<table border=\"1\" class=\"dataframe\">\n",
       "  <thead>\n",
       "    <tr style=\"text-align: right;\">\n",
       "      <th></th>\n",
       "      <th>TIC ID</th>\n",
       "      <th>TOI</th>\n",
       "      <th>Previous CTOI</th>\n",
       "      <th>Master</th>\n",
       "      <th>SG1A</th>\n",
       "      <th>SG1B</th>\n",
       "      <th>SG2</th>\n",
       "      <th>SG3</th>\n",
       "      <th>SG4</th>\n",
       "      <th>SG5</th>\n",
       "      <th>...</th>\n",
       "      <th>Stellar Radius (R_Sun) err</th>\n",
       "      <th>Stellar Metallicity</th>\n",
       "      <th>Stellar Metallicity err</th>\n",
       "      <th>Stellar Mass (M_Sun)</th>\n",
       "      <th>Stellar Mass (M_Sun) err</th>\n",
       "      <th>Sectors</th>\n",
       "      <th>Date TOI Alerted (UTC)</th>\n",
       "      <th>Date TOI Updated (UTC)</th>\n",
       "      <th>Date Modified</th>\n",
       "      <th>Comments</th>\n",
       "    </tr>\n",
       "  </thead>\n",
       "  <tbody>\n",
       "    <tr>\n",
       "      <th>7022</th>\n",
       "      <td>426471754</td>\n",
       "      <td>6871.01</td>\n",
       "      <td>NaN</td>\n",
       "      <td>1</td>\n",
       "      <td>4</td>\n",
       "      <td>1</td>\n",
       "      <td>1</td>\n",
       "      <td>1</td>\n",
       "      <td>4</td>\n",
       "      <td>4</td>\n",
       "      <td>...</td>\n",
       "      <td>0.040000</td>\n",
       "      <td>0.081</td>\n",
       "      <td>0.017</td>\n",
       "      <td>1.000000</td>\n",
       "      <td>0.126188</td>\n",
       "      <td>43,70,71</td>\n",
       "      <td>2023-12-21</td>\n",
       "      <td>2023-12-21</td>\n",
       "      <td>2023-12-28 12:14:43</td>\n",
       "      <td>L1 candidate</td>\n",
       "    </tr>\n",
       "    <tr>\n",
       "      <th>7023</th>\n",
       "      <td>150096001</td>\n",
       "      <td>6872.01</td>\n",
       "      <td>NaN</td>\n",
       "      <td>5</td>\n",
       "      <td>5</td>\n",
       "      <td>5</td>\n",
       "      <td>5</td>\n",
       "      <td>2</td>\n",
       "      <td>5</td>\n",
       "      <td>5</td>\n",
       "      <td>...</td>\n",
       "      <td>0.010000</td>\n",
       "      <td>NaN</td>\n",
       "      <td>NaN</td>\n",
       "      <td>0.456853</td>\n",
       "      <td>0.020234</td>\n",
       "      <td>43,44,70,71</td>\n",
       "      <td>2023-12-21</td>\n",
       "      <td>2023-12-21</td>\n",
       "      <td>2023-12-28 12:14:43</td>\n",
       "      <td>K2-133 d; marginal TESS QLP detection</td>\n",
       "    </tr>\n",
       "    <tr>\n",
       "      <th>7024</th>\n",
       "      <td>67395329</td>\n",
       "      <td>6873.01</td>\n",
       "      <td>NaN</td>\n",
       "      <td>1</td>\n",
       "      <td>4</td>\n",
       "      <td>1</td>\n",
       "      <td>1</td>\n",
       "      <td>1</td>\n",
       "      <td>4</td>\n",
       "      <td>4</td>\n",
       "      <td>...</td>\n",
       "      <td>0.045422</td>\n",
       "      <td>NaN</td>\n",
       "      <td>NaN</td>\n",
       "      <td>0.950000</td>\n",
       "      <td>0.119579</td>\n",
       "      <td>71</td>\n",
       "      <td>2023-12-21</td>\n",
       "      <td>2023-12-21</td>\n",
       "      <td>2023-12-28 12:14:43</td>\n",
       "      <td>period could be half (9.41 d); possible transi...</td>\n",
       "    </tr>\n",
       "    <tr>\n",
       "      <th>7025</th>\n",
       "      <td>4426490</td>\n",
       "      <td>6874.01</td>\n",
       "      <td>TIC 4426490.01</td>\n",
       "      <td>3</td>\n",
       "      <td>4</td>\n",
       "      <td>3</td>\n",
       "      <td>3</td>\n",
       "      <td>1</td>\n",
       "      <td>4</td>\n",
       "      <td>4</td>\n",
       "      <td>...</td>\n",
       "      <td>0.081498</td>\n",
       "      <td>-0.014</td>\n",
       "      <td>0.158</td>\n",
       "      <td>1.100000</td>\n",
       "      <td>0.156621</td>\n",
       "      <td>71</td>\n",
       "      <td>2023-12-21</td>\n",
       "      <td>2023-12-21</td>\n",
       "      <td>2023-12-28 12:14:43</td>\n",
       "      <td>multiple stars in pixel</td>\n",
       "    </tr>\n",
       "    <tr>\n",
       "      <th>7026</th>\n",
       "      <td>403693870</td>\n",
       "      <td>6875.01</td>\n",
       "      <td>TIC 403693870.01</td>\n",
       "      <td>3</td>\n",
       "      <td>4</td>\n",
       "      <td>3</td>\n",
       "      <td>3</td>\n",
       "      <td>1</td>\n",
       "      <td>4</td>\n",
       "      <td>4</td>\n",
       "      <td>...</td>\n",
       "      <td>NaN</td>\n",
       "      <td>NaN</td>\n",
       "      <td>NaN</td>\n",
       "      <td>1.190000</td>\n",
       "      <td>NaN</td>\n",
       "      <td>71</td>\n",
       "      <td>2023-12-21</td>\n",
       "      <td>2023-12-21</td>\n",
       "      <td>2023-12-28 12:14:43</td>\n",
       "      <td>match to FP/NPC TOI 528 but TFOP SG1 shows thi...</td>\n",
       "    </tr>\n",
       "  </tbody>\n",
       "</table>\n",
       "<p>5 rows × 62 columns</p>\n",
       "</div>"
      ],
      "text/plain": [
       "         TIC ID      TOI     Previous CTOI  Master  SG1A  SG1B  SG2  SG3  SG4  \\\n",
       "7022  426471754  6871.01               NaN       1     4     1    1    1    4   \n",
       "7023  150096001  6872.01               NaN       5     5     5    5    2    5   \n",
       "7024   67395329  6873.01               NaN       1     4     1    1    1    4   \n",
       "7025    4426490  6874.01    TIC 4426490.01       3     4     3    3    1    4   \n",
       "7026  403693870  6875.01  TIC 403693870.01       3     4     3    3    1    4   \n",
       "\n",
       "      SG5  ...  Stellar Radius (R_Sun) err  Stellar Metallicity  \\\n",
       "7022    4  ...                    0.040000                0.081   \n",
       "7023    5  ...                    0.010000                  NaN   \n",
       "7024    4  ...                    0.045422                  NaN   \n",
       "7025    4  ...                    0.081498               -0.014   \n",
       "7026    4  ...                         NaN                  NaN   \n",
       "\n",
       "      Stellar Metallicity err  Stellar Mass (M_Sun)  Stellar Mass (M_Sun) err  \\\n",
       "7022                    0.017              1.000000                  0.126188   \n",
       "7023                      NaN              0.456853                  0.020234   \n",
       "7024                      NaN              0.950000                  0.119579   \n",
       "7025                    0.158              1.100000                  0.156621   \n",
       "7026                      NaN              1.190000                       NaN   \n",
       "\n",
       "          Sectors Date TOI Alerted (UTC) Date TOI Updated (UTC)  \\\n",
       "7022     43,70,71             2023-12-21             2023-12-21   \n",
       "7023  43,44,70,71             2023-12-21             2023-12-21   \n",
       "7024           71             2023-12-21             2023-12-21   \n",
       "7025           71             2023-12-21             2023-12-21   \n",
       "7026           71             2023-12-21             2023-12-21   \n",
       "\n",
       "            Date Modified                                           Comments  \n",
       "7022  2023-12-28 12:14:43                                       L1 candidate  \n",
       "7023  2023-12-28 12:14:43              K2-133 d; marginal TESS QLP detection  \n",
       "7024  2023-12-28 12:14:43  period could be half (9.41 d); possible transi...  \n",
       "7025  2023-12-28 12:14:43                            multiple stars in pixel  \n",
       "7026  2023-12-28 12:14:43  match to FP/NPC TOI 528 but TFOP SG1 shows thi...  \n",
       "\n",
       "[5 rows x 62 columns]"
      ]
     },
     "execution_count": 3,
     "metadata": {},
     "output_type": "execute_result"
    }
   ],
   "source": [
    "df = get_tois(clobber=True)\n",
    "df.tail()"
   ]
  },
  {
   "cell_type": "raw",
   "id": "6e425a48",
   "metadata": {
    "ExecuteTime": {
     "end_time": "2023-02-09T01:50:30.994853Z",
     "start_time": "2023-02-09T01:50:30.984695Z"
    }
   },
   "source": [
    "#how many multis?\n",
    "tois.Comments.isin(['multi']).sum()"
   ]
  },
  {
   "cell_type": "code",
   "execution_count": 4,
   "id": "9454ab33",
   "metadata": {
    "ExecuteTime": {
     "end_time": "2023-02-20T07:32:03.528142Z",
     "start_time": "2023-02-20T07:32:03.523479Z"
    },
    "scrolled": true
   },
   "outputs": [
    {
     "data": {
      "text/plain": [
       "5790"
      ]
     },
     "execution_count": 4,
     "metadata": {},
     "output_type": "execute_result"
    }
   ],
   "source": [
    "tics = df['TIC ID'].unique()\n",
    "len(tics)"
   ]
  },
  {
   "cell_type": "code",
   "execution_count": 5,
   "id": "7dbb723a",
   "metadata": {
    "ExecuteTime": {
     "end_time": "2023-02-20T07:32:03.534953Z",
     "start_time": "2023-02-20T07:32:03.530017Z"
    },
    "scrolled": true
   },
   "outputs": [
    {
     "data": {
      "text/plain": [
       "6037"
      ]
     },
     "execution_count": 5,
     "metadata": {},
     "output_type": "execute_result"
    }
   ],
   "source": [
    "len(df['TOI'].unique())"
   ]
  },
  {
   "cell_type": "code",
   "execution_count": 6,
   "id": "7dd14f38",
   "metadata": {
    "ExecuteTime": {
     "end_time": "2023-02-20T07:32:03.542759Z",
     "start_time": "2023-02-20T07:32:03.536644Z"
    }
   },
   "outputs": [
    {
     "data": {
      "text/plain": [
       "TIC ID\n",
       "425997655    5\n",
       "367630162    5\n",
       "260647166    4\n",
       "29781292     4\n",
       "150428135    4\n",
       "            ..\n",
       "130349701    1\n",
       "281489322    1\n",
       "130948731    1\n",
       "387275908    1\n",
       "403693870    1\n",
       "Name: count, Length: 5790, dtype: int64"
      ]
     },
     "execution_count": 6,
     "metadata": {},
     "output_type": "execute_result"
    }
   ],
   "source": [
    "nsys = df['TIC ID'].value_counts()\n",
    "nsys"
   ]
  },
  {
   "cell_type": "code",
   "execution_count": 7,
   "id": "7efd1369",
   "metadata": {
    "ExecuteTime": {
     "end_time": "2023-02-20T07:32:03.547945Z",
     "start_time": "2023-02-20T07:32:03.544643Z"
    }
   },
   "outputs": [
    {
     "name": "stdout",
     "output_type": "stream",
     "text": [
      "195\n"
     ]
    }
   ],
   "source": [
    "tics_multis = list(nsys[nsys>1].index)\n",
    "print(len(tics_multis))"
   ]
  },
  {
   "cell_type": "markdown",
   "id": "ed6c7339",
   "metadata": {},
   "source": [
    "## TOI 1136 (Dai+2023)\n",
    "First order MMR: 3:2, 2:1, 3:2, 7:5, and 3:2"
   ]
  },
  {
   "cell_type": "code",
   "execution_count": 8,
   "id": "50167d1f",
   "metadata": {
    "ExecuteTime": {
     "end_time": "2023-02-20T07:32:03.556218Z",
     "start_time": "2023-02-20T07:32:03.549682Z"
    }
   },
   "outputs": [
    {
     "data": {
      "text/plain": [
       "1126     6.258792\n",
       "1125    12.518728\n",
       "1128    18.804756\n",
       "1127    26.317954\n",
       "Name: Period (days), dtype: float64"
      ]
     },
     "execution_count": 8,
     "metadata": {},
     "output_type": "execute_result"
    }
   ],
   "source": [
    "col = 'Period (days)'\n",
    "d = df[df['TIC ID']==142276270].sort_values(by=col)\n",
    "d[col]"
   ]
  },
  {
   "cell_type": "code",
   "execution_count": 9,
   "id": "7f157354",
   "metadata": {
    "ExecuteTime": {
     "end_time": "2023-02-20T07:32:03.563467Z",
     "start_time": "2023-02-20T07:32:03.559796Z"
    }
   },
   "outputs": [
    {
     "data": {
      "text/plain": [
       "[4.17278, 6.25725, 12.51937, 18.7992, 26.3162, 39.5387]"
      ]
     },
     "execution_count": 9,
     "metadata": {},
     "output_type": "execute_result"
    }
   ],
   "source": [
    "# add two outer planets\n",
    "periods = [4.17278, 6.25725, 12.51937, 18.7992, 26.3162, 39.5387]\n",
    "periods"
   ]
  },
  {
   "cell_type": "markdown",
   "id": "de6ce933",
   "metadata": {},
   "source": [
    "https://arxiv.org/abs/1208.3312"
   ]
  },
  {
   "cell_type": "markdown",
   "id": "25399ab5",
   "metadata": {},
   "source": [
    "$$\n",
    "\\frac{p'}{p} \\sim \\frac{j}{j-1}\n",
    "$$"
   ]
  },
  {
   "cell_type": "markdown",
   "id": "3ee8834e",
   "metadata": {},
   "source": [
    "proximity to resonance:\n",
    "$$\n",
    "\\Delta = \\frac{p'}{p} \\frac{j-1}{j} - 1\n",
    "$$"
   ]
  },
  {
   "cell_type": "code",
   "execution_count": 10,
   "id": "30ea6554",
   "metadata": {
    "ExecuteTime": {
     "end_time": "2023-02-20T07:32:03.573126Z",
     "start_time": "2023-02-20T07:32:03.565116Z"
    },
    "scrolled": true
   },
   "outputs": [
    {
     "data": {
      "text/plain": [
       "[(1, 2), (2, 3), (3, 4), (4, 5), (5, 6), (6, 7), (7, 8), (8, 9)]"
      ]
     },
     "execution_count": 10,
     "metadata": {},
     "output_type": "execute_result"
    }
   ],
   "source": [
    "get_orbit_pairs(10, order=1)"
   ]
  },
  {
   "cell_type": "code",
   "execution_count": 11,
   "id": "4daae78e",
   "metadata": {
    "ExecuteTime": {
     "end_time": "2023-02-20T07:32:03.580221Z",
     "start_time": "2023-02-20T07:32:03.574850Z"
    }
   },
   "outputs": [
    {
     "data": {
      "text/plain": [
       "(['3:2 | P=(6.26,4.17) n=(1,2) (delta=0.03%)',\n",
       "  '2:1 | P=(12.52,6.26) n=(2,3) (delta=0.04%)',\n",
       "  '3:2 | P=(18.80,12.52) n=(3,4) (delta=0.11%)',\n",
       "  '3:2 | P=(39.54,26.32) n=(5,6) (delta=0.16%)'],\n",
       " [0.0003067499364933779,\n",
       "  0.0003891485876383882,\n",
       "  0.001072737685682057,\n",
       "  0.0016314412161837488])"
      ]
     },
     "execution_count": 11,
     "metadata": {},
     "output_type": "execute_result"
    }
   ],
   "source": [
    "resonances_1st_order, deltas = get_resonant_pairs(periods, order=1, tol=0.01)\n",
    "resonances_1st_order, deltas"
   ]
  },
  {
   "cell_type": "code",
   "execution_count": 12,
   "id": "184d159b",
   "metadata": {
    "ExecuteTime": {
     "end_time": "2023-02-20T07:32:03.586358Z",
     "start_time": "2023-02-20T07:32:03.581878Z"
    }
   },
   "outputs": [
    {
     "data": {
      "text/plain": [
       "(['6:4 | P=(6.26,4.17) n=(1,2) (delta=0.03%)',\n",
       "  '4:2 | P=(12.52,6.26) n=(2,3) (delta=0.04%)',\n",
       "  '6:4 | P=(18.80,12.52) n=(3,4) (delta=0.11%)',\n",
       "  '7:5 | P=(26.32,18.80) n=(4,5) (delta=0.01%)',\n",
       "  '6:4 | P=(39.54,26.32) n=(5,6) (delta=0.16%)'],\n",
       " [0.0003067499364933779,\n",
       "  0.0003891485876383882,\n",
       "  0.001072737685682057,\n",
       "  0.00010182804131475542,\n",
       "  0.0016314412161837488])"
      ]
     },
     "execution_count": 12,
     "metadata": {},
     "output_type": "execute_result"
    }
   ],
   "source": [
    "resonances_2nd_order, deltas = get_resonant_pairs(periods, order=2, tol=0.01)\n",
    "resonances_2nd_order, deltas"
   ]
  },
  {
   "cell_type": "markdown",
   "id": "7f523bfb",
   "metadata": {},
   "source": [
    "## All TOIs"
   ]
  },
  {
   "cell_type": "code",
   "execution_count": 35,
   "id": "980dd67f",
   "metadata": {
    "ExecuteTime": {
     "end_time": "2023-02-20T07:32:03.687106Z",
     "start_time": "2023-02-20T07:32:03.588197Z"
    }
   },
   "outputs": [
    {
     "name": "stdout",
     "output_type": "stream",
     "text": [
      "TOI 0174 | TIC 425997655 (nplanets=5):<br>\n",
      "First Order: 2:1 | P=(7.91,3.98) n=(1,2) (delta=0.58%)<br>\n",
      "\n",
      "TOI 2104 | TIC 367630162 (nplanets=5):<br>\n",
      "Second Order: 5:3 | P=(3.27,1.98) n=(1,2) (delta=0.85%)\n",
      "\n",
      "TOI 0282 | TIC 29781292 (nplanets=4):<br>\n",
      "First Order: 3:2 | P=(84.26,56.00) n=(3,4) (delta=0.30%)<br>\n",
      "\n",
      "TOI 0700 | TIC 150428135 (nplanets=4):<br>\n",
      "First Order: 4:3 | P=(37.42,27.81) n=(3,4) (delta=0.93%)<br>\n",
      "\n",
      "TOI 1136 | TIC 142276270 (nplanets=4):<br>\n",
      "First Order: 2:1 | P=(12.52,6.26) n=(1,2) (delta=0.01%) 3:2 | P=(18.80,12.52) n=(2,3) (delta=0.14%)<br>\n",
      "\n",
      "TOI 0270 | TIC 259377017 (nplanets=3):<br>\n",
      "First Order: 2:1 | P=(11.38,5.66) n=(2,3) (delta=0.52%)<br>\n",
      "\n",
      "TOI 0663 | TIC 54962195 (nplanets=3):<br>\n",
      "First Order: 3:2 | P=(7.10,4.70) n=(2,3) (delta=0.77%)<br>\n",
      "\n",
      "TOI 2269 | TIC 441798995 (nplanets=3):<br>\n",
      "First Order: 2:1 | P=(2.84,1.42) n=(1,2) (delta=0.00%)<br>\n",
      "\n",
      "TOI 1730 | TIC 318022259 (nplanets=3):<br>\n",
      "First Order: 2:1 | P=(12.57,6.23) n=(2,3) (delta=0.98%)<br>\n",
      "\n",
      "TOI 2267 | TIC 459837008 (nplanets=3):<br>\n",
      "First Order: 9:8 | P=(2.29,2.03) n=(1,2) (delta=0.02%)<br>\n",
      "\n",
      "TOI 1749 | TIC 233602827 (nplanets=3):<br>\n",
      "First Order: 2:1 | P=(9.04,4.49) n=(2,3) (delta=0.74%)<br>\n",
      "\n",
      "TOI 0175 | TIC 307210830 (nplanets=3):<br>\n",
      "First Order: 2:1 | P=(7.45,3.69) n=(2,3) (delta=0.94%)<br>\n",
      "\n",
      "TOI 5493 | TIC 468979441 (nplanets=3):<br>\n",
      "Second Order: 5:3 | P=(24.44,14.56) n=(2,3) (delta=0.67%)\n",
      "\n",
      "TOI 1670 | TIC 441739020 (nplanets=3):<br>\n",
      "Second Order: 3:1 | P=(123.06,40.75) n=(2,3) (delta=0.66%)\n",
      "\n",
      "TOI 1339 | TIC 269701147 (nplanets=3):<br>\n",
      "First Order: 4:3 | P=(38.35,28.58) n=(2,3) (delta=0.64%)<br>\n",
      "\n",
      "TOI 2076 | TIC 27491137 (nplanets=3):<br>\n",
      "Second Order: 5:3 | P=(35.13,21.02) n=(2,3) (delta=0.29%)\n",
      "\n",
      "TOI 0696 | TIC 77156829 (nplanets=3):<br>\n",
      "First Order: 4:3 | P=(4.97,3.69) n=(2,3) (delta=0.80%)<br>\n",
      "\n",
      "TOI 0396 | TIC 178155732 (nplanets=3):<br>\n",
      "Second Order: 5:3 | P=(5.97,3.59) n=(1,2) (delta=0.03%)\n",
      "\n",
      "TOI 4323 | TIC 143022742 (nplanets=2):<br>\n",
      "First Order: 3:2 | P=(21.97,14.68) n=(1,2) (delta=0.21%)<br>\n",
      "\n",
      "TOI 0406 | TIC 153065527 (nplanets=2):<br>\n",
      "First Order: 2:1 | P=(13.18,6.61) n=(1,2) (delta=0.41%)<br>\n",
      "\n",
      "TOI 1446 | TIC 294471966 (nplanets=2):<br>\n",
      "Second Order: 7:5 | P=(6.32,4.51) n=(1,2) (delta=0.14%)\n",
      "\n",
      "TOI 1097 | TIC 360630575 (nplanets=2):<br>\n",
      "First Order: 3:2 | P=(13.90,9.19) n=(1,2) (delta=0.87%)<br>\n",
      "\n",
      "TOI 6109 | TIC 384984325 (nplanets=2):<br>\n",
      "First Order: 3:2 | P=(8.54,5.70) n=(1,2) (delta=0.05%)<br>\n",
      "\n",
      "TOI 6054 | TIC 392681545 (nplanets=2):<br>\n",
      "Second Order: 5:3 | P=(12.58,7.49) n=(1,2) (delta=0.74%)\n",
      "\n",
      "TOI 4647 | TIC 303204165 (nplanets=2):<br>\n",
      "First Order: 5:4 | P=(11.07,8.83) n=(1,2) (delta=0.24%)<br>\n",
      "\n",
      "TOI 6022 | TIC 455947620 (nplanets=2):<br>\n",
      "First Order: 5:4 | P=(1.93,1.55) n=(1,2) (delta=0.19%)<br>\n",
      "\n",
      "TOI 6276 | TIC 397362481 (nplanets=2):<br>\n",
      "Second Order: 7:5 | P=(6.21,4.47) n=(1,2) (delta=0.70%)\n",
      "\n",
      "TOI 4495 | TIC 120826158 (nplanets=2):<br>\n",
      "First Order: 2:1 | P=(5.18,2.57) n=(1,2) (delta=0.86%)<br>\n",
      "\n",
      "TOI 0216 | TIC 55652896 (nplanets=2):<br>\n",
      "First Order: 2:1 | P=(34.55,17.39) n=(1,2) (delta=0.64%)<br>\n",
      "\n",
      "TOI 5520 | TIC 374180079 (nplanets=2):<br>\n",
      "First Order: 4:3 | P=(19.48,14.70) n=(1,2) (delta=0.58%)<br>\n",
      "\n"
     ]
    }
   ],
   "source": [
    "ttv_1st_order = []       # commensurability in 1 planet pair \n",
    "ttv_2nd_order = []\n",
    "ttv_chain = []           # more than 1 planet pair\n",
    "deltas1 = []\n",
    "deltas2 = []\n",
    "texts = []\n",
    "for tic in tics_multis:\n",
    "    dd = df[df['TIC ID']==tic].squeeze()\n",
    "    periods = dd[\"Period (days)\"].values\n",
    "    Nplanets = len(periods)\n",
    "    toi = str(dd.iloc[0].TOI).split('.')[0] \n",
    "    \n",
    "    resonances_1st_order, delta1 = get_resonant_pairs(periods, order=1, tol=0.01);\n",
    "    resonances_2nd_order, delta2 = get_resonant_pairs(periods, order=2, tol=0.01);\n",
    "    msg = f\"TOI {str(toi).zfill(4)} | TIC {tic} (nplanets={Nplanets}):<br>\\n\"\n",
    "    show = False\n",
    "    if len(resonances_1st_order)>=1:\n",
    "        msg += f\"First Order: {' '.join(resonances_1st_order)}<br>\\n\"\n",
    "        ttv_1st_order.append(tic)\n",
    "        deltas1.append(min(delta1))\n",
    "        if len(resonances_1st_order)>=2:\n",
    "            ttv_chain.append(tic)         \n",
    "        show = True\n",
    "    if len(resonances_2nd_order)>=1:\n",
    "        if len(resonances_1st_order)>=1:\n",
    "            i = int(resonances_1st_order[0].split(':')[0])\n",
    "            j = int(resonances_2nd_order[0].split(':')[0])\n",
    "            if j/i!=2:\n",
    "                msg += f\"Second Order: {' '.join(resonances_2nd_order)}\\n\"\n",
    "                ttv_2nd_order.append(tic)\n",
    "                deltas2.append(min(delta2))\n",
    "                show = True\n",
    "        else:\n",
    "            msg += f\"Second Order: {' '.join(resonances_2nd_order)}\\n\"\n",
    "            ttv_2nd_order.append(tic)\n",
    "            deltas2.append(min(delta2))\n",
    "            show = True\n",
    "    if show:\n",
    "        print(msg)\n",
    "        texts.append(msg)"
   ]
  },
  {
   "cell_type": "code",
   "execution_count": 36,
   "id": "9b3c16c7",
   "metadata": {
    "ExecuteTime": {
     "end_time": "2023-02-20T07:32:03.691926Z",
     "start_time": "2023-02-20T07:32:03.688774Z"
    }
   },
   "outputs": [
    {
     "data": {
      "text/plain": [
       "(22, 8)"
      ]
     },
     "execution_count": 36,
     "metadata": {},
     "output_type": "execute_result"
    }
   ],
   "source": [
    "len(ttv_1st_order), len(ttv_2nd_order)"
   ]
  },
  {
   "cell_type": "code",
   "execution_count": 37,
   "id": "2512d2f4",
   "metadata": {
    "ExecuteTime": {
     "end_time": "2023-02-20T07:32:03.706656Z",
     "start_time": "2023-02-20T07:32:03.693286Z"
    }
   },
   "outputs": [
    {
     "data": {
      "text/html": [
       "<div>\n",
       "<style scoped>\n",
       "    .dataframe tbody tr th:only-of-type {\n",
       "        vertical-align: middle;\n",
       "    }\n",
       "\n",
       "    .dataframe tbody tr th {\n",
       "        vertical-align: top;\n",
       "    }\n",
       "\n",
       "    .dataframe thead th {\n",
       "        text-align: right;\n",
       "    }\n",
       "</style>\n",
       "<table border=\"1\" class=\"dataframe\">\n",
       "  <thead>\n",
       "    <tr style=\"text-align: right;\">\n",
       "      <th></th>\n",
       "      <th>tic</th>\n",
       "      <th>delta_min</th>\n",
       "      <th>1st order</th>\n",
       "    </tr>\n",
       "  </thead>\n",
       "  <tbody>\n",
       "    <tr>\n",
       "      <th>6</th>\n",
       "      <td>441798995.0</td>\n",
       "      <td>0.000023</td>\n",
       "      <td>True</td>\n",
       "    </tr>\n",
       "    <tr>\n",
       "      <th>3</th>\n",
       "      <td>142276270.0</td>\n",
       "      <td>0.000091</td>\n",
       "      <td>True</td>\n",
       "    </tr>\n",
       "    <tr>\n",
       "      <th>8</th>\n",
       "      <td>459837008.0</td>\n",
       "      <td>0.000158</td>\n",
       "      <td>True</td>\n",
       "    </tr>\n",
       "    <tr>\n",
       "      <th>16</th>\n",
       "      <td>384984325.0</td>\n",
       "      <td>0.000488</td>\n",
       "      <td>True</td>\n",
       "    </tr>\n",
       "    <tr>\n",
       "      <th>18</th>\n",
       "      <td>455947620.0</td>\n",
       "      <td>0.001917</td>\n",
       "      <td>True</td>\n",
       "    </tr>\n",
       "    <tr>\n",
       "      <th>13</th>\n",
       "      <td>143022742.0</td>\n",
       "      <td>0.002051</td>\n",
       "      <td>True</td>\n",
       "    </tr>\n",
       "    <tr>\n",
       "      <th>17</th>\n",
       "      <td>303204165.0</td>\n",
       "      <td>0.002446</td>\n",
       "      <td>True</td>\n",
       "    </tr>\n",
       "    <tr>\n",
       "      <th>1</th>\n",
       "      <td>29781292.0</td>\n",
       "      <td>0.003004</td>\n",
       "      <td>True</td>\n",
       "    </tr>\n",
       "    <tr>\n",
       "      <th>14</th>\n",
       "      <td>153065527.0</td>\n",
       "      <td>0.004089</td>\n",
       "      <td>True</td>\n",
       "    </tr>\n",
       "    <tr>\n",
       "      <th>4</th>\n",
       "      <td>259377017.0</td>\n",
       "      <td>0.005161</td>\n",
       "      <td>True</td>\n",
       "    </tr>\n",
       "    <tr>\n",
       "      <th>0</th>\n",
       "      <td>425997655.0</td>\n",
       "      <td>0.005752</td>\n",
       "      <td>True</td>\n",
       "    </tr>\n",
       "    <tr>\n",
       "      <th>21</th>\n",
       "      <td>374180079.0</td>\n",
       "      <td>0.005803</td>\n",
       "      <td>True</td>\n",
       "    </tr>\n",
       "    <tr>\n",
       "      <th>20</th>\n",
       "      <td>55652896.0</td>\n",
       "      <td>0.006421</td>\n",
       "      <td>True</td>\n",
       "    </tr>\n",
       "    <tr>\n",
       "      <th>11</th>\n",
       "      <td>269701147.0</td>\n",
       "      <td>0.006441</td>\n",
       "      <td>True</td>\n",
       "    </tr>\n",
       "    <tr>\n",
       "      <th>9</th>\n",
       "      <td>233602827.0</td>\n",
       "      <td>0.007399</td>\n",
       "      <td>True</td>\n",
       "    </tr>\n",
       "    <tr>\n",
       "      <th>5</th>\n",
       "      <td>54962195.0</td>\n",
       "      <td>0.007665</td>\n",
       "      <td>True</td>\n",
       "    </tr>\n",
       "    <tr>\n",
       "      <th>12</th>\n",
       "      <td>77156829.0</td>\n",
       "      <td>0.008025</td>\n",
       "      <td>True</td>\n",
       "    </tr>\n",
       "    <tr>\n",
       "      <th>19</th>\n",
       "      <td>120826158.0</td>\n",
       "      <td>0.008613</td>\n",
       "      <td>True</td>\n",
       "    </tr>\n",
       "    <tr>\n",
       "      <th>15</th>\n",
       "      <td>360630575.0</td>\n",
       "      <td>0.008712</td>\n",
       "      <td>True</td>\n",
       "    </tr>\n",
       "    <tr>\n",
       "      <th>2</th>\n",
       "      <td>150428135.0</td>\n",
       "      <td>0.009309</td>\n",
       "      <td>True</td>\n",
       "    </tr>\n",
       "    <tr>\n",
       "      <th>10</th>\n",
       "      <td>307210830.0</td>\n",
       "      <td>0.009398</td>\n",
       "      <td>True</td>\n",
       "    </tr>\n",
       "    <tr>\n",
       "      <th>7</th>\n",
       "      <td>318022259.0</td>\n",
       "      <td>0.009757</td>\n",
       "      <td>True</td>\n",
       "    </tr>\n",
       "  </tbody>\n",
       "</table>\n",
       "</div>"
      ],
      "text/plain": [
       "            tic  delta_min  1st order\n",
       "6   441798995.0   0.000023       True\n",
       "3   142276270.0   0.000091       True\n",
       "8   459837008.0   0.000158       True\n",
       "16  384984325.0   0.000488       True\n",
       "18  455947620.0   0.001917       True\n",
       "13  143022742.0   0.002051       True\n",
       "17  303204165.0   0.002446       True\n",
       "1    29781292.0   0.003004       True\n",
       "14  153065527.0   0.004089       True\n",
       "4   259377017.0   0.005161       True\n",
       "0   425997655.0   0.005752       True\n",
       "21  374180079.0   0.005803       True\n",
       "20   55652896.0   0.006421       True\n",
       "11  269701147.0   0.006441       True\n",
       "9   233602827.0   0.007399       True\n",
       "5    54962195.0   0.007665       True\n",
       "12   77156829.0   0.008025       True\n",
       "19  120826158.0   0.008613       True\n",
       "15  360630575.0   0.008712       True\n",
       "2   150428135.0   0.009309       True\n",
       "10  307210830.0   0.009398       True\n",
       "7   318022259.0   0.009757       True"
      ]
     },
     "execution_count": 37,
     "metadata": {},
     "output_type": "execute_result"
    }
   ],
   "source": [
    "import pandas as pd\n",
    "\n",
    "s1 = pd.DataFrame(np.c_[ttv_1st_order,deltas1], columns=['tic','delta_min'])\n",
    "s1['1st order'] = True\n",
    "s1.sort_values(by='delta_min')"
   ]
  },
  {
   "cell_type": "code",
   "execution_count": 38,
   "id": "7ffe3588",
   "metadata": {
    "ExecuteTime": {
     "end_time": "2023-02-20T07:32:03.718062Z",
     "start_time": "2023-02-20T07:32:03.707963Z"
    }
   },
   "outputs": [
    {
     "data": {
      "text/html": [
       "<div>\n",
       "<style scoped>\n",
       "    .dataframe tbody tr th:only-of-type {\n",
       "        vertical-align: middle;\n",
       "    }\n",
       "\n",
       "    .dataframe tbody tr th {\n",
       "        vertical-align: top;\n",
       "    }\n",
       "\n",
       "    .dataframe thead th {\n",
       "        text-align: right;\n",
       "    }\n",
       "</style>\n",
       "<table border=\"1\" class=\"dataframe\">\n",
       "  <thead>\n",
       "    <tr style=\"text-align: right;\">\n",
       "      <th></th>\n",
       "      <th>tic</th>\n",
       "      <th>delta_min</th>\n",
       "      <th>2nd order</th>\n",
       "    </tr>\n",
       "  </thead>\n",
       "  <tbody>\n",
       "    <tr>\n",
       "      <th>4</th>\n",
       "      <td>178155732.0</td>\n",
       "      <td>0.000263</td>\n",
       "      <td>True</td>\n",
       "    </tr>\n",
       "    <tr>\n",
       "      <th>5</th>\n",
       "      <td>294471966.0</td>\n",
       "      <td>0.001432</td>\n",
       "      <td>True</td>\n",
       "    </tr>\n",
       "    <tr>\n",
       "      <th>3</th>\n",
       "      <td>27491137.0</td>\n",
       "      <td>0.002862</td>\n",
       "      <td>True</td>\n",
       "    </tr>\n",
       "    <tr>\n",
       "      <th>2</th>\n",
       "      <td>441739020.0</td>\n",
       "      <td>0.006611</td>\n",
       "      <td>True</td>\n",
       "    </tr>\n",
       "    <tr>\n",
       "      <th>1</th>\n",
       "      <td>468979441.0</td>\n",
       "      <td>0.006748</td>\n",
       "      <td>True</td>\n",
       "    </tr>\n",
       "    <tr>\n",
       "      <th>7</th>\n",
       "      <td>397362481.0</td>\n",
       "      <td>0.007041</td>\n",
       "      <td>True</td>\n",
       "    </tr>\n",
       "    <tr>\n",
       "      <th>6</th>\n",
       "      <td>392681545.0</td>\n",
       "      <td>0.007379</td>\n",
       "      <td>True</td>\n",
       "    </tr>\n",
       "    <tr>\n",
       "      <th>0</th>\n",
       "      <td>367630162.0</td>\n",
       "      <td>0.008545</td>\n",
       "      <td>True</td>\n",
       "    </tr>\n",
       "  </tbody>\n",
       "</table>\n",
       "</div>"
      ],
      "text/plain": [
       "           tic  delta_min  2nd order\n",
       "4  178155732.0   0.000263       True\n",
       "5  294471966.0   0.001432       True\n",
       "3   27491137.0   0.002862       True\n",
       "2  441739020.0   0.006611       True\n",
       "1  468979441.0   0.006748       True\n",
       "7  397362481.0   0.007041       True\n",
       "6  392681545.0   0.007379       True\n",
       "0  367630162.0   0.008545       True"
      ]
     },
     "execution_count": 38,
     "metadata": {},
     "output_type": "execute_result"
    }
   ],
   "source": [
    "s2 = pd.DataFrame(np.c_[ttv_2nd_order,deltas2], columns=['tic','delta_min'])\n",
    "s2['2nd order'] = True\n",
    "s2.sort_values(by='delta_min')"
   ]
  },
  {
   "cell_type": "code",
   "execution_count": 39,
   "id": "52a6842e",
   "metadata": {
    "ExecuteTime": {
     "end_time": "2023-02-20T07:32:03.731903Z",
     "start_time": "2023-02-20T07:32:03.719359Z"
    }
   },
   "outputs": [
    {
     "data": {
      "text/html": [
       "<div>\n",
       "<style scoped>\n",
       "    .dataframe tbody tr th:only-of-type {\n",
       "        vertical-align: middle;\n",
       "    }\n",
       "\n",
       "    .dataframe tbody tr th {\n",
       "        vertical-align: top;\n",
       "    }\n",
       "\n",
       "    .dataframe thead th {\n",
       "        text-align: right;\n",
       "    }\n",
       "</style>\n",
       "<table border=\"1\" class=\"dataframe\">\n",
       "  <thead>\n",
       "    <tr style=\"text-align: right;\">\n",
       "      <th></th>\n",
       "      <th>tic</th>\n",
       "      <th>delta_min</th>\n",
       "      <th>1st order</th>\n",
       "      <th>2nd order</th>\n",
       "    </tr>\n",
       "  </thead>\n",
       "  <tbody>\n",
       "    <tr>\n",
       "      <th>6</th>\n",
       "      <td>441798995</td>\n",
       "      <td>0.000023</td>\n",
       "      <td>True</td>\n",
       "      <td>False</td>\n",
       "    </tr>\n",
       "    <tr>\n",
       "      <th>3</th>\n",
       "      <td>142276270</td>\n",
       "      <td>0.000091</td>\n",
       "      <td>True</td>\n",
       "      <td>False</td>\n",
       "    </tr>\n",
       "    <tr>\n",
       "      <th>8</th>\n",
       "      <td>459837008</td>\n",
       "      <td>0.000158</td>\n",
       "      <td>True</td>\n",
       "      <td>False</td>\n",
       "    </tr>\n",
       "    <tr>\n",
       "      <th>26</th>\n",
       "      <td>178155732</td>\n",
       "      <td>0.000263</td>\n",
       "      <td>False</td>\n",
       "      <td>True</td>\n",
       "    </tr>\n",
       "    <tr>\n",
       "      <th>16</th>\n",
       "      <td>384984325</td>\n",
       "      <td>0.000488</td>\n",
       "      <td>True</td>\n",
       "      <td>False</td>\n",
       "    </tr>\n",
       "  </tbody>\n",
       "</table>\n",
       "</div>"
      ],
      "text/plain": [
       "          tic  delta_min  1st order  2nd order\n",
       "6   441798995   0.000023       True      False\n",
       "3   142276270   0.000091       True      False\n",
       "8   459837008   0.000158       True      False\n",
       "26  178155732   0.000263      False       True\n",
       "16  384984325   0.000488       True      False"
      ]
     },
     "execution_count": 39,
     "metadata": {},
     "output_type": "execute_result"
    }
   ],
   "source": [
    "res = pd.merge(s1, s2, how='outer')\n",
    "res = res.replace(np.nan, False)\n",
    "res['tic'] = res.tic.map(int)\n",
    "res = res.sort_values(by='delta_min')\n",
    "res.head()"
   ]
  },
  {
   "cell_type": "raw",
   "id": "a11e4047",
   "metadata": {
    "ExecuteTime": {
     "end_time": "2023-02-20T03:00:39.835891Z",
     "start_time": "2023-02-20T03:00:39.830179Z"
    }
   },
   "source": [
    "np.array(texts)[res.index.values]"
   ]
  },
  {
   "cell_type": "code",
   "execution_count": 40,
   "id": "feabd45d",
   "metadata": {
    "ExecuteTime": {
     "end_time": "2023-02-20T07:32:03.737525Z",
     "start_time": "2023-02-20T07:32:03.733347Z"
    }
   },
   "outputs": [
    {
     "data": {
      "text/plain": [
       "(30, 30)"
      ]
     },
     "execution_count": 40,
     "metadata": {},
     "output_type": "execute_result"
    }
   ],
   "source": [
    "len(texts), len(res)"
   ]
  },
  {
   "cell_type": "raw",
   "id": "3f3a1a01",
   "metadata": {
    "ExecuteTime": {
     "end_time": "2023-02-20T03:06:44.728611Z",
     "start_time": "2023-02-20T03:06:44.724765Z"
    }
   },
   "source": [
    "idx = res.index.values\n",
    "for i in idx:\n",
    "    print(texts[i])"
   ]
  },
  {
   "cell_type": "code",
   "execution_count": 41,
   "id": "a76cf90a",
   "metadata": {
    "ExecuteTime": {
     "end_time": "2023-02-20T07:32:03.744131Z",
     "start_time": "2023-02-20T07:32:03.738699Z"
    }
   },
   "outputs": [
    {
     "name": "stdout",
     "output_type": "stream",
     "text": [
      "TOI 2269 | TIC 441798995 (nplanets=3):<br>\n",
      "First Order: 2:1 | P=(2.84,1.42) n=(1,2) (delta=0.00%)<br>\n",
      "\n",
      "TOI 1136 | TIC 142276270 (nplanets=4):<br>\n",
      "First Order: 2:1 | P=(12.52,6.26) n=(1,2) (delta=0.01%) 3:2 | P=(18.80,12.52) n=(2,3) (delta=0.14%)<br>\n",
      "\n",
      "TOI 2267 | TIC 459837008 (nplanets=3):<br>\n",
      "First Order: 9:8 | P=(2.29,2.03) n=(1,2) (delta=0.02%)<br>\n",
      "\n",
      "TOI 0396 | TIC 178155732 (nplanets=3):<br>\n",
      "Second Order: 5:3 | P=(5.97,3.59) n=(1,2) (delta=0.03%)\n",
      "\n",
      "TOI 6109 | TIC 384984325 (nplanets=2):<br>\n",
      "First Order: 3:2 | P=(8.54,5.70) n=(1,2) (delta=0.05%)<br>\n",
      "\n",
      "TOI 1446 | TIC 294471966 (nplanets=2):<br>\n",
      "Second Order: 7:5 | P=(6.32,4.51) n=(1,2) (delta=0.14%)\n",
      "\n",
      "TOI 6022 | TIC 455947620 (nplanets=2):<br>\n",
      "First Order: 5:4 | P=(1.93,1.55) n=(1,2) (delta=0.19%)<br>\n",
      "\n",
      "TOI 4323 | TIC 143022742 (nplanets=2):<br>\n",
      "First Order: 3:2 | P=(21.97,14.68) n=(1,2) (delta=0.21%)<br>\n",
      "\n",
      "TOI 4647 | TIC 303204165 (nplanets=2):<br>\n",
      "First Order: 5:4 | P=(11.07,8.83) n=(1,2) (delta=0.24%)<br>\n",
      "\n",
      "TOI 2076 | TIC 27491137 (nplanets=3):<br>\n",
      "Second Order: 5:3 | P=(35.13,21.02) n=(2,3) (delta=0.29%)\n",
      "\n",
      "TOI 0282 | TIC 29781292 (nplanets=4):<br>\n",
      "First Order: 3:2 | P=(84.26,56.00) n=(3,4) (delta=0.30%)<br>\n",
      "\n",
      "TOI 0406 | TIC 153065527 (nplanets=2):<br>\n",
      "First Order: 2:1 | P=(13.18,6.61) n=(1,2) (delta=0.41%)<br>\n",
      "\n",
      "TOI 0270 | TIC 259377017 (nplanets=3):<br>\n",
      "First Order: 2:1 | P=(11.38,5.66) n=(2,3) (delta=0.52%)<br>\n",
      "\n",
      "TOI 0174 | TIC 425997655 (nplanets=5):<br>\n",
      "First Order: 2:1 | P=(7.91,3.98) n=(1,2) (delta=0.58%)<br>\n",
      "\n",
      "TOI 5520 | TIC 374180079 (nplanets=2):<br>\n",
      "First Order: 4:3 | P=(19.48,14.70) n=(1,2) (delta=0.58%)<br>\n",
      "\n",
      "TOI 0216 | TIC 55652896 (nplanets=2):<br>\n",
      "First Order: 2:1 | P=(34.55,17.39) n=(1,2) (delta=0.64%)<br>\n",
      "\n",
      "TOI 1339 | TIC 269701147 (nplanets=3):<br>\n",
      "First Order: 4:3 | P=(38.35,28.58) n=(2,3) (delta=0.64%)<br>\n",
      "\n",
      "TOI 1670 | TIC 441739020 (nplanets=3):<br>\n",
      "Second Order: 3:1 | P=(123.06,40.75) n=(2,3) (delta=0.66%)\n",
      "\n",
      "TOI 5493 | TIC 468979441 (nplanets=3):<br>\n",
      "Second Order: 5:3 | P=(24.44,14.56) n=(2,3) (delta=0.67%)\n",
      "\n",
      "TOI 6276 | TIC 397362481 (nplanets=2):<br>\n",
      "Second Order: 7:5 | P=(6.21,4.47) n=(1,2) (delta=0.70%)\n",
      "\n",
      "TOI 6054 | TIC 392681545 (nplanets=2):<br>\n",
      "Second Order: 5:3 | P=(12.58,7.49) n=(1,2) (delta=0.74%)\n",
      "\n",
      "TOI 1749 | TIC 233602827 (nplanets=3):<br>\n",
      "First Order: 2:1 | P=(9.04,4.49) n=(2,3) (delta=0.74%)<br>\n",
      "\n",
      "TOI 0663 | TIC 54962195 (nplanets=3):<br>\n",
      "First Order: 3:2 | P=(7.10,4.70) n=(2,3) (delta=0.77%)<br>\n",
      "\n",
      "TOI 0696 | TIC 77156829 (nplanets=3):<br>\n",
      "First Order: 4:3 | P=(4.97,3.69) n=(2,3) (delta=0.80%)<br>\n",
      "\n",
      "TOI 2104 | TIC 367630162 (nplanets=5):<br>\n",
      "Second Order: 5:3 | P=(3.27,1.98) n=(1,2) (delta=0.85%)\n",
      "\n",
      "TOI 4495 | TIC 120826158 (nplanets=2):<br>\n",
      "First Order: 2:1 | P=(5.18,2.57) n=(1,2) (delta=0.86%)<br>\n",
      "\n",
      "TOI 1097 | TIC 360630575 (nplanets=2):<br>\n",
      "First Order: 3:2 | P=(13.90,9.19) n=(1,2) (delta=0.87%)<br>\n",
      "\n",
      "TOI 0700 | TIC 150428135 (nplanets=4):<br>\n",
      "First Order: 4:3 | P=(37.42,27.81) n=(3,4) (delta=0.93%)<br>\n",
      "\n",
      "TOI 0175 | TIC 307210830 (nplanets=3):<br>\n",
      "First Order: 2:1 | P=(7.45,3.69) n=(2,3) (delta=0.94%)<br>\n",
      "\n",
      "TOI 1730 | TIC 318022259 (nplanets=3):<br>\n",
      "First Order: 2:1 | P=(12.57,6.23) n=(2,3) (delta=0.98%)<br>\n",
      "\n"
     ]
    }
   ],
   "source": [
    "for tic in res.tic:\n",
    "    idx = [True if i.split()[4]==str(tic) else False for i in texts]\n",
    "    x = np.array(texts)[idx]\n",
    "    print(x[0] if len(x)>0 else '')"
   ]
  },
  {
   "cell_type": "code",
   "execution_count": 42,
   "id": "d7c5c2c5",
   "metadata": {
    "ExecuteTime": {
     "end_time": "2023-02-20T07:32:03.751302Z",
     "start_time": "2023-02-20T07:32:03.745543Z"
    }
   },
   "outputs": [],
   "source": [
    "res.to_csv('../data/tics_resonance_from_toi.csv')"
   ]
  },
  {
   "cell_type": "code",
   "execution_count": 43,
   "id": "3e980e2f",
   "metadata": {
    "ExecuteTime": {
     "end_time": "2023-02-20T07:32:03.760082Z",
     "start_time": "2023-02-20T07:32:03.752937Z"
    }
   },
   "outputs": [],
   "source": [
    "np.savetxt('../data/tics_resonance_from_toi.txt', res.tic.tolist(), fmt=\"%d\")\n",
    "np.savetxt('../data/tics_resonance_from_toi_1st_order.txt', ttv_1st_order, fmt=\"%d\")\n",
    "np.savetxt('../data/tics_resonance_from_toi_2nd_order.txt', ttv_2nd_order, fmt=\"%d\")"
   ]
  },
  {
   "cell_type": "markdown",
   "id": "20536dd6",
   "metadata": {},
   "source": [
    "## Transit timing database\n",
    "* https://ui.adsabs.harvard.edu/abs/2022ApJS..259...62I/abstract"
   ]
  },
  {
   "cell_type": "code",
   "execution_count": 44,
   "id": "2f54995e",
   "metadata": {
    "ExecuteTime": {
     "end_time": "2023-02-20T07:32:04.274116Z",
     "start_time": "2023-02-20T07:32:03.762154Z"
    }
   },
   "outputs": [
    {
     "data": {
      "text/html": [
       "<div>\n",
       "<style scoped>\n",
       "    .dataframe tbody tr th:only-of-type {\n",
       "        vertical-align: middle;\n",
       "    }\n",
       "\n",
       "    .dataframe tbody tr th {\n",
       "        vertical-align: top;\n",
       "    }\n",
       "\n",
       "    .dataframe thead th {\n",
       "        text-align: right;\n",
       "    }\n",
       "</style>\n",
       "<table border=\"1\" class=\"dataframe\">\n",
       "  <thead>\n",
       "    <tr style=\"text-align: right;\">\n",
       "      <th></th>\n",
       "      <th>System</th>\n",
       "      <th>Orbit number</th>\n",
       "      <th>T_mid</th>\n",
       "      <th>Uncertainty (days)</th>\n",
       "      <th>Time System</th>\n",
       "      <th>#</th>\n",
       "      <th>Reference</th>\n",
       "    </tr>\n",
       "  </thead>\n",
       "  <tbody>\n",
       "    <tr>\n",
       "      <th>0</th>\n",
       "      <td>CoRoT-01</td>\n",
       "      <td>-1412</td>\n",
       "      <td>2.454138e+06</td>\n",
       "      <td>0.000470</td>\n",
       "      <td>BJD</td>\n",
       "      <td>1</td>\n",
       "      <td>2009A&amp;A...506..369B</td>\n",
       "    </tr>\n",
       "    <tr>\n",
       "      <th>1</th>\n",
       "      <td>CoRoT-01</td>\n",
       "      <td>-1411</td>\n",
       "      <td>2.454140e+06</td>\n",
       "      <td>0.000590</td>\n",
       "      <td>BJD</td>\n",
       "      <td>1</td>\n",
       "      <td>2009A&amp;A...506..369B</td>\n",
       "    </tr>\n",
       "    <tr>\n",
       "      <th>2</th>\n",
       "      <td>CoRoT-01</td>\n",
       "      <td>-1410</td>\n",
       "      <td>2.454141e+06</td>\n",
       "      <td>0.000620</td>\n",
       "      <td>BJD</td>\n",
       "      <td>1</td>\n",
       "      <td>2009A&amp;A...506..369B</td>\n",
       "    </tr>\n",
       "    <tr>\n",
       "      <th>3</th>\n",
       "      <td>CoRoT-01</td>\n",
       "      <td>-1409</td>\n",
       "      <td>2.454143e+06</td>\n",
       "      <td>0.000390</td>\n",
       "      <td>BJD</td>\n",
       "      <td>1</td>\n",
       "      <td>2009A&amp;A...506..369B</td>\n",
       "    </tr>\n",
       "    <tr>\n",
       "      <th>4</th>\n",
       "      <td>CoRoT-01</td>\n",
       "      <td>-1408</td>\n",
       "      <td>2.454144e+06</td>\n",
       "      <td>0.001630</td>\n",
       "      <td>BJD</td>\n",
       "      <td>1</td>\n",
       "      <td>2009A&amp;A...506..369B</td>\n",
       "    </tr>\n",
       "    <tr>\n",
       "      <th>...</th>\n",
       "      <td>...</td>\n",
       "      <td>...</td>\n",
       "      <td>...</td>\n",
       "      <td>...</td>\n",
       "      <td>...</td>\n",
       "      <td>...</td>\n",
       "      <td>...</td>\n",
       "    </tr>\n",
       "    <tr>\n",
       "      <th>8662</th>\n",
       "      <td>XO-7</td>\n",
       "      <td>214</td>\n",
       "      <td>2.459407e+06</td>\n",
       "      <td>0.000510</td>\n",
       "      <td>BJD_TDB</td>\n",
       "      <td>1</td>\n",
       "      <td>This work</td>\n",
       "    </tr>\n",
       "    <tr>\n",
       "      <th>8663</th>\n",
       "      <td>XO-7</td>\n",
       "      <td>215</td>\n",
       "      <td>2.459410e+06</td>\n",
       "      <td>0.000467</td>\n",
       "      <td>BJD_TDB</td>\n",
       "      <td>1</td>\n",
       "      <td>This work</td>\n",
       "    </tr>\n",
       "    <tr>\n",
       "      <th>8664</th>\n",
       "      <td>XO-7</td>\n",
       "      <td>216</td>\n",
       "      <td>2.459413e+06</td>\n",
       "      <td>0.000508</td>\n",
       "      <td>BJD_TDB</td>\n",
       "      <td>1</td>\n",
       "      <td>This work</td>\n",
       "    </tr>\n",
       "    <tr>\n",
       "      <th>8665</th>\n",
       "      <td>XO-7</td>\n",
       "      <td>217</td>\n",
       "      <td>2.459415e+06</td>\n",
       "      <td>0.000517</td>\n",
       "      <td>BJD_TDB</td>\n",
       "      <td>1</td>\n",
       "      <td>This work</td>\n",
       "    </tr>\n",
       "    <tr>\n",
       "      <th>8666</th>\n",
       "      <td>XO-7</td>\n",
       "      <td>218</td>\n",
       "      <td>2.459418e+06</td>\n",
       "      <td>0.000462</td>\n",
       "      <td>BJD_TDB</td>\n",
       "      <td>1</td>\n",
       "      <td>This work</td>\n",
       "    </tr>\n",
       "  </tbody>\n",
       "</table>\n",
       "<p>8667 rows × 7 columns</p>\n",
       "</div>"
      ],
      "text/plain": [
       "        System  Orbit number         T_mid  Uncertainty (days) Time System  #  \\\n",
       "0     CoRoT-01         -1412  2.454138e+06            0.000470         BJD  1   \n",
       "1     CoRoT-01         -1411  2.454140e+06            0.000590         BJD  1   \n",
       "2     CoRoT-01         -1410  2.454141e+06            0.000620         BJD  1   \n",
       "3     CoRoT-01         -1409  2.454143e+06            0.000390         BJD  1   \n",
       "4     CoRoT-01         -1408  2.454144e+06            0.001630         BJD  1   \n",
       "...        ...           ...           ...                 ...         ... ..   \n",
       "8662      XO-7           214  2.459407e+06            0.000510     BJD_TDB  1   \n",
       "8663      XO-7           215  2.459410e+06            0.000467     BJD_TDB  1   \n",
       "8664      XO-7           216  2.459413e+06            0.000508     BJD_TDB  1   \n",
       "8665      XO-7           217  2.459415e+06            0.000517     BJD_TDB  1   \n",
       "8666      XO-7           218  2.459418e+06            0.000462     BJD_TDB  1   \n",
       "\n",
       "                Reference  \n",
       "0     2009A&A...506..369B  \n",
       "1     2009A&A...506..369B  \n",
       "2     2009A&A...506..369B  \n",
       "3     2009A&A...506..369B  \n",
       "4     2009A&A...506..369B  \n",
       "...                   ...  \n",
       "8662            This work  \n",
       "8663            This work  \n",
       "8664            This work  \n",
       "8665            This work  \n",
       "8666            This work  \n",
       "\n",
       "[8667 rows x 7 columns]"
      ]
     },
     "execution_count": 44,
     "metadata": {},
     "output_type": "execute_result"
    }
   ],
   "source": [
    "#https://github.com/transit-timing/tt/blob/master/3_database/table4.csv\n",
    "url = \"https://raw.githubusercontent.com/transit-timing/tt/master/3_database/table4.csv\"\n",
    "df2 = pd.read_csv(url)\n",
    "df2"
   ]
  },
  {
   "cell_type": "code",
   "execution_count": null,
   "id": "e2603fba-8b97-4206-acc5-8988345833dc",
   "metadata": {},
   "outputs": [],
   "source": []
  }
 ],
 "metadata": {
  "kernelspec": {
   "display_name": "Python 3 (ipykernel)",
   "language": "python",
   "name": "python3"
  },
  "language_info": {
   "codemirror_mode": {
    "name": "ipython",
    "version": 3
   },
   "file_extension": ".py",
   "mimetype": "text/x-python",
   "name": "python",
   "nbconvert_exporter": "python",
   "pygments_lexer": "ipython3",
   "version": "3.10.12"
  },
  "toc": {
   "base_numbering": 1,
   "nav_menu": {},
   "number_sections": true,
   "sideBar": true,
   "skip_h1_title": false,
   "title_cell": "Table of Contents",
   "title_sidebar": "Contents",
   "toc_cell": false,
   "toc_position": {},
   "toc_section_display": true,
   "toc_window_display": false
  }
 },
 "nbformat": 4,
 "nbformat_minor": 5
}
