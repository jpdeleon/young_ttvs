{
 "cells": [
  {
   "cell_type": "code",
   "execution_count": 1,
   "id": "05f7280f",
   "metadata": {
    "ExecuteTime": {
     "end_time": "2023-02-20T07:32:02.694007Z",
     "start_time": "2023-02-20T07:32:02.690915Z"
    }
   },
   "outputs": [],
   "source": [
    "import os\n",
    "\n",
    "assert os.environ['CONDA_DEFAULT_ENV']=='ttv'"
   ]
  },
  {
   "cell_type": "markdown",
   "id": "832e7198",
   "metadata": {},
   "source": [
    "## TOIs"
   ]
  },
  {
   "cell_type": "code",
   "execution_count": 2,
   "id": "8c97dbb5",
   "metadata": {
    "ExecuteTime": {
     "end_time": "2023-02-20T07:32:03.431114Z",
     "start_time": "2023-02-20T07:32:02.695842Z"
    }
   },
   "outputs": [],
   "source": [
    "import sys\n",
    "sys.path.insert(0, '../code')\n",
    "from utils import *"
   ]
  },
  {
   "cell_type": "code",
   "execution_count": 3,
   "id": "464c3a0a",
   "metadata": {
    "ExecuteTime": {
     "end_time": "2023-02-20T07:32:03.521634Z",
     "start_time": "2023-02-20T07:32:03.433907Z"
    }
   },
   "outputs": [
    {
     "name": "stdout",
     "output_type": "stream",
     "text": [
      "Downloading TOIs from: https://exofop.ipac.caltech.edu/tess/download_toi.php?sort=toi&output=csv\n",
      "Saved:  TOIs with TFPWG disposition==FP are removed.\n"
     ]
    },
    {
     "data": {
      "text/html": [
       "<div>\n",
       "<style scoped>\n",
       "    .dataframe tbody tr th:only-of-type {\n",
       "        vertical-align: middle;\n",
       "    }\n",
       "\n",
       "    .dataframe tbody tr th {\n",
       "        vertical-align: top;\n",
       "    }\n",
       "\n",
       "    .dataframe thead th {\n",
       "        text-align: right;\n",
       "    }\n",
       "</style>\n",
       "<table border=\"1\" class=\"dataframe\">\n",
       "  <thead>\n",
       "    <tr style=\"text-align: right;\">\n",
       "      <th></th>\n",
       "      <th>TIC ID</th>\n",
       "      <th>TOI</th>\n",
       "      <th>Previous CTOI</th>\n",
       "      <th>Master</th>\n",
       "      <th>SG1A</th>\n",
       "      <th>SG1B</th>\n",
       "      <th>SG2</th>\n",
       "      <th>SG3</th>\n",
       "      <th>SG4</th>\n",
       "      <th>SG5</th>\n",
       "      <th>...</th>\n",
       "      <th>Stellar Radius (R_Sun) err</th>\n",
       "      <th>Stellar Metallicity</th>\n",
       "      <th>Stellar Metallicity err</th>\n",
       "      <th>Stellar Mass (M_Sun)</th>\n",
       "      <th>Stellar Mass (M_Sun) err</th>\n",
       "      <th>Sectors</th>\n",
       "      <th>Date TOI Alerted (UTC)</th>\n",
       "      <th>Date TOI Updated (UTC)</th>\n",
       "      <th>Date Modified</th>\n",
       "      <th>Comments</th>\n",
       "    </tr>\n",
       "  </thead>\n",
       "  <tbody>\n",
       "    <tr>\n",
       "      <th>7120</th>\n",
       "      <td>294350792</td>\n",
       "      <td>6956.01</td>\n",
       "      <td>NaN</td>\n",
       "      <td>3</td>\n",
       "      <td>4</td>\n",
       "      <td>3</td>\n",
       "      <td>3</td>\n",
       "      <td>1</td>\n",
       "      <td>4</td>\n",
       "      <td>4</td>\n",
       "      <td>...</td>\n",
       "      <td>NaN</td>\n",
       "      <td>-0.096000</td>\n",
       "      <td>0.038000</td>\n",
       "      <td>1.470</td>\n",
       "      <td>NaN</td>\n",
       "      <td>33,43,44,45,71,72</td>\n",
       "      <td>2024-02-29</td>\n",
       "      <td>2024-02-29</td>\n",
       "      <td>2024-03-03 12:12:56</td>\n",
       "      <td>found in faint-star QLP search</td>\n",
       "    </tr>\n",
       "    <tr>\n",
       "      <th>7121</th>\n",
       "      <td>30853990</td>\n",
       "      <td>6957.01</td>\n",
       "      <td>NaN</td>\n",
       "      <td>1</td>\n",
       "      <td>4</td>\n",
       "      <td>1</td>\n",
       "      <td>1</td>\n",
       "      <td>1</td>\n",
       "      <td>4</td>\n",
       "      <td>4</td>\n",
       "      <td>...</td>\n",
       "      <td>0.051297</td>\n",
       "      <td>-0.148104</td>\n",
       "      <td>0.054225</td>\n",
       "      <td>0.940</td>\n",
       "      <td>0.113904</td>\n",
       "      <td>1,2,3,4,5,6,7,8,10,11,12,13,61,62,64,65,66,67,68</td>\n",
       "      <td>2024-03-14</td>\n",
       "      <td>2024-03-14</td>\n",
       "      <td>2024-03-16 12:15:27</td>\n",
       "      <td>some asymmetry in some transits; only 4 events</td>\n",
       "    </tr>\n",
       "    <tr>\n",
       "      <th>7122</th>\n",
       "      <td>219108677</td>\n",
       "      <td>6958.01</td>\n",
       "      <td>NaN</td>\n",
       "      <td>3</td>\n",
       "      <td>4</td>\n",
       "      <td>3</td>\n",
       "      <td>3</td>\n",
       "      <td>1</td>\n",
       "      <td>4</td>\n",
       "      <td>4</td>\n",
       "      <td>...</td>\n",
       "      <td>NaN</td>\n",
       "      <td>NaN</td>\n",
       "      <td>NaN</td>\n",
       "      <td>0.690</td>\n",
       "      <td>NaN</td>\n",
       "      <td>74</td>\n",
       "      <td>2024-03-14</td>\n",
       "      <td>2024-03-14</td>\n",
       "      <td>2024-03-16 12:15:27</td>\n",
       "      <td>Gaia DR3 RV error ~5 km/s</td>\n",
       "    </tr>\n",
       "    <tr>\n",
       "      <th>7123</th>\n",
       "      <td>230013442</td>\n",
       "      <td>6959.01</td>\n",
       "      <td>NaN</td>\n",
       "      <td>3</td>\n",
       "      <td>4</td>\n",
       "      <td>3</td>\n",
       "      <td>3</td>\n",
       "      <td>1</td>\n",
       "      <td>4</td>\n",
       "      <td>4</td>\n",
       "      <td>...</td>\n",
       "      <td>NaN</td>\n",
       "      <td>NaN</td>\n",
       "      <td>NaN</td>\n",
       "      <td>0.890</td>\n",
       "      <td>NaN</td>\n",
       "      <td>74</td>\n",
       "      <td>2024-03-14</td>\n",
       "      <td>2024-03-14</td>\n",
       "      <td>2024-03-16 12:15:27</td>\n",
       "      <td>NaN</td>\n",
       "    </tr>\n",
       "    <tr>\n",
       "      <th>7124</th>\n",
       "      <td>204496071</td>\n",
       "      <td>6960.01</td>\n",
       "      <td>NaN</td>\n",
       "      <td>3</td>\n",
       "      <td>4</td>\n",
       "      <td>3</td>\n",
       "      <td>3</td>\n",
       "      <td>1</td>\n",
       "      <td>4</td>\n",
       "      <td>4</td>\n",
       "      <td>...</td>\n",
       "      <td>0.054038</td>\n",
       "      <td>NaN</td>\n",
       "      <td>NaN</td>\n",
       "      <td>0.762</td>\n",
       "      <td>0.093680</td>\n",
       "      <td>28,68</td>\n",
       "      <td>2024-03-14</td>\n",
       "      <td>2024-03-14</td>\n",
       "      <td>2024-03-16 12:15:27</td>\n",
       "      <td>V-shaped; double star in Gaia</td>\n",
       "    </tr>\n",
       "  </tbody>\n",
       "</table>\n",
       "<p>5 rows × 62 columns</p>\n",
       "</div>"
      ],
      "text/plain": [
       "         TIC ID      TOI Previous CTOI  Master  SG1A  SG1B  SG2  SG3  SG4  \\\n",
       "7120  294350792  6956.01           NaN       3     4     3    3    1    4   \n",
       "7121   30853990  6957.01           NaN       1     4     1    1    1    4   \n",
       "7122  219108677  6958.01           NaN       3     4     3    3    1    4   \n",
       "7123  230013442  6959.01           NaN       3     4     3    3    1    4   \n",
       "7124  204496071  6960.01           NaN       3     4     3    3    1    4   \n",
       "\n",
       "      SG5  ...  Stellar Radius (R_Sun) err  Stellar Metallicity  \\\n",
       "7120    4  ...                         NaN            -0.096000   \n",
       "7121    4  ...                    0.051297            -0.148104   \n",
       "7122    4  ...                         NaN                  NaN   \n",
       "7123    4  ...                         NaN                  NaN   \n",
       "7124    4  ...                    0.054038                  NaN   \n",
       "\n",
       "      Stellar Metallicity err  Stellar Mass (M_Sun)  Stellar Mass (M_Sun) err  \\\n",
       "7120                 0.038000                 1.470                       NaN   \n",
       "7121                 0.054225                 0.940                  0.113904   \n",
       "7122                      NaN                 0.690                       NaN   \n",
       "7123                      NaN                 0.890                       NaN   \n",
       "7124                      NaN                 0.762                  0.093680   \n",
       "\n",
       "                                               Sectors Date TOI Alerted (UTC)  \\\n",
       "7120                                 33,43,44,45,71,72             2024-02-29   \n",
       "7121  1,2,3,4,5,6,7,8,10,11,12,13,61,62,64,65,66,67,68             2024-03-14   \n",
       "7122                                                74             2024-03-14   \n",
       "7123                                                74             2024-03-14   \n",
       "7124                                             28,68             2024-03-14   \n",
       "\n",
       "     Date TOI Updated (UTC)        Date Modified  \\\n",
       "7120             2024-02-29  2024-03-03 12:12:56   \n",
       "7121             2024-03-14  2024-03-16 12:15:27   \n",
       "7122             2024-03-14  2024-03-16 12:15:27   \n",
       "7123             2024-03-14  2024-03-16 12:15:27   \n",
       "7124             2024-03-14  2024-03-16 12:15:27   \n",
       "\n",
       "                                            Comments  \n",
       "7120                  found in faint-star QLP search  \n",
       "7121  some asymmetry in some transits; only 4 events  \n",
       "7122                       Gaia DR3 RV error ~5 km/s  \n",
       "7123                                             NaN  \n",
       "7124                   V-shaped; double star in Gaia  \n",
       "\n",
       "[5 rows x 62 columns]"
      ]
     },
     "execution_count": 3,
     "metadata": {},
     "output_type": "execute_result"
    }
   ],
   "source": [
    "df = get_tois(clobber=False)\n",
    "df.tail()"
   ]
  },
  {
   "cell_type": "raw",
   "id": "6e425a48",
   "metadata": {
    "ExecuteTime": {
     "end_time": "2023-02-09T01:50:30.994853Z",
     "start_time": "2023-02-09T01:50:30.984695Z"
    }
   },
   "source": [
    "#how many multis?\n",
    "tois.Comments.isin(['multi']).sum()"
   ]
  },
  {
   "cell_type": "code",
   "execution_count": 4,
   "id": "9454ab33",
   "metadata": {
    "ExecuteTime": {
     "end_time": "2023-02-20T07:32:03.528142Z",
     "start_time": "2023-02-20T07:32:03.523479Z"
    },
    "scrolled": true
   },
   "outputs": [
    {
     "data": {
      "text/plain": [
       "5845"
      ]
     },
     "execution_count": 4,
     "metadata": {},
     "output_type": "execute_result"
    }
   ],
   "source": [
    "tics = df['TIC ID'].unique()\n",
    "len(tics)"
   ]
  },
  {
   "cell_type": "code",
   "execution_count": 5,
   "id": "7dbb723a",
   "metadata": {
    "ExecuteTime": {
     "end_time": "2023-02-20T07:32:03.534953Z",
     "start_time": "2023-02-20T07:32:03.530017Z"
    },
    "scrolled": true
   },
   "outputs": [
    {
     "data": {
      "text/plain": [
       "6104"
      ]
     },
     "execution_count": 5,
     "metadata": {},
     "output_type": "execute_result"
    }
   ],
   "source": [
    "len(df['TOI'].unique())"
   ]
  },
  {
   "cell_type": "code",
   "execution_count": 6,
   "id": "7dd14f38",
   "metadata": {
    "ExecuteTime": {
     "end_time": "2023-02-20T07:32:03.542759Z",
     "start_time": "2023-02-20T07:32:03.536644Z"
    }
   },
   "outputs": [
    {
     "data": {
      "text/plain": [
       "TIC ID\n",
       "425997655    5\n",
       "367630162    5\n",
       "260647166    4\n",
       "29781292     4\n",
       "230127302    4\n",
       "            ..\n",
       "231937059    1\n",
       "157572174    1\n",
       "419029830    1\n",
       "157655504    1\n",
       "204496071    1\n",
       "Name: count, Length: 5845, dtype: int64"
      ]
     },
     "execution_count": 6,
     "metadata": {},
     "output_type": "execute_result"
    }
   ],
   "source": [
    "nsys = df['TIC ID'].value_counts()\n",
    "nsys"
   ]
  },
  {
   "cell_type": "code",
   "execution_count": 7,
   "id": "7efd1369",
   "metadata": {
    "ExecuteTime": {
     "end_time": "2023-02-20T07:32:03.547945Z",
     "start_time": "2023-02-20T07:32:03.544643Z"
    }
   },
   "outputs": [
    {
     "name": "stdout",
     "output_type": "stream",
     "text": [
      "203\n"
     ]
    }
   ],
   "source": [
    "tics_multis = list(nsys[nsys>1].index)\n",
    "print(len(tics_multis))"
   ]
  },
  {
   "cell_type": "markdown",
   "id": "ed6c7339",
   "metadata": {},
   "source": [
    "## TOI 1136 (Dai+2023)\n",
    "First order MMR: 3:2, 2:1, 3:2, 7:5, and 3:2"
   ]
  },
  {
   "cell_type": "code",
   "execution_count": 8,
   "id": "50167d1f",
   "metadata": {
    "ExecuteTime": {
     "end_time": "2023-02-20T07:32:03.556218Z",
     "start_time": "2023-02-20T07:32:03.549682Z"
    }
   },
   "outputs": [
    {
     "data": {
      "text/plain": [
       "1131     6.258792\n",
       "1130    12.518728\n",
       "1133    18.804756\n",
       "1132    26.317954\n",
       "Name: Period (days), dtype: float64"
      ]
     },
     "execution_count": 8,
     "metadata": {},
     "output_type": "execute_result"
    }
   ],
   "source": [
    "col = 'Period (days)'\n",
    "d = df[df['TIC ID']==142276270].sort_values(by=col)\n",
    "d[col]"
   ]
  },
  {
   "cell_type": "code",
   "execution_count": 9,
   "id": "7f157354",
   "metadata": {
    "ExecuteTime": {
     "end_time": "2023-02-20T07:32:03.563467Z",
     "start_time": "2023-02-20T07:32:03.559796Z"
    }
   },
   "outputs": [
    {
     "data": {
      "text/plain": [
       "[4.17278, 6.25725, 12.51937, 18.7992, 26.3162, 39.5387]"
      ]
     },
     "execution_count": 9,
     "metadata": {},
     "output_type": "execute_result"
    }
   ],
   "source": [
    "# add two outer planets\n",
    "periods = [4.17278, 6.25725, 12.51937, 18.7992, 26.3162, 39.5387]\n",
    "periods"
   ]
  },
  {
   "cell_type": "markdown",
   "id": "de6ce933",
   "metadata": {},
   "source": [
    "https://arxiv.org/abs/1208.3312"
   ]
  },
  {
   "cell_type": "markdown",
   "id": "25399ab5",
   "metadata": {},
   "source": [
    "$$\n",
    "\\frac{p'}{p} \\sim \\frac{j}{j-1}\n",
    "$$"
   ]
  },
  {
   "cell_type": "markdown",
   "id": "3ee8834e",
   "metadata": {},
   "source": [
    "proximity to resonance:\n",
    "$$\n",
    "\\Delta = \\frac{p'}{p} \\frac{j-1}{j} - 1\n",
    "$$"
   ]
  },
  {
   "cell_type": "code",
   "execution_count": 10,
   "id": "30ea6554",
   "metadata": {
    "ExecuteTime": {
     "end_time": "2023-02-20T07:32:03.573126Z",
     "start_time": "2023-02-20T07:32:03.565116Z"
    },
    "scrolled": true
   },
   "outputs": [
    {
     "data": {
      "text/plain": [
       "[(1, 2), (2, 3), (3, 4), (4, 5), (5, 6), (6, 7), (7, 8), (8, 9)]"
      ]
     },
     "execution_count": 10,
     "metadata": {},
     "output_type": "execute_result"
    }
   ],
   "source": [
    "get_orbit_pairs(10, order=1)"
   ]
  },
  {
   "cell_type": "code",
   "execution_count": 11,
   "id": "4daae78e",
   "metadata": {
    "ExecuteTime": {
     "end_time": "2023-02-20T07:32:03.580221Z",
     "start_time": "2023-02-20T07:32:03.574850Z"
    }
   },
   "outputs": [
    {
     "data": {
      "text/plain": [
       "(['3:2 | P=(4.17,6.26) (delta=0.03%)',\n",
       "  '2:1 | P=(6.26,12.52) (delta=0.04%)',\n",
       "  '3:2 | P=(12.52,18.80) (delta=0.11%)',\n",
       "  '3:2 | P=(26.32,39.54) (delta=0.16%)'],\n",
       " [0.0003067499364933779,\n",
       "  0.0003891485876383882,\n",
       "  0.001072737685682057,\n",
       "  0.0016314412161837488])"
      ]
     },
     "execution_count": 11,
     "metadata": {},
     "output_type": "execute_result"
    }
   ],
   "source": [
    "resonances_1st_order, deltas = get_resonant_pairs(periods, order=1, tol=0.01)\n",
    "resonances_1st_order, deltas"
   ]
  },
  {
   "cell_type": "code",
   "execution_count": 12,
   "id": "184d159b",
   "metadata": {
    "ExecuteTime": {
     "end_time": "2023-02-20T07:32:03.586358Z",
     "start_time": "2023-02-20T07:32:03.581878Z"
    }
   },
   "outputs": [
    {
     "data": {
      "text/plain": [
       "(['6:4 | P=(4.17,6.26) (delta=0.03%)',\n",
       "  '4:2 | P=(6.26,12.52) (delta=0.04%)',\n",
       "  '6:4 | P=(12.52,18.80) (delta=0.11%)',\n",
       "  '7:5 | P=(18.80,26.32) (delta=0.01%)',\n",
       "  '6:4 | P=(26.32,39.54) (delta=0.16%)'],\n",
       " [0.0003067499364933779,\n",
       "  0.0003891485876383882,\n",
       "  0.001072737685682057,\n",
       "  0.00010182804131475542,\n",
       "  0.0016314412161837488])"
      ]
     },
     "execution_count": 12,
     "metadata": {},
     "output_type": "execute_result"
    }
   ],
   "source": [
    "resonances_2nd_order, deltas = get_resonant_pairs(periods, order=2, tol=0.01)\n",
    "resonances_2nd_order, deltas"
   ]
  },
  {
   "cell_type": "code",
   "execution_count": 14,
   "id": "2fc83841-3d7b-4545-a549-b7c2aa9ae9a9",
   "metadata": {},
   "outputs": [
    {
     "data": {
      "text/plain": [
       "array([ 1, 27, 67])"
      ]
     },
     "execution_count": 14,
     "metadata": {},
     "output_type": "execute_result"
    }
   ],
   "source": [
    "from tess_stars2px import tess_stars2px_function_entry\n",
    "\n",
    "ticid = 231663901\n",
    "data_json = get_tfop_info(f\"TIC {ticid}\")\n",
    "ra = float(data_json['coordinates']['ra'])\n",
    "dec = float(data_json['coordinates']['dec'])\n",
    "outID, outEclipLong, outEclipLat, outSec, outCam, outCcd, \\\n",
    "            outColPix, outRowPix, scinfo = tess_stars2px_function_entry(\n",
    "                    ticid, ra, dec)\n",
    "outSec"
   ]
  },
  {
   "cell_type": "markdown",
   "id": "7f523bfb",
   "metadata": {},
   "source": [
    "## All TOIs"
   ]
  },
  {
   "cell_type": "code",
   "execution_count": 15,
   "id": "980dd67f",
   "metadata": {
    "ExecuteTime": {
     "end_time": "2023-02-20T07:32:03.687106Z",
     "start_time": "2023-02-20T07:32:03.588197Z"
    }
   },
   "outputs": [
    {
     "data": {
      "application/vnd.jupyter.widget-view+json": {
       "model_id": "7564f190ad9d4eac90bf5a9d72e00872",
       "version_major": 2,
       "version_minor": 0
      },
      "text/plain": [
       "  0%|          | 0/203 [00:00<?, ?it/s]"
      ]
     },
     "metadata": {},
     "output_type": "display_data"
    },
    {
     "name": "stdout",
     "output_type": "stream",
     "text": [
      "TOI-0174 | [TIC-425997655](https://exofop.ipac.caltech.edu/tess/target.php?id=425997655) (nplanets=5):<br>\n",
      "First Order: 2:1 | P=(3.98,7.91) (delta=0.58%)<br>\n",
      "TESS sectors=[ 1  2  3  4 11 29 30 31 34 64 68 69]<br>\n",
      "\n",
      "TOI-2104 | [TIC-367630162](https://exofop.ipac.caltech.edu/tess/target.php?id=367630162) (nplanets=5):<br>\n",
      "Second Order: 5:3 | P=(1.98,3.27) (delta=0.85%)\n",
      "TESS sectors=[14 19 20 26 40 47 53 73 74]<br>\n",
      "\n",
      "TOI-0282 | [TIC-29781292](https://exofop.ipac.caltech.edu/tess/target.php?id=29781292) (nplanets=4):<br>\n",
      "First Order: 3:2 | P=(56.00,84.26) (delta=0.30%)<br>\n",
      "TESS sectors=[ 1  2  3  4  5  6  7  8  9 10 11 12 13 27 28 29 30 31 33 34 35 36 37 38\n",
      " 39 61 62 63 64 65 66 67 68 69]<br>\n",
      "\n",
      "TOI-0700 | [TIC-150428135](https://exofop.ipac.caltech.edu/tess/target.php?id=150428135) (nplanets=4):<br>\n",
      "First Order: 4:3 | P=(27.81,37.42) (delta=0.93%)<br>\n",
      "TESS sectors=[ 1  3  4  5  6  7  8  9 10 11 13 27 28 30 31 33 34 35 36 37 38 61 62 63\n",
      " 64 65 66 68 69]<br>\n",
      "\n",
      "TOI-1136 | [TIC-142276270](https://exofop.ipac.caltech.edu/tess/target.php?id=142276270) (nplanets=4):<br>\n",
      "First Order: 2:1 | P=(6.26,12.52) (delta=0.01%) 3:2 | P=(12.52,18.80) (delta=0.14%)<br>\n",
      "TESS sectors=[14 15 21 22 41 48 75]<br>\n",
      "\n",
      "TOI-0696 | [TIC-77156829](https://exofop.ipac.caltech.edu/tess/target.php?id=77156829) (nplanets=3):<br>\n",
      "First Order: 4:3 | P=(3.69,4.97) (delta=0.80%)<br>\n",
      "TESS sectors=[ 4  5 31 32]<br>\n",
      "\n",
      "TOI-2269 | [TIC-441798995](https://exofop.ipac.caltech.edu/tess/target.php?id=441798995) (nplanets=3):<br>\n",
      "First Order: 2:1 | P=(1.42,2.84) (delta=0.00%)<br>\n",
      "TESS sectors=[14 15 16 17 18 19 20 21 22 23 24 25 26 40 41 47 48 49 50 51 52 53 54 55\n",
      " 56 57 58 59 60 73 74 75 76 77 78 79 80 81 82 83]<br>\n",
      "\n",
      "TOI-1730 | [TIC-318022259](https://exofop.ipac.caltech.edu/tess/target.php?id=318022259) (nplanets=3):<br>\n",
      "First Order: 2:1 | P=(6.23,12.57) (delta=0.98%)<br>\n",
      "TESS sectors=[20 47 60]<br>\n",
      "\n",
      "TOI-0175 | [TIC-307210830](https://exofop.ipac.caltech.edu/tess/target.php?id=307210830) (nplanets=3):<br>\n",
      "First Order: 2:1 | P=(3.69,7.45) (delta=0.94%)<br>\n",
      "TESS sectors=[ 2  5  8  9 10 11 12 28 29 32 35 36 37 38 39 61 62 63 64 65 69]<br>\n",
      "\n",
      "TOI-0396 | [TIC-178155732](https://exofop.ipac.caltech.edu/tess/target.php?id=178155732) (nplanets=3):<br>\n",
      "Second Order: 5:3 | P=(3.59,5.97) (delta=0.03%)\n",
      "TESS sectors=[ 3  4 30 31]<br>\n",
      "\n"
     ]
    },
    {
     "name": "stderr",
     "output_type": "stream",
     "text": [
      "/home/jp/github/research/project/young_ttvs/notebooks/../code/utils.py:317: RuntimeWarning: divide by zero encountered in double_scalars\n",
      "  delta = abs((Pout/Pin)*(i/j) - 1)\n"
     ]
    },
    {
     "name": "stdout",
     "output_type": "stream",
     "text": [
      "TOI-2267 | [TIC-459837008](https://exofop.ipac.caltech.edu/tess/target.php?id=459837008) (nplanets=3):<br>\n",
      "First Order: 9:8 | P=(2.03,2.29) (delta=0.02%)<br>\n",
      "TESS sectors=[19 20 25 26 40 52 53 59 60 73 79]<br>\n",
      "\n",
      "TOI-0663 | [TIC-54962195](https://exofop.ipac.caltech.edu/tess/target.php?id=54962195) (nplanets=3):<br>\n",
      "First Order: 3:2 | P=(4.70,7.10) (delta=0.76%)<br>\n",
      "TESS sectors=[ 9 35 62]<br>\n",
      "\n",
      "TOI-1749 | [TIC-233602827](https://exofop.ipac.caltech.edu/tess/target.php?id=233602827) (nplanets=3):<br>\n",
      "First Order: 2:1 | P=(4.49,9.04) (delta=0.74%)<br>\n",
      "TESS sectors=[14 15 16 17 18 19 20 21 23 24 25 26 40 41 47 48 49 50 51 52 53 54 55 57\n",
      " 58 59 60 74 77 78 79 80 81 82]<br>\n",
      "\n",
      "TOI-0270 | [TIC-259377017](https://exofop.ipac.caltech.edu/tess/target.php?id=259377017) (nplanets=3):<br>\n",
      "First Order: 2:1 | P=(5.66,11.38) (delta=0.52%)<br>\n",
      "TESS sectors=[ 3  4  5 30 32]<br>\n",
      "\n",
      "TOI-6276 | [TIC-397362481](https://exofop.ipac.caltech.edu/tess/target.php?id=397362481) (nplanets=3):<br>\n",
      "Second Order: 7:5 | P=(4.47,6.21) (delta=0.70%)\n",
      "TESS sectors=[63 64]<br>\n",
      "\n",
      "TOI-5493 | [TIC-468979441](https://exofop.ipac.caltech.edu/tess/target.php?id=468979441) (nplanets=3):<br>\n",
      "Second Order: 5:3 | P=(14.56,24.44) (delta=0.67%)\n",
      "TESS sectors=[ 7 34 44 45 46 61 72]<br>\n",
      "\n",
      "TOI-1339 | [TIC-269701147](https://exofop.ipac.caltech.edu/tess/target.php?id=269701147) (nplanets=3):<br>\n",
      "First Order: 4:3 | P=(28.58,38.35) (delta=0.64%)<br>\n",
      "TESS sectors=[14 15 16 17 18 19 21 22 24 25 41 48 49 51 52 55 56 58 59 60 73 75 76 77\n",
      " 78 79 82 83]<br>\n",
      "\n",
      "TOI-2076 | [TIC-27491137](https://exofop.ipac.caltech.edu/tess/target.php?id=27491137) (nplanets=3):<br>\n",
      "Second Order: 5:3 | P=(21.02,35.13) (delta=0.29%)\n",
      "TESS sectors=[16 23 50 77]<br>\n",
      "\n",
      "TOI-1670 | [TIC-441739020](https://exofop.ipac.caltech.edu/tess/target.php?id=441739020) (nplanets=3):<br>\n",
      "Second Order: 3:1 | P=(40.75,123.06) (delta=0.66%)\n",
      "TESS sectors=[14 15 16 18 19 20 21 22 23 24 25 26 40 41 47 48 49 50 51 52 53 55 56 57\n",
      " 58 59 60 73 74 75 76 77 78 79 80 81 82 83]<br>\n",
      "\n",
      "TOI-4647 | [TIC-303204165](https://exofop.ipac.caltech.edu/tess/target.php?id=303204165) (nplanets=2):<br>\n",
      "First Order: 5:4 | P=(8.83,11.07) (delta=0.24%)<br>\n",
      "TESS sectors=[42 43 57 70]<br>\n",
      "\n",
      "TOI-1097 | [TIC-360630575](https://exofop.ipac.caltech.edu/tess/target.php?id=360630575) (nplanets=2):<br>\n",
      "First Order: 3:2 | P=(9.19,13.90) (delta=0.87%)<br>\n",
      "TESS sectors=[11 12 38 39 65]<br>\n",
      "\n",
      "TOI-4323 | [TIC-143022742](https://exofop.ipac.caltech.edu/tess/target.php?id=143022742) (nplanets=2):<br>\n",
      "First Order: 3:2 | P=(14.68,21.97) (delta=0.21%)<br>\n",
      "TESS sectors=[ 4 31]<br>\n",
      "\n",
      "TOI-4495 | [TIC-120826158](https://exofop.ipac.caltech.edu/tess/target.php?id=120826158) (nplanets=2):<br>\n",
      "First Order: 2:1 | P=(2.57,5.18) (delta=0.86%)<br>\n",
      "TESS sectors=[14 40 41 53 54 80 81]<br>\n",
      "\n",
      "TOI-6054 | [TIC-392681545](https://exofop.ipac.caltech.edu/tess/target.php?id=392681545) (nplanets=2):<br>\n",
      "Second Order: 5:3 | P=(7.49,12.58) (delta=0.74%)\n",
      "TESS sectors=[19 59]<br>\n",
      "\n",
      "TOI-6022 | [TIC-455947620](https://exofop.ipac.caltech.edu/tess/target.php?id=455947620) (nplanets=2):<br>\n",
      "First Order: 5:4 | P=(1.55,1.93) (delta=0.19%)<br>\n",
      "TESS sectors=[16 17 24 57 78]<br>\n",
      "\n",
      "TOI-0406 | [TIC-153065527](https://exofop.ipac.caltech.edu/tess/target.php?id=153065527) (nplanets=2):<br>\n",
      "First Order: 2:1 | P=(6.61,13.18) (delta=0.41%)<br>\n",
      "TESS sectors=[ 3  4 30 31]<br>\n",
      "\n",
      "TOI-0216 | [TIC-55652896](https://exofop.ipac.caltech.edu/tess/target.php?id=55652896) (nplanets=2):<br>\n",
      "First Order: 2:1 | P=(17.39,34.55) (delta=0.64%)<br>\n",
      "TESS sectors=[ 1  2  3  4  5  6  7  8  9 11 12 13 27 28 29 30 31 32 33 34 35 36 37 38\n",
      " 39 61 62 63 64 65 66 67 68 69]<br>\n",
      "\n",
      "TOI-0707 | [TIC-167342439](https://exofop.ipac.caltech.edu/tess/target.php?id=167342439) (nplanets=2):<br>\n",
      "Second Order: 3:1 | P=(17.48,52.80) (delta=0.71%)\n",
      "TESS sectors=[ 1  2  3  4  5  6  7  8  9 11 12 13 28 29 30 31 32 33 34 35 36 38 39 61\n",
      " 62 64 65 66 67 69]<br>\n",
      "\n",
      "TOI-6109 | [TIC-384984325](https://exofop.ipac.caltech.edu/tess/target.php?id=384984325) (nplanets=2):<br>\n",
      "First Order: 3:2 | P=(5.70,8.54) (delta=0.05%)<br>\n",
      "TESS sectors=[18 58]<br>\n",
      "\n",
      "TOI-6265 | [TIC-344927749](https://exofop.ipac.caltech.edu/tess/target.php?id=344927749) (nplanets=2):<br>\n",
      "Second Order: 7:5 | P=(4.18,5.79) (delta=0.98%)\n",
      "TESS sectors=[ 8 35 45 46 62 72]<br>\n",
      "\n",
      "TOI-1446 | [TIC-294471966](https://exofop.ipac.caltech.edu/tess/target.php?id=294471966) (nplanets=2):<br>\n",
      "Second Order: 7:5 | P=(4.51,6.32) (delta=0.14%)\n",
      "TESS sectors=[14 15 16 41 54 55 56 75 76 81 82 83]<br>\n",
      "\n",
      "TOI-5520 | [TIC-374180079](https://exofop.ipac.caltech.edu/tess/target.php?id=374180079) (nplanets=2):<br>\n",
      "First Order: 4:3 | P=(14.70,19.48) (delta=0.58%)<br>\n",
      "TESS sectors=[35 45 46 62 72]<br>\n",
      "\n"
     ]
    }
   ],
   "source": [
    "from tqdm.notebook import tqdm\n",
    "\n",
    "ttv_1st_order = []       # commensurability in 1 planet pair \n",
    "ttv_2nd_order = []\n",
    "ttv_chain = []           # more than 1 planet pair\n",
    "deltas1 = []\n",
    "deltas2 = []\n",
    "texts = []\n",
    "sectors = []\n",
    "for tic in tqdm(tics_multis):\n",
    "    dd = df[df['TIC ID']==tic].squeeze()\n",
    "    periods = dd[\"Period (days)\"].values\n",
    "    Nplanets = len(periods)\n",
    "    toi = str(dd.iloc[0].TOI).split('.')[0]\n",
    "    \n",
    "    resonances_1st_order, delta1 = get_resonant_pairs(periods, order=1, tol=0.01);\n",
    "    resonances_2nd_order, delta2 = get_resonant_pairs(periods, order=2, tol=0.01);\n",
    "    msg = f\"TOI-{str(toi).zfill(4)} | [TIC-{tic}](https://exofop.ipac.caltech.edu/tess/target.php?id={tic}) (nplanets={Nplanets}):<br>\\n\"\n",
    "    show = False\n",
    "    if len(resonances_1st_order)>=1:\n",
    "        msg += f\"First Order: {' '.join(resonances_1st_order)}<br>\\n\"\n",
    "        ttv_1st_order.append(tic)\n",
    "        deltas1.append(min(delta1))\n",
    "        if len(resonances_1st_order)>=2:\n",
    "            ttv_chain.append(tic)         \n",
    "        show = True\n",
    "    if len(resonances_2nd_order)>=1:\n",
    "        if len(resonances_1st_order)>=1:\n",
    "            i = int(resonances_1st_order[0].split(':')[0])\n",
    "            j = int(resonances_2nd_order[0].split(':')[0])\n",
    "            if j/i!=2:\n",
    "                msg += f\"Second Order: {' '.join(resonances_2nd_order)}\\n\"\n",
    "                ttv_2nd_order.append(tic)\n",
    "                deltas2.append(min(delta2))\n",
    "                show = True\n",
    "        else:\n",
    "            msg += f\"Second Order: {' '.join(resonances_2nd_order)}\\n\"\n",
    "            ttv_2nd_order.append(tic)\n",
    "            deltas2.append(min(delta2))\n",
    "            show = True\n",
    "\n",
    "    # check if observed by TESS\n",
    "    if tic is not None:\n",
    "        data_json = get_tfop_info(f\"TIC {tic}\")\n",
    "        ra = float(data_json['coordinates']['ra'])\n",
    "        dec = float(data_json['coordinates']['dec'])\n",
    "        outID, outEclipLong, outEclipLat, outSec, outCam, outCcd, \\\n",
    "                    outColPix, outRowPix, scinfo = tess_stars2px_function_entry(\n",
    "                            tic, ra, dec)\n",
    "        if len(outSec)>0:\n",
    "            msg += f\"TESS sectors={outSec}<br>\\n\"\n",
    "            \n",
    "    if show:\n",
    "        print(msg)\n",
    "        texts.append(msg)"
   ]
  },
  {
   "cell_type": "code",
   "execution_count": 16,
   "id": "9b3c16c7",
   "metadata": {
    "ExecuteTime": {
     "end_time": "2023-02-20T07:32:03.691926Z",
     "start_time": "2023-02-20T07:32:03.688774Z"
    }
   },
   "outputs": [
    {
     "data": {
      "text/plain": [
       "(22, 10)"
      ]
     },
     "execution_count": 16,
     "metadata": {},
     "output_type": "execute_result"
    }
   ],
   "source": [
    "len(ttv_1st_order), len(ttv_2nd_order)"
   ]
  },
  {
   "cell_type": "code",
   "execution_count": 17,
   "id": "2512d2f4",
   "metadata": {
    "ExecuteTime": {
     "end_time": "2023-02-20T07:32:03.706656Z",
     "start_time": "2023-02-20T07:32:03.693286Z"
    }
   },
   "outputs": [
    {
     "data": {
      "text/html": [
       "<div>\n",
       "<style scoped>\n",
       "    .dataframe tbody tr th:only-of-type {\n",
       "        vertical-align: middle;\n",
       "    }\n",
       "\n",
       "    .dataframe tbody tr th {\n",
       "        vertical-align: top;\n",
       "    }\n",
       "\n",
       "    .dataframe thead th {\n",
       "        text-align: right;\n",
       "    }\n",
       "</style>\n",
       "<table border=\"1\" class=\"dataframe\">\n",
       "  <thead>\n",
       "    <tr style=\"text-align: right;\">\n",
       "      <th></th>\n",
       "      <th>tic</th>\n",
       "      <th>delta_min</th>\n",
       "      <th>1st order</th>\n",
       "    </tr>\n",
       "  </thead>\n",
       "  <tbody>\n",
       "    <tr>\n",
       "      <th>5</th>\n",
       "      <td>441798995.0</td>\n",
       "      <td>0.000023</td>\n",
       "      <td>True</td>\n",
       "    </tr>\n",
       "    <tr>\n",
       "      <th>3</th>\n",
       "      <td>142276270.0</td>\n",
       "      <td>0.000091</td>\n",
       "      <td>True</td>\n",
       "    </tr>\n",
       "    <tr>\n",
       "      <th>8</th>\n",
       "      <td>459837008.0</td>\n",
       "      <td>0.000158</td>\n",
       "      <td>True</td>\n",
       "    </tr>\n",
       "    <tr>\n",
       "      <th>20</th>\n",
       "      <td>384984325.0</td>\n",
       "      <td>0.000488</td>\n",
       "      <td>True</td>\n",
       "    </tr>\n",
       "    <tr>\n",
       "      <th>17</th>\n",
       "      <td>455947620.0</td>\n",
       "      <td>0.001917</td>\n",
       "      <td>True</td>\n",
       "    </tr>\n",
       "    <tr>\n",
       "      <th>15</th>\n",
       "      <td>143022742.0</td>\n",
       "      <td>0.002051</td>\n",
       "      <td>True</td>\n",
       "    </tr>\n",
       "    <tr>\n",
       "      <th>13</th>\n",
       "      <td>303204165.0</td>\n",
       "      <td>0.002446</td>\n",
       "      <td>True</td>\n",
       "    </tr>\n",
       "    <tr>\n",
       "      <th>1</th>\n",
       "      <td>29781292.0</td>\n",
       "      <td>0.003024</td>\n",
       "      <td>True</td>\n",
       "    </tr>\n",
       "    <tr>\n",
       "      <th>18</th>\n",
       "      <td>153065527.0</td>\n",
       "      <td>0.004089</td>\n",
       "      <td>True</td>\n",
       "    </tr>\n",
       "    <tr>\n",
       "      <th>11</th>\n",
       "      <td>259377017.0</td>\n",
       "      <td>0.005161</td>\n",
       "      <td>True</td>\n",
       "    </tr>\n",
       "    <tr>\n",
       "      <th>0</th>\n",
       "      <td>425997655.0</td>\n",
       "      <td>0.005752</td>\n",
       "      <td>True</td>\n",
       "    </tr>\n",
       "    <tr>\n",
       "      <th>21</th>\n",
       "      <td>374180079.0</td>\n",
       "      <td>0.005803</td>\n",
       "      <td>True</td>\n",
       "    </tr>\n",
       "    <tr>\n",
       "      <th>19</th>\n",
       "      <td>55652896.0</td>\n",
       "      <td>0.006421</td>\n",
       "      <td>True</td>\n",
       "    </tr>\n",
       "    <tr>\n",
       "      <th>12</th>\n",
       "      <td>269701147.0</td>\n",
       "      <td>0.006441</td>\n",
       "      <td>True</td>\n",
       "    </tr>\n",
       "    <tr>\n",
       "      <th>10</th>\n",
       "      <td>233602827.0</td>\n",
       "      <td>0.007399</td>\n",
       "      <td>True</td>\n",
       "    </tr>\n",
       "    <tr>\n",
       "      <th>9</th>\n",
       "      <td>54962195.0</td>\n",
       "      <td>0.007626</td>\n",
       "      <td>True</td>\n",
       "    </tr>\n",
       "    <tr>\n",
       "      <th>4</th>\n",
       "      <td>77156829.0</td>\n",
       "      <td>0.008025</td>\n",
       "      <td>True</td>\n",
       "    </tr>\n",
       "    <tr>\n",
       "      <th>16</th>\n",
       "      <td>120826158.0</td>\n",
       "      <td>0.008613</td>\n",
       "      <td>True</td>\n",
       "    </tr>\n",
       "    <tr>\n",
       "      <th>14</th>\n",
       "      <td>360630575.0</td>\n",
       "      <td>0.008712</td>\n",
       "      <td>True</td>\n",
       "    </tr>\n",
       "    <tr>\n",
       "      <th>2</th>\n",
       "      <td>150428135.0</td>\n",
       "      <td>0.009280</td>\n",
       "      <td>True</td>\n",
       "    </tr>\n",
       "    <tr>\n",
       "      <th>7</th>\n",
       "      <td>307210830.0</td>\n",
       "      <td>0.009398</td>\n",
       "      <td>True</td>\n",
       "    </tr>\n",
       "    <tr>\n",
       "      <th>6</th>\n",
       "      <td>318022259.0</td>\n",
       "      <td>0.009757</td>\n",
       "      <td>True</td>\n",
       "    </tr>\n",
       "  </tbody>\n",
       "</table>\n",
       "</div>"
      ],
      "text/plain": [
       "            tic  delta_min  1st order\n",
       "5   441798995.0   0.000023       True\n",
       "3   142276270.0   0.000091       True\n",
       "8   459837008.0   0.000158       True\n",
       "20  384984325.0   0.000488       True\n",
       "17  455947620.0   0.001917       True\n",
       "15  143022742.0   0.002051       True\n",
       "13  303204165.0   0.002446       True\n",
       "1    29781292.0   0.003024       True\n",
       "18  153065527.0   0.004089       True\n",
       "11  259377017.0   0.005161       True\n",
       "0   425997655.0   0.005752       True\n",
       "21  374180079.0   0.005803       True\n",
       "19   55652896.0   0.006421       True\n",
       "12  269701147.0   0.006441       True\n",
       "10  233602827.0   0.007399       True\n",
       "9    54962195.0   0.007626       True\n",
       "4    77156829.0   0.008025       True\n",
       "16  120826158.0   0.008613       True\n",
       "14  360630575.0   0.008712       True\n",
       "2   150428135.0   0.009280       True\n",
       "7   307210830.0   0.009398       True\n",
       "6   318022259.0   0.009757       True"
      ]
     },
     "execution_count": 17,
     "metadata": {},
     "output_type": "execute_result"
    }
   ],
   "source": [
    "import pandas as pd\n",
    "\n",
    "s1 = pd.DataFrame(np.c_[ttv_1st_order,deltas1], columns=['tic','delta_min'])\n",
    "s1['1st order'] = True\n",
    "s1.sort_values(by='delta_min')"
   ]
  },
  {
   "cell_type": "code",
   "execution_count": 18,
   "id": "7ffe3588",
   "metadata": {
    "ExecuteTime": {
     "end_time": "2023-02-20T07:32:03.718062Z",
     "start_time": "2023-02-20T07:32:03.707963Z"
    }
   },
   "outputs": [
    {
     "data": {
      "text/html": [
       "<div>\n",
       "<style scoped>\n",
       "    .dataframe tbody tr th:only-of-type {\n",
       "        vertical-align: middle;\n",
       "    }\n",
       "\n",
       "    .dataframe tbody tr th {\n",
       "        vertical-align: top;\n",
       "    }\n",
       "\n",
       "    .dataframe thead th {\n",
       "        text-align: right;\n",
       "    }\n",
       "</style>\n",
       "<table border=\"1\" class=\"dataframe\">\n",
       "  <thead>\n",
       "    <tr style=\"text-align: right;\">\n",
       "      <th></th>\n",
       "      <th>tic</th>\n",
       "      <th>delta_min</th>\n",
       "      <th>2nd order</th>\n",
       "    </tr>\n",
       "  </thead>\n",
       "  <tbody>\n",
       "    <tr>\n",
       "      <th>1</th>\n",
       "      <td>178155732.0</td>\n",
       "      <td>0.000263</td>\n",
       "      <td>True</td>\n",
       "    </tr>\n",
       "    <tr>\n",
       "      <th>9</th>\n",
       "      <td>294471966.0</td>\n",
       "      <td>0.001432</td>\n",
       "      <td>True</td>\n",
       "    </tr>\n",
       "    <tr>\n",
       "      <th>4</th>\n",
       "      <td>27491137.0</td>\n",
       "      <td>0.002862</td>\n",
       "      <td>True</td>\n",
       "    </tr>\n",
       "    <tr>\n",
       "      <th>5</th>\n",
       "      <td>441739020.0</td>\n",
       "      <td>0.006611</td>\n",
       "      <td>True</td>\n",
       "    </tr>\n",
       "    <tr>\n",
       "      <th>3</th>\n",
       "      <td>468979441.0</td>\n",
       "      <td>0.006748</td>\n",
       "      <td>True</td>\n",
       "    </tr>\n",
       "    <tr>\n",
       "      <th>2</th>\n",
       "      <td>397362481.0</td>\n",
       "      <td>0.007041</td>\n",
       "      <td>True</td>\n",
       "    </tr>\n",
       "    <tr>\n",
       "      <th>7</th>\n",
       "      <td>167342439.0</td>\n",
       "      <td>0.007097</td>\n",
       "      <td>True</td>\n",
       "    </tr>\n",
       "    <tr>\n",
       "      <th>6</th>\n",
       "      <td>392681545.0</td>\n",
       "      <td>0.007379</td>\n",
       "      <td>True</td>\n",
       "    </tr>\n",
       "    <tr>\n",
       "      <th>0</th>\n",
       "      <td>367630162.0</td>\n",
       "      <td>0.008545</td>\n",
       "      <td>True</td>\n",
       "    </tr>\n",
       "    <tr>\n",
       "      <th>8</th>\n",
       "      <td>344927749.0</td>\n",
       "      <td>0.009826</td>\n",
       "      <td>True</td>\n",
       "    </tr>\n",
       "  </tbody>\n",
       "</table>\n",
       "</div>"
      ],
      "text/plain": [
       "           tic  delta_min  2nd order\n",
       "1  178155732.0   0.000263       True\n",
       "9  294471966.0   0.001432       True\n",
       "4   27491137.0   0.002862       True\n",
       "5  441739020.0   0.006611       True\n",
       "3  468979441.0   0.006748       True\n",
       "2  397362481.0   0.007041       True\n",
       "7  167342439.0   0.007097       True\n",
       "6  392681545.0   0.007379       True\n",
       "0  367630162.0   0.008545       True\n",
       "8  344927749.0   0.009826       True"
      ]
     },
     "execution_count": 18,
     "metadata": {},
     "output_type": "execute_result"
    }
   ],
   "source": [
    "s2 = pd.DataFrame(np.c_[ttv_2nd_order,deltas2], columns=['tic','delta_min'])\n",
    "s2['2nd order'] = True\n",
    "s2.sort_values(by='delta_min')"
   ]
  },
  {
   "cell_type": "code",
   "execution_count": 19,
   "id": "52a6842e",
   "metadata": {
    "ExecuteTime": {
     "end_time": "2023-02-20T07:32:03.731903Z",
     "start_time": "2023-02-20T07:32:03.719359Z"
    }
   },
   "outputs": [
    {
     "data": {
      "text/html": [
       "<div>\n",
       "<style scoped>\n",
       "    .dataframe tbody tr th:only-of-type {\n",
       "        vertical-align: middle;\n",
       "    }\n",
       "\n",
       "    .dataframe tbody tr th {\n",
       "        vertical-align: top;\n",
       "    }\n",
       "\n",
       "    .dataframe thead th {\n",
       "        text-align: right;\n",
       "    }\n",
       "</style>\n",
       "<table border=\"1\" class=\"dataframe\">\n",
       "  <thead>\n",
       "    <tr style=\"text-align: right;\">\n",
       "      <th></th>\n",
       "      <th>tic</th>\n",
       "      <th>delta_min</th>\n",
       "      <th>1st order</th>\n",
       "      <th>2nd order</th>\n",
       "    </tr>\n",
       "  </thead>\n",
       "  <tbody>\n",
       "    <tr>\n",
       "      <th>5</th>\n",
       "      <td>441798995</td>\n",
       "      <td>0.000023</td>\n",
       "      <td>True</td>\n",
       "      <td>False</td>\n",
       "    </tr>\n",
       "    <tr>\n",
       "      <th>3</th>\n",
       "      <td>142276270</td>\n",
       "      <td>0.000091</td>\n",
       "      <td>True</td>\n",
       "      <td>False</td>\n",
       "    </tr>\n",
       "    <tr>\n",
       "      <th>8</th>\n",
       "      <td>459837008</td>\n",
       "      <td>0.000158</td>\n",
       "      <td>True</td>\n",
       "      <td>False</td>\n",
       "    </tr>\n",
       "    <tr>\n",
       "      <th>23</th>\n",
       "      <td>178155732</td>\n",
       "      <td>0.000263</td>\n",
       "      <td>False</td>\n",
       "      <td>True</td>\n",
       "    </tr>\n",
       "    <tr>\n",
       "      <th>20</th>\n",
       "      <td>384984325</td>\n",
       "      <td>0.000488</td>\n",
       "      <td>True</td>\n",
       "      <td>False</td>\n",
       "    </tr>\n",
       "  </tbody>\n",
       "</table>\n",
       "</div>"
      ],
      "text/plain": [
       "          tic  delta_min  1st order  2nd order\n",
       "5   441798995   0.000023       True      False\n",
       "3   142276270   0.000091       True      False\n",
       "8   459837008   0.000158       True      False\n",
       "23  178155732   0.000263      False       True\n",
       "20  384984325   0.000488       True      False"
      ]
     },
     "execution_count": 19,
     "metadata": {},
     "output_type": "execute_result"
    }
   ],
   "source": [
    "res = pd.merge(s1, s2, how='outer')\n",
    "res = res.replace(np.nan, False)\n",
    "res['tic'] = res.tic.map(int)\n",
    "res = res.sort_values(by='delta_min')\n",
    "res.head()"
   ]
  },
  {
   "cell_type": "code",
   "execution_count": 20,
   "id": "2efc836d-a9e9-42d3-ad1c-24e5ed81bb60",
   "metadata": {},
   "outputs": [
    {
     "data": {
      "text/plain": [
       "32"
      ]
     },
     "execution_count": 20,
     "metadata": {},
     "output_type": "execute_result"
    }
   ],
   "source": [
    "len(res)"
   ]
  },
  {
   "cell_type": "raw",
   "id": "a11e4047",
   "metadata": {
    "ExecuteTime": {
     "end_time": "2023-02-20T03:00:39.835891Z",
     "start_time": "2023-02-20T03:00:39.830179Z"
    }
   },
   "source": [
    "np.array(texts)[res.index.values]"
   ]
  },
  {
   "cell_type": "code",
   "execution_count": 24,
   "id": "feabd45d",
   "metadata": {
    "ExecuteTime": {
     "end_time": "2023-02-20T07:32:03.737525Z",
     "start_time": "2023-02-20T07:32:03.733347Z"
    }
   },
   "outputs": [
    {
     "data": {
      "text/plain": [
       "(31, 31)"
      ]
     },
     "execution_count": 24,
     "metadata": {},
     "output_type": "execute_result"
    }
   ],
   "source": [
    "len(texts), len(res)"
   ]
  },
  {
   "cell_type": "raw",
   "id": "d4c39b7a-d265-4a26-b3b0-f76633432a85",
   "metadata": {
    "ExecuteTime": {
     "end_time": "2023-02-20T03:06:44.728611Z",
     "start_time": "2023-02-20T03:06:44.724765Z"
    }
   },
   "source": [
    "idx = res.index.values\n",
    "for i in idx:\n",
    "    print(texts[i])"
   ]
  },
  {
   "cell_type": "raw",
   "id": "17799539-6b73-46fb-a628-8ccac20e1872",
   "metadata": {},
   "source": [
    "[i.split('TIC-')[1].split(']')[0] for i in texts]"
   ]
  },
  {
   "cell_type": "code",
   "execution_count": 21,
   "id": "a76cf90a",
   "metadata": {
    "ExecuteTime": {
     "end_time": "2023-02-20T07:32:03.744131Z",
     "start_time": "2023-02-20T07:32:03.738699Z"
    }
   },
   "outputs": [
    {
     "name": "stdout",
     "output_type": "stream",
     "text": [
      "TOI-2269 | [TIC-441798995](https://exofop.ipac.caltech.edu/tess/target.php?id=441798995) (nplanets=3):<br>\n",
      "First Order: 2:1 | P=(1.42,2.84) (delta=0.00%)<br>\n",
      "TESS sectors=[14 15 16 17 18 19 20 21 22 23 24 25 26 40 41 47 48 49 50 51 52 53 54 55\n",
      " 56 57 58 59 60 73 74 75 76 77 78 79 80 81 82 83]<br>\n",
      "\n",
      "TOI-1136 | [TIC-142276270](https://exofop.ipac.caltech.edu/tess/target.php?id=142276270) (nplanets=4):<br>\n",
      "First Order: 2:1 | P=(6.26,12.52) (delta=0.01%) 3:2 | P=(12.52,18.80) (delta=0.14%)<br>\n",
      "TESS sectors=[14 15 21 22 41 48 75]<br>\n",
      "\n",
      "TOI-2267 | [TIC-459837008](https://exofop.ipac.caltech.edu/tess/target.php?id=459837008) (nplanets=3):<br>\n",
      "First Order: 9:8 | P=(2.03,2.29) (delta=0.02%)<br>\n",
      "TESS sectors=[19 20 25 26 40 52 53 59 60 73 79]<br>\n",
      "\n",
      "TOI-0396 | [TIC-178155732](https://exofop.ipac.caltech.edu/tess/target.php?id=178155732) (nplanets=3):<br>\n",
      "Second Order: 5:3 | P=(3.59,5.97) (delta=0.03%)\n",
      "TESS sectors=[ 3  4 30 31]<br>\n",
      "\n",
      "TOI-6109 | [TIC-384984325](https://exofop.ipac.caltech.edu/tess/target.php?id=384984325) (nplanets=2):<br>\n",
      "First Order: 3:2 | P=(5.70,8.54) (delta=0.05%)<br>\n",
      "TESS sectors=[18 58]<br>\n",
      "\n",
      "TOI-1446 | [TIC-294471966](https://exofop.ipac.caltech.edu/tess/target.php?id=294471966) (nplanets=2):<br>\n",
      "Second Order: 7:5 | P=(4.51,6.32) (delta=0.14%)\n",
      "TESS sectors=[14 15 16 41 54 55 56 75 76 81 82 83]<br>\n",
      "\n",
      "TOI-6022 | [TIC-455947620](https://exofop.ipac.caltech.edu/tess/target.php?id=455947620) (nplanets=2):<br>\n",
      "First Order: 5:4 | P=(1.55,1.93) (delta=0.19%)<br>\n",
      "TESS sectors=[16 17 24 57 78]<br>\n",
      "\n",
      "TOI-4323 | [TIC-143022742](https://exofop.ipac.caltech.edu/tess/target.php?id=143022742) (nplanets=2):<br>\n",
      "First Order: 3:2 | P=(14.68,21.97) (delta=0.21%)<br>\n",
      "TESS sectors=[ 4 31]<br>\n",
      "\n",
      "TOI-4647 | [TIC-303204165](https://exofop.ipac.caltech.edu/tess/target.php?id=303204165) (nplanets=2):<br>\n",
      "First Order: 5:4 | P=(8.83,11.07) (delta=0.24%)<br>\n",
      "TESS sectors=[42 43 57 70]<br>\n",
      "\n",
      "TOI-2076 | [TIC-27491137](https://exofop.ipac.caltech.edu/tess/target.php?id=27491137) (nplanets=3):<br>\n",
      "Second Order: 5:3 | P=(21.02,35.13) (delta=0.29%)\n",
      "TESS sectors=[16 23 50 77]<br>\n",
      "\n",
      "TOI-0282 | [TIC-29781292](https://exofop.ipac.caltech.edu/tess/target.php?id=29781292) (nplanets=4):<br>\n",
      "First Order: 3:2 | P=(56.00,84.26) (delta=0.30%)<br>\n",
      "TESS sectors=[ 1  2  3  4  5  6  7  8  9 10 11 12 13 27 28 29 30 31 33 34 35 36 37 38\n",
      " 39 61 62 63 64 65 66 67 68 69]<br>\n",
      "\n",
      "TOI-0406 | [TIC-153065527](https://exofop.ipac.caltech.edu/tess/target.php?id=153065527) (nplanets=2):<br>\n",
      "First Order: 2:1 | P=(6.61,13.18) (delta=0.41%)<br>\n",
      "TESS sectors=[ 3  4 30 31]<br>\n",
      "\n",
      "TOI-0270 | [TIC-259377017](https://exofop.ipac.caltech.edu/tess/target.php?id=259377017) (nplanets=3):<br>\n",
      "First Order: 2:1 | P=(5.66,11.38) (delta=0.52%)<br>\n",
      "TESS sectors=[ 3  4  5 30 32]<br>\n",
      "\n",
      "TOI-0174 | [TIC-425997655](https://exofop.ipac.caltech.edu/tess/target.php?id=425997655) (nplanets=5):<br>\n",
      "First Order: 2:1 | P=(3.98,7.91) (delta=0.58%)<br>\n",
      "TESS sectors=[ 1  2  3  4 11 29 30 31 34 64 68 69]<br>\n",
      "\n",
      "TOI-5520 | [TIC-374180079](https://exofop.ipac.caltech.edu/tess/target.php?id=374180079) (nplanets=2):<br>\n",
      "First Order: 4:3 | P=(14.70,19.48) (delta=0.58%)<br>\n",
      "TESS sectors=[35 45 46 62 72]<br>\n",
      "\n",
      "TOI-0216 | [TIC-55652896](https://exofop.ipac.caltech.edu/tess/target.php?id=55652896) (nplanets=2):<br>\n",
      "First Order: 2:1 | P=(17.39,34.55) (delta=0.64%)<br>\n",
      "TESS sectors=[ 1  2  3  4  5  6  7  8  9 11 12 13 27 28 29 30 31 32 33 34 35 36 37 38\n",
      " 39 61 62 63 64 65 66 67 68 69]<br>\n",
      "\n",
      "TOI-1339 | [TIC-269701147](https://exofop.ipac.caltech.edu/tess/target.php?id=269701147) (nplanets=3):<br>\n",
      "First Order: 4:3 | P=(28.58,38.35) (delta=0.64%)<br>\n",
      "TESS sectors=[14 15 16 17 18 19 21 22 24 25 41 48 49 51 52 55 56 58 59 60 73 75 76 77\n",
      " 78 79 82 83]<br>\n",
      "\n",
      "TOI-1670 | [TIC-441739020](https://exofop.ipac.caltech.edu/tess/target.php?id=441739020) (nplanets=3):<br>\n",
      "Second Order: 3:1 | P=(40.75,123.06) (delta=0.66%)\n",
      "TESS sectors=[14 15 16 18 19 20 21 22 23 24 25 26 40 41 47 48 49 50 51 52 53 55 56 57\n",
      " 58 59 60 73 74 75 76 77 78 79 80 81 82 83]<br>\n",
      "\n",
      "TOI-5493 | [TIC-468979441](https://exofop.ipac.caltech.edu/tess/target.php?id=468979441) (nplanets=3):<br>\n",
      "Second Order: 5:3 | P=(14.56,24.44) (delta=0.67%)\n",
      "TESS sectors=[ 7 34 44 45 46 61 72]<br>\n",
      "\n",
      "TOI-6276 | [TIC-397362481](https://exofop.ipac.caltech.edu/tess/target.php?id=397362481) (nplanets=3):<br>\n",
      "Second Order: 7:5 | P=(4.47,6.21) (delta=0.70%)\n",
      "TESS sectors=[63 64]<br>\n",
      "\n",
      "TOI-0707 | [TIC-167342439](https://exofop.ipac.caltech.edu/tess/target.php?id=167342439) (nplanets=2):<br>\n",
      "Second Order: 3:1 | P=(17.48,52.80) (delta=0.71%)\n",
      "TESS sectors=[ 1  2  3  4  5  6  7  8  9 11 12 13 28 29 30 31 32 33 34 35 36 38 39 61\n",
      " 62 64 65 66 67 69]<br>\n",
      "\n",
      "TOI-6054 | [TIC-392681545](https://exofop.ipac.caltech.edu/tess/target.php?id=392681545) (nplanets=2):<br>\n",
      "Second Order: 5:3 | P=(7.49,12.58) (delta=0.74%)\n",
      "TESS sectors=[19 59]<br>\n",
      "\n",
      "TOI-1749 | [TIC-233602827](https://exofop.ipac.caltech.edu/tess/target.php?id=233602827) (nplanets=3):<br>\n",
      "First Order: 2:1 | P=(4.49,9.04) (delta=0.74%)<br>\n",
      "TESS sectors=[14 15 16 17 18 19 20 21 23 24 25 26 40 41 47 48 49 50 51 52 53 54 55 57\n",
      " 58 59 60 74 77 78 79 80 81 82]<br>\n",
      "\n",
      "TOI-0663 | [TIC-54962195](https://exofop.ipac.caltech.edu/tess/target.php?id=54962195) (nplanets=3):<br>\n",
      "First Order: 3:2 | P=(4.70,7.10) (delta=0.76%)<br>\n",
      "TESS sectors=[ 9 35 62]<br>\n",
      "\n",
      "TOI-0696 | [TIC-77156829](https://exofop.ipac.caltech.edu/tess/target.php?id=77156829) (nplanets=3):<br>\n",
      "First Order: 4:3 | P=(3.69,4.97) (delta=0.80%)<br>\n",
      "TESS sectors=[ 4  5 31 32]<br>\n",
      "\n",
      "TOI-2104 | [TIC-367630162](https://exofop.ipac.caltech.edu/tess/target.php?id=367630162) (nplanets=5):<br>\n",
      "Second Order: 5:3 | P=(1.98,3.27) (delta=0.85%)\n",
      "TESS sectors=[14 19 20 26 40 47 53 73 74]<br>\n",
      "\n",
      "TOI-4495 | [TIC-120826158](https://exofop.ipac.caltech.edu/tess/target.php?id=120826158) (nplanets=2):<br>\n",
      "First Order: 2:1 | P=(2.57,5.18) (delta=0.86%)<br>\n",
      "TESS sectors=[14 40 41 53 54 80 81]<br>\n",
      "\n",
      "TOI-1097 | [TIC-360630575](https://exofop.ipac.caltech.edu/tess/target.php?id=360630575) (nplanets=2):<br>\n",
      "First Order: 3:2 | P=(9.19,13.90) (delta=0.87%)<br>\n",
      "TESS sectors=[11 12 38 39 65]<br>\n",
      "\n",
      "TOI-0700 | [TIC-150428135](https://exofop.ipac.caltech.edu/tess/target.php?id=150428135) (nplanets=4):<br>\n",
      "First Order: 4:3 | P=(27.81,37.42) (delta=0.93%)<br>\n",
      "TESS sectors=[ 1  3  4  5  6  7  8  9 10 11 13 27 28 30 31 33 34 35 36 37 38 61 62 63\n",
      " 64 65 66 68 69]<br>\n",
      "\n",
      "TOI-0175 | [TIC-307210830](https://exofop.ipac.caltech.edu/tess/target.php?id=307210830) (nplanets=3):<br>\n",
      "First Order: 2:1 | P=(3.69,7.45) (delta=0.94%)<br>\n",
      "TESS sectors=[ 2  5  8  9 10 11 12 28 29 32 35 36 37 38 39 61 62 63 64 65 69]<br>\n",
      "\n",
      "TOI-1730 | [TIC-318022259](https://exofop.ipac.caltech.edu/tess/target.php?id=318022259) (nplanets=3):<br>\n",
      "First Order: 2:1 | P=(6.23,12.57) (delta=0.98%)<br>\n",
      "TESS sectors=[20 47 60]<br>\n",
      "\n",
      "TOI-6265 | [TIC-344927749](https://exofop.ipac.caltech.edu/tess/target.php?id=344927749) (nplanets=2):<br>\n",
      "Second Order: 7:5 | P=(4.18,5.79) (delta=0.98%)\n",
      "TESS sectors=[ 8 35 45 46 62 72]<br>\n",
      "\n"
     ]
    }
   ],
   "source": [
    "for tic in res.tic:\n",
    "    idx = [True if i.split('TIC-')[1].split(']')[0]==str(tic) else False for i in texts]\n",
    "    x = np.array(texts)[idx]\n",
    "    print(x[0] if len(x)>0 else '')"
   ]
  },
  {
   "cell_type": "code",
   "execution_count": 22,
   "id": "31909bdf-92fe-4a7e-b73d-bda270d8722f",
   "metadata": {
    "ExecuteTime": {
     "end_time": "2023-02-20T07:32:03.751302Z",
     "start_time": "2023-02-20T07:32:03.745543Z"
    }
   },
   "outputs": [],
   "source": [
    "res.to_csv('../data/tics_resonance_from_toi.csv')"
   ]
  },
  {
   "cell_type": "code",
   "execution_count": 23,
   "id": "dca8309b-66da-40eb-b524-5f9cd9e1d878",
   "metadata": {},
   "outputs": [
    {
     "data": {
      "text/plain": [
       "array(['0174', '0175', '0216', '0270', '0282', '0396', '0406', '0663',\n",
       "       '0696', '0700', '0707', '1097', '1136', '1339', '1446', '1670',\n",
       "       '1730', '1749', '2076', '2104', '2267', '2269', '4323', '4495',\n",
       "       '4647', '5493', '5520', '6022', '6054', '6109', '6265', '6276'],\n",
       "      dtype=object)"
      ]
     },
     "execution_count": 23,
     "metadata": {},
     "output_type": "execute_result"
    }
   ],
   "source": [
    "idx = df['TIC ID'].isin(res.tic)\n",
    "tois_in_resonance = df['TOI'][idx].apply(lambda x: str(x).split('.')[0].zfill(4)).unique()\n",
    "tois_in_resonance"
   ]
  },
  {
   "cell_type": "code",
   "execution_count": 24,
   "id": "3e980e2f",
   "metadata": {
    "ExecuteTime": {
     "end_time": "2023-02-20T07:32:03.760082Z",
     "start_time": "2023-02-20T07:32:03.752937Z"
    }
   },
   "outputs": [],
   "source": [
    "np.savetxt('../data/tics_resonance_from_toi.txt', res.tic.tolist(), fmt=\"%d\")\n",
    "np.savetxt('../data/tois_resonance_from_toi.txt', tois_in_resonance, fmt=\"%s\")\n",
    "np.savetxt('../data/tics_resonance_from_toi_1st_order.txt', ttv_1st_order, fmt=\"%d\")\n",
    "np.savetxt('../data/tics_resonance_from_toi_2nd_order.txt', ttv_2nd_order, fmt=\"%d\")"
   ]
  },
  {
   "cell_type": "markdown",
   "id": "20536dd6",
   "metadata": {},
   "source": [
    "## Transit timing database\n",
    "* https://ui.adsabs.harvard.edu/abs/2022ApJS..259...62I/abstract"
   ]
  },
  {
   "cell_type": "code",
   "execution_count": 26,
   "id": "2f54995e",
   "metadata": {
    "ExecuteTime": {
     "end_time": "2023-02-20T07:32:04.274116Z",
     "start_time": "2023-02-20T07:32:03.762154Z"
    }
   },
   "outputs": [
    {
     "data": {
      "text/html": [
       "<div>\n",
       "<style scoped>\n",
       "    .dataframe tbody tr th:only-of-type {\n",
       "        vertical-align: middle;\n",
       "    }\n",
       "\n",
       "    .dataframe tbody tr th {\n",
       "        vertical-align: top;\n",
       "    }\n",
       "\n",
       "    .dataframe thead th {\n",
       "        text-align: right;\n",
       "    }\n",
       "</style>\n",
       "<table border=\"1\" class=\"dataframe\">\n",
       "  <thead>\n",
       "    <tr style=\"text-align: right;\">\n",
       "      <th></th>\n",
       "      <th>System</th>\n",
       "      <th>Orbit number</th>\n",
       "      <th>T_mid</th>\n",
       "      <th>Uncertainty (days)</th>\n",
       "      <th>Time System</th>\n",
       "      <th>#</th>\n",
       "      <th>Reference</th>\n",
       "    </tr>\n",
       "  </thead>\n",
       "  <tbody>\n",
       "    <tr>\n",
       "      <th>0</th>\n",
       "      <td>CoRoT-01</td>\n",
       "      <td>-1412</td>\n",
       "      <td>2.454138e+06</td>\n",
       "      <td>0.000470</td>\n",
       "      <td>BJD</td>\n",
       "      <td>1</td>\n",
       "      <td>2009A&amp;A...506..369B</td>\n",
       "    </tr>\n",
       "    <tr>\n",
       "      <th>1</th>\n",
       "      <td>CoRoT-01</td>\n",
       "      <td>-1411</td>\n",
       "      <td>2.454140e+06</td>\n",
       "      <td>0.000590</td>\n",
       "      <td>BJD</td>\n",
       "      <td>1</td>\n",
       "      <td>2009A&amp;A...506..369B</td>\n",
       "    </tr>\n",
       "    <tr>\n",
       "      <th>2</th>\n",
       "      <td>CoRoT-01</td>\n",
       "      <td>-1410</td>\n",
       "      <td>2.454141e+06</td>\n",
       "      <td>0.000620</td>\n",
       "      <td>BJD</td>\n",
       "      <td>1</td>\n",
       "      <td>2009A&amp;A...506..369B</td>\n",
       "    </tr>\n",
       "    <tr>\n",
       "      <th>3</th>\n",
       "      <td>CoRoT-01</td>\n",
       "      <td>-1409</td>\n",
       "      <td>2.454143e+06</td>\n",
       "      <td>0.000390</td>\n",
       "      <td>BJD</td>\n",
       "      <td>1</td>\n",
       "      <td>2009A&amp;A...506..369B</td>\n",
       "    </tr>\n",
       "    <tr>\n",
       "      <th>4</th>\n",
       "      <td>CoRoT-01</td>\n",
       "      <td>-1408</td>\n",
       "      <td>2.454144e+06</td>\n",
       "      <td>0.001630</td>\n",
       "      <td>BJD</td>\n",
       "      <td>1</td>\n",
       "      <td>2009A&amp;A...506..369B</td>\n",
       "    </tr>\n",
       "    <tr>\n",
       "      <th>...</th>\n",
       "      <td>...</td>\n",
       "      <td>...</td>\n",
       "      <td>...</td>\n",
       "      <td>...</td>\n",
       "      <td>...</td>\n",
       "      <td>...</td>\n",
       "      <td>...</td>\n",
       "    </tr>\n",
       "    <tr>\n",
       "      <th>8662</th>\n",
       "      <td>XO-7</td>\n",
       "      <td>214</td>\n",
       "      <td>2.459407e+06</td>\n",
       "      <td>0.000510</td>\n",
       "      <td>BJD_TDB</td>\n",
       "      <td>1</td>\n",
       "      <td>This work</td>\n",
       "    </tr>\n",
       "    <tr>\n",
       "      <th>8663</th>\n",
       "      <td>XO-7</td>\n",
       "      <td>215</td>\n",
       "      <td>2.459410e+06</td>\n",
       "      <td>0.000467</td>\n",
       "      <td>BJD_TDB</td>\n",
       "      <td>1</td>\n",
       "      <td>This work</td>\n",
       "    </tr>\n",
       "    <tr>\n",
       "      <th>8664</th>\n",
       "      <td>XO-7</td>\n",
       "      <td>216</td>\n",
       "      <td>2.459413e+06</td>\n",
       "      <td>0.000508</td>\n",
       "      <td>BJD_TDB</td>\n",
       "      <td>1</td>\n",
       "      <td>This work</td>\n",
       "    </tr>\n",
       "    <tr>\n",
       "      <th>8665</th>\n",
       "      <td>XO-7</td>\n",
       "      <td>217</td>\n",
       "      <td>2.459415e+06</td>\n",
       "      <td>0.000517</td>\n",
       "      <td>BJD_TDB</td>\n",
       "      <td>1</td>\n",
       "      <td>This work</td>\n",
       "    </tr>\n",
       "    <tr>\n",
       "      <th>8666</th>\n",
       "      <td>XO-7</td>\n",
       "      <td>218</td>\n",
       "      <td>2.459418e+06</td>\n",
       "      <td>0.000462</td>\n",
       "      <td>BJD_TDB</td>\n",
       "      <td>1</td>\n",
       "      <td>This work</td>\n",
       "    </tr>\n",
       "  </tbody>\n",
       "</table>\n",
       "<p>8667 rows × 7 columns</p>\n",
       "</div>"
      ],
      "text/plain": [
       "        System  Orbit number         T_mid  Uncertainty (days) Time System  #  \\\n",
       "0     CoRoT-01         -1412  2.454138e+06            0.000470         BJD  1   \n",
       "1     CoRoT-01         -1411  2.454140e+06            0.000590         BJD  1   \n",
       "2     CoRoT-01         -1410  2.454141e+06            0.000620         BJD  1   \n",
       "3     CoRoT-01         -1409  2.454143e+06            0.000390         BJD  1   \n",
       "4     CoRoT-01         -1408  2.454144e+06            0.001630         BJD  1   \n",
       "...        ...           ...           ...                 ...         ... ..   \n",
       "8662      XO-7           214  2.459407e+06            0.000510     BJD_TDB  1   \n",
       "8663      XO-7           215  2.459410e+06            0.000467     BJD_TDB  1   \n",
       "8664      XO-7           216  2.459413e+06            0.000508     BJD_TDB  1   \n",
       "8665      XO-7           217  2.459415e+06            0.000517     BJD_TDB  1   \n",
       "8666      XO-7           218  2.459418e+06            0.000462     BJD_TDB  1   \n",
       "\n",
       "                Reference  \n",
       "0     2009A&A...506..369B  \n",
       "1     2009A&A...506..369B  \n",
       "2     2009A&A...506..369B  \n",
       "3     2009A&A...506..369B  \n",
       "4     2009A&A...506..369B  \n",
       "...                   ...  \n",
       "8662            This work  \n",
       "8663            This work  \n",
       "8664            This work  \n",
       "8665            This work  \n",
       "8666            This work  \n",
       "\n",
       "[8667 rows x 7 columns]"
      ]
     },
     "execution_count": 26,
     "metadata": {},
     "output_type": "execute_result"
    }
   ],
   "source": [
    "#https://github.com/transit-timing/tt/blob/master/3_database/table4.csv\n",
    "url = \"https://raw.githubusercontent.com/transit-timing/tt/master/3_database/table4.csv\"\n",
    "df2 = pd.read_csv(url)\n",
    "df2"
   ]
  },
  {
   "cell_type": "code",
   "execution_count": null,
   "id": "e2603fba-8b97-4206-acc5-8988345833dc",
   "metadata": {},
   "outputs": [],
   "source": []
  }
 ],
 "metadata": {
  "kernelspec": {
   "display_name": "Python 3 (ipykernel)",
   "language": "python",
   "name": "python3"
  },
  "language_info": {
   "codemirror_mode": {
    "name": "ipython",
    "version": 3
   },
   "file_extension": ".py",
   "mimetype": "text/x-python",
   "name": "python",
   "nbconvert_exporter": "python",
   "pygments_lexer": "ipython3",
   "version": "3.10.9"
  },
  "toc": {
   "base_numbering": 1,
   "nav_menu": {},
   "number_sections": true,
   "sideBar": true,
   "skip_h1_title": false,
   "title_cell": "Table of Contents",
   "title_sidebar": "Contents",
   "toc_cell": false,
   "toc_position": {},
   "toc_section_display": true,
   "toc_window_display": false
  }
 },
 "nbformat": 4,
 "nbformat_minor": 5
}
