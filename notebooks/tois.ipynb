{
 "cells": [
  {
   "cell_type": "code",
   "execution_count": 1,
   "id": "05f7280f",
   "metadata": {
    "ExecuteTime": {
     "end_time": "2023-02-20T01:03:07.626517Z",
     "start_time": "2023-02-20T01:03:07.622154Z"
    }
   },
   "outputs": [],
   "source": [
    "import os\n",
    "\n",
    "assert os.environ['CONDA_DEFAULT_ENV']=='ttv'"
   ]
  },
  {
   "cell_type": "markdown",
   "id": "832e7198",
   "metadata": {},
   "source": [
    "## TOIs"
   ]
  },
  {
   "cell_type": "code",
   "execution_count": 2,
   "id": "8c97dbb5",
   "metadata": {
    "ExecuteTime": {
     "end_time": "2023-02-20T01:03:08.800867Z",
     "start_time": "2023-02-20T01:03:08.085437Z"
    }
   },
   "outputs": [],
   "source": [
    "import sys\n",
    "sys.path.insert(0, '../code')\n",
    "from utils import *"
   ]
  },
  {
   "cell_type": "code",
   "execution_count": 3,
   "id": "464c3a0a",
   "metadata": {
    "ExecuteTime": {
     "end_time": "2023-02-20T01:03:08.914878Z",
     "start_time": "2023-02-20T01:03:08.802869Z"
    }
   },
   "outputs": [
    {
     "name": "stdout",
     "output_type": "stream",
     "text": [
      "Loaded:  ../data/TOIs.csv\n"
     ]
    },
    {
     "data": {
      "text/html": [
       "<div>\n",
       "<style scoped>\n",
       "    .dataframe tbody tr th:only-of-type {\n",
       "        vertical-align: middle;\n",
       "    }\n",
       "\n",
       "    .dataframe tbody tr th {\n",
       "        vertical-align: top;\n",
       "    }\n",
       "\n",
       "    .dataframe thead th {\n",
       "        text-align: right;\n",
       "    }\n",
       "</style>\n",
       "<table border=\"1\" class=\"dataframe\">\n",
       "  <thead>\n",
       "    <tr style=\"text-align: right;\">\n",
       "      <th></th>\n",
       "      <th>TIC ID</th>\n",
       "      <th>TOI</th>\n",
       "      <th>Previous CTOI</th>\n",
       "      <th>Master</th>\n",
       "      <th>SG1A</th>\n",
       "      <th>SG1B</th>\n",
       "      <th>SG2</th>\n",
       "      <th>SG3</th>\n",
       "      <th>SG4</th>\n",
       "      <th>SG5</th>\n",
       "      <th>...</th>\n",
       "      <th>Stellar Radius (R_Sun) err</th>\n",
       "      <th>Stellar Metallicity</th>\n",
       "      <th>Stellar Metallicity err</th>\n",
       "      <th>Stellar Mass (M_Sun)</th>\n",
       "      <th>Stellar Mass (M_Sun) err</th>\n",
       "      <th>Sectors</th>\n",
       "      <th>Date TOI Alerted (UTC)</th>\n",
       "      <th>Date TOI Updated (UTC)</th>\n",
       "      <th>Date Modified</th>\n",
       "      <th>Comments</th>\n",
       "    </tr>\n",
       "  </thead>\n",
       "  <tbody>\n",
       "    <tr>\n",
       "      <th>5299</th>\n",
       "      <td>428867906</td>\n",
       "      <td>6060.01</td>\n",
       "      <td>NaN</td>\n",
       "      <td>3</td>\n",
       "      <td>4</td>\n",
       "      <td>3</td>\n",
       "      <td>3</td>\n",
       "      <td>1</td>\n",
       "      <td>4</td>\n",
       "      <td>4</td>\n",
       "      <td>...</td>\n",
       "      <td>0.21</td>\n",
       "      <td>0.086</td>\n",
       "      <td>0.070</td>\n",
       "      <td>1.678</td>\n",
       "      <td>0.294829</td>\n",
       "      <td>19,59</td>\n",
       "      <td>2023-02-08</td>\n",
       "      <td>2023-02-08</td>\n",
       "      <td>2023-02-10 12:02:44</td>\n",
       "      <td>low SNR; two stars in pixel</td>\n",
       "    </tr>\n",
       "    <tr>\n",
       "      <th>5300</th>\n",
       "      <td>239823606</td>\n",
       "      <td>6061.01</td>\n",
       "      <td>NaN</td>\n",
       "      <td>2</td>\n",
       "      <td>4</td>\n",
       "      <td>2</td>\n",
       "      <td>2</td>\n",
       "      <td>1</td>\n",
       "      <td>4</td>\n",
       "      <td>4</td>\n",
       "      <td>...</td>\n",
       "      <td>0.05</td>\n",
       "      <td>NaN</td>\n",
       "      <td>NaN</td>\n",
       "      <td>1.000</td>\n",
       "      <td>0.127632</td>\n",
       "      <td>19,43,44,45,59</td>\n",
       "      <td>2023-02-08</td>\n",
       "      <td>2023-02-08</td>\n",
       "      <td>2023-02-10 12:02:44</td>\n",
       "      <td>two stars in pixel; low SNR</td>\n",
       "    </tr>\n",
       "    <tr>\n",
       "      <th>5301</th>\n",
       "      <td>122629761</td>\n",
       "      <td>6062.01</td>\n",
       "      <td>NaN</td>\n",
       "      <td>2</td>\n",
       "      <td>4</td>\n",
       "      <td>2</td>\n",
       "      <td>2</td>\n",
       "      <td>1</td>\n",
       "      <td>4</td>\n",
       "      <td>4</td>\n",
       "      <td>...</td>\n",
       "      <td>0.05</td>\n",
       "      <td>NaN</td>\n",
       "      <td>NaN</td>\n",
       "      <td>1.084</td>\n",
       "      <td>0.146070</td>\n",
       "      <td>19,59</td>\n",
       "      <td>2023-02-08</td>\n",
       "      <td>2023-02-08</td>\n",
       "      <td>2023-02-10 12:02:43</td>\n",
       "      <td>variable host; low SNR</td>\n",
       "    </tr>\n",
       "    <tr>\n",
       "      <th>5302</th>\n",
       "      <td>67031480</td>\n",
       "      <td>6063.01</td>\n",
       "      <td>NaN</td>\n",
       "      <td>3</td>\n",
       "      <td>4</td>\n",
       "      <td>3</td>\n",
       "      <td>3</td>\n",
       "      <td>1</td>\n",
       "      <td>4</td>\n",
       "      <td>4</td>\n",
       "      <td>...</td>\n",
       "      <td>NaN</td>\n",
       "      <td>NaN</td>\n",
       "      <td>NaN</td>\n",
       "      <td>NaN</td>\n",
       "      <td>NaN</td>\n",
       "      <td>19,59</td>\n",
       "      <td>2023-02-08</td>\n",
       "      <td>2023-02-08</td>\n",
       "      <td>2023-02-10 12:02:44</td>\n",
       "      <td>likely EB; a/Rs~2; host is member of M38 cluster</td>\n",
       "    </tr>\n",
       "    <tr>\n",
       "      <th>5303</th>\n",
       "      <td>428767018</td>\n",
       "      <td>6064.01</td>\n",
       "      <td>NaN</td>\n",
       "      <td>3</td>\n",
       "      <td>4</td>\n",
       "      <td>3</td>\n",
       "      <td>3</td>\n",
       "      <td>1</td>\n",
       "      <td>4</td>\n",
       "      <td>4</td>\n",
       "      <td>...</td>\n",
       "      <td>0.14</td>\n",
       "      <td>0.133</td>\n",
       "      <td>0.012</td>\n",
       "      <td>1.464</td>\n",
       "      <td>0.245446</td>\n",
       "      <td>19,59</td>\n",
       "      <td>2023-02-08</td>\n",
       "      <td>2023-02-08</td>\n",
       "      <td>2023-02-10 12:02:43</td>\n",
       "      <td>NaN</td>\n",
       "    </tr>\n",
       "  </tbody>\n",
       "</table>\n",
       "<p>5 rows × 62 columns</p>\n",
       "</div>"
      ],
      "text/plain": [
       "         TIC ID      TOI Previous CTOI  Master  SG1A  SG1B  SG2  SG3  SG4  \\\n",
       "5299  428867906  6060.01           NaN       3     4     3    3    1    4   \n",
       "5300  239823606  6061.01           NaN       2     4     2    2    1    4   \n",
       "5301  122629761  6062.01           NaN       2     4     2    2    1    4   \n",
       "5302   67031480  6063.01           NaN       3     4     3    3    1    4   \n",
       "5303  428767018  6064.01           NaN       3     4     3    3    1    4   \n",
       "\n",
       "      SG5  ...  Stellar Radius (R_Sun) err  Stellar Metallicity  \\\n",
       "5299    4  ...                        0.21                0.086   \n",
       "5300    4  ...                        0.05                  NaN   \n",
       "5301    4  ...                        0.05                  NaN   \n",
       "5302    4  ...                         NaN                  NaN   \n",
       "5303    4  ...                        0.14                0.133   \n",
       "\n",
       "      Stellar Metallicity err  Stellar Mass (M_Sun)  Stellar Mass (M_Sun) err  \\\n",
       "5299                    0.070                 1.678                  0.294829   \n",
       "5300                      NaN                 1.000                  0.127632   \n",
       "5301                      NaN                 1.084                  0.146070   \n",
       "5302                      NaN                   NaN                       NaN   \n",
       "5303                    0.012                 1.464                  0.245446   \n",
       "\n",
       "             Sectors Date TOI Alerted (UTC) Date TOI Updated (UTC)  \\\n",
       "5299           19,59             2023-02-08             2023-02-08   \n",
       "5300  19,43,44,45,59             2023-02-08             2023-02-08   \n",
       "5301           19,59             2023-02-08             2023-02-08   \n",
       "5302           19,59             2023-02-08             2023-02-08   \n",
       "5303           19,59             2023-02-08             2023-02-08   \n",
       "\n",
       "            Date Modified                                          Comments  \n",
       "5299  2023-02-10 12:02:44                       low SNR; two stars in pixel  \n",
       "5300  2023-02-10 12:02:44                       two stars in pixel; low SNR  \n",
       "5301  2023-02-10 12:02:43                            variable host; low SNR  \n",
       "5302  2023-02-10 12:02:44  likely EB; a/Rs~2; host is member of M38 cluster  \n",
       "5303  2023-02-10 12:02:43                                               NaN  \n",
       "\n",
       "[5 rows x 62 columns]"
      ]
     },
     "execution_count": 3,
     "metadata": {},
     "output_type": "execute_result"
    }
   ],
   "source": [
    "df = get_tois()\n",
    "df.tail()"
   ]
  },
  {
   "cell_type": "raw",
   "id": "6e425a48",
   "metadata": {
    "ExecuteTime": {
     "end_time": "2023-02-09T01:50:30.994853Z",
     "start_time": "2023-02-09T01:50:30.984695Z"
    }
   },
   "source": [
    "#how many multis?\n",
    "tois.Comments.isin(['multi']).sum()"
   ]
  },
  {
   "cell_type": "code",
   "execution_count": 4,
   "id": "9454ab33",
   "metadata": {
    "ExecuteTime": {
     "end_time": "2023-02-20T01:03:09.274629Z",
     "start_time": "2023-02-20T01:03:09.263777Z"
    },
    "scrolled": true
   },
   "outputs": [
    {
     "data": {
      "text/plain": [
       "5096"
      ]
     },
     "execution_count": 4,
     "metadata": {},
     "output_type": "execute_result"
    }
   ],
   "source": [
    "tics = df['TIC ID'].unique()\n",
    "len(tics)"
   ]
  },
  {
   "cell_type": "code",
   "execution_count": 5,
   "id": "7dbb723a",
   "metadata": {
    "ExecuteTime": {
     "end_time": "2023-02-20T01:03:09.864227Z",
     "start_time": "2023-02-20T01:03:09.859917Z"
    },
    "scrolled": true
   },
   "outputs": [
    {
     "data": {
      "text/plain": [
       "5304"
      ]
     },
     "execution_count": 5,
     "metadata": {},
     "output_type": "execute_result"
    }
   ],
   "source": [
    "len(df['TOI'].unique())"
   ]
  },
  {
   "cell_type": "code",
   "execution_count": 6,
   "id": "7dd14f38",
   "metadata": {
    "ExecuteTime": {
     "end_time": "2023-02-20T01:03:10.046249Z",
     "start_time": "2023-02-20T01:03:10.040785Z"
    }
   },
   "outputs": [
    {
     "data": {
      "text/plain": [
       "367630162    5\n",
       "425997655    5\n",
       "150151262    4\n",
       "142276270    4\n",
       "260647166    4\n",
       "            ..\n",
       "59842822     1\n",
       "124491883    1\n",
       "143282930    1\n",
       "147430118    1\n",
       "428767018    1\n",
       "Name: TIC ID, Length: 5096, dtype: int64"
      ]
     },
     "execution_count": 6,
     "metadata": {},
     "output_type": "execute_result"
    }
   ],
   "source": [
    "nsys = df['TIC ID'].value_counts()\n",
    "nsys"
   ]
  },
  {
   "cell_type": "code",
   "execution_count": 7,
   "id": "7efd1369",
   "metadata": {
    "ExecuteTime": {
     "end_time": "2023-02-20T01:03:10.560033Z",
     "start_time": "2023-02-20T01:03:10.556406Z"
    }
   },
   "outputs": [
    {
     "name": "stdout",
     "output_type": "stream",
     "text": [
      "163\n"
     ]
    }
   ],
   "source": [
    "tics_multis = list(nsys[nsys>1].index)\n",
    "print(len(tics_multis))"
   ]
  },
  {
   "cell_type": "markdown",
   "id": "ed6c7339",
   "metadata": {},
   "source": [
    "## TOI 1136 (Dai+2023)\n",
    "First order MMR: 3:2, 2:1, 3:2, 7:5, and 3:2"
   ]
  },
  {
   "cell_type": "code",
   "execution_count": 8,
   "id": "50167d1f",
   "metadata": {
    "ExecuteTime": {
     "end_time": "2023-02-20T01:03:11.932828Z",
     "start_time": "2023-02-20T01:03:11.923821Z"
    }
   },
   "outputs": [
    {
     "data": {
      "text/plain": [
       "830     6.258792\n",
       "829    12.518728\n",
       "832    18.804756\n",
       "831    26.317954\n",
       "Name: Period (days), dtype: float64"
      ]
     },
     "execution_count": 8,
     "metadata": {},
     "output_type": "execute_result"
    }
   ],
   "source": [
    "col = 'Period (days)'\n",
    "d = df[df['TIC ID']==142276270].sort_values(by=col)\n",
    "d[col]"
   ]
  },
  {
   "cell_type": "code",
   "execution_count": 9,
   "id": "7f157354",
   "metadata": {
    "ExecuteTime": {
     "end_time": "2023-02-20T01:03:12.364403Z",
     "start_time": "2023-02-20T01:03:12.356962Z"
    }
   },
   "outputs": [
    {
     "data": {
      "text/plain": [
       "[4.17278, 6.25725, 12.51937, 18.7992, 26.3162, 39.5387]"
      ]
     },
     "execution_count": 9,
     "metadata": {},
     "output_type": "execute_result"
    }
   ],
   "source": [
    "# add two outer planets\n",
    "periods = [4.17278, 6.25725, 12.51937, 18.7992, 26.3162, 39.5387]\n",
    "periods"
   ]
  },
  {
   "cell_type": "markdown",
   "id": "de6ce933",
   "metadata": {},
   "source": [
    "https://arxiv.org/abs/1208.3312"
   ]
  },
  {
   "cell_type": "markdown",
   "id": "25399ab5",
   "metadata": {},
   "source": [
    "$$\n",
    "\\frac{p'}{p} \\sim \\frac{j}{j-1}\n",
    "$$"
   ]
  },
  {
   "cell_type": "markdown",
   "id": "3ee8834e",
   "metadata": {},
   "source": [
    "proximity to resonance:\n",
    "$$\n",
    "\\Delta = \\frac{p'}{p} \\frac{j-1}{j} - 1\n",
    "$$"
   ]
  },
  {
   "cell_type": "code",
   "execution_count": 10,
   "id": "30ea6554",
   "metadata": {
    "ExecuteTime": {
     "end_time": "2023-02-20T01:03:13.488591Z",
     "start_time": "2023-02-20T01:03:13.481382Z"
    },
    "scrolled": true
   },
   "outputs": [
    {
     "data": {
      "text/plain": [
       "[(1, 2), (2, 3), (3, 4), (4, 5), (5, 6), (6, 7), (7, 8), (8, 9)]"
      ]
     },
     "execution_count": 10,
     "metadata": {},
     "output_type": "execute_result"
    }
   ],
   "source": [
    "get_orbit_pairs(10, order=1)"
   ]
  },
  {
   "cell_type": "code",
   "execution_count": 11,
   "id": "4daae78e",
   "metadata": {
    "ExecuteTime": {
     "end_time": "2023-02-20T01:03:21.510657Z",
     "start_time": "2023-02-20T01:03:21.495586Z"
    }
   },
   "outputs": [
    {
     "data": {
      "text/plain": [
       "(['3:2 | P=(6.26,4.17) n=(1,2) (delta=0.03%)',\n",
       "  '2:1 | P=(12.52,6.26) n=(2,3) (delta=0.04%)',\n",
       "  '3:2 | P=(18.80,12.52) n=(3,4) (delta=0.11%)',\n",
       "  '3:2 | P=(39.54,26.32) n=(5,6) (delta=0.16%)'],\n",
       " [0.0003067499364933779,\n",
       "  0.0003891485876383882,\n",
       "  0.001072737685682057,\n",
       "  0.0016314412161837488])"
      ]
     },
     "execution_count": 11,
     "metadata": {},
     "output_type": "execute_result"
    }
   ],
   "source": [
    "resonances_1st_order, deltas = get_resonant_pairs(periods, order=1, tol=0.01)\n",
    "resonances_1st_order, deltas"
   ]
  },
  {
   "cell_type": "code",
   "execution_count": 12,
   "id": "184d159b",
   "metadata": {
    "ExecuteTime": {
     "end_time": "2023-02-20T01:03:55.120097Z",
     "start_time": "2023-02-20T01:03:55.106284Z"
    }
   },
   "outputs": [
    {
     "data": {
      "text/plain": [
       "(['6:4 | P=(6.26,4.17) n=(1,2) (delta=0.03%)',\n",
       "  '4:2 | P=(12.52,6.26) n=(2,3) (delta=0.04%)',\n",
       "  '6:4 | P=(18.80,12.52) n=(3,4) (delta=0.11%)',\n",
       "  '7:5 | P=(26.32,18.80) n=(4,5) (delta=0.01%)',\n",
       "  '6:4 | P=(39.54,26.32) n=(5,6) (delta=0.16%)'],\n",
       " [0.0003067499364933779,\n",
       "  0.0003891485876383882,\n",
       "  0.001072737685682057,\n",
       "  0.00010182804131475542,\n",
       "  0.0016314412161837488])"
      ]
     },
     "execution_count": 12,
     "metadata": {},
     "output_type": "execute_result"
    }
   ],
   "source": [
    "resonances_2nd_order, deltas = get_resonant_pairs(periods, order=2, tol=0.01)\n",
    "resonances_2nd_order, deltas"
   ]
  },
  {
   "cell_type": "markdown",
   "id": "7f523bfb",
   "metadata": {},
   "source": [
    "## All TOIs"
   ]
  },
  {
   "cell_type": "code",
   "execution_count": 79,
   "id": "980dd67f",
   "metadata": {
    "ExecuteTime": {
     "end_time": "2023-02-20T03:06:27.905181Z",
     "start_time": "2023-02-20T03:06:27.778766Z"
    },
    "scrolled": false
   },
   "outputs": [
    {
     "name": "stdout",
     "output_type": "stream",
     "text": [
      "TOI 2104 | TIC 367630162 (nplanets=5):<br>\n",
      "Second Order: 5:3 | P=(3.27,1.98) n=(1,2) (delta=0.85%)\n",
      "\n",
      "TOI 174 | TIC 425997655 (nplanets=5):<br>\n",
      "First Order: 2:1 | P=(7.91,3.98) n=(1,2) (delta=0.57%)<br>\n",
      "Second Order: 4:2 | P=(7.91,3.98) n=(1,2) (delta=0.57%)\n",
      "\n",
      "TOI 1136 | TIC 142276270 (nplanets=4):<br>\n",
      "First Order: 2:1 | P=(12.52,6.26) n=(1,2) (delta=0.01%) 3:2 | P=(18.80,12.52) n=(2,3) (delta=0.14%)<br>\n",
      "Second Order: 4:2 | P=(12.52,6.26) n=(1,2) (delta=0.01%) 6:4 | P=(18.80,12.52) n=(2,3) (delta=0.14%) 7:5 | P=(26.32,18.80) n=(3,4) (delta=0.03%)\n",
      "\n",
      "TOI 700 | TIC 150428135 (nplanets=4):<br>\n",
      "First Order: 4:3 | P=(37.42,27.81) n=(3,4) (delta=0.93%)<br>\n",
      "Second Order: 8:6 | P=(37.42,27.81) n=(3,4) (delta=0.93%)\n",
      "\n",
      "TOI 282 | TIC 29781292 (nplanets=4):<br>\n",
      "First Order: 3:2 | P=(84.26,56.01) n=(3,4) (delta=0.30%)<br>\n",
      "Second Order: 6:4 | P=(84.26,56.01) n=(3,4) (delta=0.30%)\n",
      "\n",
      "TOI 1339 | TIC 269701147 (nplanets=3):<br>\n",
      "First Order: 4:3 | P=(38.35,28.58) n=(2,3) (delta=0.64%)<br>\n",
      "Second Order: 8:6 | P=(38.35,28.58) n=(2,3) (delta=0.64%)\n",
      "\n",
      "TOI 175 | TIC 307210830 (nplanets=3):<br>\n",
      "First Order: 2:1 | P=(7.45,3.69) n=(2,3) (delta=0.94%)<br>\n",
      "Second Order: 4:2 | P=(7.45,3.69) n=(2,3) (delta=0.94%)\n",
      "\n",
      "TOI 663 | TIC 54962195 (nplanets=3):<br>\n",
      "First Order: 3:2 | P=(7.10,4.70) n=(2,3) (delta=0.84%)<br>\n",
      "Second Order: 6:4 | P=(7.10,4.70) n=(2,3) (delta=0.84%)\n",
      "\n",
      "TOI 1730 | TIC 318022259 (nplanets=3):<br>\n",
      "First Order: 2:1 | P=(12.57,6.23) n=(2,3) (delta=0.91%)<br>\n",
      "Second Order: 4:2 | P=(12.57,6.23) n=(2,3) (delta=0.91%)\n",
      "\n",
      "TOI 270 | TIC 259377017 (nplanets=3):<br>\n",
      "First Order: 2:1 | P=(11.38,5.66) n=(2,3) (delta=0.52%)<br>\n",
      "Second Order: 4:2 | P=(11.38,5.66) n=(2,3) (delta=0.52%)\n",
      "\n",
      "TOI 396 | TIC 178155732 (nplanets=3):<br>\n",
      "Second Order: 5:3 | P=(5.97,3.59) n=(1,2) (delta=0.03%)\n",
      "\n",
      "TOI 1670 | TIC 441739020 (nplanets=3):<br>\n",
      "Second Order: 3:1 | P=(123.06,40.75) n=(2,3) (delta=0.66%)\n",
      "\n",
      "TOI 2269 | TIC 441798995 (nplanets=3):<br>\n",
      "First Order: 2:1 | P=(2.84,1.42) n=(1,2) (delta=0.00%)<br>\n",
      "Second Order: 4:2 | P=(2.84,1.42) n=(1,2) (delta=0.00%)\n",
      "\n",
      "TOI 696 | TIC 77156829 (nplanets=3):<br>\n",
      "First Order: 4:3 | P=(4.97,3.69) n=(2,3) (delta=0.80%)<br>\n",
      "Second Order: 8:6 | P=(4.97,3.69) n=(2,3) (delta=0.80%)\n",
      "\n",
      "TOI 4495 | TIC 120826158 (nplanets=2):<br>\n",
      "First Order: 2:1 | P=(5.18,2.57) n=(1,2) (delta=0.86%)<br>\n",
      "Second Order: 4:2 | P=(5.18,2.57) n=(1,2) (delta=0.86%)\n",
      "\n",
      "TOI 1749 | TIC 233602827 (nplanets=2):<br>\n",
      "First Order: 2:1 | P=(9.04,4.49) n=(1,2) (delta=0.74%)<br>\n",
      "Second Order: 4:2 | P=(9.04,4.49) n=(1,2) (delta=0.74%)\n",
      "\n",
      "TOI 5520 | TIC 374180079 (nplanets=2):<br>\n",
      "First Order: 4:3 | P=(19.48,14.70) n=(1,2) (delta=0.58%)<br>\n",
      "Second Order: 8:6 | P=(19.48,14.70) n=(1,2) (delta=0.58%)\n",
      "\n",
      "TOI 4323 | TIC 143022742 (nplanets=2):<br>\n",
      "First Order: 3:2 | P=(21.97,14.68) n=(1,2) (delta=0.21%)<br>\n",
      "Second Order: 6:4 | P=(21.97,14.68) n=(1,2) (delta=0.21%)\n",
      "\n",
      "TOI 406 | TIC 153065527 (nplanets=2):<br>\n",
      "First Order: 2:1 | P=(13.18,6.61) n=(1,2) (delta=0.41%)<br>\n",
      "Second Order: 4:2 | P=(13.18,6.61) n=(1,2) (delta=0.41%)\n",
      "\n",
      "TOI 6054 | TIC 392681545 (nplanets=2):<br>\n",
      "Second Order: 5:3 | P=(12.58,7.49) n=(1,2) (delta=0.74%)\n",
      "\n",
      "TOI 216 | TIC 55652896 (nplanets=2):<br>\n",
      "First Order: 2:1 | P=(34.55,17.39) n=(1,2) (delta=0.64%)<br>\n",
      "Second Order: 4:2 | P=(34.55,17.39) n=(1,2) (delta=0.64%)\n",
      "\n",
      "TOI 1097 | TIC 360630575 (nplanets=2):<br>\n",
      "First Order: 3:2 | P=(13.90,9.19) n=(1,2) (delta=0.87%)<br>\n",
      "Second Order: 6:4 | P=(13.90,9.19) n=(1,2) (delta=0.87%)\n",
      "\n"
     ]
    }
   ],
   "source": [
    "ttv_1st_order = []       # commensurability in 1 planet pair \n",
    "ttv_2nd_order = []\n",
    "ttv_chain = []           # more than 1 planet pair\n",
    "deltas1 = []\n",
    "deltas2 = []\n",
    "texts = []\n",
    "for tic in tics_multis:\n",
    "    dd = df[df['TIC ID']==tic].squeeze()\n",
    "    periods = dd[\"Period (days)\"].values\n",
    "    Nplanets = len(periods)\n",
    "    toi = str(dd.iloc[0].TOI).split('.')[0] \n",
    "    \n",
    "    resonances_1st_order, delta1 = get_resonant_pairs(periods, order=1, tol=0.01);\n",
    "    resonances_2nd_order, delta2 = get_resonant_pairs(periods, order=2, tol=0.01);\n",
    "    msg = f\"TOI {toi} | TIC {tic} (nplanets={Nplanets}):<br>\\n\"\n",
    "    show = False\n",
    "    if len(resonances_1st_order)>=1:\n",
    "        msg += f\"First Order: {' '.join(resonances_1st_order)}<br>\\n\"\n",
    "        ttv_1st_order.append(tic)\n",
    "        deltas1.append(min(delta1))\n",
    "        if len(resonances_1st_order)>=2:\n",
    "            ttv_chain.append(tic)         \n",
    "        show = True\n",
    "    if len(resonances_2nd_order)>=1:\n",
    "        msg += f\"Second Order: {' '.join(resonances_2nd_order)}\\n\"\n",
    "        ttv_2nd_order.append(tic)\n",
    "        deltas2.append(min(delta2))\n",
    "        show = True\n",
    "    if show:\n",
    "        print(msg)\n",
    "        texts.append(msg)"
   ]
  },
  {
   "cell_type": "code",
   "execution_count": 23,
   "id": "9b3c16c7",
   "metadata": {
    "ExecuteTime": {
     "end_time": "2023-02-20T01:09:14.213775Z",
     "start_time": "2023-02-20T01:09:14.209928Z"
    }
   },
   "outputs": [
    {
     "data": {
      "text/plain": [
       "(18, 22)"
      ]
     },
     "execution_count": 23,
     "metadata": {},
     "output_type": "execute_result"
    }
   ],
   "source": [
    "len(ttv_1st_order), len(ttv_2nd_order)"
   ]
  },
  {
   "cell_type": "code",
   "execution_count": 24,
   "id": "2512d2f4",
   "metadata": {
    "ExecuteTime": {
     "end_time": "2023-02-20T01:09:31.004888Z",
     "start_time": "2023-02-20T01:09:30.994378Z"
    }
   },
   "outputs": [
    {
     "data": {
      "text/html": [
       "<div>\n",
       "<style scoped>\n",
       "    .dataframe tbody tr th:only-of-type {\n",
       "        vertical-align: middle;\n",
       "    }\n",
       "\n",
       "    .dataframe tbody tr th {\n",
       "        vertical-align: top;\n",
       "    }\n",
       "\n",
       "    .dataframe thead th {\n",
       "        text-align: right;\n",
       "    }\n",
       "</style>\n",
       "<table border=\"1\" class=\"dataframe\">\n",
       "  <thead>\n",
       "    <tr style=\"text-align: right;\">\n",
       "      <th></th>\n",
       "      <th>tic</th>\n",
       "      <th>delta_min</th>\n",
       "      <th>1st order</th>\n",
       "    </tr>\n",
       "  </thead>\n",
       "  <tbody>\n",
       "    <tr>\n",
       "      <th>9</th>\n",
       "      <td>441798995.0</td>\n",
       "      <td>0.000030</td>\n",
       "      <td>True</td>\n",
       "    </tr>\n",
       "    <tr>\n",
       "      <th>1</th>\n",
       "      <td>142276270.0</td>\n",
       "      <td>0.000091</td>\n",
       "      <td>True</td>\n",
       "    </tr>\n",
       "    <tr>\n",
       "      <th>14</th>\n",
       "      <td>143022742.0</td>\n",
       "      <td>0.002051</td>\n",
       "      <td>True</td>\n",
       "    </tr>\n",
       "    <tr>\n",
       "      <th>3</th>\n",
       "      <td>29781292.0</td>\n",
       "      <td>0.002967</td>\n",
       "      <td>True</td>\n",
       "    </tr>\n",
       "    <tr>\n",
       "      <th>15</th>\n",
       "      <td>153065527.0</td>\n",
       "      <td>0.004089</td>\n",
       "      <td>True</td>\n",
       "    </tr>\n",
       "    <tr>\n",
       "      <th>8</th>\n",
       "      <td>259377017.0</td>\n",
       "      <td>0.005161</td>\n",
       "      <td>True</td>\n",
       "    </tr>\n",
       "    <tr>\n",
       "      <th>0</th>\n",
       "      <td>425997655.0</td>\n",
       "      <td>0.005740</td>\n",
       "      <td>True</td>\n",
       "    </tr>\n",
       "    <tr>\n",
       "      <th>13</th>\n",
       "      <td>374180079.0</td>\n",
       "      <td>0.005803</td>\n",
       "      <td>True</td>\n",
       "    </tr>\n",
       "    <tr>\n",
       "      <th>16</th>\n",
       "      <td>55652896.0</td>\n",
       "      <td>0.006421</td>\n",
       "      <td>True</td>\n",
       "    </tr>\n",
       "    <tr>\n",
       "      <th>4</th>\n",
       "      <td>269701147.0</td>\n",
       "      <td>0.006443</td>\n",
       "      <td>True</td>\n",
       "    </tr>\n",
       "    <tr>\n",
       "      <th>12</th>\n",
       "      <td>233602827.0</td>\n",
       "      <td>0.007402</td>\n",
       "      <td>True</td>\n",
       "    </tr>\n",
       "    <tr>\n",
       "      <th>10</th>\n",
       "      <td>77156829.0</td>\n",
       "      <td>0.008025</td>\n",
       "      <td>True</td>\n",
       "    </tr>\n",
       "    <tr>\n",
       "      <th>6</th>\n",
       "      <td>54962195.0</td>\n",
       "      <td>0.008433</td>\n",
       "      <td>True</td>\n",
       "    </tr>\n",
       "    <tr>\n",
       "      <th>11</th>\n",
       "      <td>120826158.0</td>\n",
       "      <td>0.008613</td>\n",
       "      <td>True</td>\n",
       "    </tr>\n",
       "    <tr>\n",
       "      <th>17</th>\n",
       "      <td>360630575.0</td>\n",
       "      <td>0.008712</td>\n",
       "      <td>True</td>\n",
       "    </tr>\n",
       "    <tr>\n",
       "      <th>7</th>\n",
       "      <td>318022259.0</td>\n",
       "      <td>0.009147</td>\n",
       "      <td>True</td>\n",
       "    </tr>\n",
       "    <tr>\n",
       "      <th>2</th>\n",
       "      <td>150428135.0</td>\n",
       "      <td>0.009309</td>\n",
       "      <td>True</td>\n",
       "    </tr>\n",
       "    <tr>\n",
       "      <th>5</th>\n",
       "      <td>307210830.0</td>\n",
       "      <td>0.009399</td>\n",
       "      <td>True</td>\n",
       "    </tr>\n",
       "  </tbody>\n",
       "</table>\n",
       "</div>"
      ],
      "text/plain": [
       "            tic  delta_min  1st order\n",
       "9   441798995.0   0.000030       True\n",
       "1   142276270.0   0.000091       True\n",
       "14  143022742.0   0.002051       True\n",
       "3    29781292.0   0.002967       True\n",
       "15  153065527.0   0.004089       True\n",
       "8   259377017.0   0.005161       True\n",
       "0   425997655.0   0.005740       True\n",
       "13  374180079.0   0.005803       True\n",
       "16   55652896.0   0.006421       True\n",
       "4   269701147.0   0.006443       True\n",
       "12  233602827.0   0.007402       True\n",
       "10   77156829.0   0.008025       True\n",
       "6    54962195.0   0.008433       True\n",
       "11  120826158.0   0.008613       True\n",
       "17  360630575.0   0.008712       True\n",
       "7   318022259.0   0.009147       True\n",
       "2   150428135.0   0.009309       True\n",
       "5   307210830.0   0.009399       True"
      ]
     },
     "execution_count": 24,
     "metadata": {},
     "output_type": "execute_result"
    }
   ],
   "source": [
    "import pandas as pd\n",
    "\n",
    "s1 = pd.DataFrame(np.c_[ttv_1st_order,deltas1], columns=['tic','delta_min'])\n",
    "s1['1st order'] = True\n",
    "s1.sort_values(by='delta_min')"
   ]
  },
  {
   "cell_type": "code",
   "execution_count": 25,
   "id": "7ffe3588",
   "metadata": {
    "ExecuteTime": {
     "end_time": "2023-02-20T01:10:04.236202Z",
     "start_time": "2023-02-20T01:10:04.224065Z"
    }
   },
   "outputs": [
    {
     "data": {
      "text/html": [
       "<div>\n",
       "<style scoped>\n",
       "    .dataframe tbody tr th:only-of-type {\n",
       "        vertical-align: middle;\n",
       "    }\n",
       "\n",
       "    .dataframe tbody tr th {\n",
       "        vertical-align: top;\n",
       "    }\n",
       "\n",
       "    .dataframe thead th {\n",
       "        text-align: right;\n",
       "    }\n",
       "</style>\n",
       "<table border=\"1\" class=\"dataframe\">\n",
       "  <thead>\n",
       "    <tr style=\"text-align: right;\">\n",
       "      <th></th>\n",
       "      <th>tic</th>\n",
       "      <th>delta_min</th>\n",
       "      <th>2nd order</th>\n",
       "    </tr>\n",
       "  </thead>\n",
       "  <tbody>\n",
       "    <tr>\n",
       "      <th>12</th>\n",
       "      <td>441798995.0</td>\n",
       "      <td>0.000030</td>\n",
       "      <td>True</td>\n",
       "    </tr>\n",
       "    <tr>\n",
       "      <th>2</th>\n",
       "      <td>142276270.0</td>\n",
       "      <td>0.000091</td>\n",
       "      <td>True</td>\n",
       "    </tr>\n",
       "    <tr>\n",
       "      <th>10</th>\n",
       "      <td>178155732.0</td>\n",
       "      <td>0.000263</td>\n",
       "      <td>True</td>\n",
       "    </tr>\n",
       "    <tr>\n",
       "      <th>17</th>\n",
       "      <td>143022742.0</td>\n",
       "      <td>0.002051</td>\n",
       "      <td>True</td>\n",
       "    </tr>\n",
       "    <tr>\n",
       "      <th>4</th>\n",
       "      <td>29781292.0</td>\n",
       "      <td>0.002967</td>\n",
       "      <td>True</td>\n",
       "    </tr>\n",
       "    <tr>\n",
       "      <th>18</th>\n",
       "      <td>153065527.0</td>\n",
       "      <td>0.004089</td>\n",
       "      <td>True</td>\n",
       "    </tr>\n",
       "    <tr>\n",
       "      <th>9</th>\n",
       "      <td>259377017.0</td>\n",
       "      <td>0.005161</td>\n",
       "      <td>True</td>\n",
       "    </tr>\n",
       "    <tr>\n",
       "      <th>1</th>\n",
       "      <td>425997655.0</td>\n",
       "      <td>0.005740</td>\n",
       "      <td>True</td>\n",
       "    </tr>\n",
       "    <tr>\n",
       "      <th>16</th>\n",
       "      <td>374180079.0</td>\n",
       "      <td>0.005803</td>\n",
       "      <td>True</td>\n",
       "    </tr>\n",
       "    <tr>\n",
       "      <th>20</th>\n",
       "      <td>55652896.0</td>\n",
       "      <td>0.006421</td>\n",
       "      <td>True</td>\n",
       "    </tr>\n",
       "    <tr>\n",
       "      <th>5</th>\n",
       "      <td>269701147.0</td>\n",
       "      <td>0.006443</td>\n",
       "      <td>True</td>\n",
       "    </tr>\n",
       "    <tr>\n",
       "      <th>11</th>\n",
       "      <td>441739020.0</td>\n",
       "      <td>0.006624</td>\n",
       "      <td>True</td>\n",
       "    </tr>\n",
       "    <tr>\n",
       "      <th>19</th>\n",
       "      <td>392681545.0</td>\n",
       "      <td>0.007379</td>\n",
       "      <td>True</td>\n",
       "    </tr>\n",
       "    <tr>\n",
       "      <th>15</th>\n",
       "      <td>233602827.0</td>\n",
       "      <td>0.007402</td>\n",
       "      <td>True</td>\n",
       "    </tr>\n",
       "    <tr>\n",
       "      <th>13</th>\n",
       "      <td>77156829.0</td>\n",
       "      <td>0.008025</td>\n",
       "      <td>True</td>\n",
       "    </tr>\n",
       "    <tr>\n",
       "      <th>7</th>\n",
       "      <td>54962195.0</td>\n",
       "      <td>0.008433</td>\n",
       "      <td>True</td>\n",
       "    </tr>\n",
       "    <tr>\n",
       "      <th>0</th>\n",
       "      <td>367630162.0</td>\n",
       "      <td>0.008545</td>\n",
       "      <td>True</td>\n",
       "    </tr>\n",
       "    <tr>\n",
       "      <th>14</th>\n",
       "      <td>120826158.0</td>\n",
       "      <td>0.008613</td>\n",
       "      <td>True</td>\n",
       "    </tr>\n",
       "    <tr>\n",
       "      <th>21</th>\n",
       "      <td>360630575.0</td>\n",
       "      <td>0.008712</td>\n",
       "      <td>True</td>\n",
       "    </tr>\n",
       "    <tr>\n",
       "      <th>8</th>\n",
       "      <td>318022259.0</td>\n",
       "      <td>0.009147</td>\n",
       "      <td>True</td>\n",
       "    </tr>\n",
       "    <tr>\n",
       "      <th>3</th>\n",
       "      <td>150428135.0</td>\n",
       "      <td>0.009309</td>\n",
       "      <td>True</td>\n",
       "    </tr>\n",
       "    <tr>\n",
       "      <th>6</th>\n",
       "      <td>307210830.0</td>\n",
       "      <td>0.009399</td>\n",
       "      <td>True</td>\n",
       "    </tr>\n",
       "  </tbody>\n",
       "</table>\n",
       "</div>"
      ],
      "text/plain": [
       "            tic  delta_min  2nd order\n",
       "12  441798995.0   0.000030       True\n",
       "2   142276270.0   0.000091       True\n",
       "10  178155732.0   0.000263       True\n",
       "17  143022742.0   0.002051       True\n",
       "4    29781292.0   0.002967       True\n",
       "18  153065527.0   0.004089       True\n",
       "9   259377017.0   0.005161       True\n",
       "1   425997655.0   0.005740       True\n",
       "16  374180079.0   0.005803       True\n",
       "20   55652896.0   0.006421       True\n",
       "5   269701147.0   0.006443       True\n",
       "11  441739020.0   0.006624       True\n",
       "19  392681545.0   0.007379       True\n",
       "15  233602827.0   0.007402       True\n",
       "13   77156829.0   0.008025       True\n",
       "7    54962195.0   0.008433       True\n",
       "0   367630162.0   0.008545       True\n",
       "14  120826158.0   0.008613       True\n",
       "21  360630575.0   0.008712       True\n",
       "8   318022259.0   0.009147       True\n",
       "3   150428135.0   0.009309       True\n",
       "6   307210830.0   0.009399       True"
      ]
     },
     "execution_count": 25,
     "metadata": {},
     "output_type": "execute_result"
    }
   ],
   "source": [
    "s2 = pd.DataFrame(np.c_[ttv_2nd_order,deltas2], columns=['tic','delta_min'])\n",
    "s2['2nd order'] = True\n",
    "s2.sort_values(by='delta_min')"
   ]
  },
  {
   "cell_type": "code",
   "execution_count": 39,
   "id": "52a6842e",
   "metadata": {
    "ExecuteTime": {
     "end_time": "2023-02-20T02:10:28.137821Z",
     "start_time": "2023-02-20T02:10:28.117618Z"
    }
   },
   "outputs": [
    {
     "data": {
      "text/html": [
       "<div>\n",
       "<style scoped>\n",
       "    .dataframe tbody tr th:only-of-type {\n",
       "        vertical-align: middle;\n",
       "    }\n",
       "\n",
       "    .dataframe tbody tr th {\n",
       "        vertical-align: top;\n",
       "    }\n",
       "\n",
       "    .dataframe thead th {\n",
       "        text-align: right;\n",
       "    }\n",
       "</style>\n",
       "<table border=\"1\" class=\"dataframe\">\n",
       "  <thead>\n",
       "    <tr style=\"text-align: right;\">\n",
       "      <th></th>\n",
       "      <th>tic</th>\n",
       "      <th>delta_min</th>\n",
       "      <th>1st order</th>\n",
       "      <th>2nd order</th>\n",
       "    </tr>\n",
       "  </thead>\n",
       "  <tbody>\n",
       "    <tr>\n",
       "      <th>9</th>\n",
       "      <td>441798995</td>\n",
       "      <td>0.000030</td>\n",
       "      <td>True</td>\n",
       "      <td>True</td>\n",
       "    </tr>\n",
       "    <tr>\n",
       "      <th>1</th>\n",
       "      <td>142276270</td>\n",
       "      <td>0.000091</td>\n",
       "      <td>True</td>\n",
       "      <td>True</td>\n",
       "    </tr>\n",
       "    <tr>\n",
       "      <th>19</th>\n",
       "      <td>178155732</td>\n",
       "      <td>0.000263</td>\n",
       "      <td>False</td>\n",
       "      <td>True</td>\n",
       "    </tr>\n",
       "    <tr>\n",
       "      <th>14</th>\n",
       "      <td>143022742</td>\n",
       "      <td>0.002051</td>\n",
       "      <td>True</td>\n",
       "      <td>True</td>\n",
       "    </tr>\n",
       "    <tr>\n",
       "      <th>3</th>\n",
       "      <td>29781292</td>\n",
       "      <td>0.002967</td>\n",
       "      <td>True</td>\n",
       "      <td>True</td>\n",
       "    </tr>\n",
       "  </tbody>\n",
       "</table>\n",
       "</div>"
      ],
      "text/plain": [
       "          tic  delta_min  1st order  2nd order\n",
       "9   441798995   0.000030       True       True\n",
       "1   142276270   0.000091       True       True\n",
       "19  178155732   0.000263      False       True\n",
       "14  143022742   0.002051       True       True\n",
       "3    29781292   0.002967       True       True"
      ]
     },
     "execution_count": 39,
     "metadata": {},
     "output_type": "execute_result"
    }
   ],
   "source": [
    "res = pd.merge(s1, s2, how='outer')\n",
    "res = res.replace(np.nan, False)\n",
    "res['tic'] = res.tic.map(int)\n",
    "res = res.sort_values(by='delta_min')\n",
    "res.head()"
   ]
  },
  {
   "cell_type": "raw",
   "id": "21a372b4",
   "metadata": {
    "ExecuteTime": {
     "end_time": "2023-02-20T03:00:39.835891Z",
     "start_time": "2023-02-20T03:00:39.830179Z"
    }
   },
   "source": [
    "np.array(texts)[res.index.values]"
   ]
  },
  {
   "cell_type": "code",
   "execution_count": 83,
   "id": "66c7d83e",
   "metadata": {
    "ExecuteTime": {
     "end_time": "2023-02-20T03:09:06.169518Z",
     "start_time": "2023-02-20T03:09:06.164710Z"
    }
   },
   "outputs": [
    {
     "data": {
      "text/plain": [
       "(22, 22)"
      ]
     },
     "execution_count": 83,
     "metadata": {},
     "output_type": "execute_result"
    }
   ],
   "source": [
    "len(texts), len(res)"
   ]
  },
  {
   "cell_type": "code",
   "execution_count": 81,
   "id": "1a88d2e3",
   "metadata": {
    "ExecuteTime": {
     "end_time": "2023-02-20T03:06:44.728611Z",
     "start_time": "2023-02-20T03:06:44.724765Z"
    },
    "scrolled": false
   },
   "outputs": [
    {
     "name": "stdout",
     "output_type": "stream",
     "text": [
      "TOI 270 | TIC 259377017 (nplanets=3):<br>\n",
      "First Order: 2:1 | P=(11.38,5.66) n=(2,3) (delta=0.52%)<br>\n",
      "Second Order: 4:2 | P=(11.38,5.66) n=(2,3) (delta=0.52%)\n",
      "\n",
      "TOI 174 | TIC 425997655 (nplanets=5):<br>\n",
      "First Order: 2:1 | P=(7.91,3.98) n=(1,2) (delta=0.57%)<br>\n",
      "Second Order: 4:2 | P=(7.91,3.98) n=(1,2) (delta=0.57%)\n",
      "\n",
      "TOI 6054 | TIC 392681545 (nplanets=2):<br>\n",
      "Second Order: 5:3 | P=(12.58,7.49) n=(1,2) (delta=0.74%)\n",
      "\n",
      "TOI 4495 | TIC 120826158 (nplanets=2):<br>\n",
      "First Order: 2:1 | P=(5.18,2.57) n=(1,2) (delta=0.86%)<br>\n",
      "Second Order: 4:2 | P=(5.18,2.57) n=(1,2) (delta=0.86%)\n",
      "\n",
      "TOI 700 | TIC 150428135 (nplanets=4):<br>\n",
      "First Order: 4:3 | P=(37.42,27.81) n=(3,4) (delta=0.93%)<br>\n",
      "Second Order: 8:6 | P=(37.42,27.81) n=(3,4) (delta=0.93%)\n",
      "\n",
      "TOI 1749 | TIC 233602827 (nplanets=2):<br>\n",
      "First Order: 2:1 | P=(9.04,4.49) n=(1,2) (delta=0.74%)<br>\n",
      "Second Order: 4:2 | P=(9.04,4.49) n=(1,2) (delta=0.74%)\n",
      "\n",
      "TOI 1730 | TIC 318022259 (nplanets=3):<br>\n",
      "First Order: 2:1 | P=(12.57,6.23) n=(2,3) (delta=0.91%)<br>\n",
      "Second Order: 4:2 | P=(12.57,6.23) n=(2,3) (delta=0.91%)\n",
      "\n",
      "TOI 2104 | TIC 367630162 (nplanets=5):<br>\n",
      "Second Order: 5:3 | P=(3.27,1.98) n=(1,2) (delta=0.85%)\n",
      "\n",
      "TOI 696 | TIC 77156829 (nplanets=3):<br>\n",
      "First Order: 4:3 | P=(4.97,3.69) n=(2,3) (delta=0.80%)<br>\n",
      "Second Order: 8:6 | P=(4.97,3.69) n=(2,3) (delta=0.80%)\n",
      "\n",
      "TOI 5520 | TIC 374180079 (nplanets=2):<br>\n",
      "First Order: 4:3 | P=(19.48,14.70) n=(1,2) (delta=0.58%)<br>\n",
      "Second Order: 8:6 | P=(19.48,14.70) n=(1,2) (delta=0.58%)\n",
      "\n",
      "TOI 282 | TIC 29781292 (nplanets=4):<br>\n",
      "First Order: 3:2 | P=(84.26,56.01) n=(3,4) (delta=0.30%)<br>\n",
      "Second Order: 6:4 | P=(84.26,56.01) n=(3,4) (delta=0.30%)\n",
      "\n",
      "TOI 216 | TIC 55652896 (nplanets=2):<br>\n",
      "First Order: 2:1 | P=(34.55,17.39) n=(1,2) (delta=0.64%)<br>\n",
      "Second Order: 4:2 | P=(34.55,17.39) n=(1,2) (delta=0.64%)\n",
      "\n",
      "TOI 1097 | TIC 360630575 (nplanets=2):<br>\n",
      "First Order: 3:2 | P=(13.90,9.19) n=(1,2) (delta=0.87%)<br>\n",
      "Second Order: 6:4 | P=(13.90,9.19) n=(1,2) (delta=0.87%)\n",
      "\n",
      "TOI 2269 | TIC 441798995 (nplanets=3):<br>\n",
      "First Order: 2:1 | P=(2.84,1.42) n=(1,2) (delta=0.00%)<br>\n",
      "Second Order: 4:2 | P=(2.84,1.42) n=(1,2) (delta=0.00%)\n",
      "\n",
      "TOI 396 | TIC 178155732 (nplanets=3):<br>\n",
      "Second Order: 5:3 | P=(5.97,3.59) n=(1,2) (delta=0.03%)\n",
      "\n",
      "TOI 175 | TIC 307210830 (nplanets=3):<br>\n",
      "First Order: 2:1 | P=(7.45,3.69) n=(2,3) (delta=0.94%)<br>\n",
      "Second Order: 4:2 | P=(7.45,3.69) n=(2,3) (delta=0.94%)\n",
      "\n",
      "TOI 406 | TIC 153065527 (nplanets=2):<br>\n",
      "First Order: 2:1 | P=(13.18,6.61) n=(1,2) (delta=0.41%)<br>\n",
      "Second Order: 4:2 | P=(13.18,6.61) n=(1,2) (delta=0.41%)\n",
      "\n",
      "TOI 1670 | TIC 441739020 (nplanets=3):<br>\n",
      "Second Order: 3:1 | P=(123.06,40.75) n=(2,3) (delta=0.66%)\n",
      "\n",
      "TOI 4323 | TIC 143022742 (nplanets=2):<br>\n",
      "First Order: 3:2 | P=(21.97,14.68) n=(1,2) (delta=0.21%)<br>\n",
      "Second Order: 6:4 | P=(21.97,14.68) n=(1,2) (delta=0.21%)\n",
      "\n",
      "TOI 663 | TIC 54962195 (nplanets=3):<br>\n",
      "First Order: 3:2 | P=(7.10,4.70) n=(2,3) (delta=0.84%)<br>\n",
      "Second Order: 6:4 | P=(7.10,4.70) n=(2,3) (delta=0.84%)\n",
      "\n",
      "TOI 1136 | TIC 142276270 (nplanets=4):<br>\n",
      "First Order: 2:1 | P=(12.52,6.26) n=(1,2) (delta=0.01%) 3:2 | P=(18.80,12.52) n=(2,3) (delta=0.14%)<br>\n",
      "Second Order: 4:2 | P=(12.52,6.26) n=(1,2) (delta=0.01%) 6:4 | P=(18.80,12.52) n=(2,3) (delta=0.14%) 7:5 | P=(26.32,18.80) n=(3,4) (delta=0.03%)\n",
      "\n",
      "TOI 1339 | TIC 269701147 (nplanets=3):<br>\n",
      "First Order: 4:3 | P=(38.35,28.58) n=(2,3) (delta=0.64%)<br>\n",
      "Second Order: 8:6 | P=(38.35,28.58) n=(2,3) (delta=0.64%)\n",
      "\n"
     ]
    }
   ],
   "source": [
    "idx = res.index.values\n",
    "for i in idx:\n",
    "    print(texts[i])"
   ]
  },
  {
   "cell_type": "code",
   "execution_count": 35,
   "id": "d7c5c2c5",
   "metadata": {
    "ExecuteTime": {
     "end_time": "2023-02-20T01:53:27.018076Z",
     "start_time": "2023-02-20T01:53:27.013623Z"
    }
   },
   "outputs": [],
   "source": [
    "res.to_csv('../data/tics_resonance_from_toi.csv')"
   ]
  },
  {
   "cell_type": "code",
   "execution_count": 33,
   "id": "3e980e2f",
   "metadata": {
    "ExecuteTime": {
     "end_time": "2023-02-20T01:15:25.891831Z",
     "start_time": "2023-02-20T01:15:25.876170Z"
    }
   },
   "outputs": [],
   "source": [
    "np.savetxt('../data/tics_resonance_from_toi.txt', res.tic.tolist(), fmt=\"%d\")\n",
    "np.savetxt('../data/tics_resonance_from_toi_1st_order.txt', ttv_1st_order, fmt=\"%d\")\n",
    "np.savetxt('../data/tics_resonance_from_toi_2nd_order.txt', ttv_2nd_order, fmt=\"%d\")"
   ]
  },
  {
   "cell_type": "markdown",
   "id": "20536dd6",
   "metadata": {},
   "source": [
    "## Transit timing database\n",
    "* https://ui.adsabs.harvard.edu/abs/2022ApJS..259...62I/abstract"
   ]
  },
  {
   "cell_type": "code",
   "execution_count": null,
   "id": "2f54995e",
   "metadata": {},
   "outputs": [],
   "source": [
    "#https://github.com/transit-timing/tt/blob/master/3_database/table4.csv\n",
    "url = \"https://raw.githubusercontent.com/transit-timing/tt/master/3_database/table4.csv\"\n",
    "df2 = pd.read_csv(url)\n",
    "df2"
   ]
  }
 ],
 "metadata": {
  "kernelspec": {
   "display_name": "Python 3 (ipykernel)",
   "language": "python",
   "name": "python3"
  },
  "language_info": {
   "codemirror_mode": {
    "name": "ipython",
    "version": 3
   },
   "file_extension": ".py",
   "mimetype": "text/x-python",
   "name": "python",
   "nbconvert_exporter": "python",
   "pygments_lexer": "ipython3",
   "version": "3.10.9"
  },
  "toc": {
   "base_numbering": 1,
   "nav_menu": {},
   "number_sections": true,
   "sideBar": true,
   "skip_h1_title": false,
   "title_cell": "Table of Contents",
   "title_sidebar": "Contents",
   "toc_cell": false,
   "toc_position": {},
   "toc_section_display": true,
   "toc_window_display": false
  }
 },
 "nbformat": 4,
 "nbformat_minor": 5
}
