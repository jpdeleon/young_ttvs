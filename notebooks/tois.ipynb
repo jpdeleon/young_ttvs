{
 "cells": [
  {
   "cell_type": "markdown",
   "id": "755d6e99-b41e-4383-aeb0-20ea4aa8dc92",
   "metadata": {},
   "source": [
    "# TOIs"
   ]
  },
  {
   "cell_type": "code",
   "execution_count": 1,
   "id": "1355ea8e-51bc-479b-8d87-65d67dd159f5",
   "metadata": {
    "ExecuteTime": {
     "end_time": "2023-02-20T07:32:02.694007Z",
     "start_time": "2023-02-20T07:32:02.690915Z"
    }
   },
   "outputs": [],
   "source": [
    "import sys\n",
    "# import os\n",
    "# assert os.environ['CONDA_DEFAULT_ENV']=='ttv'\n",
    "assert sys.executable==\"/ut3/jerome/miniconda3/envs/ttv/bin/python\""
   ]
  },
  {
   "cell_type": "raw",
   "id": "ba7ea00e-dc2e-4117-8d55-e00ca5703889",
   "metadata": {},
   "source": [
    "!/ut3/jerome/miniconda3/envs/ttv/bin/python -m pip install X"
   ]
  },
  {
   "cell_type": "code",
   "execution_count": 2,
   "id": "8c97dbb5",
   "metadata": {
    "ExecuteTime": {
     "end_time": "2023-02-20T07:32:03.431114Z",
     "start_time": "2023-02-20T07:32:02.695842Z"
    }
   },
   "outputs": [],
   "source": [
    "import sys\n",
    "sys.path.insert(0, '../code')\n",
    "from utils import *"
   ]
  },
  {
   "cell_type": "code",
   "execution_count": 3,
   "id": "464c3a0a",
   "metadata": {
    "ExecuteTime": {
     "end_time": "2023-02-20T07:32:03.521634Z",
     "start_time": "2023-02-20T07:32:03.433907Z"
    }
   },
   "outputs": [
    {
     "name": "stdout",
     "output_type": "stream",
     "text": [
      "Downloading TOIs from: https://exofop.ipac.caltech.edu/tess/download_toi.php?sort=toi&output=csv\n",
      "Saved:  TOIs with TFPWG disposition==FP are removed.\n"
     ]
    },
    {
     "data": {
      "text/html": [
       "<div>\n",
       "<style scoped>\n",
       "    .dataframe tbody tr th:only-of-type {\n",
       "        vertical-align: middle;\n",
       "    }\n",
       "\n",
       "    .dataframe tbody tr th {\n",
       "        vertical-align: top;\n",
       "    }\n",
       "\n",
       "    .dataframe thead th {\n",
       "        text-align: right;\n",
       "    }\n",
       "</style>\n",
       "<table border=\"1\" class=\"dataframe\">\n",
       "  <thead>\n",
       "    <tr style=\"text-align: right;\">\n",
       "      <th></th>\n",
       "      <th>TIC ID</th>\n",
       "      <th>TOI</th>\n",
       "      <th>Previous CTOI</th>\n",
       "      <th>Master</th>\n",
       "      <th>SG1A</th>\n",
       "      <th>SG1B</th>\n",
       "      <th>SG2</th>\n",
       "      <th>SG3</th>\n",
       "      <th>SG4</th>\n",
       "      <th>SG5</th>\n",
       "      <th>...</th>\n",
       "      <th>Stellar Radius (R_Sun) err</th>\n",
       "      <th>Stellar Metallicity</th>\n",
       "      <th>Stellar Metallicity err</th>\n",
       "      <th>Stellar Mass (M_Sun)</th>\n",
       "      <th>Stellar Mass (M_Sun) err</th>\n",
       "      <th>Sectors</th>\n",
       "      <th>Date TOI Alerted (UTC)</th>\n",
       "      <th>Date TOI Updated (UTC)</th>\n",
       "      <th>Date Modified</th>\n",
       "      <th>Comments</th>\n",
       "    </tr>\n",
       "  </thead>\n",
       "  <tbody>\n",
       "    <tr>\n",
       "      <th>7346</th>\n",
       "      <td>239277658</td>\n",
       "      <td>7165.01</td>\n",
       "      <td>TIC 239277658.01</td>\n",
       "      <td>5</td>\n",
       "      <td>5</td>\n",
       "      <td>5</td>\n",
       "      <td>5</td>\n",
       "      <td>5</td>\n",
       "      <td>5</td>\n",
       "      <td>5</td>\n",
       "      <td>...</td>\n",
       "      <td>NaN</td>\n",
       "      <td>0.260</td>\n",
       "      <td>0.100</td>\n",
       "      <td>1.030000</td>\n",
       "      <td>NaN</td>\n",
       "      <td>82</td>\n",
       "      <td>2024-11-14</td>\n",
       "      <td>2024-11-14</td>\n",
       "      <td>2024-11-25 12:15:14</td>\n",
       "      <td>Kepler-44 b</td>\n",
       "    </tr>\n",
       "    <tr>\n",
       "      <th>7347</th>\n",
       "      <td>288421619</td>\n",
       "      <td>7166.01</td>\n",
       "      <td>NaN</td>\n",
       "      <td>2</td>\n",
       "      <td>4</td>\n",
       "      <td>2</td>\n",
       "      <td>2</td>\n",
       "      <td>1</td>\n",
       "      <td>4</td>\n",
       "      <td>4</td>\n",
       "      <td>...</td>\n",
       "      <td>0.006786</td>\n",
       "      <td>NaN</td>\n",
       "      <td>NaN</td>\n",
       "      <td>0.192648</td>\n",
       "      <td>0.020117</td>\n",
       "      <td>82</td>\n",
       "      <td>2024-11-14</td>\n",
       "      <td>2024-11-14</td>\n",
       "      <td>2024-11-25 12:15:14</td>\n",
       "      <td>low SNR</td>\n",
       "    </tr>\n",
       "    <tr>\n",
       "      <th>7348</th>\n",
       "      <td>456482025</td>\n",
       "      <td>7167.01</td>\n",
       "      <td>NaN</td>\n",
       "      <td>3</td>\n",
       "      <td>4</td>\n",
       "      <td>3</td>\n",
       "      <td>3</td>\n",
       "      <td>1</td>\n",
       "      <td>4</td>\n",
       "      <td>4</td>\n",
       "      <td>...</td>\n",
       "      <td>0.072281</td>\n",
       "      <td>-0.096</td>\n",
       "      <td>0.032</td>\n",
       "      <td>1.270000</td>\n",
       "      <td>0.204052</td>\n",
       "      <td>83</td>\n",
       "      <td>2024-11-14</td>\n",
       "      <td>2024-11-14</td>\n",
       "      <td>2024-11-25 12:15:14</td>\n",
       "      <td>weak transit shape but only two transits; Gaia...</td>\n",
       "    </tr>\n",
       "    <tr>\n",
       "      <th>7349</th>\n",
       "      <td>427685831</td>\n",
       "      <td>7168.01</td>\n",
       "      <td>NaN</td>\n",
       "      <td>5</td>\n",
       "      <td>5</td>\n",
       "      <td>5</td>\n",
       "      <td>5</td>\n",
       "      <td>5</td>\n",
       "      <td>5</td>\n",
       "      <td>5</td>\n",
       "      <td>...</td>\n",
       "      <td>0.053226</td>\n",
       "      <td>NaN</td>\n",
       "      <td>NaN</td>\n",
       "      <td>0.853000</td>\n",
       "      <td>0.105875</td>\n",
       "      <td>83</td>\n",
       "      <td>2024-11-14</td>\n",
       "      <td>2024-11-14</td>\n",
       "      <td>2024-11-25 12:15:14</td>\n",
       "      <td>WASP-52 b</td>\n",
       "    </tr>\n",
       "    <tr>\n",
       "      <th>7350</th>\n",
       "      <td>372048733</td>\n",
       "      <td>7169.01</td>\n",
       "      <td>NaN</td>\n",
       "      <td>3</td>\n",
       "      <td>4</td>\n",
       "      <td>3</td>\n",
       "      <td>3</td>\n",
       "      <td>1</td>\n",
       "      <td>4</td>\n",
       "      <td>4</td>\n",
       "      <td>...</td>\n",
       "      <td>0.072060</td>\n",
       "      <td>NaN</td>\n",
       "      <td>NaN</td>\n",
       "      <td>1.060000</td>\n",
       "      <td>0.137384</td>\n",
       "      <td>83</td>\n",
       "      <td>2024-11-14</td>\n",
       "      <td>2024-11-14</td>\n",
       "      <td>2024-11-25 12:15:14</td>\n",
       "      <td>two stars in pixel</td>\n",
       "    </tr>\n",
       "  </tbody>\n",
       "</table>\n",
       "<p>5 rows × 62 columns</p>\n",
       "</div>"
      ],
      "text/plain": [
       "         TIC ID      TOI     Previous CTOI  Master  SG1A  SG1B  SG2  SG3  SG4  \\\n",
       "7346  239277658  7165.01  TIC 239277658.01       5     5     5    5    5    5   \n",
       "7347  288421619  7166.01               NaN       2     4     2    2    1    4   \n",
       "7348  456482025  7167.01               NaN       3     4     3    3    1    4   \n",
       "7349  427685831  7168.01               NaN       5     5     5    5    5    5   \n",
       "7350  372048733  7169.01               NaN       3     4     3    3    1    4   \n",
       "\n",
       "      SG5  ...  Stellar Radius (R_Sun) err  Stellar Metallicity  \\\n",
       "7346    5  ...                         NaN                0.260   \n",
       "7347    4  ...                    0.006786                  NaN   \n",
       "7348    4  ...                    0.072281               -0.096   \n",
       "7349    5  ...                    0.053226                  NaN   \n",
       "7350    4  ...                    0.072060                  NaN   \n",
       "\n",
       "      Stellar Metallicity err  Stellar Mass (M_Sun)  Stellar Mass (M_Sun) err  \\\n",
       "7346                    0.100              1.030000                       NaN   \n",
       "7347                      NaN              0.192648                  0.020117   \n",
       "7348                    0.032              1.270000                  0.204052   \n",
       "7349                      NaN              0.853000                  0.105875   \n",
       "7350                      NaN              1.060000                  0.137384   \n",
       "\n",
       "      Sectors Date TOI Alerted (UTC) Date TOI Updated (UTC)  \\\n",
       "7346       82             2024-11-14             2024-11-14   \n",
       "7347       82             2024-11-14             2024-11-14   \n",
       "7348       83             2024-11-14             2024-11-14   \n",
       "7349       83             2024-11-14             2024-11-14   \n",
       "7350       83             2024-11-14             2024-11-14   \n",
       "\n",
       "            Date Modified                                           Comments  \n",
       "7346  2024-11-25 12:15:14                                        Kepler-44 b  \n",
       "7347  2024-11-25 12:15:14                                            low SNR  \n",
       "7348  2024-11-25 12:15:14  weak transit shape but only two transits; Gaia...  \n",
       "7349  2024-11-25 12:15:14                                          WASP-52 b  \n",
       "7350  2024-11-25 12:15:14                                 two stars in pixel  \n",
       "\n",
       "[5 rows x 62 columns]"
      ]
     },
     "execution_count": 3,
     "metadata": {},
     "output_type": "execute_result"
    }
   ],
   "source": [
    "df = get_tois(clobber=True) #set to True only every new TOI releases\n",
    "df.tail()"
   ]
  },
  {
   "cell_type": "raw",
   "id": "6e425a48",
   "metadata": {
    "ExecuteTime": {
     "end_time": "2023-02-09T01:50:30.994853Z",
     "start_time": "2023-02-09T01:50:30.984695Z"
    }
   },
   "source": [
    "#how many multis?\n",
    "tois.Comments.isin(['multi']).sum()"
   ]
  },
  {
   "cell_type": "code",
   "execution_count": 4,
   "id": "9454ab33",
   "metadata": {
    "ExecuteTime": {
     "end_time": "2023-02-20T07:32:03.528142Z",
     "start_time": "2023-02-20T07:32:03.523479Z"
    },
    "scrolled": true
   },
   "outputs": [
    {
     "data": {
      "text/plain": [
       "5984"
      ]
     },
     "execution_count": 4,
     "metadata": {},
     "output_type": "execute_result"
    }
   ],
   "source": [
    "tics = df['TIC ID'].unique()\n",
    "len(tics)"
   ]
  },
  {
   "cell_type": "code",
   "execution_count": 5,
   "id": "7dbb723a",
   "metadata": {
    "ExecuteTime": {
     "end_time": "2023-02-20T07:32:03.534953Z",
     "start_time": "2023-02-20T07:32:03.530017Z"
    },
    "scrolled": true
   },
   "outputs": [
    {
     "data": {
      "text/plain": [
       "6261"
      ]
     },
     "execution_count": 5,
     "metadata": {},
     "output_type": "execute_result"
    }
   ],
   "source": [
    "len(df['TOI'].unique())"
   ]
  },
  {
   "cell_type": "code",
   "execution_count": 6,
   "id": "7dd14f38",
   "metadata": {
    "ExecuteTime": {
     "end_time": "2023-02-20T07:32:03.542759Z",
     "start_time": "2023-02-20T07:32:03.536644Z"
    }
   },
   "outputs": [
    {
     "data": {
      "text/plain": [
       "TIC ID\n",
       "425997655    5\n",
       "367630162    5\n",
       "251848941    4\n",
       "29781292     4\n",
       "150428135    4\n",
       "            ..\n",
       "45048546     1\n",
       "45299834     1\n",
       "45492609     1\n",
       "45896295     1\n",
       "372048733    1\n",
       "Name: count, Length: 5984, dtype: int64"
      ]
     },
     "execution_count": 6,
     "metadata": {},
     "output_type": "execute_result"
    }
   ],
   "source": [
    "nsys = df['TIC ID'].value_counts()\n",
    "nsys"
   ]
  },
  {
   "cell_type": "code",
   "execution_count": 8,
   "id": "7efd1369",
   "metadata": {
    "ExecuteTime": {
     "end_time": "2023-02-20T07:32:03.547945Z",
     "start_time": "2023-02-20T07:32:03.544643Z"
    }
   },
   "outputs": [
    {
     "data": {
      "text/plain": [
       "216"
      ]
     },
     "execution_count": 8,
     "metadata": {},
     "output_type": "execute_result"
    }
   ],
   "source": [
    "tics_multis = list(nsys[nsys>1].index)\n",
    "len(tics_multis)"
   ]
  },
  {
   "cell_type": "markdown",
   "id": "ed6c7339",
   "metadata": {},
   "source": [
    "## TOI 1136 (Dai+2023)\n",
    "First order MMR: 3:2, 2:1, 3:2, 7:5, and 3:2"
   ]
  },
  {
   "cell_type": "code",
   "execution_count": 9,
   "id": "50167d1f",
   "metadata": {
    "ExecuteTime": {
     "end_time": "2023-02-20T07:32:03.556218Z",
     "start_time": "2023-02-20T07:32:03.549682Z"
    }
   },
   "outputs": [
    {
     "data": {
      "text/plain": [
       "1135     6.258606\n",
       "1134    12.518728\n",
       "1137    18.795547\n",
       "1136    26.320876\n",
       "Name: Period (days), dtype: float64"
      ]
     },
     "execution_count": 9,
     "metadata": {},
     "output_type": "execute_result"
    }
   ],
   "source": [
    "col = 'Period (days)'\n",
    "d = df[df['TIC ID']==142276270].sort_values(by=col)\n",
    "d[col]"
   ]
  },
  {
   "cell_type": "code",
   "execution_count": 10,
   "id": "7f157354",
   "metadata": {
    "ExecuteTime": {
     "end_time": "2023-02-20T07:32:03.563467Z",
     "start_time": "2023-02-20T07:32:03.559796Z"
    }
   },
   "outputs": [
    {
     "data": {
      "text/plain": [
       "[4.17278, 6.25725, 12.51937, 18.7992, 26.3162, 39.5387]"
      ]
     },
     "execution_count": 10,
     "metadata": {},
     "output_type": "execute_result"
    }
   ],
   "source": [
    "# add two outer planets\n",
    "periods = [4.17278, 6.25725, 12.51937, 18.7992, 26.3162, 39.5387]\n",
    "periods"
   ]
  },
  {
   "cell_type": "markdown",
   "id": "de6ce933",
   "metadata": {},
   "source": [
    "https://arxiv.org/abs/1208.3312"
   ]
  },
  {
   "cell_type": "markdown",
   "id": "3ee8834e",
   "metadata": {},
   "source": [
    "$$\n",
    "\\frac{p'}{p} \\sim \\frac{j}{j-1}\n",
    "$$\n",
    "\n",
    "proximity to resonance:\n",
    "$$\n",
    "\\Delta = \\frac{p'}{p} \\frac{j-1}{j} - 1\n",
    "$$"
   ]
  },
  {
   "cell_type": "code",
   "execution_count": 12,
   "id": "30ea6554",
   "metadata": {
    "ExecuteTime": {
     "end_time": "2023-02-20T07:32:03.573126Z",
     "start_time": "2023-02-20T07:32:03.565116Z"
    },
    "scrolled": true
   },
   "outputs": [
    {
     "data": {
      "text/plain": [
       "[(1, 2), (2, 3), (3, 4), (4, 5), (5, 6), (6, 7), (7, 8), (8, 9)]"
      ]
     },
     "execution_count": 12,
     "metadata": {},
     "output_type": "execute_result"
    }
   ],
   "source": [
    "get_orbit_pairs(10, order=1)"
   ]
  },
  {
   "cell_type": "code",
   "execution_count": 13,
   "id": "4daae78e",
   "metadata": {
    "ExecuteTime": {
     "end_time": "2023-02-20T07:32:03.580221Z",
     "start_time": "2023-02-20T07:32:03.574850Z"
    }
   },
   "outputs": [
    {
     "data": {
      "text/plain": [
       "(['3:2 | P=(4.17,6.26) (delta=0.03%)',\n",
       "  '2:1 | P=(6.26,12.52) (delta=0.04%)',\n",
       "  '3:2 | P=(12.52,18.80) (delta=0.11%)',\n",
       "  '3:2 | P=(26.32,39.54) (delta=0.16%)'],\n",
       " [0.0003067499364933779,\n",
       "  0.0003891485876383882,\n",
       "  0.001072737685682057,\n",
       "  0.0016314412161837488])"
      ]
     },
     "execution_count": 13,
     "metadata": {},
     "output_type": "execute_result"
    }
   ],
   "source": [
    "resonances_1st_order, deltas = get_resonant_pairs(periods, order=1, tol=0.01)\n",
    "resonances_1st_order, deltas"
   ]
  },
  {
   "cell_type": "code",
   "execution_count": 14,
   "id": "184d159b",
   "metadata": {
    "ExecuteTime": {
     "end_time": "2023-02-20T07:32:03.586358Z",
     "start_time": "2023-02-20T07:32:03.581878Z"
    }
   },
   "outputs": [
    {
     "data": {
      "text/plain": [
       "(['6:4 | P=(4.17,6.26) (delta=0.03%)',\n",
       "  '4:2 | P=(6.26,12.52) (delta=0.04%)',\n",
       "  '6:4 | P=(12.52,18.80) (delta=0.11%)',\n",
       "  '7:5 | P=(18.80,26.32) (delta=0.01%)',\n",
       "  '6:4 | P=(26.32,39.54) (delta=0.16%)'],\n",
       " [0.0003067499364933779,\n",
       "  0.0003891485876383882,\n",
       "  0.001072737685682057,\n",
       "  0.00010182804131475542,\n",
       "  0.0016314412161837488])"
      ]
     },
     "execution_count": 14,
     "metadata": {},
     "output_type": "execute_result"
    }
   ],
   "source": [
    "resonances_2nd_order, deltas = get_resonant_pairs(periods, order=2, tol=0.01)\n",
    "resonances_2nd_order, deltas"
   ]
  },
  {
   "cell_type": "code",
   "execution_count": 11,
   "id": "2fc83841-3d7b-4545-a549-b7c2aa9ae9a9",
   "metadata": {},
   "outputs": [
    {
     "data": {
      "text/plain": [
       "array([ 1, 27, 67])"
      ]
     },
     "execution_count": 11,
     "metadata": {},
     "output_type": "execute_result"
    }
   ],
   "source": [
    "from tess_stars2px import tess_stars2px_function_entry\n",
    "\n",
    "ticid = 231663901\n",
    "data_json = get_tfop_info(f\"TIC {ticid}\")\n",
    "ra = float(data_json['coordinates']['ra'])\n",
    "dec = float(data_json['coordinates']['dec'])\n",
    "outID, outEclipLong, outEclipLat, outSec, outCam, outCcd, \\\n",
    "            outColPix, outRowPix, scinfo = tess_stars2px_function_entry(\n",
    "                    ticid, ra, dec)\n",
    "outSec"
   ]
  },
  {
   "cell_type": "markdown",
   "id": "7f523bfb",
   "metadata": {},
   "source": [
    "## All TOIs"
   ]
  },
  {
   "cell_type": "markdown",
   "id": "517adbb9-5ef8-43db-bd11-6137e702fb3d",
   "metadata": {},
   "source": [
    "* Science: Discovery of new TTV systems"
   ]
  },
  {
   "cell_type": "code",
   "execution_count": 15,
   "id": "980dd67f",
   "metadata": {
    "ExecuteTime": {
     "end_time": "2023-02-20T07:32:03.687106Z",
     "start_time": "2023-02-20T07:32:03.588197Z"
    }
   },
   "outputs": [
    {
     "data": {
      "application/vnd.jupyter.widget-view+json": {
       "model_id": "447c37df6504494bb60be15eba7079ee",
       "version_major": 2,
       "version_minor": 0
      },
      "text/plain": [
       "  0%|          | 0/216 [00:00<?, ?it/s]"
      ]
     },
     "metadata": {},
     "output_type": "display_data"
    },
    {
     "name": "stdout",
     "output_type": "stream",
     "text": [
      "TOI-2267 | [TIC-459837008](https://exofop.ipac.caltech.edu/tess/target.php?id=459837008) (nplanets=3):<br>\n",
      "First Order: 9:8 | P=(2.03,2.29) (delta=0.02%)<br>\n",
      "TESS sectors=[19 20 25 26 40 52 53 59 60 73 79]<br>\n",
      "\n"
     ]
    },
    {
     "name": "stderr",
     "output_type": "stream",
     "text": [
      "/mnt_ut3/raid_ut3/home/jerome/github/research/project/young_ttvs/notebooks/../code/utils.py:319: RuntimeWarning: divide by zero encountered in double_scalars\n",
      "  delta = abs((Pout/Pin)*(i/j) - 1)\n"
     ]
    },
    {
     "name": "stdout",
     "output_type": "stream",
     "text": [
      "TOI-0663 | [TIC-54962195](https://exofop.ipac.caltech.edu/tess/target.php?id=54962195) (nplanets=3):<br>\n",
      "First Order: 3:2 | P=(4.70,7.10) (delta=0.76%)<br>\n",
      "TESS sectors=[ 9 35 62]<br>\n",
      "\n",
      "TOI-6109 | [TIC-384984325](https://exofop.ipac.caltech.edu/tess/target.php?id=384984325) (nplanets=2):<br>\n",
      "First Order: 3:2 | P=(5.70,8.54) (delta=0.05%)<br>\n",
      "TESS sectors=[18 58]<br>\n",
      "\n",
      "TOI-4323 | [TIC-143022742](https://exofop.ipac.caltech.edu/tess/target.php?id=143022742) (nplanets=2):<br>\n",
      "First Order: 3:2 | P=(14.68,21.97) (delta=0.21%)<br>\n",
      "TESS sectors=[ 4 31]<br>\n",
      "\n",
      "TOI-0406 | [TIC-153065527](https://exofop.ipac.caltech.edu/tess/target.php?id=153065527) (nplanets=2):<br>\n",
      "First Order: 2:1 | P=(6.61,13.18) (delta=0.41%)<br>\n",
      "TESS sectors=[ 3  4 30 31]<br>\n",
      "\n",
      "TOI-6969 | [TIC-17129975](https://exofop.ipac.caltech.edu/tess/target.php?id=17129975) (nplanets=2):<br>\n",
      "Second Order: 3:1 | P=(1.51,4.56) (delta=0.31%)\n",
      "TESS sectors=[14 15 41 55 75]<br>\n",
      "\n",
      "TOI-6022 | [TIC-455947620](https://exofop.ipac.caltech.edu/tess/target.php?id=455947620) (nplanets=2):<br>\n",
      "First Order: 5:4 | P=(1.55,1.93) (delta=0.19%)<br>\n",
      "TESS sectors=[16 17 24 57 78]<br>\n",
      "\n",
      "TOI-0216 | [TIC-55652896](https://exofop.ipac.caltech.edu/tess/target.php?id=55652896) (nplanets=2):<br>\n",
      "First Order: 2:1 | P=(17.39,34.51) (delta=0.78%)<br>\n",
      "TESS sectors=[ 1  2  3  4  5  6  7  8  9 11 12 13 27 28 29 30 31 32 33 34 35 36 37 38\n",
      " 39 61 62 63 64 65 66 67 68 69]<br>\n",
      "\n",
      "TOI-5520 | [TIC-374180079](https://exofop.ipac.caltech.edu/tess/target.php?id=374180079) (nplanets=2):<br>\n",
      "First Order: 4:3 | P=(14.70,19.48) (delta=0.58%)<br>\n",
      "TESS sectors=[35 45 46 62 72]<br>\n",
      "\n"
     ]
    }
   ],
   "source": [
    "from tqdm.notebook import tqdm\n",
    "\n",
    "ttv_1st_order = []       # commensurability in 1 planet pair \n",
    "ttv_2nd_order = []\n",
    "ttv_chain = []           # more than 1 planet pair\n",
    "deltas1 = []\n",
    "deltas2 = []\n",
    "texts = []\n",
    "sectors = []\n",
    "for tic in tqdm(tics_multis):\n",
    "    dd = df[df['TIC ID']==tic].squeeze()\n",
    "    # make sure depth>1ppt\n",
    "    if dd['Depth (ppm)'].any():\n",
    "        if (dd['Depth (ppm)']>1_000).all():\n",
    "            \n",
    "            periods = dd[\"Period (days)\"].values\n",
    "            Nplanets = len(periods)\n",
    "            toi = str(dd.iloc[0].TOI).split('.')[0]\n",
    "            \n",
    "            resonances_1st_order, delta1 = get_resonant_pairs(periods, order=1, tol=0.01);\n",
    "            resonances_2nd_order, delta2 = get_resonant_pairs(periods, order=2, tol=0.01);\n",
    "            msg = f\"TOI-{str(toi).zfill(4)} | [TIC-{tic}](https://exofop.ipac.caltech.edu/tess/target.php?id={tic}) (nplanets={Nplanets}):<br>\\n\"\n",
    "            show = False\n",
    "            if len(resonances_1st_order)>=1:\n",
    "                msg += f\"First Order: {' '.join(resonances_1st_order)}<br>\\n\"\n",
    "                ttv_1st_order.append(tic)\n",
    "                deltas1.append(min(delta1))\n",
    "                if len(resonances_1st_order)>=2:\n",
    "                    ttv_chain.append(tic)         \n",
    "                show = True\n",
    "            if len(resonances_2nd_order)>=1:\n",
    "                if len(resonances_1st_order)>=1:\n",
    "                    i = int(resonances_1st_order[0].split(':')[0])\n",
    "                    j = int(resonances_2nd_order[0].split(':')[0])\n",
    "                    if j/i!=2:\n",
    "                        msg += f\"Second Order: {' '.join(resonances_2nd_order)}\\n\"\n",
    "                        ttv_2nd_order.append(tic)\n",
    "                        deltas2.append(min(delta2))\n",
    "                        show = True\n",
    "                else:\n",
    "                    msg += f\"Second Order: {' '.join(resonances_2nd_order)}\\n\"\n",
    "                    ttv_2nd_order.append(tic)\n",
    "                    deltas2.append(min(delta2))\n",
    "                    show = True\n",
    "        \n",
    "            # check if observed by TESS\n",
    "            if tic is not None:\n",
    "                data_json = get_tfop_info(f\"TIC {tic}\")\n",
    "                ra = float(data_json['coordinates']['ra'])\n",
    "                dec = float(data_json['coordinates']['dec'])\n",
    "                outID, outEclipLong, outEclipLat, outSec, outCam, outCcd, \\\n",
    "                            outColPix, outRowPix, scinfo = tess_stars2px_function_entry(\n",
    "                                    tic, ra, dec)\n",
    "                if len(outSec)>0:\n",
    "                    msg += f\"TESS sectors={outSec}<br>\\n\"\n",
    "                    \n",
    "            if show:\n",
    "                print(msg)\n",
    "                texts.append(msg)"
   ]
  },
  {
   "cell_type": "code",
   "execution_count": 16,
   "id": "9b3c16c7",
   "metadata": {
    "ExecuteTime": {
     "end_time": "2023-02-20T07:32:03.691926Z",
     "start_time": "2023-02-20T07:32:03.688774Z"
    }
   },
   "outputs": [
    {
     "data": {
      "text/plain": [
       "(8, 1)"
      ]
     },
     "execution_count": 16,
     "metadata": {},
     "output_type": "execute_result"
    }
   ],
   "source": [
    "len(ttv_1st_order), len(ttv_2nd_order)"
   ]
  },
  {
   "cell_type": "code",
   "execution_count": 18,
   "id": "2512d2f4",
   "metadata": {
    "ExecuteTime": {
     "end_time": "2023-02-20T07:32:03.706656Z",
     "start_time": "2023-02-20T07:32:03.693286Z"
    }
   },
   "outputs": [
    {
     "data": {
      "text/html": [
       "<div>\n",
       "<style scoped>\n",
       "    .dataframe tbody tr th:only-of-type {\n",
       "        vertical-align: middle;\n",
       "    }\n",
       "\n",
       "    .dataframe tbody tr th {\n",
       "        vertical-align: top;\n",
       "    }\n",
       "\n",
       "    .dataframe thead th {\n",
       "        text-align: right;\n",
       "    }\n",
       "</style>\n",
       "<table border=\"1\" class=\"dataframe\">\n",
       "  <thead>\n",
       "    <tr style=\"text-align: right;\">\n",
       "      <th></th>\n",
       "      <th>tic</th>\n",
       "      <th>delta_min</th>\n",
       "      <th>1st order</th>\n",
       "    </tr>\n",
       "  </thead>\n",
       "  <tbody>\n",
       "    <tr>\n",
       "      <th>0</th>\n",
       "      <td>459837008.0</td>\n",
       "      <td>0.000158</td>\n",
       "      <td>True</td>\n",
       "    </tr>\n",
       "    <tr>\n",
       "      <th>2</th>\n",
       "      <td>384984325.0</td>\n",
       "      <td>0.000488</td>\n",
       "      <td>True</td>\n",
       "    </tr>\n",
       "    <tr>\n",
       "      <th>5</th>\n",
       "      <td>455947620.0</td>\n",
       "      <td>0.001917</td>\n",
       "      <td>True</td>\n",
       "    </tr>\n",
       "    <tr>\n",
       "      <th>3</th>\n",
       "      <td>143022742.0</td>\n",
       "      <td>0.002051</td>\n",
       "      <td>True</td>\n",
       "    </tr>\n",
       "    <tr>\n",
       "      <th>4</th>\n",
       "      <td>153065527.0</td>\n",
       "      <td>0.004089</td>\n",
       "      <td>True</td>\n",
       "    </tr>\n",
       "    <tr>\n",
       "      <th>7</th>\n",
       "      <td>374180079.0</td>\n",
       "      <td>0.005803</td>\n",
       "      <td>True</td>\n",
       "    </tr>\n",
       "    <tr>\n",
       "      <th>1</th>\n",
       "      <td>54962195.0</td>\n",
       "      <td>0.007626</td>\n",
       "      <td>True</td>\n",
       "    </tr>\n",
       "    <tr>\n",
       "      <th>6</th>\n",
       "      <td>55652896.0</td>\n",
       "      <td>0.007826</td>\n",
       "      <td>True</td>\n",
       "    </tr>\n",
       "  </tbody>\n",
       "</table>\n",
       "</div>"
      ],
      "text/plain": [
       "           tic  delta_min  1st order\n",
       "0  459837008.0   0.000158       True\n",
       "2  384984325.0   0.000488       True\n",
       "5  455947620.0   0.001917       True\n",
       "3  143022742.0   0.002051       True\n",
       "4  153065527.0   0.004089       True\n",
       "7  374180079.0   0.005803       True\n",
       "1   54962195.0   0.007626       True\n",
       "6   55652896.0   0.007826       True"
      ]
     },
     "execution_count": 18,
     "metadata": {},
     "output_type": "execute_result"
    }
   ],
   "source": [
    "import pandas as pd\n",
    "\n",
    "s1 = pd.DataFrame(np.c_[ttv_1st_order,deltas1], columns=['tic','delta_min'])\n",
    "s1['1st order'] = True\n",
    "s1.sort_values(by='delta_min')"
   ]
  },
  {
   "cell_type": "code",
   "execution_count": 19,
   "id": "7ffe3588",
   "metadata": {
    "ExecuteTime": {
     "end_time": "2023-02-20T07:32:03.718062Z",
     "start_time": "2023-02-20T07:32:03.707963Z"
    }
   },
   "outputs": [
    {
     "data": {
      "text/html": [
       "<div>\n",
       "<style scoped>\n",
       "    .dataframe tbody tr th:only-of-type {\n",
       "        vertical-align: middle;\n",
       "    }\n",
       "\n",
       "    .dataframe tbody tr th {\n",
       "        vertical-align: top;\n",
       "    }\n",
       "\n",
       "    .dataframe thead th {\n",
       "        text-align: right;\n",
       "    }\n",
       "</style>\n",
       "<table border=\"1\" class=\"dataframe\">\n",
       "  <thead>\n",
       "    <tr style=\"text-align: right;\">\n",
       "      <th></th>\n",
       "      <th>tic</th>\n",
       "      <th>delta_min</th>\n",
       "      <th>2nd order</th>\n",
       "    </tr>\n",
       "  </thead>\n",
       "  <tbody>\n",
       "    <tr>\n",
       "      <th>0</th>\n",
       "      <td>17129975.0</td>\n",
       "      <td>0.003054</td>\n",
       "      <td>True</td>\n",
       "    </tr>\n",
       "  </tbody>\n",
       "</table>\n",
       "</div>"
      ],
      "text/plain": [
       "          tic  delta_min  2nd order\n",
       "0  17129975.0   0.003054       True"
      ]
     },
     "execution_count": 19,
     "metadata": {},
     "output_type": "execute_result"
    }
   ],
   "source": [
    "s2 = pd.DataFrame(np.c_[ttv_2nd_order,deltas2], columns=['tic','delta_min'])\n",
    "s2['2nd order'] = True\n",
    "s2.sort_values(by='delta_min')"
   ]
  },
  {
   "cell_type": "code",
   "execution_count": 20,
   "id": "52a6842e",
   "metadata": {
    "ExecuteTime": {
     "end_time": "2023-02-20T07:32:03.731903Z",
     "start_time": "2023-02-20T07:32:03.719359Z"
    }
   },
   "outputs": [
    {
     "name": "stderr",
     "output_type": "stream",
     "text": [
      "/tmp/ipykernel_4117544/947716635.py:2: FutureWarning: Downcasting behavior in `replace` is deprecated and will be removed in a future version. To retain the old behavior, explicitly call `result.infer_objects(copy=False)`. To opt-in to the future behavior, set `pd.set_option('future.no_silent_downcasting', True)`\n",
      "  res = res.replace(np.nan, False)\n"
     ]
    },
    {
     "data": {
      "text/html": [
       "<div>\n",
       "<style scoped>\n",
       "    .dataframe tbody tr th:only-of-type {\n",
       "        vertical-align: middle;\n",
       "    }\n",
       "\n",
       "    .dataframe tbody tr th {\n",
       "        vertical-align: top;\n",
       "    }\n",
       "\n",
       "    .dataframe thead th {\n",
       "        text-align: right;\n",
       "    }\n",
       "</style>\n",
       "<table border=\"1\" class=\"dataframe\">\n",
       "  <thead>\n",
       "    <tr style=\"text-align: right;\">\n",
       "      <th></th>\n",
       "      <th>tic</th>\n",
       "      <th>delta_min</th>\n",
       "      <th>1st order</th>\n",
       "      <th>2nd order</th>\n",
       "    </tr>\n",
       "  </thead>\n",
       "  <tbody>\n",
       "    <tr>\n",
       "      <th>8</th>\n",
       "      <td>459837008</td>\n",
       "      <td>0.000158</td>\n",
       "      <td>True</td>\n",
       "      <td>False</td>\n",
       "    </tr>\n",
       "    <tr>\n",
       "      <th>6</th>\n",
       "      <td>384984325</td>\n",
       "      <td>0.000488</td>\n",
       "      <td>True</td>\n",
       "      <td>False</td>\n",
       "    </tr>\n",
       "    <tr>\n",
       "      <th>7</th>\n",
       "      <td>455947620</td>\n",
       "      <td>0.001917</td>\n",
       "      <td>True</td>\n",
       "      <td>False</td>\n",
       "    </tr>\n",
       "    <tr>\n",
       "      <th>3</th>\n",
       "      <td>143022742</td>\n",
       "      <td>0.002051</td>\n",
       "      <td>True</td>\n",
       "      <td>False</td>\n",
       "    </tr>\n",
       "    <tr>\n",
       "      <th>0</th>\n",
       "      <td>17129975</td>\n",
       "      <td>0.003054</td>\n",
       "      <td>False</td>\n",
       "      <td>True</td>\n",
       "    </tr>\n",
       "  </tbody>\n",
       "</table>\n",
       "</div>"
      ],
      "text/plain": [
       "         tic  delta_min  1st order  2nd order\n",
       "8  459837008   0.000158       True      False\n",
       "6  384984325   0.000488       True      False\n",
       "7  455947620   0.001917       True      False\n",
       "3  143022742   0.002051       True      False\n",
       "0   17129975   0.003054      False       True"
      ]
     },
     "execution_count": 20,
     "metadata": {},
     "output_type": "execute_result"
    }
   ],
   "source": [
    "res = pd.merge(s1, s2, how='outer')\n",
    "res = res.replace(np.nan, False)\n",
    "res['tic'] = res.tic.map(int)\n",
    "res = res.sort_values(by='delta_min')\n",
    "res.head()"
   ]
  },
  {
   "cell_type": "code",
   "execution_count": 21,
   "id": "2efc836d-a9e9-42d3-ad1c-24e5ed81bb60",
   "metadata": {},
   "outputs": [
    {
     "data": {
      "text/plain": [
       "9"
      ]
     },
     "execution_count": 21,
     "metadata": {},
     "output_type": "execute_result"
    }
   ],
   "source": [
    "len(res)"
   ]
  },
  {
   "cell_type": "raw",
   "id": "a11e4047",
   "metadata": {
    "ExecuteTime": {
     "end_time": "2023-02-20T03:00:39.835891Z",
     "start_time": "2023-02-20T03:00:39.830179Z"
    }
   },
   "source": [
    "np.array(texts)[res.index.values]"
   ]
  },
  {
   "cell_type": "code",
   "execution_count": 22,
   "id": "feabd45d",
   "metadata": {
    "ExecuteTime": {
     "end_time": "2023-02-20T07:32:03.737525Z",
     "start_time": "2023-02-20T07:32:03.733347Z"
    }
   },
   "outputs": [
    {
     "data": {
      "text/plain": [
       "(9, 9)"
      ]
     },
     "execution_count": 22,
     "metadata": {},
     "output_type": "execute_result"
    }
   ],
   "source": [
    "len(texts), len(res)"
   ]
  },
  {
   "cell_type": "raw",
   "id": "d4c39b7a-d265-4a26-b3b0-f76633432a85",
   "metadata": {
    "ExecuteTime": {
     "end_time": "2023-02-20T03:06:44.728611Z",
     "start_time": "2023-02-20T03:06:44.724765Z"
    }
   },
   "source": [
    "idx = res.index.values\n",
    "for i in idx:\n",
    "    print(texts[i])"
   ]
  },
  {
   "cell_type": "raw",
   "id": "17799539-6b73-46fb-a628-8ccac20e1872",
   "metadata": {},
   "source": [
    "[i.split('TIC-')[1].split(']')[0] for i in texts]"
   ]
  },
  {
   "cell_type": "markdown",
   "id": "577a7a17-af1d-4e6e-97ed-cd7e8c8d9092",
   "metadata": {},
   "source": [
    "## Sort by delta"
   ]
  },
  {
   "cell_type": "code",
   "execution_count": 23,
   "id": "a76cf90a",
   "metadata": {
    "ExecuteTime": {
     "end_time": "2023-02-20T07:32:03.744131Z",
     "start_time": "2023-02-20T07:32:03.738699Z"
    }
   },
   "outputs": [
    {
     "name": "stdout",
     "output_type": "stream",
     "text": [
      "TOI-2267 | [TIC-459837008](https://exofop.ipac.caltech.edu/tess/target.php?id=459837008) (nplanets=3):<br>\n",
      "First Order: 9:8 | P=(2.03,2.29) (delta=0.02%)<br>\n",
      "TESS sectors=[19 20 25 26 40 52 53 59 60 73 79]<br>\n",
      "\n",
      "TOI-6109 | [TIC-384984325](https://exofop.ipac.caltech.edu/tess/target.php?id=384984325) (nplanets=2):<br>\n",
      "First Order: 3:2 | P=(5.70,8.54) (delta=0.05%)<br>\n",
      "TESS sectors=[18 58]<br>\n",
      "\n",
      "TOI-6022 | [TIC-455947620](https://exofop.ipac.caltech.edu/tess/target.php?id=455947620) (nplanets=2):<br>\n",
      "First Order: 5:4 | P=(1.55,1.93) (delta=0.19%)<br>\n",
      "TESS sectors=[16 17 24 57 78]<br>\n",
      "\n",
      "TOI-4323 | [TIC-143022742](https://exofop.ipac.caltech.edu/tess/target.php?id=143022742) (nplanets=2):<br>\n",
      "First Order: 3:2 | P=(14.68,21.97) (delta=0.21%)<br>\n",
      "TESS sectors=[ 4 31]<br>\n",
      "\n",
      "TOI-6969 | [TIC-17129975](https://exofop.ipac.caltech.edu/tess/target.php?id=17129975) (nplanets=2):<br>\n",
      "Second Order: 3:1 | P=(1.51,4.56) (delta=0.31%)\n",
      "TESS sectors=[14 15 41 55 75]<br>\n",
      "\n",
      "TOI-0406 | [TIC-153065527](https://exofop.ipac.caltech.edu/tess/target.php?id=153065527) (nplanets=2):<br>\n",
      "First Order: 2:1 | P=(6.61,13.18) (delta=0.41%)<br>\n",
      "TESS sectors=[ 3  4 30 31]<br>\n",
      "\n",
      "TOI-5520 | [TIC-374180079](https://exofop.ipac.caltech.edu/tess/target.php?id=374180079) (nplanets=2):<br>\n",
      "First Order: 4:3 | P=(14.70,19.48) (delta=0.58%)<br>\n",
      "TESS sectors=[35 45 46 62 72]<br>\n",
      "\n",
      "TOI-0663 | [TIC-54962195](https://exofop.ipac.caltech.edu/tess/target.php?id=54962195) (nplanets=3):<br>\n",
      "First Order: 3:2 | P=(4.70,7.10) (delta=0.76%)<br>\n",
      "TESS sectors=[ 9 35 62]<br>\n",
      "\n",
      "TOI-0216 | [TIC-55652896](https://exofop.ipac.caltech.edu/tess/target.php?id=55652896) (nplanets=2):<br>\n",
      "First Order: 2:1 | P=(17.39,34.51) (delta=0.78%)<br>\n",
      "TESS sectors=[ 1  2  3  4  5  6  7  8  9 11 12 13 27 28 29 30 31 32 33 34 35 36 37 38\n",
      " 39 61 62 63 64 65 66 67 68 69]<br>\n",
      "\n"
     ]
    }
   ],
   "source": [
    "for tic in res.tic:\n",
    "    idx = [True if i.split('TIC-')[1].split(']')[0]==str(tic) else False for i in texts]\n",
    "    x = np.array(texts)[idx]\n",
    "    print(x[0] if len(x)>0 else '')"
   ]
  },
  {
   "cell_type": "code",
   "execution_count": 24,
   "id": "31909bdf-92fe-4a7e-b73d-bda270d8722f",
   "metadata": {
    "ExecuteTime": {
     "end_time": "2023-02-20T07:32:03.751302Z",
     "start_time": "2023-02-20T07:32:03.745543Z"
    }
   },
   "outputs": [],
   "source": [
    "res.to_csv('../data/tics_resonance_from_toi.csv')"
   ]
  },
  {
   "cell_type": "code",
   "execution_count": 25,
   "id": "dca8309b-66da-40eb-b524-5f9cd9e1d878",
   "metadata": {},
   "outputs": [
    {
     "data": {
      "text/plain": [
       "array(['0216', '0406', '0663', '2267', '4323', '5520', '6022', '6109',\n",
       "       '6969'], dtype=object)"
      ]
     },
     "execution_count": 25,
     "metadata": {},
     "output_type": "execute_result"
    }
   ],
   "source": [
    "idx = df['TIC ID'].isin(res.tic)\n",
    "tois_in_resonance = df['TOI'][idx].apply(lambda x: str(x).split('.')[0].zfill(4)).unique()\n",
    "tois_in_resonance"
   ]
  },
  {
   "cell_type": "code",
   "execution_count": 26,
   "id": "3e980e2f",
   "metadata": {
    "ExecuteTime": {
     "end_time": "2023-02-20T07:32:03.760082Z",
     "start_time": "2023-02-20T07:32:03.752937Z"
    }
   },
   "outputs": [],
   "source": [
    "np.savetxt('../data/tics_resonance_from_toi.txt', res.tic.tolist(), fmt=\"%d\")\n",
    "np.savetxt('../data/tois_resonance_from_toi.txt', tois_in_resonance, fmt=\"%s\")\n",
    "np.savetxt('../data/tics_resonance_from_toi_1st_order.txt', ttv_1st_order, fmt=\"%d\")\n",
    "np.savetxt('../data/tics_resonance_from_toi_2nd_order.txt', ttv_2nd_order, fmt=\"%d\")"
   ]
  },
  {
   "cell_type": "markdown",
   "id": "20536dd6",
   "metadata": {},
   "source": [
    "## Transit timing database\n",
    "* https://ui.adsabs.harvard.edu/abs/2022ApJS..259...62I/abstract"
   ]
  },
  {
   "cell_type": "code",
   "execution_count": 27,
   "id": "2f54995e",
   "metadata": {
    "ExecuteTime": {
     "end_time": "2023-02-20T07:32:04.274116Z",
     "start_time": "2023-02-20T07:32:03.762154Z"
    }
   },
   "outputs": [
    {
     "data": {
      "text/html": [
       "<div>\n",
       "<style scoped>\n",
       "    .dataframe tbody tr th:only-of-type {\n",
       "        vertical-align: middle;\n",
       "    }\n",
       "\n",
       "    .dataframe tbody tr th {\n",
       "        vertical-align: top;\n",
       "    }\n",
       "\n",
       "    .dataframe thead th {\n",
       "        text-align: right;\n",
       "    }\n",
       "</style>\n",
       "<table border=\"1\" class=\"dataframe\">\n",
       "  <thead>\n",
       "    <tr style=\"text-align: right;\">\n",
       "      <th></th>\n",
       "      <th>System</th>\n",
       "      <th>Orbit number</th>\n",
       "      <th>T_mid</th>\n",
       "      <th>Uncertainty (days)</th>\n",
       "      <th>Time System</th>\n",
       "      <th>#</th>\n",
       "      <th>Reference</th>\n",
       "    </tr>\n",
       "  </thead>\n",
       "  <tbody>\n",
       "    <tr>\n",
       "      <th>0</th>\n",
       "      <td>CoRoT-01</td>\n",
       "      <td>-1412</td>\n",
       "      <td>2.454138e+06</td>\n",
       "      <td>0.000470</td>\n",
       "      <td>BJD</td>\n",
       "      <td>1</td>\n",
       "      <td>2009A&amp;A...506..369B</td>\n",
       "    </tr>\n",
       "    <tr>\n",
       "      <th>1</th>\n",
       "      <td>CoRoT-01</td>\n",
       "      <td>-1411</td>\n",
       "      <td>2.454140e+06</td>\n",
       "      <td>0.000590</td>\n",
       "      <td>BJD</td>\n",
       "      <td>1</td>\n",
       "      <td>2009A&amp;A...506..369B</td>\n",
       "    </tr>\n",
       "    <tr>\n",
       "      <th>2</th>\n",
       "      <td>CoRoT-01</td>\n",
       "      <td>-1410</td>\n",
       "      <td>2.454141e+06</td>\n",
       "      <td>0.000620</td>\n",
       "      <td>BJD</td>\n",
       "      <td>1</td>\n",
       "      <td>2009A&amp;A...506..369B</td>\n",
       "    </tr>\n",
       "    <tr>\n",
       "      <th>3</th>\n",
       "      <td>CoRoT-01</td>\n",
       "      <td>-1409</td>\n",
       "      <td>2.454143e+06</td>\n",
       "      <td>0.000390</td>\n",
       "      <td>BJD</td>\n",
       "      <td>1</td>\n",
       "      <td>2009A&amp;A...506..369B</td>\n",
       "    </tr>\n",
       "    <tr>\n",
       "      <th>4</th>\n",
       "      <td>CoRoT-01</td>\n",
       "      <td>-1408</td>\n",
       "      <td>2.454144e+06</td>\n",
       "      <td>0.001630</td>\n",
       "      <td>BJD</td>\n",
       "      <td>1</td>\n",
       "      <td>2009A&amp;A...506..369B</td>\n",
       "    </tr>\n",
       "    <tr>\n",
       "      <th>...</th>\n",
       "      <td>...</td>\n",
       "      <td>...</td>\n",
       "      <td>...</td>\n",
       "      <td>...</td>\n",
       "      <td>...</td>\n",
       "      <td>...</td>\n",
       "      <td>...</td>\n",
       "    </tr>\n",
       "    <tr>\n",
       "      <th>8662</th>\n",
       "      <td>XO-7</td>\n",
       "      <td>214</td>\n",
       "      <td>2.459407e+06</td>\n",
       "      <td>0.000510</td>\n",
       "      <td>BJD_TDB</td>\n",
       "      <td>1</td>\n",
       "      <td>This work</td>\n",
       "    </tr>\n",
       "    <tr>\n",
       "      <th>8663</th>\n",
       "      <td>XO-7</td>\n",
       "      <td>215</td>\n",
       "      <td>2.459410e+06</td>\n",
       "      <td>0.000467</td>\n",
       "      <td>BJD_TDB</td>\n",
       "      <td>1</td>\n",
       "      <td>This work</td>\n",
       "    </tr>\n",
       "    <tr>\n",
       "      <th>8664</th>\n",
       "      <td>XO-7</td>\n",
       "      <td>216</td>\n",
       "      <td>2.459413e+06</td>\n",
       "      <td>0.000508</td>\n",
       "      <td>BJD_TDB</td>\n",
       "      <td>1</td>\n",
       "      <td>This work</td>\n",
       "    </tr>\n",
       "    <tr>\n",
       "      <th>8665</th>\n",
       "      <td>XO-7</td>\n",
       "      <td>217</td>\n",
       "      <td>2.459415e+06</td>\n",
       "      <td>0.000517</td>\n",
       "      <td>BJD_TDB</td>\n",
       "      <td>1</td>\n",
       "      <td>This work</td>\n",
       "    </tr>\n",
       "    <tr>\n",
       "      <th>8666</th>\n",
       "      <td>XO-7</td>\n",
       "      <td>218</td>\n",
       "      <td>2.459418e+06</td>\n",
       "      <td>0.000462</td>\n",
       "      <td>BJD_TDB</td>\n",
       "      <td>1</td>\n",
       "      <td>This work</td>\n",
       "    </tr>\n",
       "  </tbody>\n",
       "</table>\n",
       "<p>8667 rows × 7 columns</p>\n",
       "</div>"
      ],
      "text/plain": [
       "        System  Orbit number         T_mid  Uncertainty (days) Time System  #  \\\n",
       "0     CoRoT-01         -1412  2.454138e+06            0.000470         BJD  1   \n",
       "1     CoRoT-01         -1411  2.454140e+06            0.000590         BJD  1   \n",
       "2     CoRoT-01         -1410  2.454141e+06            0.000620         BJD  1   \n",
       "3     CoRoT-01         -1409  2.454143e+06            0.000390         BJD  1   \n",
       "4     CoRoT-01         -1408  2.454144e+06            0.001630         BJD  1   \n",
       "...        ...           ...           ...                 ...         ... ..   \n",
       "8662      XO-7           214  2.459407e+06            0.000510     BJD_TDB  1   \n",
       "8663      XO-7           215  2.459410e+06            0.000467     BJD_TDB  1   \n",
       "8664      XO-7           216  2.459413e+06            0.000508     BJD_TDB  1   \n",
       "8665      XO-7           217  2.459415e+06            0.000517     BJD_TDB  1   \n",
       "8666      XO-7           218  2.459418e+06            0.000462     BJD_TDB  1   \n",
       "\n",
       "                Reference  \n",
       "0     2009A&A...506..369B  \n",
       "1     2009A&A...506..369B  \n",
       "2     2009A&A...506..369B  \n",
       "3     2009A&A...506..369B  \n",
       "4     2009A&A...506..369B  \n",
       "...                   ...  \n",
       "8662            This work  \n",
       "8663            This work  \n",
       "8664            This work  \n",
       "8665            This work  \n",
       "8666            This work  \n",
       "\n",
       "[8667 rows x 7 columns]"
      ]
     },
     "execution_count": 27,
     "metadata": {},
     "output_type": "execute_result"
    }
   ],
   "source": [
    "#https://github.com/transit-timing/tt/blob/master/3_database/table4.csv\n",
    "url = \"https://raw.githubusercontent.com/transit-timing/tt/master/3_database/table4.csv\"\n",
    "df2 = pd.read_csv(url)\n",
    "df2"
   ]
  },
  {
   "cell_type": "code",
   "execution_count": null,
   "id": "e2603fba-8b97-4206-acc5-8988345833dc",
   "metadata": {},
   "outputs": [],
   "source": []
  }
 ],
 "metadata": {
  "kernelspec": {
   "display_name": "ttv",
   "language": "python",
   "name": "ttv"
  },
  "language_info": {
   "codemirror_mode": {
    "name": "ipython",
    "version": 3
   },
   "file_extension": ".py",
   "mimetype": "text/x-python",
   "name": "python",
   "nbconvert_exporter": "python",
   "pygments_lexer": "ipython3",
   "version": "3.10.9"
  },
  "toc": {
   "base_numbering": 1,
   "nav_menu": {},
   "number_sections": true,
   "sideBar": true,
   "skip_h1_title": false,
   "title_cell": "Table of Contents",
   "title_sidebar": "Contents",
   "toc_cell": false,
   "toc_position": {},
   "toc_section_display": true,
   "toc_window_display": false
  }
 },
 "nbformat": 4,
 "nbformat_minor": 5
}
