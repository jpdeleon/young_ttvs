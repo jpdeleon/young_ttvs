{
 "cells": [
  {
   "cell_type": "code",
   "execution_count": 6,
   "id": "7d09c569",
   "metadata": {},
   "outputs": [],
   "source": [
    "import os\n",
    "\n",
    "assert os.environ['CONDA_DEFAULT_ENV']=='ttv'"
   ]
  },
  {
   "cell_type": "markdown",
   "id": "832e7198",
   "metadata": {},
   "source": [
    "## TOIs"
   ]
  },
  {
   "cell_type": "code",
   "execution_count": 48,
   "id": "8c97dbb5",
   "metadata": {
    "ExecuteTime": {
     "end_time": "2023-02-15T09:16:49.319366Z",
     "start_time": "2023-02-15T09:16:48.022470Z"
    }
   },
   "outputs": [],
   "source": [
    "import sys\n",
    "sys.path.insert(0, '../code')\n",
    "from utils import get_tois"
   ]
  },
  {
   "cell_type": "code",
   "execution_count": 9,
   "id": "464c3a0a",
   "metadata": {
    "ExecuteTime": {
     "end_time": "2023-02-15T09:16:49.433732Z",
     "start_time": "2023-02-15T09:16:49.321818Z"
    }
   },
   "outputs": [
    {
     "name": "stdout",
     "output_type": "stream",
     "text": [
      "Loaded:  ../data/TOIs.csv\n"
     ]
    },
    {
     "data": {
      "text/html": [
       "<div>\n",
       "<style scoped>\n",
       "    .dataframe tbody tr th:only-of-type {\n",
       "        vertical-align: middle;\n",
       "    }\n",
       "\n",
       "    .dataframe tbody tr th {\n",
       "        vertical-align: top;\n",
       "    }\n",
       "\n",
       "    .dataframe thead th {\n",
       "        text-align: right;\n",
       "    }\n",
       "</style>\n",
       "<table border=\"1\" class=\"dataframe\">\n",
       "  <thead>\n",
       "    <tr style=\"text-align: right;\">\n",
       "      <th></th>\n",
       "      <th>TIC ID</th>\n",
       "      <th>TOI</th>\n",
       "      <th>Previous CTOI</th>\n",
       "      <th>Master</th>\n",
       "      <th>SG1A</th>\n",
       "      <th>SG1B</th>\n",
       "      <th>SG2</th>\n",
       "      <th>SG3</th>\n",
       "      <th>SG4</th>\n",
       "      <th>SG5</th>\n",
       "      <th>...</th>\n",
       "      <th>Stellar Radius (R_Sun) err</th>\n",
       "      <th>Stellar Metallicity</th>\n",
       "      <th>Stellar Metallicity err</th>\n",
       "      <th>Stellar Mass (M_Sun)</th>\n",
       "      <th>Stellar Mass (M_Sun) err</th>\n",
       "      <th>Sectors</th>\n",
       "      <th>Date TOI Alerted (UTC)</th>\n",
       "      <th>Date TOI Updated (UTC)</th>\n",
       "      <th>Date Modified</th>\n",
       "      <th>Comments</th>\n",
       "    </tr>\n",
       "  </thead>\n",
       "  <tbody>\n",
       "    <tr>\n",
       "      <th>5299</th>\n",
       "      <td>428867906</td>\n",
       "      <td>6060.01</td>\n",
       "      <td>NaN</td>\n",
       "      <td>3</td>\n",
       "      <td>4</td>\n",
       "      <td>3</td>\n",
       "      <td>3</td>\n",
       "      <td>1</td>\n",
       "      <td>4</td>\n",
       "      <td>4</td>\n",
       "      <td>...</td>\n",
       "      <td>0.21</td>\n",
       "      <td>0.086</td>\n",
       "      <td>0.070</td>\n",
       "      <td>1.678</td>\n",
       "      <td>0.294829</td>\n",
       "      <td>19,59</td>\n",
       "      <td>2023-02-08</td>\n",
       "      <td>2023-02-08</td>\n",
       "      <td>2023-02-10 12:02:44</td>\n",
       "      <td>low SNR; two stars in pixel</td>\n",
       "    </tr>\n",
       "    <tr>\n",
       "      <th>5300</th>\n",
       "      <td>239823606</td>\n",
       "      <td>6061.01</td>\n",
       "      <td>NaN</td>\n",
       "      <td>2</td>\n",
       "      <td>4</td>\n",
       "      <td>2</td>\n",
       "      <td>2</td>\n",
       "      <td>1</td>\n",
       "      <td>4</td>\n",
       "      <td>4</td>\n",
       "      <td>...</td>\n",
       "      <td>0.05</td>\n",
       "      <td>NaN</td>\n",
       "      <td>NaN</td>\n",
       "      <td>1.000</td>\n",
       "      <td>0.127632</td>\n",
       "      <td>19,43,44,45,59</td>\n",
       "      <td>2023-02-08</td>\n",
       "      <td>2023-02-08</td>\n",
       "      <td>2023-02-10 12:02:44</td>\n",
       "      <td>two stars in pixel; low SNR</td>\n",
       "    </tr>\n",
       "    <tr>\n",
       "      <th>5301</th>\n",
       "      <td>122629761</td>\n",
       "      <td>6062.01</td>\n",
       "      <td>NaN</td>\n",
       "      <td>2</td>\n",
       "      <td>4</td>\n",
       "      <td>2</td>\n",
       "      <td>2</td>\n",
       "      <td>1</td>\n",
       "      <td>4</td>\n",
       "      <td>4</td>\n",
       "      <td>...</td>\n",
       "      <td>0.05</td>\n",
       "      <td>NaN</td>\n",
       "      <td>NaN</td>\n",
       "      <td>1.084</td>\n",
       "      <td>0.146070</td>\n",
       "      <td>19,59</td>\n",
       "      <td>2023-02-08</td>\n",
       "      <td>2023-02-08</td>\n",
       "      <td>2023-02-10 12:02:43</td>\n",
       "      <td>variable host; low SNR</td>\n",
       "    </tr>\n",
       "    <tr>\n",
       "      <th>5302</th>\n",
       "      <td>67031480</td>\n",
       "      <td>6063.01</td>\n",
       "      <td>NaN</td>\n",
       "      <td>3</td>\n",
       "      <td>4</td>\n",
       "      <td>3</td>\n",
       "      <td>3</td>\n",
       "      <td>1</td>\n",
       "      <td>4</td>\n",
       "      <td>4</td>\n",
       "      <td>...</td>\n",
       "      <td>NaN</td>\n",
       "      <td>NaN</td>\n",
       "      <td>NaN</td>\n",
       "      <td>NaN</td>\n",
       "      <td>NaN</td>\n",
       "      <td>19,59</td>\n",
       "      <td>2023-02-08</td>\n",
       "      <td>2023-02-08</td>\n",
       "      <td>2023-02-10 12:02:44</td>\n",
       "      <td>likely EB; a/Rs~2; host is member of M38 cluster</td>\n",
       "    </tr>\n",
       "    <tr>\n",
       "      <th>5303</th>\n",
       "      <td>428767018</td>\n",
       "      <td>6064.01</td>\n",
       "      <td>NaN</td>\n",
       "      <td>3</td>\n",
       "      <td>4</td>\n",
       "      <td>3</td>\n",
       "      <td>3</td>\n",
       "      <td>1</td>\n",
       "      <td>4</td>\n",
       "      <td>4</td>\n",
       "      <td>...</td>\n",
       "      <td>0.14</td>\n",
       "      <td>0.133</td>\n",
       "      <td>0.012</td>\n",
       "      <td>1.464</td>\n",
       "      <td>0.245446</td>\n",
       "      <td>19,59</td>\n",
       "      <td>2023-02-08</td>\n",
       "      <td>2023-02-08</td>\n",
       "      <td>2023-02-10 12:02:43</td>\n",
       "      <td>NaN</td>\n",
       "    </tr>\n",
       "  </tbody>\n",
       "</table>\n",
       "<p>5 rows × 62 columns</p>\n",
       "</div>"
      ],
      "text/plain": [
       "         TIC ID      TOI Previous CTOI  Master  SG1A  SG1B  SG2  SG3  SG4  \\\n",
       "5299  428867906  6060.01           NaN       3     4     3    3    1    4   \n",
       "5300  239823606  6061.01           NaN       2     4     2    2    1    4   \n",
       "5301  122629761  6062.01           NaN       2     4     2    2    1    4   \n",
       "5302   67031480  6063.01           NaN       3     4     3    3    1    4   \n",
       "5303  428767018  6064.01           NaN       3     4     3    3    1    4   \n",
       "\n",
       "      SG5  ...  Stellar Radius (R_Sun) err  Stellar Metallicity  \\\n",
       "5299    4  ...                        0.21                0.086   \n",
       "5300    4  ...                        0.05                  NaN   \n",
       "5301    4  ...                        0.05                  NaN   \n",
       "5302    4  ...                         NaN                  NaN   \n",
       "5303    4  ...                        0.14                0.133   \n",
       "\n",
       "      Stellar Metallicity err  Stellar Mass (M_Sun)  Stellar Mass (M_Sun) err  \\\n",
       "5299                    0.070                 1.678                  0.294829   \n",
       "5300                      NaN                 1.000                  0.127632   \n",
       "5301                      NaN                 1.084                  0.146070   \n",
       "5302                      NaN                   NaN                       NaN   \n",
       "5303                    0.012                 1.464                  0.245446   \n",
       "\n",
       "             Sectors Date TOI Alerted (UTC) Date TOI Updated (UTC)  \\\n",
       "5299           19,59             2023-02-08             2023-02-08   \n",
       "5300  19,43,44,45,59             2023-02-08             2023-02-08   \n",
       "5301           19,59             2023-02-08             2023-02-08   \n",
       "5302           19,59             2023-02-08             2023-02-08   \n",
       "5303           19,59             2023-02-08             2023-02-08   \n",
       "\n",
       "            Date Modified                                          Comments  \n",
       "5299  2023-02-10 12:02:44                       low SNR; two stars in pixel  \n",
       "5300  2023-02-10 12:02:44                       two stars in pixel; low SNR  \n",
       "5301  2023-02-10 12:02:43                            variable host; low SNR  \n",
       "5302  2023-02-10 12:02:44  likely EB; a/Rs~2; host is member of M38 cluster  \n",
       "5303  2023-02-10 12:02:43                                               NaN  \n",
       "\n",
       "[5 rows x 62 columns]"
      ]
     },
     "execution_count": 9,
     "metadata": {},
     "output_type": "execute_result"
    }
   ],
   "source": [
    "df = get_tois()\n",
    "df.tail()"
   ]
  },
  {
   "cell_type": "raw",
   "id": "6e425a48",
   "metadata": {
    "ExecuteTime": {
     "end_time": "2023-02-09T01:50:30.994853Z",
     "start_time": "2023-02-09T01:50:30.984695Z"
    }
   },
   "source": [
    "#how many multis?\n",
    "tois.Comments.isin(['multi']).sum()"
   ]
  },
  {
   "cell_type": "code",
   "execution_count": 10,
   "id": "9454ab33",
   "metadata": {
    "ExecuteTime": {
     "end_time": "2023-02-15T09:16:49.440831Z",
     "start_time": "2023-02-15T09:16:49.435983Z"
    }
   },
   "outputs": [
    {
     "data": {
      "text/plain": [
       "5096"
      ]
     },
     "execution_count": 10,
     "metadata": {},
     "output_type": "execute_result"
    }
   ],
   "source": [
    "tics = df['TIC ID'].unique()\n",
    "len(tics)"
   ]
  },
  {
   "cell_type": "code",
   "execution_count": 11,
   "id": "7dbb723a",
   "metadata": {
    "ExecuteTime": {
     "end_time": "2023-02-15T09:16:49.450221Z",
     "start_time": "2023-02-15T09:16:49.442556Z"
    }
   },
   "outputs": [
    {
     "data": {
      "text/plain": [
       "5304"
      ]
     },
     "execution_count": 11,
     "metadata": {},
     "output_type": "execute_result"
    }
   ],
   "source": [
    "len(df['TOI'].unique())"
   ]
  },
  {
   "cell_type": "code",
   "execution_count": 12,
   "id": "7dd14f38",
   "metadata": {
    "ExecuteTime": {
     "end_time": "2023-02-15T09:16:49.465833Z",
     "start_time": "2023-02-15T09:16:49.451703Z"
    }
   },
   "outputs": [
    {
     "data": {
      "text/plain": [
       "367630162    5\n",
       "425997655    5\n",
       "150151262    4\n",
       "142276270    4\n",
       "260647166    4\n",
       "            ..\n",
       "59842822     1\n",
       "124491883    1\n",
       "143282930    1\n",
       "147430118    1\n",
       "428767018    1\n",
       "Name: TIC ID, Length: 5096, dtype: int64"
      ]
     },
     "execution_count": 12,
     "metadata": {},
     "output_type": "execute_result"
    }
   ],
   "source": [
    "nsys = df['TIC ID'].value_counts()\n",
    "nsys"
   ]
  },
  {
   "cell_type": "code",
   "execution_count": 13,
   "id": "7efd1369",
   "metadata": {
    "ExecuteTime": {
     "end_time": "2023-02-15T09:16:49.479210Z",
     "start_time": "2023-02-15T09:16:49.469624Z"
    }
   },
   "outputs": [
    {
     "name": "stdout",
     "output_type": "stream",
     "text": [
      "163\n"
     ]
    }
   ],
   "source": [
    "tics_multis = list(nsys[nsys>1].index)\n",
    "print(len(tics_multis))"
   ]
  },
  {
   "cell_type": "markdown",
   "id": "ed6c7339",
   "metadata": {},
   "source": [
    "## TOI 1136 (Dai+2023)\n",
    "First order MMR: 3:2, 2:1, 3:2, 7:5, and 3:2"
   ]
  },
  {
   "cell_type": "code",
   "execution_count": 14,
   "id": "50167d1f",
   "metadata": {
    "ExecuteTime": {
     "end_time": "2023-02-15T09:16:49.489734Z",
     "start_time": "2023-02-15T09:16:49.481800Z"
    }
   },
   "outputs": [
    {
     "data": {
      "text/plain": [
       "830     6.258792\n",
       "829    12.518728\n",
       "832    18.804756\n",
       "831    26.317954\n",
       "Name: Period (days), dtype: float64"
      ]
     },
     "execution_count": 14,
     "metadata": {},
     "output_type": "execute_result"
    }
   ],
   "source": [
    "col = 'Period (days)'\n",
    "d = df[df['TIC ID']==142276270].sort_values(by=col)\n",
    "d[col]"
   ]
  },
  {
   "cell_type": "code",
   "execution_count": 15,
   "id": "7f157354",
   "metadata": {
    "ExecuteTime": {
     "end_time": "2023-02-15T09:16:49.504341Z",
     "start_time": "2023-02-15T09:16:49.492865Z"
    }
   },
   "outputs": [
    {
     "data": {
      "text/html": [
       "<div>\n",
       "<style scoped>\n",
       "    .dataframe tbody tr th:only-of-type {\n",
       "        vertical-align: middle;\n",
       "    }\n",
       "\n",
       "    .dataframe tbody tr th {\n",
       "        vertical-align: top;\n",
       "    }\n",
       "\n",
       "    .dataframe thead th {\n",
       "        text-align: right;\n",
       "    }\n",
       "</style>\n",
       "<table border=\"1\" class=\"dataframe\">\n",
       "  <thead>\n",
       "    <tr style=\"text-align: right;\">\n",
       "      <th></th>\n",
       "      <th>Period (days)</th>\n",
       "    </tr>\n",
       "  </thead>\n",
       "  <tbody>\n",
       "    <tr>\n",
       "      <th>0</th>\n",
       "      <td>4.17278</td>\n",
       "    </tr>\n",
       "    <tr>\n",
       "      <th>1</th>\n",
       "      <td>6.25725</td>\n",
       "    </tr>\n",
       "    <tr>\n",
       "      <th>2</th>\n",
       "      <td>12.51937</td>\n",
       "    </tr>\n",
       "    <tr>\n",
       "      <th>3</th>\n",
       "      <td>18.79920</td>\n",
       "    </tr>\n",
       "    <tr>\n",
       "      <th>4</th>\n",
       "      <td>26.31620</td>\n",
       "    </tr>\n",
       "    <tr>\n",
       "      <th>5</th>\n",
       "      <td>39.53870</td>\n",
       "    </tr>\n",
       "  </tbody>\n",
       "</table>\n",
       "</div>"
      ],
      "text/plain": [
       "   Period (days)\n",
       "0        4.17278\n",
       "1        6.25725\n",
       "2       12.51937\n",
       "3       18.79920\n",
       "4       26.31620\n",
       "5       39.53870"
      ]
     },
     "execution_count": 15,
     "metadata": {},
     "output_type": "execute_result"
    }
   ],
   "source": [
    "# add two outer planets\n",
    "d = pd.DataFrame({col: [4.17278,\n",
    "                6.25725,\n",
    "                12.51937,\n",
    "                18.7992,\n",
    "                26.3162,\n",
    "                39.5387]\n",
    "    })\n",
    "d"
   ]
  },
  {
   "cell_type": "markdown",
   "id": "de6ce933",
   "metadata": {},
   "source": [
    "https://arxiv.org/abs/1208.3312"
   ]
  },
  {
   "cell_type": "markdown",
   "id": "25399ab5",
   "metadata": {},
   "source": [
    "$$\n",
    "\\frac{p'}{p} \\sim \\frac{j}{j-1}\n",
    "$$"
   ]
  },
  {
   "cell_type": "markdown",
   "id": "3ee8834e",
   "metadata": {},
   "source": [
    "proximity to resonance:\n",
    "$$\n",
    "\\Delta = \\frac{p'}{p} \\frac{j-1}{j} - 1\n",
    "$$"
   ]
  },
  {
   "cell_type": "code",
   "execution_count": 17,
   "id": "1bf39737",
   "metadata": {
    "ExecuteTime": {
     "end_time": "2023-02-15T09:16:49.519096Z",
     "start_time": "2023-02-15T09:16:49.506720Z"
    }
   },
   "outputs": [],
   "source": [
    "import numpy as np\n",
    "from itertools import combinations\n",
    "\n",
    "def get_planet_pairs(Nplanets, order=1):\n",
    "    cs = list(combinations(range(Nplanets), 2))\n",
    "    cs = [(i,j) for i,j in cs if abs(i-j)==order]\n",
    "    return cs\n",
    "\n",
    "def get_orbit_pairs(N=10):\n",
    "    cs = list(combinations(np.arange(1, N), 2))\n",
    "    return cs\n",
    "\n",
    "def get_resonant_pairs(d, order=1, tol=0.01):\n",
    "    \"\"\"based on period commensurability\"\"\"\n",
    "    Nplanets = len(d)\n",
    "    ordered_pairs = get_planet_pairs(Nplanets, order=order)\n",
    "    deltas = []\n",
    "    for i_out,i_in in ordered_pairs:\n",
    "        Pout = d.iloc[i_out].squeeze()\n",
    "        Pin = d.iloc[i_in].squeeze()\n",
    "        for i,j in get_orbit_pairs(10):            \n",
    "            delta = abs((Pout/Pin)*(j/i) - 1)\n",
    "            if delta<=tol:\n",
    "                text = f\"{j}:{i} | P=({Pout:.2f},{Pin:.2f}) n=({i_in+1},{i_out+1}) (delta={delta*100:.2f}%)\"\n",
    "                deltas.append(text)\n",
    "                break\n",
    "    return deltas"
   ]
  },
  {
   "cell_type": "code",
   "execution_count": 18,
   "id": "477364d2",
   "metadata": {
    "ExecuteTime": {
     "end_time": "2023-02-15T09:16:49.527015Z",
     "start_time": "2023-02-15T09:16:49.520821Z"
    },
    "scrolled": true
   },
   "outputs": [
    {
     "data": {
      "text/plain": [
       "[(0, 1), (1, 2), (2, 3), (3, 4), (4, 5)]"
      ]
     },
     "execution_count": 18,
     "metadata": {},
     "output_type": "execute_result"
    }
   ],
   "source": [
    "get_planet_pairs(6, order=1)"
   ]
  },
  {
   "cell_type": "code",
   "execution_count": 19,
   "id": "4daae78e",
   "metadata": {
    "ExecuteTime": {
     "end_time": "2023-02-15T09:16:49.540447Z",
     "start_time": "2023-02-15T09:16:49.528936Z"
    }
   },
   "outputs": [
    {
     "data": {
      "text/plain": [
       "['3:2 | P=(4.17,6.26) n=(2,1) (delta=0.03%)',\n",
       " '2:1 | P=(6.26,12.52) n=(3,2) (delta=0.04%)',\n",
       " '3:2 | P=(12.52,18.80) n=(4,3) (delta=0.11%)',\n",
       " '7:5 | P=(18.80,26.32) n=(5,4) (delta=0.01%)',\n",
       " '3:2 | P=(26.32,39.54) n=(6,5) (delta=0.16%)']"
      ]
     },
     "execution_count": 19,
     "metadata": {},
     "output_type": "execute_result"
    }
   ],
   "source": [
    "resonances_1st_order = get_resonant_pairs(d, order=1, tol=0.01)\n",
    "resonances_1st_order"
   ]
  },
  {
   "cell_type": "code",
   "execution_count": 20,
   "id": "bcad7811",
   "metadata": {
    "ExecuteTime": {
     "end_time": "2023-02-15T09:16:49.550635Z",
     "start_time": "2023-02-15T09:16:49.542285Z"
    }
   },
   "outputs": [
    {
     "data": {
      "text/plain": [
       "[(0, 2), (1, 3), (2, 4), (3, 5)]"
      ]
     },
     "execution_count": 20,
     "metadata": {},
     "output_type": "execute_result"
    }
   ],
   "source": [
    "get_planet_pairs(6, order=2)"
   ]
  },
  {
   "cell_type": "code",
   "execution_count": 21,
   "id": "184d159b",
   "metadata": {
    "ExecuteTime": {
     "end_time": "2023-02-15T09:16:49.562367Z",
     "start_time": "2023-02-15T09:16:49.552634Z"
    }
   },
   "outputs": [
    {
     "data": {
      "text/plain": [
       "['3:1 | P=(4.17,12.52) n=(3,1) (delta=0.01%)',\n",
       " '3:1 | P=(6.26,18.80) n=(4,2) (delta=0.15%)']"
      ]
     },
     "execution_count": 21,
     "metadata": {},
     "output_type": "execute_result"
    }
   ],
   "source": [
    "resonances_2nd_order = get_resonant_pairs(d, order=2, tol=0.01)\n",
    "resonances_2nd_order"
   ]
  },
  {
   "cell_type": "markdown",
   "id": "7f523bfb",
   "metadata": {},
   "source": [
    "## All TOIs"
   ]
  },
  {
   "cell_type": "code",
   "execution_count": 31,
   "id": "980dd67f",
   "metadata": {
    "ExecuteTime": {
     "end_time": "2023-02-15T09:21:09.861781Z",
     "start_time": "2023-02-15T09:21:09.683311Z"
    },
    "scrolled": false
   },
   "outputs": [
    {
     "name": "stdout",
     "output_type": "stream",
     "text": [
      "TOI 2104 | TIC 367630162 (nplanets=5):\n",
      "First Order: ['9:5 | P=(3.27,5.90) n=(2,1) (delta=0.24%)']\n",
      "\n",
      "TOI 174 | TIC 425997655 (nplanets=5):\n",
      "First Order: ['2:1 | P=(3.98,7.91) n=(5,4) (delta=0.58%)']\n",
      "\n",
      "Second Order: ['3:1 | P=(6.26,18.80) n=(4,2) (delta=0.15%)']\n",
      "\n",
      "TOI 700 | TIC 150428135 (nplanets=4):\n",
      "First Order: ['7:3 | P=(16.05,37.42) n=(2,1) (delta=0.08%)']\n",
      "\n",
      "TOI 282 | TIC 29781292 (nplanets=4):\n",
      "First Order: ['8:3 | P=(31.32,84.26) n=(3,2) (delta=0.87%)']\n",
      "\n",
      "Second Order: ['3:2 | P=(56.01,84.26) n=(3,1) (delta=0.30%)']\n",
      "\n",
      "TOI 1339 | TIC 269701147 (nplanets=3):\n",
      "First Order: ['4:3 | P=(28.58,38.35) n=(3,2) (delta=0.64%)']\n",
      "\n",
      "Second Order: ['9:4 | P=(6.39,14.33) n=(3,1) (delta=0.28%)']\n",
      "\n",
      "TOI 175 | TIC 307210830 (nplanets=3):\n",
      "First Order: ['2:1 | P=(3.69,7.45) n=(2,1) (delta=0.93%)']\n",
      "\n",
      "TOI 699 | TIC 149302744 (nplanets=3):\n",
      "First Order: ['9:4 | P=(14.80,33.63) n=(2,1) (delta=0.99%)']\n",
      "\n",
      "TOI 1208 | TIC 273985865 (nplanets=3):\n",
      "First Order: ['8:5 | P=(10.98,17.73) n=(3,2) (delta=0.87%)']\n",
      "\n",
      "TOI 663 | TIC 54962195 (nplanets=3):\n",
      "First Order: ['9:5 | P=(2.60,4.70) n=(2,1) (delta=0.37%)', '3:2 | P=(4.70,7.10) n=(3,2) (delta=0.84%)']\n",
      "\n",
      "Second Order: ['2:1 | P=(6.23,12.57) n=(3,1) (delta=0.91%)']\n",
      "\n",
      "TOI 270 | TIC 259377017 (nplanets=3):\n",
      "First Order: ['2:1 | P=(5.66,11.38) n=(2,1) (delta=0.51%)']\n",
      "\n",
      "Second Order: ['3:1 | P=(40.75,123.06) n=(3,1) (delta=0.66%)']\n",
      "\n",
      "TOI 2269 | TIC 441798995 (nplanets=3):\n",
      "First Order: ['2:1 | P=(1.42,2.84) n=(2,1) (delta=0.00%)']\n",
      "\n",
      "TOI 696 | TIC 77156829 (nplanets=3):\n",
      "First Order: ['4:3 | P=(3.69,4.97) n=(3,2) (delta=0.80%)']\n",
      "\n",
      "TOI 1692 | TIC 288636342 (nplanets=2):\n",
      "First Order: ['9:5 | P=(17.73,32.21) n=(2,1) (delta=0.92%)']\n",
      "\n",
      "TOI 1749 | TIC 233602827 (nplanets=2):\n",
      "First Order: ['2:1 | P=(4.49,9.04) n=(2,1) (delta=0.73%)']\n",
      "\n",
      "TOI 2540 | TIC 354518617 (nplanets=2):\n",
      "First Order: ['7:4 | P=(12.72,22.08) n=(2,1) (delta=0.80%)']\n",
      "\n",
      "TOI 5520 | TIC 374180079 (nplanets=2):\n",
      "First Order: ['4:3 | P=(14.70,19.48) n=(2,1) (delta=0.58%)']\n",
      "\n",
      "TOI 4323 | TIC 143022742 (nplanets=2):\n",
      "First Order: ['3:2 | P=(14.68,21.97) n=(2,1) (delta=0.21%)']\n",
      "\n",
      "TOI 6054 | TIC 392681545 (nplanets=2):\n",
      "First Order: ['5:3 | P=(7.49,12.58) n=(2,1) (delta=0.73%)']\n",
      "\n",
      "TOI 2095 | TIC 235678745 (nplanets=2):\n",
      "First Order: ['8:5 | P=(17.66,28.17) n=(2,1) (delta=0.32%)']\n",
      "\n",
      "TOI 714 | TIC 219195044 (nplanets=2):\n",
      "First Order: ['7:3 | P=(4.32,10.18) n=(2,1) (delta=0.87%)']\n",
      "\n",
      "TOI 1097 | TIC 360630575 (nplanets=2):\n",
      "First Order: ['3:2 | P=(9.19,13.90) n=(2,1) (delta=0.86%)']\n",
      "\n"
     ]
    },
    {
     "name": "stderr",
     "output_type": "stream",
     "text": [
      "/tmp/ipykernel_2401444/217801383.py:22: RuntimeWarning: divide by zero encountered in scalar divide\n",
      "  delta = abs((Pout/Pin)*(j/i) - 1)\n",
      "/tmp/ipykernel_2401444/217801383.py:22: RuntimeWarning: invalid value encountered in scalar divide\n",
      "  delta = abs((Pout/Pin)*(j/i) - 1)\n"
     ]
    }
   ],
   "source": [
    "tics_ttv = []\n",
    "tois_ttv = []\n",
    "tois_ttv_chain = []\n",
    "tois_ttv_with_second_order_too = []\n",
    "for tic in tics_multis:\n",
    "    dd = df[df['TIC ID']==tic].squeeze()\n",
    "    d = dd[\"Period (days)\"]\n",
    "    toi = str(dd.iloc[0].TOI).split('.')[0] \n",
    "    resonances_1st_order = get_resonant_pairs(d, order=1, tol=0.01);\n",
    "    resonances_2nd_order = get_resonant_pairs(d, order=2, tol=0.01);\n",
    "    if len(resonances_1st_order)>=1:\n",
    "        print(f\"TOI {toi} | TIC {tic} (nplanets={len(d)}):\")\n",
    "        print(f\"First Order: {[i for i in resonances_1st_order]}\\n\")\n",
    "        tois_ttv.append(toi)\n",
    "        tics_ttv.append(tic)\n",
    "        if len(resonances_1st_order)>=2:\n",
    "            tois_ttv_chain.append(toi)\n",
    "    if len(resonances_2nd_order)>=1:\n",
    "        print(f\"Second Order: {[i for i in resonances_2nd_order]}\\n\")\n",
    "        tois_ttv_with_second_order_too.append(toi)"
   ]
  },
  {
   "cell_type": "code",
   "execution_count": 49,
   "id": "c1b0ed2f",
   "metadata": {},
   "outputs": [],
   "source": [
    "near_resonant = pd.DataFrame([tics_ttv,tois_ttv], [\"tic\",\"toi\"]).T\n",
    "near_resonant.to_csv('../tql/tois_tics.csv', index=False)"
   ]
  },
  {
   "cell_type": "code",
   "execution_count": 32,
   "id": "9e6d0a3e",
   "metadata": {
    "ExecuteTime": {
     "end_time": "2023-02-15T09:18:06.445431Z",
     "start_time": "2023-02-15T09:18:06.433141Z"
    }
   },
   "outputs": [
    {
     "data": {
      "text/plain": [
       "[174,\n",
       " 175,\n",
       " 270,\n",
       " 282,\n",
       " 663,\n",
       " 696,\n",
       " 699,\n",
       " 700,\n",
       " 714,\n",
       " 1097,\n",
       " 1208,\n",
       " 1339,\n",
       " 1692,\n",
       " 1749,\n",
       " 2095,\n",
       " 2104,\n",
       " 2269,\n",
       " 2540,\n",
       " 4323,\n",
       " 5520,\n",
       " 6054]"
      ]
     },
     "execution_count": 32,
     "metadata": {},
     "output_type": "execute_result"
    }
   ],
   "source": [
    "tics_ttv = sorted(map(int, tics_ttv))\n",
    "tois_ttv = sorted(map(int, tois_ttv))\n",
    "tois_ttv"
   ]
  },
  {
   "cell_type": "code",
   "execution_count": 33,
   "id": "3e980e2f",
   "metadata": {
    "ExecuteTime": {
     "end_time": "2023-02-15T09:18:08.489740Z",
     "start_time": "2023-02-15T09:18:08.485408Z"
    }
   },
   "outputs": [],
   "source": [
    "np.savetxt('../tql/tics.txt', tics_ttv, fmt=\"%d\")\n",
    "np.savetxt('../tql/tois.txt', tois_ttv, fmt=\"%d\")"
   ]
  },
  {
   "cell_type": "code",
   "execution_count": 29,
   "id": "712668dd",
   "metadata": {
    "ExecuteTime": {
     "end_time": "2023-02-15T09:21:18.023702Z",
     "start_time": "2023-02-15T09:21:18.019694Z"
    }
   },
   "outputs": [
    {
     "data": {
      "text/plain": [
       "['663']"
      ]
     },
     "execution_count": 29,
     "metadata": {},
     "output_type": "execute_result"
    }
   ],
   "source": [
    "tois_ttv_chain"
   ]
  },
  {
   "cell_type": "code",
   "execution_count": 30,
   "id": "81468a2a",
   "metadata": {
    "ExecuteTime": {
     "end_time": "2023-02-15T09:21:19.982071Z",
     "start_time": "2023-02-15T09:21:19.978003Z"
    }
   },
   "outputs": [
    {
     "data": {
      "text/plain": [
       "[282, 880, 1136, 1670, 1730]"
      ]
     },
     "execution_count": 30,
     "metadata": {},
     "output_type": "execute_result"
    }
   ],
   "source": [
    "sorted(map(int, tois_ttv_with_second_order_too))"
   ]
  },
  {
   "cell_type": "raw",
   "id": "350be7ac",
   "metadata": {},
   "source": [
    "df.columns.tolist()"
   ]
  },
  {
   "cell_type": "code",
   "execution_count": 47,
   "id": "d16f5f0d",
   "metadata": {},
   "outputs": [
    {
     "data": {
      "text/html": [
       "<div>\n",
       "<style scoped>\n",
       "    .dataframe tbody tr th:only-of-type {\n",
       "        vertical-align: middle;\n",
       "    }\n",
       "\n",
       "    .dataframe tbody tr th {\n",
       "        vertical-align: top;\n",
       "    }\n",
       "\n",
       "    .dataframe thead th {\n",
       "        text-align: right;\n",
       "    }\n",
       "</style>\n",
       "<table border=\"1\" class=\"dataframe\">\n",
       "  <thead>\n",
       "    <tr style=\"text-align: right;\">\n",
       "      <th></th>\n",
       "      <th>Period (days)</th>\n",
       "      <th>Epoch (BJD)</th>\n",
       "    </tr>\n",
       "  </thead>\n",
       "  <tbody>\n",
       "    <tr>\n",
       "      <th>473</th>\n",
       "      <td>2.598905</td>\n",
       "      <td>2.458544e+06</td>\n",
       "    </tr>\n",
       "  </tbody>\n",
       "</table>\n",
       "</div>"
      ],
      "text/plain": [
       "     Period (days)   Epoch (BJD)\n",
       "473       2.598905  2.458544e+06"
      ]
     },
     "execution_count": 47,
     "metadata": {},
     "output_type": "execute_result"
    }
   ],
   "source": []
  },
  {
   "cell_type": "code",
   "execution_count": null,
   "id": "a92b9f92",
   "metadata": {},
   "outputs": [],
   "source": []
  },
  {
   "cell_type": "code",
   "execution_count": null,
   "id": "b39b66ef",
   "metadata": {},
   "outputs": [],
   "source": []
  },
  {
   "cell_type": "markdown",
   "id": "c43e9975",
   "metadata": {},
   "source": [
    "## Transit timing database\n",
    "* https://ui.adsabs.harvard.edu/abs/2022ApJS..259...62I/abstract"
   ]
  },
  {
   "cell_type": "code",
   "execution_count": 103,
   "id": "f9b87cb4",
   "metadata": {
    "ExecuteTime": {
     "end_time": "2023-02-15T08:28:05.837259Z",
     "start_time": "2023-02-15T08:28:01.953278Z"
    }
   },
   "outputs": [
    {
     "data": {
      "text/html": [
       "<div>\n",
       "<style scoped>\n",
       "    .dataframe tbody tr th:only-of-type {\n",
       "        vertical-align: middle;\n",
       "    }\n",
       "\n",
       "    .dataframe tbody tr th {\n",
       "        vertical-align: top;\n",
       "    }\n",
       "\n",
       "    .dataframe thead th {\n",
       "        text-align: right;\n",
       "    }\n",
       "</style>\n",
       "<table border=\"1\" class=\"dataframe\">\n",
       "  <thead>\n",
       "    <tr style=\"text-align: right;\">\n",
       "      <th></th>\n",
       "      <th>System</th>\n",
       "      <th>Orbit number</th>\n",
       "      <th>T_mid</th>\n",
       "      <th>Uncertainty (days)</th>\n",
       "      <th>Time System</th>\n",
       "      <th>#</th>\n",
       "      <th>Reference</th>\n",
       "    </tr>\n",
       "  </thead>\n",
       "  <tbody>\n",
       "    <tr>\n",
       "      <th>0</th>\n",
       "      <td>CoRoT-01</td>\n",
       "      <td>-1412</td>\n",
       "      <td>2.454138e+06</td>\n",
       "      <td>0.000470</td>\n",
       "      <td>BJD</td>\n",
       "      <td>1</td>\n",
       "      <td>2009A&amp;A...506..369B</td>\n",
       "    </tr>\n",
       "    <tr>\n",
       "      <th>1</th>\n",
       "      <td>CoRoT-01</td>\n",
       "      <td>-1411</td>\n",
       "      <td>2.454140e+06</td>\n",
       "      <td>0.000590</td>\n",
       "      <td>BJD</td>\n",
       "      <td>1</td>\n",
       "      <td>2009A&amp;A...506..369B</td>\n",
       "    </tr>\n",
       "    <tr>\n",
       "      <th>2</th>\n",
       "      <td>CoRoT-01</td>\n",
       "      <td>-1410</td>\n",
       "      <td>2.454141e+06</td>\n",
       "      <td>0.000620</td>\n",
       "      <td>BJD</td>\n",
       "      <td>1</td>\n",
       "      <td>2009A&amp;A...506..369B</td>\n",
       "    </tr>\n",
       "    <tr>\n",
       "      <th>3</th>\n",
       "      <td>CoRoT-01</td>\n",
       "      <td>-1409</td>\n",
       "      <td>2.454143e+06</td>\n",
       "      <td>0.000390</td>\n",
       "      <td>BJD</td>\n",
       "      <td>1</td>\n",
       "      <td>2009A&amp;A...506..369B</td>\n",
       "    </tr>\n",
       "    <tr>\n",
       "      <th>4</th>\n",
       "      <td>CoRoT-01</td>\n",
       "      <td>-1408</td>\n",
       "      <td>2.454144e+06</td>\n",
       "      <td>0.001630</td>\n",
       "      <td>BJD</td>\n",
       "      <td>1</td>\n",
       "      <td>2009A&amp;A...506..369B</td>\n",
       "    </tr>\n",
       "    <tr>\n",
       "      <th>...</th>\n",
       "      <td>...</td>\n",
       "      <td>...</td>\n",
       "      <td>...</td>\n",
       "      <td>...</td>\n",
       "      <td>...</td>\n",
       "      <td>...</td>\n",
       "      <td>...</td>\n",
       "    </tr>\n",
       "    <tr>\n",
       "      <th>8662</th>\n",
       "      <td>XO-7</td>\n",
       "      <td>214</td>\n",
       "      <td>2.459407e+06</td>\n",
       "      <td>0.000510</td>\n",
       "      <td>BJD_TDB</td>\n",
       "      <td>1</td>\n",
       "      <td>This work</td>\n",
       "    </tr>\n",
       "    <tr>\n",
       "      <th>8663</th>\n",
       "      <td>XO-7</td>\n",
       "      <td>215</td>\n",
       "      <td>2.459410e+06</td>\n",
       "      <td>0.000467</td>\n",
       "      <td>BJD_TDB</td>\n",
       "      <td>1</td>\n",
       "      <td>This work</td>\n",
       "    </tr>\n",
       "    <tr>\n",
       "      <th>8664</th>\n",
       "      <td>XO-7</td>\n",
       "      <td>216</td>\n",
       "      <td>2.459413e+06</td>\n",
       "      <td>0.000508</td>\n",
       "      <td>BJD_TDB</td>\n",
       "      <td>1</td>\n",
       "      <td>This work</td>\n",
       "    </tr>\n",
       "    <tr>\n",
       "      <th>8665</th>\n",
       "      <td>XO-7</td>\n",
       "      <td>217</td>\n",
       "      <td>2.459415e+06</td>\n",
       "      <td>0.000517</td>\n",
       "      <td>BJD_TDB</td>\n",
       "      <td>1</td>\n",
       "      <td>This work</td>\n",
       "    </tr>\n",
       "    <tr>\n",
       "      <th>8666</th>\n",
       "      <td>XO-7</td>\n",
       "      <td>218</td>\n",
       "      <td>2.459418e+06</td>\n",
       "      <td>0.000462</td>\n",
       "      <td>BJD_TDB</td>\n",
       "      <td>1</td>\n",
       "      <td>This work</td>\n",
       "    </tr>\n",
       "  </tbody>\n",
       "</table>\n",
       "<p>8667 rows × 7 columns</p>\n",
       "</div>"
      ],
      "text/plain": [
       "        System  Orbit number         T_mid  Uncertainty (days) Time System  #  \\\n",
       "0     CoRoT-01         -1412  2.454138e+06            0.000470         BJD  1   \n",
       "1     CoRoT-01         -1411  2.454140e+06            0.000590         BJD  1   \n",
       "2     CoRoT-01         -1410  2.454141e+06            0.000620         BJD  1   \n",
       "3     CoRoT-01         -1409  2.454143e+06            0.000390         BJD  1   \n",
       "4     CoRoT-01         -1408  2.454144e+06            0.001630         BJD  1   \n",
       "...        ...           ...           ...                 ...         ... ..   \n",
       "8662      XO-7           214  2.459407e+06            0.000510     BJD_TDB  1   \n",
       "8663      XO-7           215  2.459410e+06            0.000467     BJD_TDB  1   \n",
       "8664      XO-7           216  2.459413e+06            0.000508     BJD_TDB  1   \n",
       "8665      XO-7           217  2.459415e+06            0.000517     BJD_TDB  1   \n",
       "8666      XO-7           218  2.459418e+06            0.000462     BJD_TDB  1   \n",
       "\n",
       "                Reference  \n",
       "0     2009A&A...506..369B  \n",
       "1     2009A&A...506..369B  \n",
       "2     2009A&A...506..369B  \n",
       "3     2009A&A...506..369B  \n",
       "4     2009A&A...506..369B  \n",
       "...                   ...  \n",
       "8662            This work  \n",
       "8663            This work  \n",
       "8664            This work  \n",
       "8665            This work  \n",
       "8666            This work  \n",
       "\n",
       "[8667 rows x 7 columns]"
      ]
     },
     "execution_count": 103,
     "metadata": {},
     "output_type": "execute_result"
    }
   ],
   "source": [
    "#https://github.com/transit-timing/tt/blob/master/3_database/table4.csv\n",
    "url = \"https://raw.githubusercontent.com/transit-timing/tt/master/3_database/table4.csv\"\n",
    "df2 = pd.read_csv(url)\n",
    "df2"
   ]
  }
 ],
 "metadata": {
  "kernelspec": {
   "display_name": "Python 3 (ipykernel)",
   "language": "python",
   "name": "python3"
  },
  "language_info": {
   "codemirror_mode": {
    "name": "ipython",
    "version": 3
   },
   "file_extension": ".py",
   "mimetype": "text/x-python",
   "name": "python",
   "nbconvert_exporter": "python",
   "pygments_lexer": "ipython3",
   "version": "3.10.9"
  },
  "toc": {
   "base_numbering": 1,
   "nav_menu": {},
   "number_sections": true,
   "sideBar": true,
   "skip_h1_title": false,
   "title_cell": "Table of Contents",
   "title_sidebar": "Contents",
   "toc_cell": false,
   "toc_position": {},
   "toc_section_display": true,
   "toc_window_display": false
  }
 },
 "nbformat": 4,
 "nbformat_minor": 5
}
