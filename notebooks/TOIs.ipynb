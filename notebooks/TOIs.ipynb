{
 "cells": [
  {
   "cell_type": "code",
   "execution_count": 1,
   "id": "05f7280f",
   "metadata": {
    "ExecuteTime": {
     "end_time": "2023-02-17T07:12:36.937474Z",
     "start_time": "2023-02-17T07:12:36.935138Z"
    }
   },
   "outputs": [],
   "source": [
    "import os\n",
    "\n",
    "assert os.environ['CONDA_DEFAULT_ENV']=='ttv'"
   ]
  },
  {
   "cell_type": "markdown",
   "id": "832e7198",
   "metadata": {},
   "source": [
    "## TOIs"
   ]
  },
  {
   "cell_type": "code",
   "execution_count": 2,
   "id": "8c97dbb5",
   "metadata": {
    "ExecuteTime": {
     "end_time": "2023-02-17T07:12:37.885142Z",
     "start_time": "2023-02-17T07:12:36.940107Z"
    }
   },
   "outputs": [],
   "source": [
    "import sys\n",
    "sys.path.insert(0, '../code')\n",
    "from utils import get_tois, get_ctois"
   ]
  },
  {
   "cell_type": "code",
   "execution_count": 3,
   "id": "464c3a0a",
   "metadata": {
    "ExecuteTime": {
     "end_time": "2023-02-17T07:12:37.958496Z",
     "start_time": "2023-02-17T07:12:37.886912Z"
    }
   },
   "outputs": [
    {
     "name": "stdout",
     "output_type": "stream",
     "text": [
      "Loaded:  ../data/TOIs.csv\n"
     ]
    },
    {
     "data": {
      "text/html": [
       "<div>\n",
       "<style scoped>\n",
       "    .dataframe tbody tr th:only-of-type {\n",
       "        vertical-align: middle;\n",
       "    }\n",
       "\n",
       "    .dataframe tbody tr th {\n",
       "        vertical-align: top;\n",
       "    }\n",
       "\n",
       "    .dataframe thead th {\n",
       "        text-align: right;\n",
       "    }\n",
       "</style>\n",
       "<table border=\"1\" class=\"dataframe\">\n",
       "  <thead>\n",
       "    <tr style=\"text-align: right;\">\n",
       "      <th></th>\n",
       "      <th>TIC ID</th>\n",
       "      <th>TOI</th>\n",
       "      <th>Previous CTOI</th>\n",
       "      <th>Master</th>\n",
       "      <th>SG1A</th>\n",
       "      <th>SG1B</th>\n",
       "      <th>SG2</th>\n",
       "      <th>SG3</th>\n",
       "      <th>SG4</th>\n",
       "      <th>SG5</th>\n",
       "      <th>...</th>\n",
       "      <th>Stellar Radius (R_Sun) err</th>\n",
       "      <th>Stellar Metallicity</th>\n",
       "      <th>Stellar Metallicity err</th>\n",
       "      <th>Stellar Mass (M_Sun)</th>\n",
       "      <th>Stellar Mass (M_Sun) err</th>\n",
       "      <th>Sectors</th>\n",
       "      <th>Date TOI Alerted (UTC)</th>\n",
       "      <th>Date TOI Updated (UTC)</th>\n",
       "      <th>Date Modified</th>\n",
       "      <th>Comments</th>\n",
       "    </tr>\n",
       "  </thead>\n",
       "  <tbody>\n",
       "    <tr>\n",
       "      <th>5299</th>\n",
       "      <td>428867906</td>\n",
       "      <td>6060.01</td>\n",
       "      <td>NaN</td>\n",
       "      <td>3</td>\n",
       "      <td>4</td>\n",
       "      <td>3</td>\n",
       "      <td>3</td>\n",
       "      <td>1</td>\n",
       "      <td>4</td>\n",
       "      <td>4</td>\n",
       "      <td>...</td>\n",
       "      <td>0.21</td>\n",
       "      <td>0.086</td>\n",
       "      <td>0.070</td>\n",
       "      <td>1.678</td>\n",
       "      <td>0.294829</td>\n",
       "      <td>19,59</td>\n",
       "      <td>2023-02-08</td>\n",
       "      <td>2023-02-08</td>\n",
       "      <td>2023-02-10 12:02:44</td>\n",
       "      <td>low SNR; two stars in pixel</td>\n",
       "    </tr>\n",
       "    <tr>\n",
       "      <th>5300</th>\n",
       "      <td>239823606</td>\n",
       "      <td>6061.01</td>\n",
       "      <td>NaN</td>\n",
       "      <td>2</td>\n",
       "      <td>4</td>\n",
       "      <td>2</td>\n",
       "      <td>2</td>\n",
       "      <td>1</td>\n",
       "      <td>4</td>\n",
       "      <td>4</td>\n",
       "      <td>...</td>\n",
       "      <td>0.05</td>\n",
       "      <td>NaN</td>\n",
       "      <td>NaN</td>\n",
       "      <td>1.000</td>\n",
       "      <td>0.127632</td>\n",
       "      <td>19,43,44,45,59</td>\n",
       "      <td>2023-02-08</td>\n",
       "      <td>2023-02-08</td>\n",
       "      <td>2023-02-10 12:02:44</td>\n",
       "      <td>two stars in pixel; low SNR</td>\n",
       "    </tr>\n",
       "    <tr>\n",
       "      <th>5301</th>\n",
       "      <td>122629761</td>\n",
       "      <td>6062.01</td>\n",
       "      <td>NaN</td>\n",
       "      <td>2</td>\n",
       "      <td>4</td>\n",
       "      <td>2</td>\n",
       "      <td>2</td>\n",
       "      <td>1</td>\n",
       "      <td>4</td>\n",
       "      <td>4</td>\n",
       "      <td>...</td>\n",
       "      <td>0.05</td>\n",
       "      <td>NaN</td>\n",
       "      <td>NaN</td>\n",
       "      <td>1.084</td>\n",
       "      <td>0.146070</td>\n",
       "      <td>19,59</td>\n",
       "      <td>2023-02-08</td>\n",
       "      <td>2023-02-08</td>\n",
       "      <td>2023-02-10 12:02:43</td>\n",
       "      <td>variable host; low SNR</td>\n",
       "    </tr>\n",
       "    <tr>\n",
       "      <th>5302</th>\n",
       "      <td>67031480</td>\n",
       "      <td>6063.01</td>\n",
       "      <td>NaN</td>\n",
       "      <td>3</td>\n",
       "      <td>4</td>\n",
       "      <td>3</td>\n",
       "      <td>3</td>\n",
       "      <td>1</td>\n",
       "      <td>4</td>\n",
       "      <td>4</td>\n",
       "      <td>...</td>\n",
       "      <td>NaN</td>\n",
       "      <td>NaN</td>\n",
       "      <td>NaN</td>\n",
       "      <td>NaN</td>\n",
       "      <td>NaN</td>\n",
       "      <td>19,59</td>\n",
       "      <td>2023-02-08</td>\n",
       "      <td>2023-02-08</td>\n",
       "      <td>2023-02-10 12:02:44</td>\n",
       "      <td>likely EB; a/Rs~2; host is member of M38 cluster</td>\n",
       "    </tr>\n",
       "    <tr>\n",
       "      <th>5303</th>\n",
       "      <td>428767018</td>\n",
       "      <td>6064.01</td>\n",
       "      <td>NaN</td>\n",
       "      <td>3</td>\n",
       "      <td>4</td>\n",
       "      <td>3</td>\n",
       "      <td>3</td>\n",
       "      <td>1</td>\n",
       "      <td>4</td>\n",
       "      <td>4</td>\n",
       "      <td>...</td>\n",
       "      <td>0.14</td>\n",
       "      <td>0.133</td>\n",
       "      <td>0.012</td>\n",
       "      <td>1.464</td>\n",
       "      <td>0.245446</td>\n",
       "      <td>19,59</td>\n",
       "      <td>2023-02-08</td>\n",
       "      <td>2023-02-08</td>\n",
       "      <td>2023-02-10 12:02:43</td>\n",
       "      <td>NaN</td>\n",
       "    </tr>\n",
       "  </tbody>\n",
       "</table>\n",
       "<p>5 rows × 62 columns</p>\n",
       "</div>"
      ],
      "text/plain": [
       "         TIC ID      TOI Previous CTOI  Master  SG1A  SG1B  SG2  SG3  SG4  \\\n",
       "5299  428867906  6060.01           NaN       3     4     3    3    1    4   \n",
       "5300  239823606  6061.01           NaN       2     4     2    2    1    4   \n",
       "5301  122629761  6062.01           NaN       2     4     2    2    1    4   \n",
       "5302   67031480  6063.01           NaN       3     4     3    3    1    4   \n",
       "5303  428767018  6064.01           NaN       3     4     3    3    1    4   \n",
       "\n",
       "      SG5  ...  Stellar Radius (R_Sun) err  Stellar Metallicity  \\\n",
       "5299    4  ...                        0.21                0.086   \n",
       "5300    4  ...                        0.05                  NaN   \n",
       "5301    4  ...                        0.05                  NaN   \n",
       "5302    4  ...                         NaN                  NaN   \n",
       "5303    4  ...                        0.14                0.133   \n",
       "\n",
       "      Stellar Metallicity err  Stellar Mass (M_Sun)  Stellar Mass (M_Sun) err  \\\n",
       "5299                    0.070                 1.678                  0.294829   \n",
       "5300                      NaN                 1.000                  0.127632   \n",
       "5301                      NaN                 1.084                  0.146070   \n",
       "5302                      NaN                   NaN                       NaN   \n",
       "5303                    0.012                 1.464                  0.245446   \n",
       "\n",
       "             Sectors Date TOI Alerted (UTC) Date TOI Updated (UTC)  \\\n",
       "5299           19,59             2023-02-08             2023-02-08   \n",
       "5300  19,43,44,45,59             2023-02-08             2023-02-08   \n",
       "5301           19,59             2023-02-08             2023-02-08   \n",
       "5302           19,59             2023-02-08             2023-02-08   \n",
       "5303           19,59             2023-02-08             2023-02-08   \n",
       "\n",
       "            Date Modified                                          Comments  \n",
       "5299  2023-02-10 12:02:44                       low SNR; two stars in pixel  \n",
       "5300  2023-02-10 12:02:44                       two stars in pixel; low SNR  \n",
       "5301  2023-02-10 12:02:43                            variable host; low SNR  \n",
       "5302  2023-02-10 12:02:44  likely EB; a/Rs~2; host is member of M38 cluster  \n",
       "5303  2023-02-10 12:02:43                                               NaN  \n",
       "\n",
       "[5 rows x 62 columns]"
      ]
     },
     "execution_count": 3,
     "metadata": {},
     "output_type": "execute_result"
    }
   ],
   "source": [
    "df = get_tois()\n",
    "df.tail()"
   ]
  },
  {
   "cell_type": "raw",
   "id": "6e425a48",
   "metadata": {
    "ExecuteTime": {
     "end_time": "2023-02-09T01:50:30.994853Z",
     "start_time": "2023-02-09T01:50:30.984695Z"
    }
   },
   "source": [
    "#how many multis?\n",
    "tois.Comments.isin(['multi']).sum()"
   ]
  },
  {
   "cell_type": "code",
   "execution_count": 4,
   "id": "9454ab33",
   "metadata": {
    "ExecuteTime": {
     "end_time": "2023-02-17T07:12:37.965928Z",
     "start_time": "2023-02-17T07:12:37.960815Z"
    },
    "scrolled": true
   },
   "outputs": [
    {
     "data": {
      "text/plain": [
       "5096"
      ]
     },
     "execution_count": 4,
     "metadata": {},
     "output_type": "execute_result"
    }
   ],
   "source": [
    "tics = df['TIC ID'].unique()\n",
    "len(tics)"
   ]
  },
  {
   "cell_type": "code",
   "execution_count": 5,
   "id": "7dbb723a",
   "metadata": {
    "ExecuteTime": {
     "end_time": "2023-02-17T07:12:37.972909Z",
     "start_time": "2023-02-17T07:12:37.968133Z"
    },
    "scrolled": true
   },
   "outputs": [
    {
     "data": {
      "text/plain": [
       "5304"
      ]
     },
     "execution_count": 5,
     "metadata": {},
     "output_type": "execute_result"
    }
   ],
   "source": [
    "len(df['TOI'].unique())"
   ]
  },
  {
   "cell_type": "code",
   "execution_count": 6,
   "id": "7dd14f38",
   "metadata": {
    "ExecuteTime": {
     "end_time": "2023-02-17T07:12:37.982007Z",
     "start_time": "2023-02-17T07:12:37.974858Z"
    }
   },
   "outputs": [
    {
     "data": {
      "text/plain": [
       "367630162    5\n",
       "425997655    5\n",
       "150151262    4\n",
       "142276270    4\n",
       "260647166    4\n",
       "            ..\n",
       "59842822     1\n",
       "124491883    1\n",
       "143282930    1\n",
       "147430118    1\n",
       "428767018    1\n",
       "Name: TIC ID, Length: 5096, dtype: int64"
      ]
     },
     "execution_count": 6,
     "metadata": {},
     "output_type": "execute_result"
    }
   ],
   "source": [
    "nsys = df['TIC ID'].value_counts()\n",
    "nsys"
   ]
  },
  {
   "cell_type": "code",
   "execution_count": 7,
   "id": "7efd1369",
   "metadata": {
    "ExecuteTime": {
     "end_time": "2023-02-17T07:12:37.989262Z",
     "start_time": "2023-02-17T07:12:37.984488Z"
    }
   },
   "outputs": [
    {
     "name": "stdout",
     "output_type": "stream",
     "text": [
      "163\n"
     ]
    }
   ],
   "source": [
    "tics_multis = list(nsys[nsys>1].index)\n",
    "print(len(tics_multis))"
   ]
  },
  {
   "cell_type": "markdown",
   "id": "ed6c7339",
   "metadata": {},
   "source": [
    "## TOI 1136 (Dai+2023)\n",
    "First order MMR: 3:2, 2:1, 3:2, 7:5, and 3:2"
   ]
  },
  {
   "cell_type": "code",
   "execution_count": 8,
   "id": "50167d1f",
   "metadata": {
    "ExecuteTime": {
     "end_time": "2023-02-17T07:12:38.000782Z",
     "start_time": "2023-02-17T07:12:37.991268Z"
    }
   },
   "outputs": [
    {
     "data": {
      "text/plain": [
       "830     6.258792\n",
       "829    12.518728\n",
       "832    18.804756\n",
       "831    26.317954\n",
       "Name: Period (days), dtype: float64"
      ]
     },
     "execution_count": 8,
     "metadata": {},
     "output_type": "execute_result"
    }
   ],
   "source": [
    "col = 'Period (days)'\n",
    "d = df[df['TIC ID']==142276270].sort_values(by=col)\n",
    "d[col]"
   ]
  },
  {
   "cell_type": "code",
   "execution_count": 9,
   "id": "7f157354",
   "metadata": {
    "ExecuteTime": {
     "end_time": "2023-02-17T07:12:38.008936Z",
     "start_time": "2023-02-17T07:12:38.003803Z"
    }
   },
   "outputs": [
    {
     "data": {
      "text/plain": [
       "[4.17278, 6.25725, 12.51937, 18.7992, 26.3162, 39.5387]"
      ]
     },
     "execution_count": 9,
     "metadata": {},
     "output_type": "execute_result"
    }
   ],
   "source": [
    "# add two outer planets\n",
    "periods = [4.17278, 6.25725, 12.51937, 18.7992, 26.3162, 39.5387]\n",
    "periods"
   ]
  },
  {
   "cell_type": "markdown",
   "id": "de6ce933",
   "metadata": {},
   "source": [
    "https://arxiv.org/abs/1208.3312"
   ]
  },
  {
   "cell_type": "markdown",
   "id": "25399ab5",
   "metadata": {},
   "source": [
    "$$\n",
    "\\frac{p'}{p} \\sim \\frac{j}{j-1}\n",
    "$$"
   ]
  },
  {
   "cell_type": "markdown",
   "id": "3ee8834e",
   "metadata": {},
   "source": [
    "proximity to resonance:\n",
    "$$\n",
    "\\Delta = \\frac{p'}{p} \\frac{j-1}{j} - 1\n",
    "$$"
   ]
  },
  {
   "cell_type": "code",
   "execution_count": 10,
   "id": "1bf39737",
   "metadata": {
    "ExecuteTime": {
     "end_time": "2023-02-17T07:12:38.021225Z",
     "start_time": "2023-02-17T07:12:38.011361Z"
    }
   },
   "outputs": [],
   "source": [
    "import numpy as np\n",
    "from itertools import combinations\n",
    "\n",
    "def get_orbit_pairs(N=10, order=1):\n",
    "    cs = list(combinations(np.arange(1, N), 2))\n",
    "    cs = [(i,j) for i,j in cs if abs(i-j)==order]\n",
    "    return cs\n",
    "\n",
    "def get_resonant_pairs(periods, order=1, tol=0.01):\n",
    "    \"\"\"based on period commensurability\"\"\"\n",
    "    periods = sorted(periods)\n",
    "    Nplanets = len(periods) \n",
    "    \n",
    "    resonant = []\n",
    "    for n in range(Nplanets-1):\n",
    "        Pout = periods[n+1]\n",
    "        Pin = periods[n]\n",
    "        for i,j in get_orbit_pairs(10, order=order):            \n",
    "            delta = abs((Pout/Pin)*(i/j) - 1)\n",
    "            if delta<=tol:\n",
    "                text = f\"{j}:{i} | P=({Pout:.2f},{Pin:.2f}) n=({n+1},{n+2}) (delta={delta*100:.2f}%)\"\n",
    "                resonant.append(text)\n",
    "                break\n",
    "    return resonant"
   ]
  },
  {
   "cell_type": "code",
   "execution_count": 11,
   "id": "30ea6554",
   "metadata": {
    "ExecuteTime": {
     "end_time": "2023-02-17T07:12:38.033242Z",
     "start_time": "2023-02-17T07:12:38.027082Z"
    }
   },
   "outputs": [
    {
     "data": {
      "text/plain": [
       "[(1, 2), (2, 3), (3, 4), (4, 5), (5, 6), (6, 7), (7, 8), (8, 9)]"
      ]
     },
     "execution_count": 11,
     "metadata": {},
     "output_type": "execute_result"
    }
   ],
   "source": [
    "get_orbit_pairs(10, order=1)"
   ]
  },
  {
   "cell_type": "code",
   "execution_count": 12,
   "id": "4daae78e",
   "metadata": {
    "ExecuteTime": {
     "end_time": "2023-02-17T07:12:38.041819Z",
     "start_time": "2023-02-17T07:12:38.036198Z"
    }
   },
   "outputs": [
    {
     "data": {
      "text/plain": [
       "['3:2 | P=(6.26,4.17) n=(1,2) (delta=0.03%)',\n",
       " '2:1 | P=(12.52,6.26) n=(2,3) (delta=0.04%)',\n",
       " '3:2 | P=(18.80,12.52) n=(3,4) (delta=0.11%)',\n",
       " '3:2 | P=(39.54,26.32) n=(5,6) (delta=0.16%)']"
      ]
     },
     "execution_count": 12,
     "metadata": {},
     "output_type": "execute_result"
    }
   ],
   "source": [
    "resonances_1st_order = get_resonant_pairs(periods, order=1, tol=0.01)\n",
    "resonances_1st_order"
   ]
  },
  {
   "cell_type": "code",
   "execution_count": 13,
   "id": "184d159b",
   "metadata": {
    "ExecuteTime": {
     "end_time": "2023-02-17T07:12:38.048151Z",
     "start_time": "2023-02-17T07:12:38.044015Z"
    }
   },
   "outputs": [
    {
     "data": {
      "text/plain": [
       "['6:4 | P=(6.26,4.17) n=(1,2) (delta=0.03%)',\n",
       " '4:2 | P=(12.52,6.26) n=(2,3) (delta=0.04%)',\n",
       " '6:4 | P=(18.80,12.52) n=(3,4) (delta=0.11%)',\n",
       " '7:5 | P=(26.32,18.80) n=(4,5) (delta=0.01%)',\n",
       " '6:4 | P=(39.54,26.32) n=(5,6) (delta=0.16%)']"
      ]
     },
     "execution_count": 13,
     "metadata": {},
     "output_type": "execute_result"
    }
   ],
   "source": [
    "resonances_2nd_order = get_resonant_pairs(periods, order=2, tol=0.01)\n",
    "resonances_2nd_order"
   ]
  },
  {
   "cell_type": "markdown",
   "id": "7f523bfb",
   "metadata": {},
   "source": [
    "## All TOIs"
   ]
  },
  {
   "cell_type": "code",
   "execution_count": 29,
   "id": "980dd67f",
   "metadata": {
    "ExecuteTime": {
     "end_time": "2023-02-17T07:20:01.184600Z",
     "start_time": "2023-02-17T07:20:01.059157Z"
    },
    "scrolled": false
   },
   "outputs": [
    {
     "name": "stdout",
     "output_type": "stream",
     "text": [
      "TOI 2104 | TIC 367630162 (nplanets=5):<br>\n",
      "Second Order: 5:3 | P=(3.27,1.98) n=(1,2) (delta=0.85%)\n",
      "\n",
      "TOI 174 | TIC 425997655 (nplanets=5):<br>\n",
      "First Order: 2:1 | P=(7.91,3.98) n=(1,2) (delta=0.57%)<br>\n",
      "Second Order: 4:2 | P=(7.91,3.98) n=(1,2) (delta=0.57%)\n",
      "\n",
      "TOI 1136 | TIC 142276270 (nplanets=4):<br>\n",
      "First Order: 2:1 | P=(12.52,6.26) n=(1,2) (delta=0.01%) 3:2 | P=(18.80,12.52) n=(2,3) (delta=0.14%)<br>\n",
      "Second Order: 4:2 | P=(12.52,6.26) n=(1,2) (delta=0.01%) 6:4 | P=(18.80,12.52) n=(2,3) (delta=0.14%) 7:5 | P=(26.32,18.80) n=(3,4) (delta=0.03%)\n",
      "\n",
      "TOI 700 | TIC 150428135 (nplanets=4):<br>\n",
      "First Order: 4:3 | P=(37.42,27.81) n=(3,4) (delta=0.93%)<br>\n",
      "Second Order: 8:6 | P=(37.42,27.81) n=(3,4) (delta=0.93%)\n",
      "\n",
      "TOI 282 | TIC 29781292 (nplanets=4):<br>\n",
      "First Order: 3:2 | P=(84.26,56.01) n=(3,4) (delta=0.30%)<br>\n",
      "Second Order: 6:4 | P=(84.26,56.01) n=(3,4) (delta=0.30%)\n",
      "\n",
      "TOI 1339 | TIC 269701147 (nplanets=3):<br>\n",
      "First Order: 4:3 | P=(38.35,28.58) n=(2,3) (delta=0.64%)<br>\n",
      "Second Order: 8:6 | P=(38.35,28.58) n=(2,3) (delta=0.64%)\n",
      "\n",
      "TOI 175 | TIC 307210830 (nplanets=3):<br>\n",
      "First Order: 2:1 | P=(7.45,3.69) n=(2,3) (delta=0.94%)<br>\n",
      "Second Order: 4:2 | P=(7.45,3.69) n=(2,3) (delta=0.94%)\n",
      "\n",
      "TOI 663 | TIC 54962195 (nplanets=3):<br>\n",
      "First Order: 3:2 | P=(7.10,4.70) n=(2,3) (delta=0.84%)<br>\n",
      "Second Order: 6:4 | P=(7.10,4.70) n=(2,3) (delta=0.84%)\n",
      "\n",
      "TOI 1730 | TIC 318022259 (nplanets=3):<br>\n",
      "First Order: 2:1 | P=(12.57,6.23) n=(2,3) (delta=0.91%)<br>\n",
      "Second Order: 4:2 | P=(12.57,6.23) n=(2,3) (delta=0.91%)\n",
      "\n",
      "TOI 270 | TIC 259377017 (nplanets=3):<br>\n",
      "First Order: 2:1 | P=(11.38,5.66) n=(2,3) (delta=0.52%)<br>\n",
      "Second Order: 4:2 | P=(11.38,5.66) n=(2,3) (delta=0.52%)\n",
      "\n",
      "TOI 396 | TIC 178155732 (nplanets=3):<br>\n",
      "Second Order: 5:3 | P=(5.97,3.59) n=(1,2) (delta=0.03%)\n",
      "\n",
      "TOI 1670 | TIC 441739020 (nplanets=3):<br>\n",
      "Second Order: 3:1 | P=(123.06,40.75) n=(2,3) (delta=0.66%)\n",
      "\n",
      "TOI 2269 | TIC 441798995 (nplanets=3):<br>\n",
      "First Order: 2:1 | P=(2.84,1.42) n=(1,2) (delta=0.00%)<br>\n",
      "Second Order: 4:2 | P=(2.84,1.42) n=(1,2) (delta=0.00%)\n",
      "\n",
      "TOI 696 | TIC 77156829 (nplanets=3):<br>\n",
      "First Order: 4:3 | P=(4.97,3.69) n=(2,3) (delta=0.80%)<br>\n",
      "Second Order: 8:6 | P=(4.97,3.69) n=(2,3) (delta=0.80%)\n",
      "\n",
      "TOI 4495 | TIC 120826158 (nplanets=2):<br>\n",
      "First Order: 2:1 | P=(5.18,2.57) n=(1,2) (delta=0.86%)<br>\n",
      "Second Order: 4:2 | P=(5.18,2.57) n=(1,2) (delta=0.86%)\n",
      "\n",
      "TOI 1749 | TIC 233602827 (nplanets=2):<br>\n",
      "First Order: 2:1 | P=(9.04,4.49) n=(1,2) (delta=0.74%)<br>\n",
      "Second Order: 4:2 | P=(9.04,4.49) n=(1,2) (delta=0.74%)\n",
      "\n",
      "TOI 5520 | TIC 374180079 (nplanets=2):<br>\n",
      "First Order: 4:3 | P=(19.48,14.70) n=(1,2) (delta=0.58%)<br>\n",
      "Second Order: 8:6 | P=(19.48,14.70) n=(1,2) (delta=0.58%)\n",
      "\n",
      "TOI 4323 | TIC 143022742 (nplanets=2):<br>\n",
      "First Order: 3:2 | P=(21.97,14.68) n=(1,2) (delta=0.21%)<br>\n",
      "Second Order: 6:4 | P=(21.97,14.68) n=(1,2) (delta=0.21%)\n",
      "\n",
      "TOI 406 | TIC 153065527 (nplanets=2):<br>\n",
      "First Order: 2:1 | P=(13.18,6.61) n=(1,2) (delta=0.41%)<br>\n",
      "Second Order: 4:2 | P=(13.18,6.61) n=(1,2) (delta=0.41%)\n",
      "\n",
      "TOI 6054 | TIC 392681545 (nplanets=2):<br>\n",
      "Second Order: 5:3 | P=(12.58,7.49) n=(1,2) (delta=0.74%)\n",
      "\n",
      "TOI 216 | TIC 55652896 (nplanets=2):<br>\n",
      "First Order: 2:1 | P=(34.55,17.39) n=(1,2) (delta=0.64%)<br>\n",
      "Second Order: 4:2 | P=(34.55,17.39) n=(1,2) (delta=0.64%)\n",
      "\n",
      "TOI 1097 | TIC 360630575 (nplanets=2):<br>\n",
      "First Order: 3:2 | P=(13.90,9.19) n=(1,2) (delta=0.87%)<br>\n",
      "Second Order: 6:4 | P=(13.90,9.19) n=(1,2) (delta=0.87%)\n",
      "\n"
     ]
    },
    {
     "name": "stderr",
     "output_type": "stream",
     "text": [
      "/tmp/ipykernel_12514/4028263970.py:19: RuntimeWarning: invalid value encountered in scalar divide\n",
      "  delta = abs((Pout/Pin)*(i/j) - 1)\n",
      "/tmp/ipykernel_12514/4028263970.py:19: RuntimeWarning: divide by zero encountered in scalar divide\n",
      "  delta = abs((Pout/Pin)*(i/j) - 1)\n"
     ]
    }
   ],
   "source": [
    "ttv_1st_order = []       # commensurability in 1 planet pair \n",
    "ttv_2nd_order = []\n",
    "ttv_chain = []           # more than 1 planet pair\n",
    "for tic in tics_multis:\n",
    "    dd = df[df['TIC ID']==tic].squeeze()\n",
    "    periods = dd[\"Period (days)\"].values\n",
    "    Nplanets = len(periods)\n",
    "    toi = str(dd.iloc[0].TOI).split('.')[0] \n",
    "    \n",
    "    resonances_1st_order = get_resonant_pairs(periods, order=1, tol=0.01);\n",
    "    resonances_2nd_order = get_resonant_pairs(periods, order=2, tol=0.01);\n",
    "    msg = f\"TOI {toi} | TIC {tic} (nplanets={Nplanets}):<br>\\n\"\n",
    "    show = False\n",
    "    if len(resonances_1st_order)>=1:\n",
    "        msg += f\"First Order: {' '.join(resonances_1st_order)}<br>\\n\"\n",
    "        ttv_1st_order.append(tic)\n",
    "        if len(resonances_1st_order)>=2:\n",
    "            ttv_chain.append(tic)\n",
    "        show = True\n",
    "    if len(resonances_2nd_order)>=1:\n",
    "        msg += f\"Second Order: {' '.join(resonances_2nd_order)}\\n\"\n",
    "        ttv_2nd_order.append(tic)\n",
    "        show = True\n",
    "    if show:\n",
    "        print(msg)"
   ]
  },
  {
   "cell_type": "code",
   "execution_count": 15,
   "id": "9b3c16c7",
   "metadata": {
    "ExecuteTime": {
     "end_time": "2023-02-17T07:12:38.194066Z",
     "start_time": "2023-02-17T07:12:38.188818Z"
    }
   },
   "outputs": [
    {
     "data": {
      "text/plain": [
       "(18, 22)"
      ]
     },
     "execution_count": 15,
     "metadata": {},
     "output_type": "execute_result"
    }
   ],
   "source": [
    "len(ttv_1st_order), len(ttv_2nd_order)"
   ]
  },
  {
   "cell_type": "code",
   "execution_count": 16,
   "id": "2512d2f4",
   "metadata": {
    "ExecuteTime": {
     "end_time": "2023-02-17T07:12:38.211924Z",
     "start_time": "2023-02-17T07:12:38.196593Z"
    }
   },
   "outputs": [
    {
     "data": {
      "text/html": [
       "<div>\n",
       "<style scoped>\n",
       "    .dataframe tbody tr th:only-of-type {\n",
       "        vertical-align: middle;\n",
       "    }\n",
       "\n",
       "    .dataframe tbody tr th {\n",
       "        vertical-align: top;\n",
       "    }\n",
       "\n",
       "    .dataframe thead th {\n",
       "        text-align: right;\n",
       "    }\n",
       "</style>\n",
       "<table border=\"1\" class=\"dataframe\">\n",
       "  <thead>\n",
       "    <tr style=\"text-align: right;\">\n",
       "      <th></th>\n",
       "      <th>tic</th>\n",
       "      <th>1st order</th>\n",
       "    </tr>\n",
       "  </thead>\n",
       "  <tbody>\n",
       "    <tr>\n",
       "      <th>0</th>\n",
       "      <td>425997655</td>\n",
       "      <td>True</td>\n",
       "    </tr>\n",
       "    <tr>\n",
       "      <th>1</th>\n",
       "      <td>142276270</td>\n",
       "      <td>True</td>\n",
       "    </tr>\n",
       "    <tr>\n",
       "      <th>2</th>\n",
       "      <td>150428135</td>\n",
       "      <td>True</td>\n",
       "    </tr>\n",
       "    <tr>\n",
       "      <th>3</th>\n",
       "      <td>29781292</td>\n",
       "      <td>True</td>\n",
       "    </tr>\n",
       "    <tr>\n",
       "      <th>4</th>\n",
       "      <td>269701147</td>\n",
       "      <td>True</td>\n",
       "    </tr>\n",
       "  </tbody>\n",
       "</table>\n",
       "</div>"
      ],
      "text/plain": [
       "         tic  1st order\n",
       "0  425997655       True\n",
       "1  142276270       True\n",
       "2  150428135       True\n",
       "3   29781292       True\n",
       "4  269701147       True"
      ]
     },
     "execution_count": 16,
     "metadata": {},
     "output_type": "execute_result"
    }
   ],
   "source": [
    "import pandas as pd\n",
    "\n",
    "s1 = pd.DataFrame(ttv_1st_order, columns=['tic'])\n",
    "s1['1st order'] = True\n",
    "s1.head()"
   ]
  },
  {
   "cell_type": "code",
   "execution_count": 17,
   "id": "7ffe3588",
   "metadata": {
    "ExecuteTime": {
     "end_time": "2023-02-17T07:12:38.227455Z",
     "start_time": "2023-02-17T07:12:38.215936Z"
    }
   },
   "outputs": [
    {
     "data": {
      "text/html": [
       "<div>\n",
       "<style scoped>\n",
       "    .dataframe tbody tr th:only-of-type {\n",
       "        vertical-align: middle;\n",
       "    }\n",
       "\n",
       "    .dataframe tbody tr th {\n",
       "        vertical-align: top;\n",
       "    }\n",
       "\n",
       "    .dataframe thead th {\n",
       "        text-align: right;\n",
       "    }\n",
       "</style>\n",
       "<table border=\"1\" class=\"dataframe\">\n",
       "  <thead>\n",
       "    <tr style=\"text-align: right;\">\n",
       "      <th></th>\n",
       "      <th>tic</th>\n",
       "      <th>2nd order</th>\n",
       "    </tr>\n",
       "  </thead>\n",
       "  <tbody>\n",
       "    <tr>\n",
       "      <th>0</th>\n",
       "      <td>367630162</td>\n",
       "      <td>True</td>\n",
       "    </tr>\n",
       "    <tr>\n",
       "      <th>1</th>\n",
       "      <td>425997655</td>\n",
       "      <td>True</td>\n",
       "    </tr>\n",
       "    <tr>\n",
       "      <th>2</th>\n",
       "      <td>142276270</td>\n",
       "      <td>True</td>\n",
       "    </tr>\n",
       "    <tr>\n",
       "      <th>3</th>\n",
       "      <td>150428135</td>\n",
       "      <td>True</td>\n",
       "    </tr>\n",
       "    <tr>\n",
       "      <th>4</th>\n",
       "      <td>29781292</td>\n",
       "      <td>True</td>\n",
       "    </tr>\n",
       "  </tbody>\n",
       "</table>\n",
       "</div>"
      ],
      "text/plain": [
       "         tic  2nd order\n",
       "0  367630162       True\n",
       "1  425997655       True\n",
       "2  142276270       True\n",
       "3  150428135       True\n",
       "4   29781292       True"
      ]
     },
     "execution_count": 17,
     "metadata": {},
     "output_type": "execute_result"
    }
   ],
   "source": [
    "s2 = pd.DataFrame(ttv_2nd_order, columns=['tic'])\n",
    "s2['2nd order'] = True\n",
    "s2.head()"
   ]
  },
  {
   "cell_type": "code",
   "execution_count": 27,
   "id": "52a6842e",
   "metadata": {
    "ExecuteTime": {
     "end_time": "2023-02-17T07:13:14.107225Z",
     "start_time": "2023-02-17T07:13:14.097808Z"
    }
   },
   "outputs": [
    {
     "data": {
      "text/html": [
       "<div>\n",
       "<style scoped>\n",
       "    .dataframe tbody tr th:only-of-type {\n",
       "        vertical-align: middle;\n",
       "    }\n",
       "\n",
       "    .dataframe tbody tr th {\n",
       "        vertical-align: top;\n",
       "    }\n",
       "\n",
       "    .dataframe thead th {\n",
       "        text-align: right;\n",
       "    }\n",
       "</style>\n",
       "<table border=\"1\" class=\"dataframe\">\n",
       "  <thead>\n",
       "    <tr style=\"text-align: right;\">\n",
       "      <th></th>\n",
       "      <th>tic</th>\n",
       "      <th>1st order</th>\n",
       "      <th>2nd order</th>\n",
       "    </tr>\n",
       "  </thead>\n",
       "  <tbody>\n",
       "    <tr>\n",
       "      <th>0</th>\n",
       "      <td>425997655</td>\n",
       "      <td>True</td>\n",
       "      <td>True</td>\n",
       "    </tr>\n",
       "    <tr>\n",
       "      <th>1</th>\n",
       "      <td>142276270</td>\n",
       "      <td>True</td>\n",
       "      <td>True</td>\n",
       "    </tr>\n",
       "    <tr>\n",
       "      <th>2</th>\n",
       "      <td>150428135</td>\n",
       "      <td>True</td>\n",
       "      <td>True</td>\n",
       "    </tr>\n",
       "    <tr>\n",
       "      <th>3</th>\n",
       "      <td>29781292</td>\n",
       "      <td>True</td>\n",
       "      <td>True</td>\n",
       "    </tr>\n",
       "    <tr>\n",
       "      <th>4</th>\n",
       "      <td>269701147</td>\n",
       "      <td>True</td>\n",
       "      <td>True</td>\n",
       "    </tr>\n",
       "    <tr>\n",
       "      <th>5</th>\n",
       "      <td>307210830</td>\n",
       "      <td>True</td>\n",
       "      <td>True</td>\n",
       "    </tr>\n",
       "    <tr>\n",
       "      <th>6</th>\n",
       "      <td>54962195</td>\n",
       "      <td>True</td>\n",
       "      <td>True</td>\n",
       "    </tr>\n",
       "    <tr>\n",
       "      <th>7</th>\n",
       "      <td>318022259</td>\n",
       "      <td>True</td>\n",
       "      <td>True</td>\n",
       "    </tr>\n",
       "    <tr>\n",
       "      <th>8</th>\n",
       "      <td>259377017</td>\n",
       "      <td>True</td>\n",
       "      <td>True</td>\n",
       "    </tr>\n",
       "    <tr>\n",
       "      <th>9</th>\n",
       "      <td>441798995</td>\n",
       "      <td>True</td>\n",
       "      <td>True</td>\n",
       "    </tr>\n",
       "    <tr>\n",
       "      <th>10</th>\n",
       "      <td>77156829</td>\n",
       "      <td>True</td>\n",
       "      <td>True</td>\n",
       "    </tr>\n",
       "    <tr>\n",
       "      <th>11</th>\n",
       "      <td>120826158</td>\n",
       "      <td>True</td>\n",
       "      <td>True</td>\n",
       "    </tr>\n",
       "    <tr>\n",
       "      <th>12</th>\n",
       "      <td>233602827</td>\n",
       "      <td>True</td>\n",
       "      <td>True</td>\n",
       "    </tr>\n",
       "    <tr>\n",
       "      <th>13</th>\n",
       "      <td>374180079</td>\n",
       "      <td>True</td>\n",
       "      <td>True</td>\n",
       "    </tr>\n",
       "    <tr>\n",
       "      <th>14</th>\n",
       "      <td>143022742</td>\n",
       "      <td>True</td>\n",
       "      <td>True</td>\n",
       "    </tr>\n",
       "    <tr>\n",
       "      <th>15</th>\n",
       "      <td>153065527</td>\n",
       "      <td>True</td>\n",
       "      <td>True</td>\n",
       "    </tr>\n",
       "    <tr>\n",
       "      <th>16</th>\n",
       "      <td>55652896</td>\n",
       "      <td>True</td>\n",
       "      <td>True</td>\n",
       "    </tr>\n",
       "    <tr>\n",
       "      <th>17</th>\n",
       "      <td>360630575</td>\n",
       "      <td>True</td>\n",
       "      <td>True</td>\n",
       "    </tr>\n",
       "    <tr>\n",
       "      <th>18</th>\n",
       "      <td>367630162</td>\n",
       "      <td>NaN</td>\n",
       "      <td>True</td>\n",
       "    </tr>\n",
       "    <tr>\n",
       "      <th>19</th>\n",
       "      <td>178155732</td>\n",
       "      <td>NaN</td>\n",
       "      <td>True</td>\n",
       "    </tr>\n",
       "    <tr>\n",
       "      <th>20</th>\n",
       "      <td>441739020</td>\n",
       "      <td>NaN</td>\n",
       "      <td>True</td>\n",
       "    </tr>\n",
       "    <tr>\n",
       "      <th>21</th>\n",
       "      <td>392681545</td>\n",
       "      <td>NaN</td>\n",
       "      <td>True</td>\n",
       "    </tr>\n",
       "  </tbody>\n",
       "</table>\n",
       "</div>"
      ],
      "text/plain": [
       "          tic 1st order  2nd order\n",
       "0   425997655      True       True\n",
       "1   142276270      True       True\n",
       "2   150428135      True       True\n",
       "3    29781292      True       True\n",
       "4   269701147      True       True\n",
       "5   307210830      True       True\n",
       "6    54962195      True       True\n",
       "7   318022259      True       True\n",
       "8   259377017      True       True\n",
       "9   441798995      True       True\n",
       "10   77156829      True       True\n",
       "11  120826158      True       True\n",
       "12  233602827      True       True\n",
       "13  374180079      True       True\n",
       "14  143022742      True       True\n",
       "15  153065527      True       True\n",
       "16   55652896      True       True\n",
       "17  360630575      True       True\n",
       "18  367630162       NaN       True\n",
       "19  178155732       NaN       True\n",
       "20  441739020       NaN       True\n",
       "21  392681545       NaN       True"
      ]
     },
     "execution_count": 27,
     "metadata": {},
     "output_type": "execute_result"
    }
   ],
   "source": [
    "res = pd.merge(s1, s2, how='outer')\n",
    "res"
   ]
  },
  {
   "cell_type": "code",
   "execution_count": 18,
   "id": "d7c5c2c5",
   "metadata": {
    "ExecuteTime": {
     "end_time": "2023-02-17T07:12:38.242205Z",
     "start_time": "2023-02-17T07:12:38.230241Z"
    }
   },
   "outputs": [],
   "source": [
    "res.to_csv('../data/tics_resonance_from_toi.csv')"
   ]
  },
  {
   "cell_type": "code",
   "execution_count": 19,
   "id": "3e980e2f",
   "metadata": {
    "ExecuteTime": {
     "end_time": "2023-02-17T07:12:38.252923Z",
     "start_time": "2023-02-17T07:12:38.245238Z"
    }
   },
   "outputs": [],
   "source": [
    "np.savetxt('../data/tics_resonance_from_toi.txt', res.tic.tolist(), fmt=\"%d\")\n",
    "np.savetxt('../data/tics_resonance_from_toi_1st_order.txt', ttv_1st_order, fmt=\"%d\")\n",
    "np.savetxt('../data/tics_resonance_from_toi_2nd_order.txt', ttv_2nd_order, fmt=\"%d\")"
   ]
  },
  {
   "cell_type": "markdown",
   "id": "f2816268",
   "metadata": {},
   "source": [
    "## CTOIS"
   ]
  },
  {
   "cell_type": "code",
   "execution_count": 20,
   "id": "0e4d6063",
   "metadata": {
    "ExecuteTime": {
     "end_time": "2023-02-17T07:12:40.495354Z",
     "start_time": "2023-02-17T07:12:38.256183Z"
    }
   },
   "outputs": [
    {
     "data": {
      "text/html": [
       "<div>\n",
       "<style scoped>\n",
       "    .dataframe tbody tr th:only-of-type {\n",
       "        vertical-align: middle;\n",
       "    }\n",
       "\n",
       "    .dataframe tbody tr th {\n",
       "        vertical-align: top;\n",
       "    }\n",
       "\n",
       "    .dataframe thead th {\n",
       "        text-align: right;\n",
       "    }\n",
       "</style>\n",
       "<table border=\"1\" class=\"dataframe\">\n",
       "  <thead>\n",
       "    <tr style=\"text-align: right;\">\n",
       "      <th></th>\n",
       "      <th>TIC ID</th>\n",
       "      <th>CTOI</th>\n",
       "      <th>Promoted to TOI</th>\n",
       "      <th>MASTER</th>\n",
       "      <th>SG1A</th>\n",
       "      <th>SG1B</th>\n",
       "      <th>SG2</th>\n",
       "      <th>SG3</th>\n",
       "      <th>SG4</th>\n",
       "      <th>SG5</th>\n",
       "      <th>...</th>\n",
       "      <th>Stellar Eff Temp (K) err</th>\n",
       "      <th>Stellar log(g) (cm/s^2)</th>\n",
       "      <th>Stellar log(g) (cm/s^2) err</th>\n",
       "      <th>Stellar Radius (R_Sun)</th>\n",
       "      <th>Stellar Radius (R_Sun) err</th>\n",
       "      <th>CTOI lastmod</th>\n",
       "      <th>User</th>\n",
       "      <th>Group</th>\n",
       "      <th>Tag</th>\n",
       "      <th>Notes</th>\n",
       "    </tr>\n",
       "  </thead>\n",
       "  <tbody>\n",
       "    <tr>\n",
       "      <th>0</th>\n",
       "      <td>17361</td>\n",
       "      <td>17361.01</td>\n",
       "      <td>3127.01</td>\n",
       "      <td>NaN</td>\n",
       "      <td>NaN</td>\n",
       "      <td>NaN</td>\n",
       "      <td>NaN</td>\n",
       "      <td>NaN</td>\n",
       "      <td>NaN</td>\n",
       "      <td>NaN</td>\n",
       "      <td>...</td>\n",
       "      <td>121.637</td>\n",
       "      <td>4.25352</td>\n",
       "      <td>0.078445</td>\n",
       "      <td>1.25819</td>\n",
       "      <td>0.062226</td>\n",
       "      <td>2020-08-10 07:20:18</td>\n",
       "      <td>montalto</td>\n",
       "      <td>NaN</td>\n",
       "      <td>29419</td>\n",
       "      <td>new CTOI, Montalto et al. (2020)</td>\n",
       "    </tr>\n",
       "    <tr>\n",
       "      <th>1</th>\n",
       "      <td>160363</td>\n",
       "      <td>160363.01</td>\n",
       "      <td>NaN</td>\n",
       "      <td>NaN</td>\n",
       "      <td>NaN</td>\n",
       "      <td>NaN</td>\n",
       "      <td>NaN</td>\n",
       "      <td>NaN</td>\n",
       "      <td>NaN</td>\n",
       "      <td>NaN</td>\n",
       "      <td>...</td>\n",
       "      <td>129.081</td>\n",
       "      <td>4.15460</td>\n",
       "      <td>0.093692</td>\n",
       "      <td>1.66309</td>\n",
       "      <td>0.075980</td>\n",
       "      <td>2021-02-11 04:13:20</td>\n",
       "      <td>steuer</td>\n",
       "      <td>NaN</td>\n",
       "      <td>94179</td>\n",
       "      <td>Found with our in-house single transit finder</td>\n",
       "    </tr>\n",
       "    <tr>\n",
       "      <th>2</th>\n",
       "      <td>592503</td>\n",
       "      <td>592503.01</td>\n",
       "      <td>NaN</td>\n",
       "      <td>NaN</td>\n",
       "      <td>NaN</td>\n",
       "      <td>NaN</td>\n",
       "      <td>NaN</td>\n",
       "      <td>NaN</td>\n",
       "      <td>NaN</td>\n",
       "      <td>NaN</td>\n",
       "      <td>...</td>\n",
       "      <td>70.000</td>\n",
       "      <td>NaN</td>\n",
       "      <td>NaN</td>\n",
       "      <td>3.23242</td>\n",
       "      <td>NaN</td>\n",
       "      <td>2022-10-20 09:02:36</td>\n",
       "      <td>montalto</td>\n",
       "      <td>NaN</td>\n",
       "      <td>420769</td>\n",
       "      <td>new CTOI, Montalto (2022)</td>\n",
       "    </tr>\n",
       "    <tr>\n",
       "      <th>3</th>\n",
       "      <td>769986</td>\n",
       "      <td>769986.01</td>\n",
       "      <td>NaN</td>\n",
       "      <td>NaN</td>\n",
       "      <td>NaN</td>\n",
       "      <td>NaN</td>\n",
       "      <td>NaN</td>\n",
       "      <td>NaN</td>\n",
       "      <td>NaN</td>\n",
       "      <td>NaN</td>\n",
       "      <td>...</td>\n",
       "      <td>122.000</td>\n",
       "      <td>4.20725</td>\n",
       "      <td>NaN</td>\n",
       "      <td>1.04351</td>\n",
       "      <td>NaN</td>\n",
       "      <td>2022-10-20 09:04:55</td>\n",
       "      <td>montalto</td>\n",
       "      <td>NaN</td>\n",
       "      <td>421495</td>\n",
       "      <td>new CTOI, Montalto (2022)</td>\n",
       "    </tr>\n",
       "    <tr>\n",
       "      <th>4</th>\n",
       "      <td>991806</td>\n",
       "      <td>991806.01</td>\n",
       "      <td>NaN</td>\n",
       "      <td>NaN</td>\n",
       "      <td>NaN</td>\n",
       "      <td>NaN</td>\n",
       "      <td>NaN</td>\n",
       "      <td>NaN</td>\n",
       "      <td>NaN</td>\n",
       "      <td>NaN</td>\n",
       "      <td>...</td>\n",
       "      <td>17.480</td>\n",
       "      <td>NaN</td>\n",
       "      <td>NaN</td>\n",
       "      <td>3.63923</td>\n",
       "      <td>NaN</td>\n",
       "      <td>2022-10-20 09:02:36</td>\n",
       "      <td>montalto</td>\n",
       "      <td>NaN</td>\n",
       "      <td>420793</td>\n",
       "      <td>new CTOI, Montalto (2022)</td>\n",
       "    </tr>\n",
       "  </tbody>\n",
       "</table>\n",
       "<p>5 rows × 71 columns</p>\n",
       "</div>"
      ],
      "text/plain": [
       "   TIC ID       CTOI  Promoted to TOI  MASTER  SG1A  SG1B  SG2  SG3  SG4  SG5  \\\n",
       "0   17361   17361.01          3127.01     NaN   NaN   NaN  NaN  NaN  NaN  NaN   \n",
       "1  160363  160363.01              NaN     NaN   NaN   NaN  NaN  NaN  NaN  NaN   \n",
       "2  592503  592503.01              NaN     NaN   NaN   NaN  NaN  NaN  NaN  NaN   \n",
       "3  769986  769986.01              NaN     NaN   NaN   NaN  NaN  NaN  NaN  NaN   \n",
       "4  991806  991806.01              NaN     NaN   NaN   NaN  NaN  NaN  NaN  NaN   \n",
       "\n",
       "   ... Stellar Eff Temp (K) err Stellar log(g) (cm/s^2)  \\\n",
       "0  ...                  121.637                 4.25352   \n",
       "1  ...                  129.081                 4.15460   \n",
       "2  ...                   70.000                     NaN   \n",
       "3  ...                  122.000                 4.20725   \n",
       "4  ...                   17.480                     NaN   \n",
       "\n",
       "   Stellar log(g) (cm/s^2) err  Stellar Radius (R_Sun)  \\\n",
       "0                     0.078445                 1.25819   \n",
       "1                     0.093692                 1.66309   \n",
       "2                          NaN                 3.23242   \n",
       "3                          NaN                 1.04351   \n",
       "4                          NaN                 3.63923   \n",
       "\n",
       "   Stellar Radius (R_Sun) err         CTOI lastmod      User  Group     Tag  \\\n",
       "0                    0.062226  2020-08-10 07:20:18  montalto    NaN   29419   \n",
       "1                    0.075980  2021-02-11 04:13:20    steuer    NaN   94179   \n",
       "2                         NaN  2022-10-20 09:02:36  montalto    NaN  420769   \n",
       "3                         NaN  2022-10-20 09:04:55  montalto    NaN  421495   \n",
       "4                         NaN  2022-10-20 09:02:36  montalto    NaN  420793   \n",
       "\n",
       "                                           Notes  \n",
       "0               new CTOI, Montalto et al. (2020)  \n",
       "1  Found with our in-house single transit finder  \n",
       "2                      new CTOI, Montalto (2022)  \n",
       "3                      new CTOI, Montalto (2022)  \n",
       "4                      new CTOI, Montalto (2022)  \n",
       "\n",
       "[5 rows x 71 columns]"
      ]
     },
     "execution_count": 20,
     "metadata": {},
     "output_type": "execute_result"
    }
   ],
   "source": [
    "df2 = get_ctois()\n",
    "df2.head()"
   ]
  },
  {
   "cell_type": "code",
   "execution_count": 21,
   "id": "8c4b39b8",
   "metadata": {
    "ExecuteTime": {
     "end_time": "2023-02-17T07:12:40.502516Z",
     "start_time": "2023-02-17T07:12:40.496871Z"
    }
   },
   "outputs": [
    {
     "data": {
      "text/plain": [
       "64837857      4\n",
       "206544316     4\n",
       "92349924      3\n",
       "300903537     3\n",
       "100504488     3\n",
       "             ..\n",
       "159059181     1\n",
       "159098316     1\n",
       "159159904     1\n",
       "159185219     1\n",
       "2050290974    1\n",
       "Name: TIC ID, Length: 2707, dtype: int64"
      ]
     },
     "execution_count": 21,
     "metadata": {},
     "output_type": "execute_result"
    }
   ],
   "source": [
    "nsys2 = df2['TIC ID'].value_counts()\n",
    "nsys2"
   ]
  },
  {
   "cell_type": "code",
   "execution_count": 22,
   "id": "a004bbdf",
   "metadata": {
    "ExecuteTime": {
     "end_time": "2023-02-17T07:12:40.509695Z",
     "start_time": "2023-02-17T07:12:40.504160Z"
    }
   },
   "outputs": [
    {
     "name": "stdout",
     "output_type": "stream",
     "text": [
      "136\n"
     ]
    }
   ],
   "source": [
    "tics_multis2 = list(nsys2[nsys2>1].index)\n",
    "print(len(tics_multis2))"
   ]
  },
  {
   "cell_type": "code",
   "execution_count": 23,
   "id": "290ec945",
   "metadata": {
    "ExecuteTime": {
     "end_time": "2023-02-17T07:12:40.622576Z",
     "start_time": "2023-02-17T07:12:40.511249Z"
    },
    "scrolled": false
   },
   "outputs": [
    {
     "name": "stdout",
     "output_type": "stream",
     "text": [
      "TIC 204497617 (nplanets=2): <br>\n",
      "First Order: 2:1 | P=(3.18,1.59) n=(1,2) (delta=0.02%)\n",
      "Second Order: 4:2 | P=(3.18,1.59) n=(1,2) (delta=0.02%)\n",
      "\n",
      "TIC 29478974 (nplanets=2): <br>\n",
      "First Order: 2:1 | P=(24.90,12.46) n=(1,2) (delta=0.06%)\n",
      "Second Order: 4:2 | P=(24.90,12.46) n=(1,2) (delta=0.06%)\n",
      "\n",
      "TIC 207080350 (nplanets=2): <br>\n",
      "First Order: 2:1 | P=(18.38,9.11) n=(1,2) (delta=0.94%)\n",
      "Second Order: 4:2 | P=(18.38,9.11) n=(1,2) (delta=0.94%)\n",
      "\n",
      "TIC 347332255 (nplanets=2): <br>\n",
      "First Order: 3:2 | P=(13.67,9.11) n=(1,2) (delta=0.02%)\n",
      "Second Order: 6:4 | P=(13.67,9.11) n=(1,2) (delta=0.02%)\n",
      "\n",
      "TIC 253922296 (nplanets=2): <br>\n",
      "Second Order: 3:1 | P=(9.43,3.14) n=(1,2) (delta=0.03%)\n",
      "\n"
     ]
    },
    {
     "name": "stderr",
     "output_type": "stream",
     "text": [
      "/tmp/ipykernel_12514/4028263970.py:19: RuntimeWarning: invalid value encountered in scalar divide\n",
      "  delta = abs((Pout/Pin)*(i/j) - 1)\n",
      "/tmp/ipykernel_12514/4028263970.py:19: RuntimeWarning: divide by zero encountered in scalar divide\n",
      "  delta = abs((Pout/Pin)*(i/j) - 1)\n"
     ]
    }
   ],
   "source": [
    "ttv_1st_order2 = []       # commensurability in 1 planet pair \n",
    "ttv_2nd_order2 = []\n",
    "ttv_chain2 = []           # more than 1 planet pair\n",
    "for tic in tics_multis2:\n",
    "    dd = df2[df2['TIC ID']==tic].squeeze()\n",
    "    periods = dd[\"Period (days)\"].values\n",
    "    Nplanets = len(periods)\n",
    "    \n",
    "    resonances_1st_order = get_resonant_pairs(periods, order=1, tol=0.01);\n",
    "    resonances_2nd_order = get_resonant_pairs(periods, order=2, tol=0.01);\n",
    "    msg = f\"TIC {tic} (nplanets={Nplanets}): <br>\\n\"\n",
    "    show = False\n",
    "    if len(resonances_1st_order)>=1:\n",
    "        msg += f\"First Order: {' '.join(resonances_1st_order)}\\n\"\n",
    "        ttv_1st_order2.append(tic)\n",
    "        if len(resonances_1st_order)>=2:\n",
    "            ttv_chain2.append(tic)\n",
    "        show = True\n",
    "    if len(resonances_2nd_order)>=1:\n",
    "        msg += f\"Second Order: {' '.join(resonances_2nd_order)}\\n\"\n",
    "        ttv_2nd_order2.append(tic)\n",
    "        show = True\n",
    "    if show:\n",
    "        print(msg)"
   ]
  },
  {
   "cell_type": "code",
   "execution_count": 24,
   "id": "737196a7",
   "metadata": {
    "ExecuteTime": {
     "end_time": "2023-02-17T07:12:40.648575Z",
     "start_time": "2023-02-17T07:12:40.625955Z"
    }
   },
   "outputs": [
    {
     "data": {
      "text/html": [
       "<div>\n",
       "<style scoped>\n",
       "    .dataframe tbody tr th:only-of-type {\n",
       "        vertical-align: middle;\n",
       "    }\n",
       "\n",
       "    .dataframe tbody tr th {\n",
       "        vertical-align: top;\n",
       "    }\n",
       "\n",
       "    .dataframe thead th {\n",
       "        text-align: right;\n",
       "    }\n",
       "</style>\n",
       "<table border=\"1\" class=\"dataframe\">\n",
       "  <thead>\n",
       "    <tr style=\"text-align: right;\">\n",
       "      <th></th>\n",
       "      <th>tic</th>\n",
       "      <th>1st order</th>\n",
       "      <th>2nd order</th>\n",
       "    </tr>\n",
       "  </thead>\n",
       "  <tbody>\n",
       "    <tr>\n",
       "      <th>0</th>\n",
       "      <td>204497617</td>\n",
       "      <td>True</td>\n",
       "      <td>True</td>\n",
       "    </tr>\n",
       "    <tr>\n",
       "      <th>1</th>\n",
       "      <td>29478974</td>\n",
       "      <td>True</td>\n",
       "      <td>True</td>\n",
       "    </tr>\n",
       "    <tr>\n",
       "      <th>2</th>\n",
       "      <td>207080350</td>\n",
       "      <td>True</td>\n",
       "      <td>True</td>\n",
       "    </tr>\n",
       "    <tr>\n",
       "      <th>3</th>\n",
       "      <td>347332255</td>\n",
       "      <td>True</td>\n",
       "      <td>True</td>\n",
       "    </tr>\n",
       "    <tr>\n",
       "      <th>4</th>\n",
       "      <td>253922296</td>\n",
       "      <td>NaN</td>\n",
       "      <td>True</td>\n",
       "    </tr>\n",
       "  </tbody>\n",
       "</table>\n",
       "</div>"
      ],
      "text/plain": [
       "         tic 1st order  2nd order\n",
       "0  204497617      True       True\n",
       "1   29478974      True       True\n",
       "2  207080350      True       True\n",
       "3  347332255      True       True\n",
       "4  253922296       NaN       True"
      ]
     },
     "execution_count": 24,
     "metadata": {},
     "output_type": "execute_result"
    }
   ],
   "source": [
    "s1 = pd.DataFrame(ttv_1st_order2, columns=['tic'])\n",
    "s1['1st order'] = True\n",
    "s2 = pd.DataFrame(ttv_2nd_order2, columns=['tic'])\n",
    "s2['2nd order'] = True\n",
    "res2 = pd.merge(s1, s2, how='outer')\n",
    "res2"
   ]
  },
  {
   "cell_type": "code",
   "execution_count": 25,
   "id": "cc012ed2",
   "metadata": {
    "ExecuteTime": {
     "end_time": "2023-02-17T07:12:40.661128Z",
     "start_time": "2023-02-17T07:12:40.656657Z"
    }
   },
   "outputs": [],
   "source": [
    "res2.to_csv('../data/tics_resonance_from_ctoi.csv')"
   ]
  },
  {
   "cell_type": "code",
   "execution_count": 26,
   "id": "edd52000",
   "metadata": {
    "ExecuteTime": {
     "end_time": "2023-02-17T07:12:40.673366Z",
     "start_time": "2023-02-17T07:12:40.663386Z"
    }
   },
   "outputs": [],
   "source": [
    "np.savetxt('../data/tics_resonance_from_ctoi.txt', res2.tic.tolist(), fmt=\"%d\")\n",
    "np.savetxt('../data/tics_resonance_from_ctoi_1st_order.txt', ttv_1st_order2, fmt=\"%d\")\n",
    "np.savetxt('../data/tics_resonance_from_ctoi_2nd_order.txt', ttv_2nd_order2, fmt=\"%d\")"
   ]
  },
  {
   "cell_type": "markdown",
   "id": "c43e9975",
   "metadata": {},
   "source": [
    "## Transit timing database\n",
    "* https://ui.adsabs.harvard.edu/abs/2022ApJS..259...62I/abstract"
   ]
  },
  {
   "cell_type": "code",
   "execution_count": 103,
   "id": "f9b87cb4",
   "metadata": {
    "ExecuteTime": {
     "end_time": "2023-02-15T08:28:05.837259Z",
     "start_time": "2023-02-15T08:28:01.953278Z"
    }
   },
   "outputs": [
    {
     "data": {
      "text/html": [
       "<div>\n",
       "<style scoped>\n",
       "    .dataframe tbody tr th:only-of-type {\n",
       "        vertical-align: middle;\n",
       "    }\n",
       "\n",
       "    .dataframe tbody tr th {\n",
       "        vertical-align: top;\n",
       "    }\n",
       "\n",
       "    .dataframe thead th {\n",
       "        text-align: right;\n",
       "    }\n",
       "</style>\n",
       "<table border=\"1\" class=\"dataframe\">\n",
       "  <thead>\n",
       "    <tr style=\"text-align: right;\">\n",
       "      <th></th>\n",
       "      <th>System</th>\n",
       "      <th>Orbit number</th>\n",
       "      <th>T_mid</th>\n",
       "      <th>Uncertainty (days)</th>\n",
       "      <th>Time System</th>\n",
       "      <th>#</th>\n",
       "      <th>Reference</th>\n",
       "    </tr>\n",
       "  </thead>\n",
       "  <tbody>\n",
       "    <tr>\n",
       "      <th>0</th>\n",
       "      <td>CoRoT-01</td>\n",
       "      <td>-1412</td>\n",
       "      <td>2.454138e+06</td>\n",
       "      <td>0.000470</td>\n",
       "      <td>BJD</td>\n",
       "      <td>1</td>\n",
       "      <td>2009A&amp;A...506..369B</td>\n",
       "    </tr>\n",
       "    <tr>\n",
       "      <th>1</th>\n",
       "      <td>CoRoT-01</td>\n",
       "      <td>-1411</td>\n",
       "      <td>2.454140e+06</td>\n",
       "      <td>0.000590</td>\n",
       "      <td>BJD</td>\n",
       "      <td>1</td>\n",
       "      <td>2009A&amp;A...506..369B</td>\n",
       "    </tr>\n",
       "    <tr>\n",
       "      <th>2</th>\n",
       "      <td>CoRoT-01</td>\n",
       "      <td>-1410</td>\n",
       "      <td>2.454141e+06</td>\n",
       "      <td>0.000620</td>\n",
       "      <td>BJD</td>\n",
       "      <td>1</td>\n",
       "      <td>2009A&amp;A...506..369B</td>\n",
       "    </tr>\n",
       "    <tr>\n",
       "      <th>3</th>\n",
       "      <td>CoRoT-01</td>\n",
       "      <td>-1409</td>\n",
       "      <td>2.454143e+06</td>\n",
       "      <td>0.000390</td>\n",
       "      <td>BJD</td>\n",
       "      <td>1</td>\n",
       "      <td>2009A&amp;A...506..369B</td>\n",
       "    </tr>\n",
       "    <tr>\n",
       "      <th>4</th>\n",
       "      <td>CoRoT-01</td>\n",
       "      <td>-1408</td>\n",
       "      <td>2.454144e+06</td>\n",
       "      <td>0.001630</td>\n",
       "      <td>BJD</td>\n",
       "      <td>1</td>\n",
       "      <td>2009A&amp;A...506..369B</td>\n",
       "    </tr>\n",
       "    <tr>\n",
       "      <th>...</th>\n",
       "      <td>...</td>\n",
       "      <td>...</td>\n",
       "      <td>...</td>\n",
       "      <td>...</td>\n",
       "      <td>...</td>\n",
       "      <td>...</td>\n",
       "      <td>...</td>\n",
       "    </tr>\n",
       "    <tr>\n",
       "      <th>8662</th>\n",
       "      <td>XO-7</td>\n",
       "      <td>214</td>\n",
       "      <td>2.459407e+06</td>\n",
       "      <td>0.000510</td>\n",
       "      <td>BJD_TDB</td>\n",
       "      <td>1</td>\n",
       "      <td>This work</td>\n",
       "    </tr>\n",
       "    <tr>\n",
       "      <th>8663</th>\n",
       "      <td>XO-7</td>\n",
       "      <td>215</td>\n",
       "      <td>2.459410e+06</td>\n",
       "      <td>0.000467</td>\n",
       "      <td>BJD_TDB</td>\n",
       "      <td>1</td>\n",
       "      <td>This work</td>\n",
       "    </tr>\n",
       "    <tr>\n",
       "      <th>8664</th>\n",
       "      <td>XO-7</td>\n",
       "      <td>216</td>\n",
       "      <td>2.459413e+06</td>\n",
       "      <td>0.000508</td>\n",
       "      <td>BJD_TDB</td>\n",
       "      <td>1</td>\n",
       "      <td>This work</td>\n",
       "    </tr>\n",
       "    <tr>\n",
       "      <th>8665</th>\n",
       "      <td>XO-7</td>\n",
       "      <td>217</td>\n",
       "      <td>2.459415e+06</td>\n",
       "      <td>0.000517</td>\n",
       "      <td>BJD_TDB</td>\n",
       "      <td>1</td>\n",
       "      <td>This work</td>\n",
       "    </tr>\n",
       "    <tr>\n",
       "      <th>8666</th>\n",
       "      <td>XO-7</td>\n",
       "      <td>218</td>\n",
       "      <td>2.459418e+06</td>\n",
       "      <td>0.000462</td>\n",
       "      <td>BJD_TDB</td>\n",
       "      <td>1</td>\n",
       "      <td>This work</td>\n",
       "    </tr>\n",
       "  </tbody>\n",
       "</table>\n",
       "<p>8667 rows × 7 columns</p>\n",
       "</div>"
      ],
      "text/plain": [
       "        System  Orbit number         T_mid  Uncertainty (days) Time System  #  \\\n",
       "0     CoRoT-01         -1412  2.454138e+06            0.000470         BJD  1   \n",
       "1     CoRoT-01         -1411  2.454140e+06            0.000590         BJD  1   \n",
       "2     CoRoT-01         -1410  2.454141e+06            0.000620         BJD  1   \n",
       "3     CoRoT-01         -1409  2.454143e+06            0.000390         BJD  1   \n",
       "4     CoRoT-01         -1408  2.454144e+06            0.001630         BJD  1   \n",
       "...        ...           ...           ...                 ...         ... ..   \n",
       "8662      XO-7           214  2.459407e+06            0.000510     BJD_TDB  1   \n",
       "8663      XO-7           215  2.459410e+06            0.000467     BJD_TDB  1   \n",
       "8664      XO-7           216  2.459413e+06            0.000508     BJD_TDB  1   \n",
       "8665      XO-7           217  2.459415e+06            0.000517     BJD_TDB  1   \n",
       "8666      XO-7           218  2.459418e+06            0.000462     BJD_TDB  1   \n",
       "\n",
       "                Reference  \n",
       "0     2009A&A...506..369B  \n",
       "1     2009A&A...506..369B  \n",
       "2     2009A&A...506..369B  \n",
       "3     2009A&A...506..369B  \n",
       "4     2009A&A...506..369B  \n",
       "...                   ...  \n",
       "8662            This work  \n",
       "8663            This work  \n",
       "8664            This work  \n",
       "8665            This work  \n",
       "8666            This work  \n",
       "\n",
       "[8667 rows x 7 columns]"
      ]
     },
     "execution_count": 103,
     "metadata": {},
     "output_type": "execute_result"
    }
   ],
   "source": [
    "#https://github.com/transit-timing/tt/blob/master/3_database/table4.csv\n",
    "url = \"https://raw.githubusercontent.com/transit-timing/tt/master/3_database/table4.csv\"\n",
    "df2 = pd.read_csv(url)\n",
    "df2"
   ]
  }
 ],
 "metadata": {
  "kernelspec": {
   "display_name": "Python 3 (ipykernel)",
   "language": "python",
   "name": "python3"
  },
  "language_info": {
   "codemirror_mode": {
    "name": "ipython",
    "version": 3
   },
   "file_extension": ".py",
   "mimetype": "text/x-python",
   "name": "python",
   "nbconvert_exporter": "python",
   "pygments_lexer": "ipython3",
   "version": "3.10.9"
  },
  "toc": {
   "base_numbering": 1,
   "nav_menu": {},
   "number_sections": true,
   "sideBar": true,
   "skip_h1_title": false,
   "title_cell": "Table of Contents",
   "title_sidebar": "Contents",
   "toc_cell": false,
   "toc_position": {},
   "toc_section_display": true,
   "toc_window_display": false
  }
 },
 "nbformat": 4,
 "nbformat_minor": 5
}
