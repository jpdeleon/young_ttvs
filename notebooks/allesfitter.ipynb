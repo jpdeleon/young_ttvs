{
 "cells": [
  {
   "cell_type": "code",
   "execution_count": 1,
   "id": "f55f079d",
   "metadata": {
    "ExecuteTime": {
     "end_time": "2023-02-17T13:52:06.540549Z",
     "start_time": "2023-02-17T13:52:06.537640Z"
    }
   },
   "outputs": [],
   "source": [
    "import os\n",
    "\n",
    "assert os.environ['CONDA_DEFAULT_ENV']=='lk2'"
   ]
  },
  {
   "cell_type": "markdown",
   "id": "59aed087",
   "metadata": {},
   "source": [
    "## create files"
   ]
  },
  {
   "cell_type": "code",
   "execution_count": 2,
   "id": "a2d1b5bd",
   "metadata": {
    "ExecuteTime": {
     "end_time": "2023-02-17T13:52:07.406958Z",
     "start_time": "2023-02-17T13:52:06.542754Z"
    }
   },
   "outputs": [
    {
     "name": "stdout",
     "output_type": "stream",
     "text": [
      "Loaded:  ../data/TOIs.csv\n"
     ]
    }
   ],
   "source": [
    "import sys\n",
    "sys.path.insert(0, '../code')\n",
    "from utils import get_tois, get_ctois\n",
    "\n",
    "tois = get_tois()"
   ]
  },
  {
   "cell_type": "code",
   "execution_count": 3,
   "id": "7d15a471",
   "metadata": {
    "ExecuteTime": {
     "end_time": "2023-02-17T13:52:07.412027Z",
     "start_time": "2023-02-17T13:52:07.409233Z"
    }
   },
   "outputs": [],
   "source": [
    "name='toi4323'\n",
    "toiid=4323"
   ]
  },
  {
   "cell_type": "code",
   "execution_count": 4,
   "id": "e97f09b8",
   "metadata": {
    "ExecuteTime": {
     "end_time": "2023-02-17T13:52:07.447205Z",
     "start_time": "2023-02-17T13:52:07.413595Z"
    }
   },
   "outputs": [
    {
     "data": {
      "text/html": [
       "<div>\n",
       "<style scoped>\n",
       "    .dataframe tbody tr th:only-of-type {\n",
       "        vertical-align: middle;\n",
       "    }\n",
       "\n",
       "    .dataframe tbody tr th {\n",
       "        vertical-align: top;\n",
       "    }\n",
       "\n",
       "    .dataframe thead th {\n",
       "        text-align: right;\n",
       "    }\n",
       "</style>\n",
       "<table border=\"1\" class=\"dataframe\">\n",
       "  <thead>\n",
       "    <tr style=\"text-align: right;\">\n",
       "      <th></th>\n",
       "      <th>index</th>\n",
       "      <th>TIC ID</th>\n",
       "      <th>TOI</th>\n",
       "      <th>Previous CTOI</th>\n",
       "      <th>Master</th>\n",
       "      <th>SG1A</th>\n",
       "      <th>SG1B</th>\n",
       "      <th>SG2</th>\n",
       "      <th>SG3</th>\n",
       "      <th>SG4</th>\n",
       "      <th>...</th>\n",
       "      <th>Stellar Radius (R_Sun) err</th>\n",
       "      <th>Stellar Metallicity</th>\n",
       "      <th>Stellar Metallicity err</th>\n",
       "      <th>Stellar Mass (M_Sun)</th>\n",
       "      <th>Stellar Mass (M_Sun) err</th>\n",
       "      <th>Sectors</th>\n",
       "      <th>Date TOI Alerted (UTC)</th>\n",
       "      <th>Date TOI Updated (UTC)</th>\n",
       "      <th>Date Modified</th>\n",
       "      <th>Comments</th>\n",
       "    </tr>\n",
       "  </thead>\n",
       "  <tbody>\n",
       "    <tr>\n",
       "      <th>0</th>\n",
       "      <td>3612</td>\n",
       "      <td>143022742</td>\n",
       "      <td>4323.01</td>\n",
       "      <td>NaN</td>\n",
       "      <td>5</td>\n",
       "      <td>5</td>\n",
       "      <td>5</td>\n",
       "      <td>5</td>\n",
       "      <td>5</td>\n",
       "      <td>5</td>\n",
       "      <td>...</td>\n",
       "      <td>0.013602</td>\n",
       "      <td>NaN</td>\n",
       "      <td>NaN</td>\n",
       "      <td>0.455971</td>\n",
       "      <td>0.020254</td>\n",
       "      <td>4,31</td>\n",
       "      <td>2021-07-27</td>\n",
       "      <td>2021-07-26</td>\n",
       "      <td>2022-12-14 12:09:24</td>\n",
       "      <td>potential L1 planet; low SNR; fit appears to b...</td>\n",
       "    </tr>\n",
       "    <tr>\n",
       "      <th>1</th>\n",
       "      <td>3613</td>\n",
       "      <td>143022742</td>\n",
       "      <td>4323.02</td>\n",
       "      <td>NaN</td>\n",
       "      <td>5</td>\n",
       "      <td>5</td>\n",
       "      <td>5</td>\n",
       "      <td>5</td>\n",
       "      <td>5</td>\n",
       "      <td>5</td>\n",
       "      <td>...</td>\n",
       "      <td>0.013602</td>\n",
       "      <td>NaN</td>\n",
       "      <td>NaN</td>\n",
       "      <td>0.455971</td>\n",
       "      <td>0.020254</td>\n",
       "      <td>4,31</td>\n",
       "      <td>2021-07-27</td>\n",
       "      <td>2021-07-26</td>\n",
       "      <td>2022-12-14 12:09:24</td>\n",
       "      <td>possible 3:2 resonance; 3.6 sigma odd-even</td>\n",
       "    </tr>\n",
       "  </tbody>\n",
       "</table>\n",
       "<p>2 rows × 63 columns</p>\n",
       "</div>"
      ],
      "text/plain": [
       "   index     TIC ID      TOI Previous CTOI  Master  SG1A  SG1B  SG2  SG3  SG4  \\\n",
       "0   3612  143022742  4323.01           NaN       5     5     5    5    5    5   \n",
       "1   3613  143022742  4323.02           NaN       5     5     5    5    5    5   \n",
       "\n",
       "   ...  Stellar Radius (R_Sun) err  Stellar Metallicity  \\\n",
       "0  ...                    0.013602                  NaN   \n",
       "1  ...                    0.013602                  NaN   \n",
       "\n",
       "   Stellar Metallicity err  Stellar Mass (M_Sun)  Stellar Mass (M_Sun) err  \\\n",
       "0                      NaN              0.455971                  0.020254   \n",
       "1                      NaN              0.455971                  0.020254   \n",
       "\n",
       "   Sectors  Date TOI Alerted (UTC) Date TOI Updated (UTC)  \\\n",
       "0     4,31              2021-07-27             2021-07-26   \n",
       "1     4,31              2021-07-27             2021-07-26   \n",
       "\n",
       "         Date Modified                                           Comments  \n",
       "0  2022-12-14 12:09:24  potential L1 planet; low SNR; fit appears to b...  \n",
       "1  2022-12-14 12:09:24         possible 3:2 resonance; 3.6 sigma odd-even  \n",
       "\n",
       "[2 rows x 63 columns]"
      ]
     },
     "execution_count": 4,
     "metadata": {},
     "output_type": "execute_result"
    }
   ],
   "source": [
    "d = tois[tois['TOI'].apply(str).str.contains(str(toiid))].reset_index()\n",
    "d"
   ]
  },
  {
   "cell_type": "code",
   "execution_count": 5,
   "id": "4f43bd64",
   "metadata": {
    "ExecuteTime": {
     "end_time": "2023-02-17T13:52:07.454205Z",
     "start_time": "2023-02-17T13:52:07.448841Z"
    }
   },
   "outputs": [
    {
     "data": {
      "text/plain": [
       "231663901"
      ]
     },
     "execution_count": 5,
     "metadata": {},
     "output_type": "execute_result"
    }
   ],
   "source": [
    "tic = tois['TIC ID'].unique()[0]\n",
    "tic"
   ]
  },
  {
   "cell_type": "raw",
   "id": "539a7c22",
   "metadata": {
    "ExecuteTime": {
     "end_time": "2023-02-17T13:48:13.614654Z",
     "start_time": "2023-02-17T13:48:13.609571Z"
    }
   },
   "source": [
    "d.columns"
   ]
  },
  {
   "cell_type": "code",
   "execution_count": 6,
   "id": "fc3363e2",
   "metadata": {
    "ExecuteTime": {
     "end_time": "2023-02-17T13:52:07.472352Z",
     "start_time": "2023-02-17T13:52:07.457165Z"
    }
   },
   "outputs": [],
   "source": [
    "import numpy as np\n",
    "\n",
    "G = 6.67e-11\n",
    "D_H = 24.\n",
    "D_M = 60 * D_H\n",
    "D_S = 60 * D_M\n",
    "au             = 1.496e11\n",
    "msun           = 1.9891e30\n",
    "rsun           = 0.5*1.392684e9\n",
    "\n",
    "def as_from_rhop(rho, P):\n",
    "    \"\"\"Scaled semi-major axis from the stellar density and planet's orbital period.\n",
    "    Parameters\n",
    "    ----------\n",
    "      rho    : stellar density [g/cm^3]\n",
    "      period : orbital period  [d]\n",
    "    Returns\n",
    "    -------\n",
    "      as : scaled semi-major axis [R_star]\n",
    "    \"\"\"\n",
    "    return (G/(3*np.pi))**(1/3) * ((P * D_S)**2 * 1e3 * rho)**(1 / 3)\n",
    "\n",
    "def a_from_rhoprs(rho, P, rstar):\n",
    "    \"\"\"Semi-major axis from the stellar density, stellar radius, and planet's orbital period.\n",
    "    Parameters\n",
    "    ----------\n",
    "      rho    : stellar density [g/cm^3]\n",
    "      period : orbital period  [d]\n",
    "      rstar  : stellar radius  [R_Sun]\n",
    "    Returns\n",
    "    -------\n",
    "      a : semi-major axis [AU]\n",
    "    \"\"\"\n",
    "    return as_from_rhop(rho, P)*rstar*rsun/au\n",
    "\n",
    "def rhostar(mstar, rstar):\n",
    "    vol = 4/3*np.pi*rstar**3\n",
    "    return mstar/vol\n",
    "    \n",
    "def estimate_ttv_super_period_of_first_order_mmr(P1, P2, MMR='2:1'):\n",
    "    '''\n",
    "    Estimates the TTV super-period.\n",
    "    Only works for first order MMRs, e.g., 2:1, 3:2, 4:3, etc.\n",
    "    Following Eq. 7 of Lithwick+ 2017, https://iopscience.iop.org/article/10.1088/0004-637X/761/2/122/pdf\n",
    "    \n",
    "    Parameters\n",
    "    ----------\n",
    "    P1 : float\n",
    "        Orbital period of the inner planet.\n",
    "    P2 : float\n",
    "        Orbital period of the outer planet.\n",
    "    MMR : str, optional\n",
    "        Mean motion resonance. \n",
    "        The larger number must come first.\n",
    "        The default is '2:1'.\n",
    "    Returns\n",
    "    -------\n",
    "    TTV super-period : float\n",
    "        The TTV super-period.\n",
    "    '''\n",
    "    \n",
    "    j = int(MMR.split(':')[0])\n",
    "    return 1. / np.abs( (1.*j/P2) - (1.*(j-1.)/P1) )\n",
    "\n",
    "def catalog_info_TIC(TIC_ID):\n",
    "    \"\"\"Takes TIC_ID, returns stellar information from online catalog using Vizier\n",
    "    \n",
    "    Taken from \n",
    "    https://github.com/hippke/tls/blob/master/transitleastsquares/catalog.py#L64\n",
    "    \"\"\"\n",
    "    if type(TIC_ID) is not int:\n",
    "        raise TypeError('TIC_ID ID must be of type \"int\"')\n",
    "    try:\n",
    "        from astroquery.mast import Catalogs\n",
    "    except:\n",
    "        raise ImportError(\"Package astroquery required but failed to import\")\n",
    "\n",
    "    result = Catalogs.query_criteria(catalog=\"Tic\", ID=TIC_ID).as_array()\n",
    "    Teff = result[0][64]\n",
    "    logg = result[0][66]\n",
    "    radius = result[0][70]\n",
    "    radius_max = result[0][71]\n",
    "    radius_min = result[0][71]\n",
    "    mass = result[0][72]\n",
    "    mass_max = result[0][73]\n",
    "    mass_min = result[0][73]\n",
    "    return Teff, logg, radius, radius_min, radius_max, mass, mass_min, mass_max"
   ]
  },
  {
   "cell_type": "code",
   "execution_count": 7,
   "id": "a09b30c5",
   "metadata": {
    "ExecuteTime": {
     "end_time": "2023-02-17T13:52:07.482017Z",
     "start_time": "2023-02-17T13:52:07.475051Z"
    }
   },
   "outputs": [
    {
     "data": {
      "text/plain": [
       "1.6666666666666665"
      ]
     },
     "execution_count": 7,
     "metadata": {},
     "output_type": "execute_result"
    }
   ],
   "source": [
    "estimate_ttv_super_period_of_first_order_mmr(5, 2.5, MMR='2:1')"
   ]
  },
  {
   "cell_type": "code",
   "execution_count": 8,
   "id": "25574d88",
   "metadata": {
    "ExecuteTime": {
     "end_time": "2023-02-17T13:52:09.677658Z",
     "start_time": "2023-02-17T13:52:07.484189Z"
    }
   },
   "outputs": [
    {
     "data": {
      "text/plain": [
       "(3414.0,\n",
       " 4.77364,\n",
       " 0.458861,\n",
       " 0.0136024,\n",
       " 0.0136024,\n",
       " 0.455971,\n",
       " 0.0202541,\n",
       " 0.0202541)"
      ]
     },
     "execution_count": 8,
     "metadata": {},
     "output_type": "execute_result"
    }
   ],
   "source": [
    "Teff, logg, radius, radius_min, radius_max, mass, mass_min, mass_max = catalog_info_TIC(143022742)\n",
    "Teff, logg, radius, radius_min, radius_max, mass, mass_min, mass_max"
   ]
  },
  {
   "cell_type": "code",
   "execution_count": 9,
   "id": "824b3614",
   "metadata": {
    "ExecuteTime": {
     "end_time": "2023-02-17T13:52:09.804705Z",
     "start_time": "2023-02-17T13:52:09.680507Z"
    }
   },
   "outputs": [
    {
     "name": "stdout",
     "output_type": "stream",
     "text": [
      "mkdir: cannot create directory ‘../allesfitter/toi4323’: File exists\r\n"
     ]
    }
   ],
   "source": [
    "!mkdir ../allesfitter/$name"
   ]
  },
  {
   "cell_type": "code",
   "execution_count": 10,
   "id": "d0a6e1cc",
   "metadata": {
    "ExecuteTime": {
     "end_time": "2023-02-17T13:52:10.395836Z",
     "start_time": "2023-02-17T13:52:09.809751Z"
    }
   },
   "outputs": [],
   "source": [
    "import numpy as np\n",
    "\n",
    "debug = False\n",
    "\n",
    "Nsamples = 10_000\n",
    "planets = \"b c d e f g\".split()\n",
    "# quartiles = [16,50,84] #1-sigma\n",
    "quartiles = [2.70, 50, 97.3] #3-sigma\n",
    "text = \"\"\"\n",
    "#name,value,fit,bounds,label,unit,truth\n",
    "\"\"\"\n",
    "\n",
    "for i,row in d.iterrows():\n",
    "    tic = row['TIC ID']\n",
    "    Porb = row['Period (days)']\n",
    "    Porberr = row['Period (days) err']\n",
    "    Porb_s = np.random.normal(Porb, Porberr, size=Nsamples)\n",
    "    epoch = row['Epoch (BJD)']\n",
    "    epocherr = row['Epoch (BJD) err']\n",
    "    \n",
    "    pl = planets[i]\n",
    "    rprs = np.sqrt(row['Depth (ppm)']/1e6)\n",
    "    rprserr = np.sqrt(row['Depth (ppm) err']/1e6)\n",
    "    \n",
    "    rprs_s = np.random.normal(rprs, rprserr, size=Nsamples)\n",
    "    rprs_min, rprs, rprs_max = np.percentile(rprs_s, q=quartiles)\n",
    "    \n",
    "    Teff, logg, radius, radius_min, radius_max, mass, mass_min, mass_max = catalog_info_TIC(tic)\n",
    "    \n",
    "    mass_s = np.random.normal(mass, np.sqrt(mass_min**2+mass_max**2), size=Nsamples)\n",
    "    radius_s = np.random.normal(mass, np.sqrt(radius_min**2+radius_max**2), size=Nsamples)\n",
    "    \n",
    "    rho_s = rhostar(mass_s, radius_s)\n",
    "    rhomin, rho, rhomax = np.percentile(rho_s, q=quartiles)\n",
    "    \n",
    "    as_s = as_from_rhop(rho_s, Porb_s)\n",
    "    as_min, a, as_max = np.percentile(as_s, q=quartiles)\n",
    "    \n",
    "    rsuma_s = radius_s/as_s\n",
    "    rsuma_min, rsuma, rsuma_max = np.percentile(rsuma_s, q=quartiles)\n",
    "    \n",
    "    theta = np.arcsin(radius_s/as_s)\n",
    "    inc_s = np.pi/2 - theta\n",
    "    inc_max, inc, inc_min = np.percentile(inc_s, q=quartiles)\n",
    "#     b_s = as_s * np.cos(inc_s)\n",
    "#     b_min, b, b_max = np.percentile(b_s, q=quartiles)\n",
    "    \n",
    "    text += f\"#companion {pl} astrophysical params,,,,,,\\n\"\n",
    "    text += f\"{pl}_rr,{rprs:.4f},1,uniform {rprs_min:.4f} {rprs_max:.4f},$R_{pl} / R_\\star$,,\\n\"\n",
    "    text += f\"{pl}_rsuma,{rsuma:.4f},1,uniform {rsuma_min:.4f} {rsuma_max:.4f},$(R_\\star + R_{pl}) / a_{pl}$,,\\n\"\n",
    "    text += f\"{pl}_cosi,{np.cos(inc):.4f},1,uniform {np.cos(inc_min):.4f} {np.cos(inc_max):.4f},$\\cos\"+\"{i_\"+pl+\"}$,,\\n\"\n",
    "#     text += f\"{pl}_epoch,{epoch:.2f},1,uniform {epoch-epoch_err:.4f} {epoch+epoch_err:.4f},$T_\"+\"{0;\"+pl+\"}$,BJD,\"\n",
    "    text += f\"{pl}_epoch,{epoch:.2f},1,normal {epoch:.4f} {epocherr:.4f},$T_\"+\"{0;\"+pl+\"}$,BJD,\\n\"\n",
    "    text += f\"{pl}_period,{Porb:.4f},1,normal {Porb:.4f} {Porberr:.4f},$P_b$,d,\\n\"\n",
    "    if debug:\n",
    "        print(pl)\n",
    "        print(f\"rprs={rprs:.4f}\")\n",
    "        print(f\"rho={rho:.4f}\")\n",
    "        print(f\"a={a:.4f}\")\n",
    "        print(f\"rsuma={rsuma:.4f}\")\n",
    "        print(f\"inc={np.rad2deg(inc):.2f}\")\n",
    "#         print(f\"b={b:.2f}\")\n",
    "text += \"\"\"b_f_c,0,0,uniform 0.0 0.0,$\\sqrt{e_b} \\cos{\\omega_b}$,,\n",
    "b_f_s,0,0,uniform 0.0 0.0,$\\sqrt{e_b} \\sin{\\omega_b}$,,\n",
    "#limb darkening coefficients per instrument,,,,,,\n",
    "host_ldc_q1_tess,0.5,1,uniform 0.0 1.0,$q_{1; \\mathrm{tess}}$,,\n",
    "host_ldc_q2_tess,0.5,1,uniform 0.0 1.0,$q_{2; \\mathrm{tess}}$,,\n",
    "#errors per instrument,,,,,,\n",
    "log_err_flux_tess,-6,1,uniform -10 -1,$\\log{\\sigma_\\mathrm{tess}}$,rel. flux,\n",
    "#baseline per instrument,,,,,,\n",
    "baseline_gp_offset_flux_tess,0,1,uniform -0.1 0.1,$\\mathrm{gp ln sigma (tess)}$,,\n",
    "baseline_gp_matern32_lnsigma_flux_tess,-5,1,uniform -15 0,$\\mathrm{gp ln sigma (tess)}$,,\n",
    "baseline_gp_matern32_lnrho_flux_tess,0,1,uniform -1 15,$\\mathrm{gp ln rho (tess)}$,,\n",
    "\"\"\"\n",
    "# print(text)"
   ]
  },
  {
   "cell_type": "code",
   "execution_count": 11,
   "id": "340c88be",
   "metadata": {
    "ExecuteTime": {
     "end_time": "2023-02-17T13:52:10.401464Z",
     "start_time": "2023-02-17T13:52:10.397343Z"
    }
   },
   "outputs": [
    {
     "name": "stdout",
     "output_type": "stream",
     "text": [
      "Saved:  ../allesfitter/toi4323/params.csv\n"
     ]
    }
   ],
   "source": [
    "fp = f\"../allesfitter/{name}/params.csv\"\n",
    "np.savetxt(fp, [text], fmt=\"%s\")\n",
    "print(\"Saved: \", fp)"
   ]
  },
  {
   "cell_type": "code",
   "execution_count": 12,
   "id": "418ff111",
   "metadata": {
    "ExecuteTime": {
     "end_time": "2023-02-17T13:52:10.531117Z",
     "start_time": "2023-02-17T13:52:10.405310Z"
    }
   },
   "outputs": [
    {
     "name": "stdout",
     "output_type": "stream",
     "text": [
      "\r\n",
      "#name,value,fit,bounds,label,unit,truth\r\n",
      "#companion b astrophysical params,,,,,,\r\n",
      "b_rr,0.0592,1,uniform -0.0016 0.1219,$R_b / R_\\star$,,\r\n",
      "b_rsuma,0.0194,1,uniform 0.0163 0.0227,$(R_\\star + R_b) / a_b$,,\r\n",
      "b_cosi,0.0194,1,uniform 0.0163 0.0227,$\\cos{i_b}$,,\r\n",
      "b_epoch,2458416.55,1,normal 2458416.5481 0.0132,$T_{0;b}$,BJD,\r\n",
      "b_period,14.6763,1,normal 14.6763 0.0003,$P_b$,d,\r\n",
      "#companion c astrophysical params,,,,,,\r\n",
      "c_rr,0.0891,1,uniform 0.0208 0.1576,$R_c / R_\\star$,,\r\n",
      "c_rsuma,0.0148,1,uniform 0.0124 0.0174,$(R_\\star + R_c) / a_c$,,\r\n",
      "c_cosi,0.0148,1,uniform 0.0124 0.0174,$\\cos{i_c}$,,\r\n",
      "c_epoch,2458412.90,1,normal 2458412.8965 0.0065,$T_{0;c}$,BJD,\r\n",
      "c_period,21.9693,1,normal 21.9693 0.0003,$P_b$,d,\r\n",
      "b_f_c,0,0,uniform 0.0 0.0,$\\sqrt{e_b} \\cos{\\omega_b}$,,\r\n",
      "b_f_s,0,0,uniform 0.0 0.0,$\\sqrt{e_b} \\sin{\\omega_b}$,,\r\n",
      "#limb darkening coefficients per instrument,,,,,,\r\n",
      "host_ldc_q1_tess,0.5,1,uniform 0.0 1.0,$q_{1; \\mathrm{tess}}$,,\r\n",
      "host_ldc_q2_tess,0.5,1,uniform 0.0 1.0,$q_{2; \\mathrm{tess}}$,,\r\n",
      "#errors per instrument,,,,,,\r\n",
      "log_err_flux_tess,-6,1,uniform -10 -1,$\\log{\\sigma_\\mathrm{tess}}$,rel. flux,\r\n",
      "#baseline per instrument,,,,,,\r\n",
      "baseline_gp_offset_flux_tess,0,1,uniform -0.1 0.1,$\\mathrm{gp ln sigma (tess)}$,,\r\n",
      "baseline_gp_matern32_lnsigma_flux_tess,-5,1,uniform -15 0,$\\mathrm{gp ln sigma (tess)}$,,\r\n",
      "baseline_gp_matern32_lnrho_flux_tess,0,1,uniform -1 15,$\\mathrm{gp ln rho (tess)}$,,\r\n",
      "\r\n"
     ]
    }
   ],
   "source": [
    "!cat $fp"
   ]
  },
  {
   "cell_type": "raw",
   "id": "572134f5",
   "metadata": {
    "ExecuteTime": {
     "end_time": "2023-02-17T08:48:37.451000Z",
     "start_time": "2023-02-17T08:48:37.203258Z"
    }
   },
   "source": [
    "import matplotlib.pyplot as plt\n",
    "\n",
    "plt.hist(rsuma_s)"
   ]
  },
  {
   "cell_type": "code",
   "execution_count": 13,
   "id": "f67bc08f",
   "metadata": {
    "ExecuteTime": {
     "end_time": "2023-02-17T13:52:10.548786Z",
     "start_time": "2023-02-17T13:52:10.536349Z"
    }
   },
   "outputs": [],
   "source": [
    "text2=\"\"\"#name,value\n",
    "###############################################################################,\n",
    "# General settings,\n",
    "###############################################################################,\n",
    "companions_phot,b c\n",
    "companions_rv,\n",
    "inst_phot,tess\n",
    "inst_rv,\n",
    "###############################################################################,\n",
    "# Fit performance settings,\n",
    "###############################################################################,\n",
    "multiprocess,True\n",
    "multiprocess_cores,40\n",
    "fast_fit,True\n",
    "fast_fit_width,0.3333333333333333\n",
    "secondary_eclipse,False\n",
    "phase_curve,False\n",
    "shift_epoch,True\n",
    "inst_for_b_epoch,all\n",
    "###############################################################################,\n",
    "# MCMC settings,\n",
    "###############################################################################,\n",
    "mcmc_nwalkers,100\n",
    "#mcmc_nwalkers,200\n",
    "mcmc_total_steps,2000\n",
    "#mcmc_total_steps,6000\n",
    "mcmc_burn_steps,1000\n",
    "#mcmc_burn_steps,1000\n",
    "#mcmc_thin_by,20\n",
    "mcmc_thin_by,2\n",
    "###############################################################################,\n",
    "# Nested Sampling settings,\n",
    "###############################################################################,\n",
    "ns_modus,dynamic\n",
    "ns_nlive,1000\n",
    "ns_bound,single\n",
    "ns_sample,rwalk\n",
    "ns_tol,0.01\n",
    "###############################################################################,\n",
    "# Limb darkening law per object and instrument,\n",
    "###############################################################################,\n",
    "host_ld_law_tess,quad\n",
    "###############################################################################,\n",
    "# Baseline settings per instrument,\n",
    "###############################################################################,\n",
    "#baseline_flux_tess,sample_offset\n",
    "#baseline_flux_tess,hybrid_spline\n",
    "#baseline_flux_tess,hybrid_poly_2\n",
    "baseline_flux_tess,sample_GP_Matern32\n",
    "###############################################################################,\n",
    "# Error settings per instrument,\n",
    "###############################################################################,\n",
    "error_flux_tess,sample\n",
    "###############################################################################,\n",
    "# Stellar grid per object and instrument,\n",
    "###############################################################################,\n",
    "host_grid_tess,very_sparse\n",
    "###############################################################################,\n",
    "# Flares,\n",
    "###############################################################################,\n",
    "#N_flares,1\n",
    "use_host_density_prior,False\n",
    "###################################################,\n",
    "# fit_ttvs\n",
    "###################################################,\n",
    "fit_ttvs,False\n",
    "t_exp,\"\"\""
   ]
  },
  {
   "cell_type": "code",
   "execution_count": 14,
   "id": "57a491cc",
   "metadata": {
    "ExecuteTime": {
     "end_time": "2023-02-17T13:52:10.563291Z",
     "start_time": "2023-02-17T13:52:10.553662Z"
    }
   },
   "outputs": [
    {
     "name": "stdout",
     "output_type": "stream",
     "text": [
      "Saved:  ../allesfitter/toi4323/settings.csv\n"
     ]
    }
   ],
   "source": [
    "fp = f\"../allesfitter/{name}/settings.csv\"\n",
    "np.savetxt(fp, [text2], fmt=\"%s\")\n",
    "print(\"Saved: \", fp)"
   ]
  },
  {
   "cell_type": "code",
   "execution_count": 15,
   "id": "45d8e269",
   "metadata": {
    "ExecuteTime": {
     "end_time": "2023-02-17T13:52:10.570395Z",
     "start_time": "2023-02-17T13:52:10.566116Z"
    }
   },
   "outputs": [],
   "source": [
    "text3=\"\"\"#!/usr/bin/env python\n",
    "import allesfitter\n",
    "\n",
    "fig = allesfitter.show_initial_guess('.')\n",
    "#allesfitter.prepare_ttv_fit('.')\n",
    "\n",
    "allesfitter.ns_fit('.')\n",
    "allesfitter.ns_output('.')\"\"\""
   ]
  },
  {
   "cell_type": "code",
   "execution_count": 16,
   "id": "7f5cb1d5",
   "metadata": {
    "ExecuteTime": {
     "end_time": "2023-02-17T13:52:10.576989Z",
     "start_time": "2023-02-17T13:52:10.572369Z"
    }
   },
   "outputs": [
    {
     "name": "stdout",
     "output_type": "stream",
     "text": [
      "Saved:  ../allesfitter/toi4323/run.py\n"
     ]
    }
   ],
   "source": [
    "fp = f\"../allesfitter/{name}/run.py\"\n",
    "np.savetxt(fp, [text3], fmt=\"%s\")\n",
    "print(\"Saved: \", fp)"
   ]
  },
  {
   "cell_type": "code",
   "execution_count": 17,
   "id": "7decaa85",
   "metadata": {
    "ExecuteTime": {
     "end_time": "2023-02-17T13:52:15.861342Z",
     "start_time": "2023-02-17T13:52:10.578799Z"
    }
   },
   "outputs": [
    {
     "name": "stderr",
     "output_type": "stream",
     "text": [
      "/home/jp/miniconda3/envs/lk2/lib/python3.10/site-packages/lightkurve/config/__init__.py:119: UserWarning: The default Lightkurve cache directory, used by download(), etc., has been moved to /home/jp/.lightkurve/cache. Please move all the files in the legacy directory /home/jp/.lightkurve-cache to the new location and remove the legacy directory. Refer to https://docs.lightkurve.org/reference/config.html#default-cache-directory-migration for more information.\n",
      "  warnings.warn(\n"
     ]
    },
    {
     "ename": "NameError",
     "evalue": "name 'toi' is not defined",
     "output_type": "error",
     "traceback": [
      "\u001b[0;31m---------------------------------------------------------------------------\u001b[0m",
      "\u001b[0;31mNameError\u001b[0m                                 Traceback (most recent call last)",
      "Cell \u001b[0;32mIn[17], line 15\u001b[0m\n\u001b[1;32m     13\u001b[0m ax \u001b[38;5;241m=\u001b[39m lc\u001b[38;5;241m.\u001b[39mscatter()\n\u001b[1;32m     14\u001b[0m \u001b[38;5;66;03m#ax.set_title(f\"TOI {toi} (sector {lc.sector})\")\u001b[39;00m\n\u001b[0;32m---> 15\u001b[0m ax\u001b[38;5;241m.\u001b[39mfigure\u001b[38;5;241m.\u001b[39msavefig(\u001b[38;5;124mf\u001b[39m\u001b[38;5;124m\"\u001b[39m\u001b[38;5;124m../allesfitter/\u001b[39m\u001b[38;5;132;01m{\u001b[39;00mname\u001b[38;5;132;01m}\u001b[39;00m\u001b[38;5;124m/toi\u001b[39m\u001b[38;5;132;01m{\u001b[39;00m\u001b[43mtoi\u001b[49m\u001b[38;5;132;01m}\u001b[39;00m\u001b[38;5;124m_tess.png\u001b[39m\u001b[38;5;124m\"\u001b[39m)\n\u001b[1;32m     16\u001b[0m fp \u001b[38;5;241m=\u001b[39m \u001b[38;5;124mf\u001b[39m\u001b[38;5;124m\"\u001b[39m\u001b[38;5;124m../allesfitter/\u001b[39m\u001b[38;5;132;01m{\u001b[39;00mname\u001b[38;5;132;01m}\u001b[39;00m\u001b[38;5;124m/tess.csv\u001b[39m\u001b[38;5;124m\"\u001b[39m\n\u001b[1;32m     17\u001b[0m df \u001b[38;5;241m=\u001b[39m lc\u001b[38;5;241m.\u001b[39mto_pandas()\n",
      "\u001b[0;31mNameError\u001b[0m: name 'toi' is not defined"
     ]
    },
    {
     "data": {
      "image/png": "[encoded data removed]",
      "text/plain": [
       "<Figure size 848.5x400 with 1 Axes>"
      ]
     },
     "metadata": {},
     "output_type": "display_data"
    }
   ],
   "source": [
    "#!/usr/bin/env python\n",
    "import lightkurve as lk\n",
    "\n",
    "multi_sector = True\n",
    "cols = ['time','flux','flux_err']\n",
    "\n",
    "result = lk.search_lightcurve(f'TIC {tic}', author='TESS-SPOC')\n",
    "if result:\n",
    "    if multi_sector:\n",
    "        lc = result.download_all().stitch()\n",
    "    else:\n",
    "        lc = result.download().normalize()\n",
    "    ax = lc.scatter()\n",
    "    #ax.set_title(f\"TOI {toi} (sector {lc.sector})\")\n",
    "    ax.figure.savefig(f\"../allesfitter/{name}/toi{toi}_tess.png\")\n",
    "    fp = f\"../allesfitter/{name}/tess.csv\"\n",
    "    df = lc.to_pandas()\n",
    "    df['time'] = df.index + 2457000\n",
    "    df = df[cols].dropna()\n",
    "    #import pdb; pdb.set_trace()\n",
    "    df.to_csv(fp, sep=',', header=False, index=False)\n",
    "    print(\"Saved: \", fp)\n",
    "    print(df.head())"
   ]
  },
  {
   "cell_type": "code",
   "execution_count": null,
   "id": "6fbe5c2a",
   "metadata": {},
   "outputs": [],
   "source": []
  }
 ],
 "metadata": {
  "kernelspec": {
   "display_name": "Python 3 (ipykernel)",
   "language": "python",
   "name": "python3"
  },
  "language_info": {
   "codemirror_mode": {
    "name": "ipython",
    "version": 3
   },
   "file_extension": ".py",
   "mimetype": "text/x-python",
   "name": "python",
   "nbconvert_exporter": "python",
   "pygments_lexer": "ipython3",
   "version": "3.10.9"
  },
  "toc": {
   "base_numbering": 1,
   "nav_menu": {},
   "number_sections": true,
   "sideBar": true,
   "skip_h1_title": false,
   "title_cell": "Table of Contents",
   "title_sidebar": "Contents",
   "toc_cell": false,
   "toc_position": {},
   "toc_section_display": true,
   "toc_window_display": false
  }
 },
 "nbformat": 4,
 "nbformat_minor": 5
}
