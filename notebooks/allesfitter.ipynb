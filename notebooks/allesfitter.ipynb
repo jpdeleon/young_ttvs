{
 "cells": [
  {
   "cell_type": "code",
   "execution_count": 1,
   "id": "a3d0a7f9",
   "metadata": {
    "ExecuteTime": {
     "end_time": "2023-02-20T01:54:06.467020Z",
     "start_time": "2023-02-20T01:54:06.463695Z"
    }
   },
   "outputs": [],
   "source": [
    "import os\n",
    "\n",
    "assert os.environ['CONDA_DEFAULT_ENV']=='ttv'"
   ]
  },
  {
   "cell_type": "raw",
   "id": "aee32c25",
   "metadata": {
    "ExecuteTime": {
     "end_time": "2023-02-20T01:54:09.606943Z",
     "start_time": "2023-02-20T01:54:07.708451Z"
    }
   },
   "source": [
    "import lightkurve as lk\n",
    "\n",
    "assert lk.__version__[0]=='2'"
   ]
  },
  {
   "cell_type": "code",
   "execution_count": 2,
   "id": "b51eb2bd",
   "metadata": {
    "ExecuteTime": {
     "end_time": "2023-02-20T01:56:17.696379Z",
     "start_time": "2023-02-20T01:56:17.681299Z"
    }
   },
   "outputs": [],
   "source": [
    "import pandas as pd\n",
    "\n",
    "dfs = []\n",
    "for f in ['tics_resonance_from_toi', 'tics_resonance_from_ctoi', 'name_resonance_from_nexsci']:\n",
    "    df = pd.read_csv(f'../data/{f}.csv', index_col=0)\n",
    "    dfs.append(df)\n",
    "#     print(df)"
   ]
  },
  {
   "cell_type": "code",
   "execution_count": 3,
   "id": "499ee5ef",
   "metadata": {
    "ExecuteTime": {
     "end_time": "2023-02-20T01:57:08.338240Z",
     "start_time": "2023-02-20T01:57:08.322595Z"
    }
   },
   "outputs": [
    {
     "data": {
      "text/html": [
       "<div>\n",
       "<style scoped>\n",
       "    .dataframe tbody tr th:only-of-type {\n",
       "        vertical-align: middle;\n",
       "    }\n",
       "\n",
       "    .dataframe tbody tr th {\n",
       "        vertical-align: top;\n",
       "    }\n",
       "\n",
       "    .dataframe thead th {\n",
       "        text-align: right;\n",
       "    }\n",
       "</style>\n",
       "<table border=\"1\" class=\"dataframe\">\n",
       "  <thead>\n",
       "    <tr style=\"text-align: right;\">\n",
       "      <th></th>\n",
       "      <th>tic</th>\n",
       "      <th>delta_min</th>\n",
       "      <th>1st order</th>\n",
       "      <th>2nd order</th>\n",
       "      <th>name</th>\n",
       "    </tr>\n",
       "  </thead>\n",
       "  <tbody>\n",
       "    <tr>\n",
       "      <th>7</th>\n",
       "      <td>441798995.0</td>\n",
       "      <td>0.000023</td>\n",
       "      <td>True</td>\n",
       "      <td>False</td>\n",
       "      <td>NaN</td>\n",
       "    </tr>\n",
       "    <tr>\n",
       "      <th>80</th>\n",
       "      <td>NaN</td>\n",
       "      <td>0.000024</td>\n",
       "      <td>False</td>\n",
       "      <td>True</td>\n",
       "      <td>Kepler-87</td>\n",
       "    </tr>\n",
       "    <tr>\n",
       "      <th>44</th>\n",
       "      <td>NaN</td>\n",
       "      <td>0.000035</td>\n",
       "      <td>True</td>\n",
       "      <td>True</td>\n",
       "      <td>Kepler-223</td>\n",
       "    </tr>\n",
       "    <tr>\n",
       "      <th>2</th>\n",
       "      <td>142276270.0</td>\n",
       "      <td>0.000091</td>\n",
       "      <td>True</td>\n",
       "      <td>False</td>\n",
       "      <td>NaN</td>\n",
       "    </tr>\n",
       "    <tr>\n",
       "      <th>71</th>\n",
       "      <td>NaN</td>\n",
       "      <td>0.000152</td>\n",
       "      <td>True</td>\n",
       "      <td>False</td>\n",
       "      <td>Kepler-50</td>\n",
       "    </tr>\n",
       "    <tr>\n",
       "      <th>...</th>\n",
       "      <td>...</td>\n",
       "      <td>...</td>\n",
       "      <td>...</td>\n",
       "      <td>...</td>\n",
       "      <td>...</td>\n",
       "    </tr>\n",
       "    <tr>\n",
       "      <th>29</th>\n",
       "      <td>344927749.0</td>\n",
       "      <td>0.009826</td>\n",
       "      <td>False</td>\n",
       "      <td>True</td>\n",
       "      <td>NaN</td>\n",
       "    </tr>\n",
       "    <tr>\n",
       "      <th>40</th>\n",
       "      <td>NaN</td>\n",
       "      <td>0.009857</td>\n",
       "      <td>True</td>\n",
       "      <td>True</td>\n",
       "      <td>Kepler-197</td>\n",
       "    </tr>\n",
       "    <tr>\n",
       "      <th>15</th>\n",
       "      <td>NaN</td>\n",
       "      <td>0.009875</td>\n",
       "      <td>True</td>\n",
       "      <td>True</td>\n",
       "      <td>K2-381</td>\n",
       "    </tr>\n",
       "    <tr>\n",
       "      <th>70</th>\n",
       "      <td>NaN</td>\n",
       "      <td>0.009925</td>\n",
       "      <td>True</td>\n",
       "      <td>True</td>\n",
       "      <td>Kepler-49</td>\n",
       "    </tr>\n",
       "    <tr>\n",
       "      <th>74</th>\n",
       "      <td>NaN</td>\n",
       "      <td>0.009991</td>\n",
       "      <td>True</td>\n",
       "      <td>True</td>\n",
       "      <td>Kepler-59</td>\n",
       "    </tr>\n",
       "  </tbody>\n",
       "</table>\n",
       "<p>128 rows × 5 columns</p>\n",
       "</div>"
      ],
      "text/plain": [
       "            tic  delta_min  1st order  2nd order        name\n",
       "7   441798995.0   0.000023       True      False         NaN\n",
       "80          NaN   0.000024      False       True   Kepler-87\n",
       "44          NaN   0.000035       True       True  Kepler-223\n",
       "2   142276270.0   0.000091       True      False         NaN\n",
       "71          NaN   0.000152       True      False   Kepler-50\n",
       "..          ...        ...        ...        ...         ...\n",
       "29  344927749.0   0.009826      False       True         NaN\n",
       "40          NaN   0.009857       True       True  Kepler-197\n",
       "15          NaN   0.009875       True       True      K2-381\n",
       "70          NaN   0.009925       True       True   Kepler-49\n",
       "74          NaN   0.009991       True       True   Kepler-59\n",
       "\n",
       "[128 rows x 5 columns]"
      ]
     },
     "execution_count": 3,
     "metadata": {},
     "output_type": "execute_result"
    }
   ],
   "source": [
    "pd.concat(dfs).sort_values(by='delta_min')"
   ]
  },
  {
   "cell_type": "markdown",
   "id": "59aed087",
   "metadata": {},
   "source": [
    "## create files"
   ]
  },
  {
   "cell_type": "code",
   "execution_count": 4,
   "id": "a2d1b5bd",
   "metadata": {
    "ExecuteTime": {
     "end_time": "2023-02-18T12:48:40.116484Z",
     "start_time": "2023-02-18T12:48:39.927695Z"
    }
   },
   "outputs": [
    {
     "name": "stdout",
     "output_type": "stream",
     "text": [
      "Loaded:  ../data/TOIs.csv\n"
     ]
    }
   ],
   "source": [
    "import sys\n",
    "sys.path.insert(0, '../code')\n",
    "from utils import *\n",
    "\n",
    "tois = get_tois()"
   ]
  },
  {
   "cell_type": "code",
   "execution_count": 4,
   "id": "7d15a471",
   "metadata": {
    "ExecuteTime": {
     "end_time": "2023-02-18T12:48:45.543014Z",
     "start_time": "2023-02-18T12:48:45.521076Z"
    }
   },
   "outputs": [
    {
     "data": {
      "text/plain": [
       "'toi5671'"
      ]
     },
     "execution_count": 4,
     "metadata": {},
     "output_type": "execute_result"
    }
   ],
   "source": [
    "toiid=5671\n",
    "name=f'toi{str(toiid).zfill(4)}'\n",
    "name"
   ]
  },
  {
   "cell_type": "code",
   "execution_count": 7,
   "id": "362299df",
   "metadata": {
    "ExecuteTime": {
     "end_time": "2023-02-18T12:48:45.812982Z",
     "start_time": "2023-02-18T12:48:45.779369Z"
    }
   },
   "outputs": [
    {
     "data": {
      "text/html": [
       "<div>\n",
       "<style scoped>\n",
       "    .dataframe tbody tr th:only-of-type {\n",
       "        vertical-align: middle;\n",
       "    }\n",
       "\n",
       "    .dataframe tbody tr th {\n",
       "        vertical-align: top;\n",
       "    }\n",
       "\n",
       "    .dataframe thead th {\n",
       "        text-align: right;\n",
       "    }\n",
       "</style>\n",
       "<table border=\"1\" class=\"dataframe\">\n",
       "  <thead>\n",
       "    <tr style=\"text-align: right;\">\n",
       "      <th></th>\n",
       "      <th>TIC ID</th>\n",
       "      <th>TOI</th>\n",
       "      <th>Previous CTOI</th>\n",
       "      <th>Master</th>\n",
       "      <th>SG1A</th>\n",
       "      <th>SG1B</th>\n",
       "      <th>SG2</th>\n",
       "      <th>SG3</th>\n",
       "      <th>SG4</th>\n",
       "      <th>SG5</th>\n",
       "      <th>...</th>\n",
       "      <th>Stellar Radius (R_Sun) err</th>\n",
       "      <th>Stellar Metallicity</th>\n",
       "      <th>Stellar Metallicity err</th>\n",
       "      <th>Stellar Mass (M_Sun)</th>\n",
       "      <th>Stellar Mass (M_Sun) err</th>\n",
       "      <th>Sectors</th>\n",
       "      <th>Date TOI Alerted (UTC)</th>\n",
       "      <th>Date TOI Updated (UTC)</th>\n",
       "      <th>Date Modified</th>\n",
       "      <th>Comments</th>\n",
       "    </tr>\n",
       "  </thead>\n",
       "  <tbody>\n",
       "    <tr>\n",
       "      <th>4850</th>\n",
       "      <td>23863105</td>\n",
       "      <td>5671.01</td>\n",
       "      <td>NaN</td>\n",
       "      <td>3</td>\n",
       "      <td>4</td>\n",
       "      <td>4</td>\n",
       "      <td>3</td>\n",
       "      <td>2</td>\n",
       "      <td>4</td>\n",
       "      <td>4</td>\n",
       "      <td>...</td>\n",
       "      <td>0.01</td>\n",
       "      <td>NaN</td>\n",
       "      <td>NaN</td>\n",
       "      <td>0.400962</td>\n",
       "      <td>0.020565</td>\n",
       "      <td>50</td>\n",
       "      <td>2022-07-07</td>\n",
       "      <td>2022-07-07</td>\n",
       "      <td>2023-06-20 00:00:00</td>\n",
       "      <td>correct source of signal previously released o...</td>\n",
       "    </tr>\n",
       "  </tbody>\n",
       "</table>\n",
       "<p>1 rows × 62 columns</p>\n",
       "</div>"
      ],
      "text/plain": [
       "        TIC ID      TOI Previous CTOI  Master  SG1A  SG1B  SG2  SG3  SG4  SG5  \\\n",
       "4850  23863105  5671.01           NaN       3     4     4    3    2    4    4   \n",
       "\n",
       "      ...  Stellar Radius (R_Sun) err  Stellar Metallicity  \\\n",
       "4850  ...                        0.01                  NaN   \n",
       "\n",
       "      Stellar Metallicity err  Stellar Mass (M_Sun)  Stellar Mass (M_Sun) err  \\\n",
       "4850                      NaN              0.400962                  0.020565   \n",
       "\n",
       "      Sectors Date TOI Alerted (UTC) Date TOI Updated (UTC)  \\\n",
       "4850       50             2022-07-07             2022-07-07   \n",
       "\n",
       "            Date Modified                                           Comments  \n",
       "4850  2023-06-20 00:00:00  correct source of signal previously released o...  \n",
       "\n",
       "[1 rows x 62 columns]"
      ]
     },
     "execution_count": 7,
     "metadata": {},
     "output_type": "execute_result"
    }
   ],
   "source": [
    "tois.query(f\"TOI=={toiid}.01\")"
   ]
  },
  {
   "cell_type": "code",
   "execution_count": 8,
   "id": "51083fe4",
   "metadata": {
    "ExecuteTime": {
     "end_time": "2023-02-18T04:27:52.138834Z",
     "start_time": "2023-02-18T04:27:52.128878Z"
    }
   },
   "outputs": [],
   "source": [
    "tic = 23863105 #384984325"
   ]
  },
  {
   "cell_type": "code",
   "execution_count": 9,
   "id": "e97f09b8",
   "metadata": {
    "ExecuteTime": {
     "end_time": "2023-02-18T04:27:52.684975Z",
     "start_time": "2023-02-18T04:27:52.648516Z"
    }
   },
   "outputs": [
    {
     "data": {
      "text/html": [
       "<div>\n",
       "<style scoped>\n",
       "    .dataframe tbody tr th:only-of-type {\n",
       "        vertical-align: middle;\n",
       "    }\n",
       "\n",
       "    .dataframe tbody tr th {\n",
       "        vertical-align: top;\n",
       "    }\n",
       "\n",
       "    .dataframe thead th {\n",
       "        text-align: right;\n",
       "    }\n",
       "</style>\n",
       "<table border=\"1\" class=\"dataframe\">\n",
       "  <thead>\n",
       "    <tr style=\"text-align: right;\">\n",
       "      <th></th>\n",
       "      <th>TIC ID</th>\n",
       "      <th>TOI</th>\n",
       "      <th>Previous CTOI</th>\n",
       "      <th>Master</th>\n",
       "      <th>SG1A</th>\n",
       "      <th>SG1B</th>\n",
       "      <th>SG2</th>\n",
       "      <th>SG3</th>\n",
       "      <th>SG4</th>\n",
       "      <th>SG5</th>\n",
       "      <th>...</th>\n",
       "      <th>Stellar Radius (R_Sun) err</th>\n",
       "      <th>Stellar Metallicity</th>\n",
       "      <th>Stellar Metallicity err</th>\n",
       "      <th>Stellar Mass (M_Sun)</th>\n",
       "      <th>Stellar Mass (M_Sun) err</th>\n",
       "      <th>Sectors</th>\n",
       "      <th>Date TOI Alerted (UTC)</th>\n",
       "      <th>Date TOI Updated (UTC)</th>\n",
       "      <th>Date Modified</th>\n",
       "      <th>Comments</th>\n",
       "    </tr>\n",
       "  </thead>\n",
       "  <tbody>\n",
       "    <tr>\n",
       "      <th>0</th>\n",
       "      <td>23863105</td>\n",
       "      <td>5671.01</td>\n",
       "      <td>NaN</td>\n",
       "      <td>3</td>\n",
       "      <td>4</td>\n",
       "      <td>4</td>\n",
       "      <td>3</td>\n",
       "      <td>2</td>\n",
       "      <td>4</td>\n",
       "      <td>4</td>\n",
       "      <td>...</td>\n",
       "      <td>0.01</td>\n",
       "      <td>NaN</td>\n",
       "      <td>NaN</td>\n",
       "      <td>0.400962</td>\n",
       "      <td>0.020565</td>\n",
       "      <td>50</td>\n",
       "      <td>2022-07-07</td>\n",
       "      <td>2022-07-07</td>\n",
       "      <td>2023-06-20 00:00:00</td>\n",
       "      <td>correct source of signal previously released o...</td>\n",
       "    </tr>\n",
       "  </tbody>\n",
       "</table>\n",
       "<p>1 rows × 62 columns</p>\n",
       "</div>"
      ],
      "text/plain": [
       "     TIC ID      TOI Previous CTOI  Master  SG1A  SG1B  SG2  SG3  SG4  SG5  \\\n",
       "0  23863105  5671.01           NaN       3     4     4    3    2    4    4   \n",
       "\n",
       "   ...  Stellar Radius (R_Sun) err  Stellar Metallicity  \\\n",
       "0  ...                        0.01                  NaN   \n",
       "\n",
       "   Stellar Metallicity err  Stellar Mass (M_Sun)  Stellar Mass (M_Sun) err  \\\n",
       "0                      NaN              0.400962                  0.020565   \n",
       "\n",
       "   Sectors Date TOI Alerted (UTC) Date TOI Updated (UTC)        Date Modified  \\\n",
       "0       50             2022-07-07             2022-07-07  2023-06-20 00:00:00   \n",
       "\n",
       "                                            Comments  \n",
       "0  correct source of signal previously released o...  \n",
       "\n",
       "[1 rows x 62 columns]"
      ]
     },
     "execution_count": 9,
     "metadata": {},
     "output_type": "execute_result"
    }
   ],
   "source": [
    "d = tois[tois['TIC ID'].apply(str).str.contains(str(tic))].reset_index(drop=True)\n",
    "d"
   ]
  },
  {
   "cell_type": "code",
   "execution_count": 10,
   "id": "9a90146b",
   "metadata": {
    "ExecuteTime": {
     "end_time": "2023-02-18T08:11:34.112634Z",
     "start_time": "2023-02-18T08:11:33.097523Z"
    }
   },
   "outputs": [],
   "source": [
    "Teff, Teff_err, radius, radius_err, mass, mass_err = catalog_info_TIC(int(tic))"
   ]
  },
  {
   "cell_type": "code",
   "execution_count": 11,
   "id": "25574d88",
   "metadata": {
    "ExecuteTime": {
     "end_time": "2023-02-18T04:32:21.929616Z",
     "start_time": "2023-02-18T04:32:21.923865Z"
    }
   },
   "outputs": [],
   "source": [
    "try:\n",
    "#Teff, Teff_err, radius, radius_err, mass, mass_err = 3691, 157, 0.532243, 0.0158087, 0.529004, 0.0202865\n",
    "    Teff, Teff_err, radius, radius_err, mass, mass_err = catalog_info_TIC(int(tic))\n",
    "except Exception as e:\n",
    "    print(e)"
   ]
  },
  {
   "cell_type": "code",
   "execution_count": 12,
   "id": "5cd5fcca",
   "metadata": {
    "ExecuteTime": {
     "end_time": "2023-02-18T04:32:23.106234Z",
     "start_time": "2023-02-18T04:32:22.976112Z"
    }
   },
   "outputs": [],
   "source": [
    "from pathlib import Path\n",
    "\n",
    "# !mkdir ../allesfitter/$name\n",
    "outdir = Path('../allesfitter', name)\n",
    "outdir.mkdir(parents=True, exist_ok=True)"
   ]
  },
  {
   "cell_type": "code",
   "execution_count": 13,
   "id": "d0a6e1cc",
   "metadata": {
    "ExecuteTime": {
     "end_time": "2023-02-18T04:32:30.490760Z",
     "start_time": "2023-02-18T04:32:27.432993Z"
    }
   },
   "outputs": [
    {
     "name": "stdout",
     "output_type": "stream",
     "text": [
      "b\n",
      "rprs=0.2848\n",
      "rho=8.2892\n",
      "a_s=16.8596\n",
      "a_au=0.0321\n",
      "rsuma=0.0242\n",
      "inc=88.61\n",
      "b=0.41\n"
     ]
    }
   ],
   "source": [
    "import numpy as np\n",
    "\n",
    "debug = True\n",
    "\n",
    "Nsamples = 10_000\n",
    "planets = \"b c d e f g h i\".split()\n",
    "# quartiles = [16,50,84] #1-sigma\n",
    "quartiles = [2.70, 50, 97.3] #3-sigma\n",
    "text = \"\"\"\n",
    "#name,value,fit,bounds,label,unit,truth\n",
    "\"\"\"\n",
    "\n",
    "for i,row in d.iterrows():\n",
    "    tic = row['TIC ID']\n",
    "    Porb = row['Period (days)']\n",
    "    Porberr = row['Period (days) err']\n",
    "    Porb_s = np.random.normal(Porb, Porberr, size=Nsamples)\n",
    "    epoch = row['Epoch (BJD)']\n",
    "    epocherr = row['Epoch (BJD) err']\n",
    "    \n",
    "    pl = planets[i]\n",
    "    rprs = np.sqrt(row['Depth (ppm)']/1e6)\n",
    "    rprserr = np.sqrt(row['Depth (ppm) err']/1e6)\n",
    "    \n",
    "    rprs_s = np.random.normal(rprs, rprserr, size=Nsamples)\n",
    "    rprs_min, rprs, rprs_max = np.percentile(rprs_s, q=quartiles)\n",
    "    \n",
    "    Teff, Teff_err, radius, radius_err, mass, mass_err = catalog_info_TIC(tic)\n",
    "    \n",
    "    mass_s = np.random.normal(mass, mass_err, size=Nsamples)\n",
    "    radius_s = np.random.normal(radius, radius_err, size=Nsamples)\n",
    "    \n",
    "    rho_s = rho_from_mr(mass_s, radius_s)\n",
    "    as_s = as_from_rhop(rho_s, Porb_s)\n",
    "    if debug:\n",
    "        rhomin, rho, rhomax = np.percentile(rho_s, q=quartiles)\n",
    "        as_min, a, as_max = np.percentile(as_s, q=quartiles)\n",
    "        a_au_s = a_from_rhoprs(rho_s, Porb_s, radius_s)\n",
    "        a_au_min, a_au, a_au_max = np.percentile(a_au_s, q=quartiles)\n",
    "    \n",
    "    rsuma_s = radius_s/as_s\n",
    "    rsuma_min, rsuma, rsuma_max = np.percentile(rsuma_s, q=quartiles)\n",
    "    \n",
    "    theta = np.arcsin(radius_s/as_s)\n",
    "    inc_s = np.pi/2 - theta\n",
    "    inc_max, inc, inc_min = np.percentile(inc_s, q=quartiles)\n",
    "    if debug:\n",
    "        b_s = as_s * np.cos(inc_s)\n",
    "        b_min, b, b_max = np.percentile(b_s, q=quartiles)\n",
    "    \n",
    "    text += f\"#companion {pl} astrophysical params,,,,,,\\n\"\n",
    "    text += f\"{pl}_rr,{rprs:.4f},1,uniform {0} {rprs_max:.4f},$R_{pl} / R_\\star$,,\\n\"\n",
    "#     text += f\"{pl}_rr,{rprs:.4f},1,trunc_normal 0 1 {rprs:.4f} {rprserr:.4f},$R_{pl} / R_\\star$,,\\n\"\n",
    "    text += f\"{pl}_rsuma,{rsuma:.4f},1,uniform {rsuma_min:.4f} 0.1,$(R_\\star + R_{pl}) / a_{pl}$,,\\n\"\n",
    "#     text += f\"{pl}_cosi,{np.cos(inc):.4f},1,uniform {np.cos(inc_min):.4f} {np.cos(inc_max):.4f},$\\cos\"+\"{i_\"+pl+\"}$,,\\n\"\n",
    "    text += f\"{pl}_cosi,0,1,uniform 0 1,$\\cos\"+\"{i_\"+pl+\"}$,,\\n\"\n",
    "#     text += f\"{pl}_epoch,{epoch:.2f},1,uniform {epoch-epoch_err:.4f} {epoch+epoch_err:.4f},$T_\"+\"{0;\"+pl+\"}$,BJD,\"\n",
    "    text += f\"{pl}_epoch,{epoch:.2f},1,normal {epoch:.4f} {epocherr:.4f},$T_\"+\"{0;\"+pl+\"}$,BJD,\\n\"\n",
    "    text += f\"{pl}_period,{Porb:.4f},1,normal {Porb:.4f} {Porberr:.4f},$P_b$,d,\\n\"\n",
    "    if debug:\n",
    "        print(pl)\n",
    "        print(f\"rprs={rprs:.4f}\")\n",
    "        print(f\"rho={rho:.4f}\")\n",
    "        print(f\"a_s={a:.4f}\")\n",
    "        print(f\"a_au={a_au:.4f}\")\n",
    "        print(f\"rsuma={rsuma:.4f}\")\n",
    "        print(f\"inc={np.rad2deg(inc):.2f}\")\n",
    "        print(f\"b={b:.2f}\")\n",
    "text += \"\"\"b_f_c,0,0,uniform 0.0 0.0,$\\sqrt{e_b} \\cos{\\omega_b}$,,\n",
    "b_f_s,0,0,uniform 0.0 0.0,$\\sqrt{e_b} \\sin{\\omega_b}$,,\n",
    "#limb darkening coefficients per instrument,,,,,,\n",
    "host_ldc_q1_tess,0.5,1,uniform 0.0 1.0,$q_{1; \\mathrm{tess}}$,,\n",
    "host_ldc_q2_tess,0.5,1,uniform 0.0 1.0,$q_{2; \\mathrm{tess}}$,,\n",
    "#errors per instrument,,,,,,\n",
    "ln_err_flux_tess,-6,1,uniform -10 -1,$\\log{\\sigma_\\mathrm{tess}}$,rel. flux,\n",
    "#baseline per instrument,,,,,,\n",
    "baseline_gp_offset_flux_tess,0,1,uniform -0.1 0.1,$\\mathrm{gp ln sigma (tess)}$,,\n",
    "baseline_gp_matern32_lnsigma_flux_tess,-5,1,uniform -15 0,$\\mathrm{gp ln sigma (tess)}$,,\n",
    "baseline_gp_matern32_lnrho_flux_tess,0,1,uniform -1 15,$\\mathrm{gp ln rho (tess)}$,,\n",
    "\"\"\"\n",
    "# print(text)"
   ]
  },
  {
   "cell_type": "code",
   "execution_count": 14,
   "id": "340c88be",
   "metadata": {
    "ExecuteTime": {
     "end_time": "2023-02-18T04:32:30.496807Z",
     "start_time": "2023-02-18T04:32:30.492859Z"
    }
   },
   "outputs": [
    {
     "name": "stdout",
     "output_type": "stream",
     "text": [
      "Saved:  ../allesfitter/toi5671/params.csv\n"
     ]
    }
   ],
   "source": [
    "fp = f\"../allesfitter/{name}/params.csv\"\n",
    "np.savetxt(fp, [text], fmt=\"%s\")\n",
    "print(\"Saved: \", fp)"
   ]
  },
  {
   "cell_type": "code",
   "execution_count": 15,
   "id": "418ff111",
   "metadata": {
    "ExecuteTime": {
     "end_time": "2023-02-18T04:32:30.638592Z",
     "start_time": "2023-02-18T04:32:30.499080Z"
    }
   },
   "outputs": [
    {
     "name": "stdout",
     "output_type": "stream",
     "text": [
      "\n",
      "#name,value,fit,bounds,label,unit,truth\n",
      "#companion b astrophysical params,,,,,,\n",
      "b_rr,0.2848,1,uniform 0 0.3079,$R_b / R_\\star$,,\n",
      "b_rsuma,0.0242,1,uniform 0.0214 0.1,$(R_\\star + R_b) / a_b$,,\n",
      "b_cosi,0,1,uniform 0 1,$\\cos{i_b}$,,\n",
      "b_epoch,2459685.75,1,normal 2459685.7533 0.0018,$T_{0;b}$,BJD,\n",
      "b_period,3.3080,1,normal 3.3080 0.0007,$P_b$,d,\n",
      "b_f_c,0,0,uniform 0.0 0.0,$\\sqrt{e_b} \\cos{\\omega_b}$,,\n",
      "b_f_s,0,0,uniform 0.0 0.0,$\\sqrt{e_b} \\sin{\\omega_b}$,,\n",
      "#limb darkening coefficients per instrument,,,,,,\n",
      "host_ldc_q1_tess,0.5,1,uniform 0.0 1.0,$q_{1; \\mathrm{tess}}$,,\n",
      "host_ldc_q2_tess,0.5,1,uniform 0.0 1.0,$q_{2; \\mathrm{tess}}$,,\n",
      "#errors per instrument,,,,,,\n",
      "ln_err_flux_tess,-6,1,uniform -10 -1,$\\log{\\sigma_\\mathrm{tess}}$,rel. flux,\n",
      "#baseline per instrument,,,,,,\n",
      "baseline_gp_offset_flux_tess,0,1,uniform -0.1 0.1,$\\mathrm{gp ln sigma (tess)}$,,\n",
      "baseline_gp_matern32_lnsigma_flux_tess,-5,1,uniform -15 0,$\\mathrm{gp ln sigma (tess)}$,,\n",
      "baseline_gp_matern32_lnrho_flux_tess,0,1,uniform -1 15,$\\mathrm{gp ln rho (tess)}$,,\n",
      "\n"
     ]
    }
   ],
   "source": [
    "!cat $fp"
   ]
  },
  {
   "cell_type": "code",
   "execution_count": 16,
   "id": "8e048af2",
   "metadata": {
    "ExecuteTime": {
     "end_time": "2023-02-18T08:15:49.622158Z",
     "start_time": "2023-02-18T08:15:49.605801Z"
    }
   },
   "outputs": [
    {
     "data": {
      "text/plain": [
       "'/home/jp/github/research/project/young_ttvs/notebooks'"
      ]
     },
     "execution_count": 16,
     "metadata": {},
     "output_type": "execute_result"
    }
   ],
   "source": [
    "pwd"
   ]
  },
  {
   "cell_type": "code",
   "execution_count": 17,
   "id": "f67bc08f",
   "metadata": {
    "ExecuteTime": {
     "end_time": "2023-02-18T04:32:30.664339Z",
     "start_time": "2023-02-18T04:32:30.649437Z"
    }
   },
   "outputs": [],
   "source": [
    "text2=\"\"\"#name,value\n",
    "###############################################################################,\n",
    "# General settings,\n",
    "###############################################################################,\\n\"\"\"\n",
    "\n",
    "text2+=f\"companions_phot,{' '.join(planets[:len(d)])}\"\n",
    "\n",
    "text2+=\"\"\"\n",
    "companions_rv,\n",
    "inst_phot,tess\n",
    "inst_rv,\n",
    "###############################################################################,\n",
    "# Fit performance settings,\n",
    "###############################################################################,\n",
    "multiprocess,True\n",
    "multiprocess_cores,40\n",
    "fast_fit,True\n",
    "fast_fit_width,0.3333333333333333\n",
    "secondary_eclipse,False\n",
    "phase_curve,False\n",
    "shift_epoch,True\n",
    "inst_for_b_epoch,all\n",
    "###############################################################################,\n",
    "# MCMC settings,\n",
    "###############################################################################,\n",
    "mcmc_nwalkers,100\n",
    "#mcmc_nwalkers,200\n",
    "mcmc_total_steps,2000\n",
    "#mcmc_total_steps,6000\n",
    "mcmc_burn_steps,1000\n",
    "#mcmc_burn_steps,1000\n",
    "#mcmc_thin_by,20\n",
    "mcmc_thin_by,2\n",
    "###############################################################################,\n",
    "# Nested Sampling settings,\n",
    "###############################################################################,\n",
    "ns_modus,dynamic\n",
    "ns_nlive,1000\n",
    "ns_bound,single\n",
    "ns_sample,rwalk\n",
    "ns_tol,0.01\n",
    "###############################################################################,\n",
    "# Limb darkening law per object and instrument,\n",
    "###############################################################################,\n",
    "host_ld_law_tess,quad\n",
    "###############################################################################,\n",
    "# Baseline settings per instrument,\n",
    "###############################################################################,\n",
    "#baseline_flux_tess,sample_offset\n",
    "#baseline_flux_tess,hybrid_spline\n",
    "#baseline_flux_tess,hybrid_poly_2\n",
    "baseline_flux_tess,sample_GP_Matern32\n",
    "###############################################################################,\n",
    "# Error settings per instrument,\n",
    "###############################################################################,\n",
    "error_flux_tess,sample\n",
    "###############################################################################,\n",
    "# Stellar grid per object and instrument,\n",
    "###############################################################################,\n",
    "host_grid_tess,very_sparse\n",
    "###############################################################################,\n",
    "# Flares,\n",
    "###############################################################################,\n",
    "#N_flares,1\n",
    "use_host_density_prior,True\n",
    "###################################################,\n",
    "# fit_ttvs\n",
    "###################################################,\n",
    "fit_ttvs,False\n",
    "t_exp,\"\"\""
   ]
  },
  {
   "cell_type": "code",
   "execution_count": 18,
   "id": "57a491cc",
   "metadata": {
    "ExecuteTime": {
     "end_time": "2023-02-18T04:32:31.081142Z",
     "start_time": "2023-02-18T04:32:31.074796Z"
    }
   },
   "outputs": [
    {
     "name": "stdout",
     "output_type": "stream",
     "text": [
      "Saved:  ../allesfitter/toi5671/settings.csv\n"
     ]
    }
   ],
   "source": [
    "fp = f\"../allesfitter/{name}/settings.csv\"\n",
    "np.savetxt(fp, [text2], fmt=\"%s\")\n",
    "print(\"Saved: \", fp)"
   ]
  },
  {
   "cell_type": "code",
   "execution_count": 19,
   "id": "09739a2e",
   "metadata": {
    "ExecuteTime": {
     "end_time": "2023-02-18T04:32:31.710580Z",
     "start_time": "2023-02-18T04:32:31.697219Z"
    }
   },
   "outputs": [
    {
     "name": "stdout",
     "output_type": "stream",
     "text": [
      "\n",
      "#R_star,R_star_lerr,R_star_uerr,M_star,M_star_lerr,M_star_uerr,Teff_star,Teff_star_lerr,Teff_star_uerr\n",
      "#R_sun,R_sun,R_sun,M_sun,M_sun,M_sun,K,K,K\n",
      "0.41,0.01,0.01,0.40,0.02,0.02,3380,157,157\n",
      "\n"
     ]
    }
   ],
   "source": [
    "text3=f\"\"\"\n",
    "#R_star,R_star_lerr,R_star_uerr,M_star,M_star_lerr,M_star_uerr,Teff_star,Teff_star_lerr,Teff_star_uerr\n",
    "#R_sun,R_sun,R_sun,M_sun,M_sun,M_sun,K,K,K\n",
    "{radius:.2f},{radius_err:.2f},{radius_err:.2f},{mass:.2f},{mass_err:.2f},{mass_err:.2f},{Teff:.0f},{Teff_err:.0f},{Teff_err:.0f}\n",
    "\"\"\"\n",
    "print(text3)"
   ]
  },
  {
   "cell_type": "code",
   "execution_count": 20,
   "id": "bd2b4e29",
   "metadata": {
    "ExecuteTime": {
     "end_time": "2023-02-18T04:32:32.335897Z",
     "start_time": "2023-02-18T04:32:32.321408Z"
    }
   },
   "outputs": [
    {
     "name": "stdout",
     "output_type": "stream",
     "text": [
      "Saved:  ../allesfitter/toi5671/params_star.csv\n"
     ]
    }
   ],
   "source": [
    "fp = f\"../allesfitter/{name}/params_star.csv\"\n",
    "np.savetxt(fp, [text3], fmt=\"%s\")\n",
    "print(\"Saved: \", fp)"
   ]
  },
  {
   "cell_type": "code",
   "execution_count": 21,
   "id": "45d8e269",
   "metadata": {
    "ExecuteTime": {
     "end_time": "2023-02-18T04:32:32.710031Z",
     "start_time": "2023-02-18T04:32:32.704615Z"
    }
   },
   "outputs": [],
   "source": [
    "text4=\"\"\"#!/usr/bin/env python\n",
    "import allesfitter\n",
    "\n",
    "fig = allesfitter.show_initial_guess('.')\n",
    "#allesfitter.prepare_ttv_fit('.')\n",
    "\n",
    "allesfitter.ns_fit('.')\n",
    "allesfitter.ns_output('.')\"\"\""
   ]
  },
  {
   "cell_type": "code",
   "execution_count": 22,
   "id": "7f5cb1d5",
   "metadata": {
    "ExecuteTime": {
     "end_time": "2023-02-18T04:32:33.104455Z",
     "start_time": "2023-02-18T04:32:33.096426Z"
    }
   },
   "outputs": [
    {
     "name": "stdout",
     "output_type": "stream",
     "text": [
      "Saved:  ../allesfitter/toi5671/run.py\n"
     ]
    }
   ],
   "source": [
    "fp = f\"../allesfitter/{name}/run.py\"\n",
    "np.savetxt(fp, [text4], fmt=\"%s\")\n",
    "print(\"Saved: \", fp)"
   ]
  },
  {
   "cell_type": "code",
   "execution_count": 32,
   "id": "7decaa85",
   "metadata": {
    "ExecuteTime": {
     "end_time": "2023-02-18T04:32:37.489916Z",
     "start_time": "2023-02-18T04:32:33.773472Z"
    }
   },
   "outputs": [
    {
     "name": "stderr",
     "output_type": "stream",
     "text": [
      "/home/jp/.local/lib/python3.10/site-packages/lightkurve/lightcurve.py:1131: LightkurveWarning: The light curve appears to be zero-centered (median=1.00e+00 +/- 1.00e+02); `normalize()` will divide the light curve by a value close to zero, which is probably not what you want.\n",
      "  warnings.warn(\n"
     ]
    },
    {
     "data": {
      "image/png": "[encoded data removed]",
      "text/plain": [
       "<Figure size 848.5x400 with 1 Axes>"
      ]
     },
     "metadata": {},
     "output_type": "display_data"
    },
    {
     "name": "stdout",
     "output_type": "stream",
     "text": [
      "Saved:  ../allesfitter/toi5671/tess.csv\n",
      "                     time      flux  flux_err\n",
      "time                                         \n",
      "2665.278284  2.459665e+06  0.978467  0.020122\n",
      "2665.285228  2.459665e+06  0.990122  0.020122\n",
      "2665.292173  2.459665e+06  1.009079  0.020122\n",
      "2665.299117  2.459665e+06  1.005646  0.020122\n",
      "2665.306062  2.459665e+06  0.995332  0.020122\n"
     ]
    }
   ],
   "source": [
    "#!/usr/bin/env python\n",
    "import lightkurve as lk\n",
    "\n",
    "multi_sector = True\n",
    "cols = ['time','flux','flux_err']\n",
    "\n",
    "author = 'QLP'\n",
    "result = lk.search_lightcurve(f'TIC {tic}', author=author)\n",
    "if result:\n",
    "    if multi_sector:\n",
    "        lc = result.download_all().stitch()\n",
    "    else:\n",
    "        lc = result.download().normalize().remove_outliers()\n",
    "    ax = lc.scatter()\n",
    "    ax.set_ylim(0.8,1.2)\n",
    "    pl.show()\n",
    "    #ax.set_title(f\"TOI {toi} (sector {lc.sector})\")\n",
    "    ax.figure.savefig(f\"../allesfitter/{name}/toi{toiid}_tess.png\")\n",
    "    fp = f\"../allesfitter/{name}/tess.csv\"\n",
    "    df = lc.to_pandas()\n",
    "    df['time'] = df.index + 2457000\n",
    "    df = df[cols].dropna()\n",
    "    #import pdb; pdb.set_trace()\n",
    "    df.to_csv(fp, sep=',', header=False, index=False)\n",
    "    print(\"Saved: \", fp)\n",
    "    print(df.head())"
   ]
  },
  {
   "cell_type": "code",
   "execution_count": 25,
   "id": "94b70482",
   "metadata": {
    "ExecuteTime": {
     "end_time": "2023-02-17T23:59:42.625304Z",
     "start_time": "2023-02-17T23:59:42.619409Z"
    }
   },
   "outputs": [
    {
     "data": {
      "text/plain": [
       "2988"
      ]
     },
     "execution_count": 25,
     "metadata": {},
     "output_type": "execute_result"
    }
   ],
   "source": [
    "len(df)"
   ]
  },
  {
   "cell_type": "code",
   "execution_count": null,
   "id": "b8c0ede5-f458-4a86-a4c1-e42fd383f712",
   "metadata": {},
   "outputs": [],
   "source": []
  }
 ],
 "metadata": {
  "kernelspec": {
   "display_name": "Python 3 (ipykernel)",
   "language": "python",
   "name": "python3"
  },
  "language_info": {
   "codemirror_mode": {
    "name": "ipython",
    "version": 3
   },
   "file_extension": ".py",
   "mimetype": "text/x-python",
   "name": "python",
   "nbconvert_exporter": "python",
   "pygments_lexer": "ipython3",
   "version": "3.10.9"
  },
  "toc": {
   "base_numbering": 1,
   "nav_menu": {},
   "number_sections": true,
   "sideBar": true,
   "skip_h1_title": false,
   "title_cell": "Table of Contents",
   "title_sidebar": "Contents",
   "toc_cell": false,
   "toc_position": {},
   "toc_section_display": true,
   "toc_window_display": false
  }
 },
 "nbformat": 4,
 "nbformat_minor": 5
}
