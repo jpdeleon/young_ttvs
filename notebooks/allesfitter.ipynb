{
 "cells": [
  {
   "cell_type": "code",
   "execution_count": 1,
   "id": "a3d0a7f9",
   "metadata": {
    "ExecuteTime": {
     "end_time": "2023-02-18T12:48:35.381156Z",
     "start_time": "2023-02-18T12:48:35.359787Z"
    }
   },
   "outputs": [],
   "source": [
    "import os\n",
    "\n",
    "assert os.environ['CONDA_DEFAULT_ENV']=='lk2'"
   ]
  },
  {
   "cell_type": "code",
   "execution_count": 2,
   "id": "4fd8bb82",
   "metadata": {
    "ExecuteTime": {
     "end_time": "2023-02-18T12:48:37.262220Z",
     "start_time": "2023-02-18T12:48:35.384051Z"
    }
   },
   "outputs": [
    {
     "name": "stderr",
     "output_type": "stream",
     "text": [
      "/home/jp/miniconda3/envs/lk2/lib/python3.10/site-packages/lightkurve/config/__init__.py:119: UserWarning: The default Lightkurve cache directory, used by download(), etc., has been moved to /home/jp/.lightkurve/cache. Please move all the files in the legacy directory /home/jp/.lightkurve-cache to the new location and remove the legacy directory. Refer to https://docs.lightkurve.org/reference/config.html#default-cache-directory-migration for more information.\n",
      "  warnings.warn(\n"
     ]
    }
   ],
   "source": [
    "import lightkurve as lk\n",
    "\n",
    "assert lk.__version__[0]=='2'"
   ]
  },
  {
   "cell_type": "raw",
   "id": "dac3c448",
   "metadata": {
    "ExecuteTime": {
     "end_time": "2023-02-17T15:26:46.286528Z",
     "start_time": "2023-02-17T15:26:45.924136Z"
    }
   },
   "source": [
    "import pandas as pd\n",
    "\n",
    "resonant_toi = pd.read_csv('../data/tics_resonance_from_toi.csv', index_col=0)\n",
    "resonant_toi"
   ]
  },
  {
   "cell_type": "markdown",
   "id": "59aed087",
   "metadata": {},
   "source": [
    "## create files"
   ]
  },
  {
   "cell_type": "code",
   "execution_count": 3,
   "id": "a2d1b5bd",
   "metadata": {
    "ExecuteTime": {
     "end_time": "2023-02-18T12:48:40.116484Z",
     "start_time": "2023-02-18T12:48:39.927695Z"
    }
   },
   "outputs": [
    {
     "name": "stdout",
     "output_type": "stream",
     "text": [
      "Loaded:  ../data/TOIs.csv\n"
     ]
    }
   ],
   "source": [
    "import sys\n",
    "sys.path.insert(0, '../code')\n",
    "from utils import *\n",
    "\n",
    "tois = get_tois()"
   ]
  },
  {
   "cell_type": "code",
   "execution_count": 4,
   "id": "7d15a471",
   "metadata": {
    "ExecuteTime": {
     "end_time": "2023-02-18T12:48:45.543014Z",
     "start_time": "2023-02-18T12:48:45.521076Z"
    }
   },
   "outputs": [
    {
     "data": {
      "text/plain": [
       "'toi1730'"
      ]
     },
     "execution_count": 4,
     "metadata": {},
     "output_type": "execute_result"
    }
   ],
   "source": [
    "toiid=1730\n",
    "name=f'toi{str(toiid).zfill(4)}'\n",
    "name"
   ]
  },
  {
   "cell_type": "code",
   "execution_count": 5,
   "id": "362299df",
   "metadata": {
    "ExecuteTime": {
     "end_time": "2023-02-18T12:48:45.812982Z",
     "start_time": "2023-02-18T12:48:45.779369Z"
    }
   },
   "outputs": [
    {
     "data": {
      "text/html": [
       "<div>\n",
       "<style scoped>\n",
       "    .dataframe tbody tr th:only-of-type {\n",
       "        vertical-align: middle;\n",
       "    }\n",
       "\n",
       "    .dataframe tbody tr th {\n",
       "        vertical-align: top;\n",
       "    }\n",
       "\n",
       "    .dataframe thead th {\n",
       "        text-align: right;\n",
       "    }\n",
       "</style>\n",
       "<table border=\"1\" class=\"dataframe\">\n",
       "  <thead>\n",
       "    <tr style=\"text-align: right;\">\n",
       "      <th></th>\n",
       "      <th>TIC ID</th>\n",
       "      <th>TOI</th>\n",
       "      <th>Previous CTOI</th>\n",
       "      <th>Master</th>\n",
       "      <th>SG1A</th>\n",
       "      <th>SG1B</th>\n",
       "      <th>SG2</th>\n",
       "      <th>SG3</th>\n",
       "      <th>SG4</th>\n",
       "      <th>SG5</th>\n",
       "      <th>...</th>\n",
       "      <th>Stellar Radius (R_Sun) err</th>\n",
       "      <th>Stellar Metallicity</th>\n",
       "      <th>Stellar Metallicity err</th>\n",
       "      <th>Stellar Mass (M_Sun)</th>\n",
       "      <th>Stellar Mass (M_Sun) err</th>\n",
       "      <th>Sectors</th>\n",
       "      <th>Date TOI Alerted (UTC)</th>\n",
       "      <th>Date TOI Updated (UTC)</th>\n",
       "      <th>Date Modified</th>\n",
       "      <th>Comments</th>\n",
       "    </tr>\n",
       "  </thead>\n",
       "  <tbody>\n",
       "    <tr>\n",
       "      <th>1241</th>\n",
       "      <td>318022259</td>\n",
       "      <td>1730.01</td>\n",
       "      <td>NaN</td>\n",
       "      <td>1</td>\n",
       "      <td>4</td>\n",
       "      <td>1</td>\n",
       "      <td>2</td>\n",
       "      <td>4</td>\n",
       "      <td>4</td>\n",
       "      <td>4</td>\n",
       "      <td>...</td>\n",
       "      <td>0.02</td>\n",
       "      <td>NaN</td>\n",
       "      <td>NaN</td>\n",
       "      <td>0.529004</td>\n",
       "      <td>0.020286</td>\n",
       "      <td>20,47</td>\n",
       "      <td>2020-02-19</td>\n",
       "      <td>2022-06-28</td>\n",
       "      <td>2022-12-14 12:09:24</td>\n",
       "      <td>potential multi</td>\n",
       "    </tr>\n",
       "  </tbody>\n",
       "</table>\n",
       "<p>1 rows × 62 columns</p>\n",
       "</div>"
      ],
      "text/plain": [
       "         TIC ID      TOI Previous CTOI  Master  SG1A  SG1B  SG2  SG3  SG4  \\\n",
       "1241  318022259  1730.01           NaN       1     4     1    2    4    4   \n",
       "\n",
       "      SG5  ...  Stellar Radius (R_Sun) err  Stellar Metallicity  \\\n",
       "1241    4  ...                        0.02                  NaN   \n",
       "\n",
       "      Stellar Metallicity err  Stellar Mass (M_Sun)  Stellar Mass (M_Sun) err  \\\n",
       "1241                      NaN              0.529004                  0.020286   \n",
       "\n",
       "      Sectors Date TOI Alerted (UTC) Date TOI Updated (UTC)  \\\n",
       "1241    20,47             2020-02-19             2022-06-28   \n",
       "\n",
       "            Date Modified         Comments  \n",
       "1241  2022-12-14 12:09:24  potential multi  \n",
       "\n",
       "[1 rows x 62 columns]"
      ]
     },
     "execution_count": 5,
     "metadata": {},
     "output_type": "execute_result"
    }
   ],
   "source": [
    "tois.query(f\"TOI=={toiid}.01\")"
   ]
  },
  {
   "cell_type": "code",
   "execution_count": 7,
   "id": "51083fe4",
   "metadata": {
    "ExecuteTime": {
     "end_time": "2023-02-18T04:27:52.138834Z",
     "start_time": "2023-02-18T04:27:52.128878Z"
    }
   },
   "outputs": [],
   "source": [
    "tic = 318022259"
   ]
  },
  {
   "cell_type": "code",
   "execution_count": 8,
   "id": "e97f09b8",
   "metadata": {
    "ExecuteTime": {
     "end_time": "2023-02-18T04:27:52.684975Z",
     "start_time": "2023-02-18T04:27:52.648516Z"
    }
   },
   "outputs": [
    {
     "data": {
      "text/html": [
       "<div>\n",
       "<style scoped>\n",
       "    .dataframe tbody tr th:only-of-type {\n",
       "        vertical-align: middle;\n",
       "    }\n",
       "\n",
       "    .dataframe tbody tr th {\n",
       "        vertical-align: top;\n",
       "    }\n",
       "\n",
       "    .dataframe thead th {\n",
       "        text-align: right;\n",
       "    }\n",
       "</style>\n",
       "<table border=\"1\" class=\"dataframe\">\n",
       "  <thead>\n",
       "    <tr style=\"text-align: right;\">\n",
       "      <th></th>\n",
       "      <th>TIC ID</th>\n",
       "      <th>TOI</th>\n",
       "      <th>Previous CTOI</th>\n",
       "      <th>Master</th>\n",
       "      <th>SG1A</th>\n",
       "      <th>SG1B</th>\n",
       "      <th>SG2</th>\n",
       "      <th>SG3</th>\n",
       "      <th>SG4</th>\n",
       "      <th>SG5</th>\n",
       "      <th>...</th>\n",
       "      <th>Stellar Radius (R_Sun) err</th>\n",
       "      <th>Stellar Metallicity</th>\n",
       "      <th>Stellar Metallicity err</th>\n",
       "      <th>Stellar Mass (M_Sun)</th>\n",
       "      <th>Stellar Mass (M_Sun) err</th>\n",
       "      <th>Sectors</th>\n",
       "      <th>Date TOI Alerted (UTC)</th>\n",
       "      <th>Date TOI Updated (UTC)</th>\n",
       "      <th>Date Modified</th>\n",
       "      <th>Comments</th>\n",
       "    </tr>\n",
       "  </thead>\n",
       "  <tbody>\n",
       "    <tr>\n",
       "      <th>0</th>\n",
       "      <td>318022259</td>\n",
       "      <td>1730.01</td>\n",
       "      <td>NaN</td>\n",
       "      <td>1</td>\n",
       "      <td>4</td>\n",
       "      <td>1</td>\n",
       "      <td>2</td>\n",
       "      <td>4</td>\n",
       "      <td>4</td>\n",
       "      <td>4</td>\n",
       "      <td>...</td>\n",
       "      <td>0.02</td>\n",
       "      <td>NaN</td>\n",
       "      <td>NaN</td>\n",
       "      <td>0.529004</td>\n",
       "      <td>0.020286</td>\n",
       "      <td>20,47</td>\n",
       "      <td>2020-02-19</td>\n",
       "      <td>2022-06-28</td>\n",
       "      <td>2022-12-14 12:09:24</td>\n",
       "      <td>potential multi</td>\n",
       "    </tr>\n",
       "    <tr>\n",
       "      <th>1</th>\n",
       "      <td>318022259</td>\n",
       "      <td>1730.02</td>\n",
       "      <td>NaN</td>\n",
       "      <td>1</td>\n",
       "      <td>4</td>\n",
       "      <td>1</td>\n",
       "      <td>2</td>\n",
       "      <td>4</td>\n",
       "      <td>4</td>\n",
       "      <td>4</td>\n",
       "      <td>...</td>\n",
       "      <td>0.02</td>\n",
       "      <td>NaN</td>\n",
       "      <td>NaN</td>\n",
       "      <td>0.529004</td>\n",
       "      <td>0.020286</td>\n",
       "      <td>20,47</td>\n",
       "      <td>2020-02-19</td>\n",
       "      <td>2022-06-28</td>\n",
       "      <td>2022-12-14 12:09:24</td>\n",
       "      <td>potential multi</td>\n",
       "    </tr>\n",
       "    <tr>\n",
       "      <th>2</th>\n",
       "      <td>318022259</td>\n",
       "      <td>1730.03</td>\n",
       "      <td>NaN</td>\n",
       "      <td>1</td>\n",
       "      <td>4</td>\n",
       "      <td>1</td>\n",
       "      <td>1</td>\n",
       "      <td>4</td>\n",
       "      <td>4</td>\n",
       "      <td>4</td>\n",
       "      <td>...</td>\n",
       "      <td>0.02</td>\n",
       "      <td>NaN</td>\n",
       "      <td>NaN</td>\n",
       "      <td>0.529004</td>\n",
       "      <td>0.020286</td>\n",
       "      <td>20,47</td>\n",
       "      <td>2022-03-01</td>\n",
       "      <td>2022-06-28</td>\n",
       "      <td>2022-12-14 12:09:24</td>\n",
       "      <td>close to 2:1 resonance with TOI 1730.01; poten...</td>\n",
       "    </tr>\n",
       "  </tbody>\n",
       "</table>\n",
       "<p>3 rows × 62 columns</p>\n",
       "</div>"
      ],
      "text/plain": [
       "      TIC ID      TOI Previous CTOI  Master  SG1A  SG1B  SG2  SG3  SG4  SG5  \\\n",
       "0  318022259  1730.01           NaN       1     4     1    2    4    4    4   \n",
       "1  318022259  1730.02           NaN       1     4     1    2    4    4    4   \n",
       "2  318022259  1730.03           NaN       1     4     1    1    4    4    4   \n",
       "\n",
       "   ...  Stellar Radius (R_Sun) err  Stellar Metallicity  \\\n",
       "0  ...                        0.02                  NaN   \n",
       "1  ...                        0.02                  NaN   \n",
       "2  ...                        0.02                  NaN   \n",
       "\n",
       "   Stellar Metallicity err  Stellar Mass (M_Sun)  Stellar Mass (M_Sun) err  \\\n",
       "0                      NaN              0.529004                  0.020286   \n",
       "1                      NaN              0.529004                  0.020286   \n",
       "2                      NaN              0.529004                  0.020286   \n",
       "\n",
       "   Sectors Date TOI Alerted (UTC) Date TOI Updated (UTC)        Date Modified  \\\n",
       "0    20,47             2020-02-19             2022-06-28  2022-12-14 12:09:24   \n",
       "1    20,47             2020-02-19             2022-06-28  2022-12-14 12:09:24   \n",
       "2    20,47             2022-03-01             2022-06-28  2022-12-14 12:09:24   \n",
       "\n",
       "                                            Comments  \n",
       "0                                    potential multi  \n",
       "1                                    potential multi  \n",
       "2  close to 2:1 resonance with TOI 1730.01; poten...  \n",
       "\n",
       "[3 rows x 62 columns]"
      ]
     },
     "execution_count": 8,
     "metadata": {},
     "output_type": "execute_result"
    }
   ],
   "source": [
    "d = tois[tois['TIC ID'].apply(str).str.contains(str(tic))].reset_index(drop=True)\n",
    "d"
   ]
  },
  {
   "cell_type": "code",
   "execution_count": 23,
   "id": "9a90146b",
   "metadata": {
    "ExecuteTime": {
     "end_time": "2023-02-18T08:11:34.112634Z",
     "start_time": "2023-02-18T08:11:33.097523Z"
    }
   },
   "outputs": [],
   "source": [
    "Teff, Teff_err, radius, radius_err, mass, mass_err = catalog_info_TIC(int(tic))"
   ]
  },
  {
   "cell_type": "code",
   "execution_count": 11,
   "id": "25574d88",
   "metadata": {
    "ExecuteTime": {
     "end_time": "2023-02-18T04:32:21.929616Z",
     "start_time": "2023-02-18T04:32:21.923865Z"
    }
   },
   "outputs": [],
   "source": [
    "try:\n",
    "#Teff, Teff_err, radius, radius_err, mass, mass_err = 3691, 157, 0.532243, 0.0158087, 0.529004, 0.0202865\n",
    "    Teff, Teff_err, radius, radius_err, mass, mass_err = catalog_info_TIC(int(tic))\n",
    "except Exception as e:\n",
    "    print(e)"
   ]
  },
  {
   "cell_type": "code",
   "execution_count": 12,
   "id": "5cd5fcca",
   "metadata": {
    "ExecuteTime": {
     "end_time": "2023-02-18T04:32:23.106234Z",
     "start_time": "2023-02-18T04:32:22.976112Z"
    }
   },
   "outputs": [],
   "source": [
    "from pathlib import Path\n",
    "\n",
    "# !mkdir ../allesfitter/$name\n",
    "outdir = Path('../allesfitter',name)\n",
    "outdir.mkdir(parents=True, exist_ok=True)"
   ]
  },
  {
   "cell_type": "code",
   "execution_count": 13,
   "id": "d0a6e1cc",
   "metadata": {
    "ExecuteTime": {
     "end_time": "2023-02-18T04:32:30.490760Z",
     "start_time": "2023-02-18T04:32:27.432993Z"
    }
   },
   "outputs": [
    {
     "name": "stdout",
     "output_type": "stream",
     "text": [
      "b\n",
      "rprs=0.0347\n",
      "rho=4.9487\n",
      "a_s=21.6409\n",
      "a_au=0.0536\n",
      "rsuma=0.0246\n",
      "inc=88.59\n",
      "b=0.53\n",
      "c\n",
      "rprs=0.0261\n",
      "rho=4.9477\n",
      "a_s=10.6692\n",
      "a_au=0.0264\n",
      "rsuma=0.0499\n",
      "inc=87.14\n",
      "b=0.53\n",
      "d\n",
      "rprs=0.0467\n",
      "rho=4.9492\n",
      "a_s=34.5628\n",
      "a_au=0.0856\n",
      "rsuma=0.0154\n",
      "inc=89.12\n",
      "b=0.53\n"
     ]
    }
   ],
   "source": [
    "import numpy as np\n",
    "\n",
    "debug = True\n",
    "\n",
    "Nsamples = 10_000\n",
    "planets = \"b c d e f g h i\".split()\n",
    "# quartiles = [16,50,84] #1-sigma\n",
    "quartiles = [2.70, 50, 97.3] #3-sigma\n",
    "text = \"\"\"\n",
    "#name,value,fit,bounds,label,unit,truth\n",
    "\"\"\"\n",
    "\n",
    "for i,row in d.iterrows():\n",
    "    tic = row['TIC ID']\n",
    "    Porb = row['Period (days)']\n",
    "    Porberr = row['Period (days) err']\n",
    "    Porb_s = np.random.normal(Porb, Porberr, size=Nsamples)\n",
    "    epoch = row['Epoch (BJD)']\n",
    "    epocherr = row['Epoch (BJD) err']\n",
    "    \n",
    "    pl = planets[i]\n",
    "    rprs = np.sqrt(row['Depth (ppm)']/1e6)\n",
    "    rprserr = np.sqrt(row['Depth (ppm) err']/1e6)\n",
    "    \n",
    "    rprs_s = np.random.normal(rprs, rprserr, size=Nsamples)\n",
    "    rprs_min, rprs, rprs_max = np.percentile(rprs_s, q=quartiles)\n",
    "    \n",
    "    Teff, Teff_err, radius, radius_err, mass, mass_err = catalog_info_TIC(tic)\n",
    "    \n",
    "    mass_s = np.random.normal(mass, mass_err, size=Nsamples)\n",
    "    radius_s = np.random.normal(radius, radius_err, size=Nsamples)\n",
    "    \n",
    "    rho_s = rho_from_mr(mass_s, radius_s)\n",
    "    as_s = as_from_rhop(rho_s, Porb_s)\n",
    "    if debug:\n",
    "        rhomin, rho, rhomax = np.percentile(rho_s, q=quartiles)\n",
    "        as_min, a, as_max = np.percentile(as_s, q=quartiles)\n",
    "        a_au_s = a_from_rhoprs(rho_s, Porb_s, radius_s)\n",
    "        a_au_min, a_au, a_au_max = np.percentile(a_au_s, q=quartiles)\n",
    "    \n",
    "    rsuma_s = radius_s/as_s\n",
    "    rsuma_min, rsuma, rsuma_max = np.percentile(rsuma_s, q=quartiles)\n",
    "    \n",
    "    theta = np.arcsin(radius_s/as_s)\n",
    "    inc_s = np.pi/2 - theta\n",
    "    inc_max, inc, inc_min = np.percentile(inc_s, q=quartiles)\n",
    "    if debug:\n",
    "        b_s = as_s * np.cos(inc_s)\n",
    "        b_min, b, b_max = np.percentile(b_s, q=quartiles)\n",
    "    \n",
    "    text += f\"#companion {pl} astrophysical params,,,,,,\\n\"\n",
    "    text += f\"{pl}_rr,{rprs:.4f},1,uniform {0} {rprs_max:.4f},$R_{pl} / R_\\star$,,\\n\"\n",
    "#     text += f\"{pl}_rr,{rprs:.4f},1,trunc_normal 0 1 {rprs:.4f} {rprserr:.4f},$R_{pl} / R_\\star$,,\\n\"\n",
    "    text += f\"{pl}_rsuma,{rsuma:.4f},1,uniform {rsuma_min:.4f} 0.1,$(R_\\star + R_{pl}) / a_{pl}$,,\\n\"\n",
    "#     text += f\"{pl}_cosi,{np.cos(inc):.4f},1,uniform {np.cos(inc_min):.4f} {np.cos(inc_max):.4f},$\\cos\"+\"{i_\"+pl+\"}$,,\\n\"\n",
    "    text += f\"{pl}_cosi,0,1,uniform 0 1,$\\cos\"+\"{i_\"+pl+\"}$,,\\n\"\n",
    "#     text += f\"{pl}_epoch,{epoch:.2f},1,uniform {epoch-epoch_err:.4f} {epoch+epoch_err:.4f},$T_\"+\"{0;\"+pl+\"}$,BJD,\"\n",
    "    text += f\"{pl}_epoch,{epoch:.2f},1,normal {epoch:.4f} {epocherr:.4f},$T_\"+\"{0;\"+pl+\"}$,BJD,\\n\"\n",
    "    text += f\"{pl}_period,{Porb:.4f},1,normal {Porb:.4f} {Porberr:.4f},$P_b$,d,\\n\"\n",
    "    if debug:\n",
    "        print(pl)\n",
    "        print(f\"rprs={rprs:.4f}\")\n",
    "        print(f\"rho={rho:.4f}\")\n",
    "        print(f\"a_s={a:.4f}\")\n",
    "        print(f\"a_au={a_au:.4f}\")\n",
    "        print(f\"rsuma={rsuma:.4f}\")\n",
    "        print(f\"inc={np.rad2deg(inc):.2f}\")\n",
    "        print(f\"b={b:.2f}\")\n",
    "text += \"\"\"b_f_c,0,0,uniform 0.0 0.0,$\\sqrt{e_b} \\cos{\\omega_b}$,,\n",
    "b_f_s,0,0,uniform 0.0 0.0,$\\sqrt{e_b} \\sin{\\omega_b}$,,\n",
    "#limb darkening coefficients per instrument,,,,,,\n",
    "host_ldc_q1_tess,0.5,1,uniform 0.0 1.0,$q_{1; \\mathrm{tess}}$,,\n",
    "host_ldc_q2_tess,0.5,1,uniform 0.0 1.0,$q_{2; \\mathrm{tess}}$,,\n",
    "#errors per instrument,,,,,,\n",
    "ln_err_flux_tess,-6,1,uniform -10 -1,$\\log{\\sigma_\\mathrm{tess}}$,rel. flux,\n",
    "#baseline per instrument,,,,,,\n",
    "baseline_gp_offset_flux_tess,0,1,uniform -0.1 0.1,$\\mathrm{gp ln sigma (tess)}$,,\n",
    "baseline_gp_matern32_lnsigma_flux_tess,-5,1,uniform -15 0,$\\mathrm{gp ln sigma (tess)}$,,\n",
    "baseline_gp_matern32_lnrho_flux_tess,0,1,uniform -1 15,$\\mathrm{gp ln rho (tess)}$,,\n",
    "\"\"\"\n",
    "# print(text)"
   ]
  },
  {
   "cell_type": "code",
   "execution_count": 14,
   "id": "340c88be",
   "metadata": {
    "ExecuteTime": {
     "end_time": "2023-02-18T04:32:30.496807Z",
     "start_time": "2023-02-18T04:32:30.492859Z"
    }
   },
   "outputs": [
    {
     "name": "stdout",
     "output_type": "stream",
     "text": [
      "Saved:  ../allesfitter/toi1730/params.csv\n"
     ]
    }
   ],
   "source": [
    "fp = f\"../allesfitter/{name}/params.csv\"\n",
    "np.savetxt(fp, [text], fmt=\"%s\")\n",
    "print(\"Saved: \", fp)"
   ]
  },
  {
   "cell_type": "code",
   "execution_count": 15,
   "id": "418ff111",
   "metadata": {
    "ExecuteTime": {
     "end_time": "2023-02-18T04:32:30.638592Z",
     "start_time": "2023-02-18T04:32:30.499080Z"
    }
   },
   "outputs": [
    {
     "name": "stdout",
     "output_type": "stream",
     "text": [
      "\r\n",
      "#name,value,fit,bounds,label,unit,truth\r\n",
      "#companion b astrophysical params,,,,,,\r\n",
      "b_rr,0.0347,1,uniform 0 0.0379,$R_b / R_\\star$,,\r\n",
      "b_rsuma,0.0246,1,uniform 0.0218 0.1,$(R_\\star + R_b) / a_b$,,\r\n",
      "b_cosi,0,1,uniform 0 1,$\\cos{i_b}$,,\r\n",
      "b_epoch,2459603.96,1,normal 2459603.9634 0.0025,$T_{0;b}$,BJD,\r\n",
      "b_period,6.2262,1,normal 6.2262 0.0000,$P_b$,d,\r\n",
      "#companion c astrophysical params,,,,,,\r\n",
      "c_rr,0.0261,1,uniform 0 0.0295,$R_c / R_\\star$,,\r\n",
      "c_rsuma,0.0499,1,uniform 0.0443 0.1,$(R_\\star + R_c) / a_c$,,\r\n",
      "c_cosi,0,1,uniform 0 1,$\\cos{i_c}$,,\r\n",
      "c_epoch,2459603.31,1,normal 2459603.3133 0.0028,$T_{0;c}$,BJD,\r\n",
      "c_period,2.1555,1,normal 2.1555 0.0000,$P_b$,d,\r\n",
      "#companion d astrophysical params,,,,,,\r\n",
      "d_rr,0.0467,1,uniform 0 0.0494,$R_d / R_\\star$,,\r\n",
      "d_rsuma,0.0154,1,uniform 0.0137 0.1,$(R_\\star + R_d) / a_d$,,\r\n",
      "d_cosi,0,1,uniform 0 1,$\\cos{i_d}$,,\r\n",
      "d_epoch,2459598.37,1,normal 2459598.3681 0.0018,$T_{0;d}$,BJD,\r\n",
      "d_period,12.5663,1,normal 12.5663 0.0005,$P_b$,d,\r\n",
      "b_f_c,0,0,uniform 0.0 0.0,$\\sqrt{e_b} \\cos{\\omega_b}$,,\r\n",
      "b_f_s,0,0,uniform 0.0 0.0,$\\sqrt{e_b} \\sin{\\omega_b}$,,\r\n",
      "#limb darkening coefficients per instrument,,,,,,\r\n",
      "host_ldc_q1_tess,0.5,1,uniform 0.0 1.0,$q_{1; \\mathrm{tess}}$,,\r\n",
      "host_ldc_q2_tess,0.5,1,uniform 0.0 1.0,$q_{2; \\mathrm{tess}}$,,\r\n",
      "#errors per instrument,,,,,,\r\n",
      "ln_err_flux_tess,-6,1,uniform -10 -1,$\\log{\\sigma_\\mathrm{tess}}$,rel. flux,\r\n",
      "#baseline per instrument,,,,,,\r\n",
      "baseline_gp_offset_flux_tess,0,1,uniform -0.1 0.1,$\\mathrm{gp ln sigma (tess)}$,,\r\n",
      "baseline_gp_matern32_lnsigma_flux_tess,-5,1,uniform -15 0,$\\mathrm{gp ln sigma (tess)}$,,\r\n",
      "baseline_gp_matern32_lnrho_flux_tess,0,1,uniform -1 15,$\\mathrm{gp ln rho (tess)}$,,\r\n",
      "\r\n"
     ]
    }
   ],
   "source": [
    "!cat $fp"
   ]
  },
  {
   "cell_type": "code",
   "execution_count": 30,
   "id": "8e048af2",
   "metadata": {
    "ExecuteTime": {
     "end_time": "2023-02-18T08:15:49.622158Z",
     "start_time": "2023-02-18T08:15:49.605801Z"
    }
   },
   "outputs": [
    {
     "data": {
      "text/plain": [
       "'/home/jp/github/research/project/young_ttvs/notebooks'"
      ]
     },
     "execution_count": 30,
     "metadata": {},
     "output_type": "execute_result"
    }
   ],
   "source": [
    "pwd"
   ]
  },
  {
   "cell_type": "code",
   "execution_count": 16,
   "id": "f67bc08f",
   "metadata": {
    "ExecuteTime": {
     "end_time": "2023-02-18T04:32:30.664339Z",
     "start_time": "2023-02-18T04:32:30.649437Z"
    }
   },
   "outputs": [],
   "source": [
    "text2=\"\"\"#name,value\n",
    "###############################################################################,\n",
    "# General settings,\n",
    "###############################################################################,\\n\"\"\"\n",
    "\n",
    "text2+=f\"companions_phot,{' '.join(planets[:len(d)])}\"\n",
    "\n",
    "text2+=\"\"\"\n",
    "companions_rv,\n",
    "inst_phot,tess\n",
    "inst_rv,\n",
    "###############################################################################,\n",
    "# Fit performance settings,\n",
    "###############################################################################,\n",
    "multiprocess,True\n",
    "multiprocess_cores,40\n",
    "fast_fit,True\n",
    "fast_fit_width,0.3333333333333333\n",
    "secondary_eclipse,False\n",
    "phase_curve,False\n",
    "shift_epoch,True\n",
    "inst_for_b_epoch,all\n",
    "###############################################################################,\n",
    "# MCMC settings,\n",
    "###############################################################################,\n",
    "mcmc_nwalkers,100\n",
    "#mcmc_nwalkers,200\n",
    "mcmc_total_steps,2000\n",
    "#mcmc_total_steps,6000\n",
    "mcmc_burn_steps,1000\n",
    "#mcmc_burn_steps,1000\n",
    "#mcmc_thin_by,20\n",
    "mcmc_thin_by,2\n",
    "###############################################################################,\n",
    "# Nested Sampling settings,\n",
    "###############################################################################,\n",
    "ns_modus,dynamic\n",
    "ns_nlive,1000\n",
    "ns_bound,single\n",
    "ns_sample,rwalk\n",
    "ns_tol,0.01\n",
    "###############################################################################,\n",
    "# Limb darkening law per object and instrument,\n",
    "###############################################################################,\n",
    "host_ld_law_tess,quad\n",
    "###############################################################################,\n",
    "# Baseline settings per instrument,\n",
    "###############################################################################,\n",
    "#baseline_flux_tess,sample_offset\n",
    "#baseline_flux_tess,hybrid_spline\n",
    "#baseline_flux_tess,hybrid_poly_2\n",
    "baseline_flux_tess,sample_GP_Matern32\n",
    "###############################################################################,\n",
    "# Error settings per instrument,\n",
    "###############################################################################,\n",
    "error_flux_tess,sample\n",
    "###############################################################################,\n",
    "# Stellar grid per object and instrument,\n",
    "###############################################################################,\n",
    "host_grid_tess,very_sparse\n",
    "###############################################################################,\n",
    "# Flares,\n",
    "###############################################################################,\n",
    "#N_flares,1\n",
    "use_host_density_prior,True\n",
    "###################################################,\n",
    "# fit_ttvs\n",
    "###################################################,\n",
    "fit_ttvs,False\n",
    "t_exp,\"\"\""
   ]
  },
  {
   "cell_type": "code",
   "execution_count": 17,
   "id": "57a491cc",
   "metadata": {
    "ExecuteTime": {
     "end_time": "2023-02-18T04:32:31.081142Z",
     "start_time": "2023-02-18T04:32:31.074796Z"
    }
   },
   "outputs": [
    {
     "name": "stdout",
     "output_type": "stream",
     "text": [
      "Saved:  ../allesfitter/toi1730/settings.csv\n"
     ]
    }
   ],
   "source": [
    "fp = f\"../allesfitter/{name}/settings.csv\"\n",
    "np.savetxt(fp, [text2], fmt=\"%s\")\n",
    "print(\"Saved: \", fp)"
   ]
  },
  {
   "cell_type": "code",
   "execution_count": 18,
   "id": "09739a2e",
   "metadata": {
    "ExecuteTime": {
     "end_time": "2023-02-18T04:32:31.710580Z",
     "start_time": "2023-02-18T04:32:31.697219Z"
    }
   },
   "outputs": [
    {
     "name": "stdout",
     "output_type": "stream",
     "text": [
      "\n",
      "#R_star,R_star_lerr,R_star_uerr,M_star,M_star_lerr,M_star_uerr,Teff_star,Teff_star_lerr,Teff_star_uerr\n",
      "#R_sun,R_sun,R_sun,M_sun,M_sun,M_sun,K,K,K\n",
      "0.53,0.02,0.02,0.53,0.02,0.02,3691,157,157\n",
      "\n"
     ]
    }
   ],
   "source": [
    "text3=f\"\"\"\n",
    "#R_star,R_star_lerr,R_star_uerr,M_star,M_star_lerr,M_star_uerr,Teff_star,Teff_star_lerr,Teff_star_uerr\n",
    "#R_sun,R_sun,R_sun,M_sun,M_sun,M_sun,K,K,K\n",
    "{radius:.2f},{radius_err:.2f},{radius_err:.2f},{mass:.2f},{mass_err:.2f},{mass_err:.2f},{Teff:.0f},{Teff_err:.0f},{Teff_err:.0f}\n",
    "\"\"\"\n",
    "print(text3)"
   ]
  },
  {
   "cell_type": "code",
   "execution_count": 19,
   "id": "bd2b4e29",
   "metadata": {
    "ExecuteTime": {
     "end_time": "2023-02-18T04:32:32.335897Z",
     "start_time": "2023-02-18T04:32:32.321408Z"
    }
   },
   "outputs": [
    {
     "name": "stdout",
     "output_type": "stream",
     "text": [
      "Saved:  ../allesfitter/toi1730/params_star.csv\n"
     ]
    }
   ],
   "source": [
    "fp = f\"../allesfitter/{name}/params_star.csv\"\n",
    "np.savetxt(fp, [text3], fmt=\"%s\")\n",
    "print(\"Saved: \", fp)"
   ]
  },
  {
   "cell_type": "code",
   "execution_count": 20,
   "id": "45d8e269",
   "metadata": {
    "ExecuteTime": {
     "end_time": "2023-02-18T04:32:32.710031Z",
     "start_time": "2023-02-18T04:32:32.704615Z"
    }
   },
   "outputs": [],
   "source": [
    "text4=\"\"\"#!/usr/bin/env python\n",
    "import allesfitter\n",
    "\n",
    "fig = allesfitter.show_initial_guess('.')\n",
    "#allesfitter.prepare_ttv_fit('.')\n",
    "\n",
    "allesfitter.ns_fit('.')\n",
    "allesfitter.ns_output('.')\"\"\""
   ]
  },
  {
   "cell_type": "code",
   "execution_count": 21,
   "id": "7f5cb1d5",
   "metadata": {
    "ExecuteTime": {
     "end_time": "2023-02-18T04:32:33.104455Z",
     "start_time": "2023-02-18T04:32:33.096426Z"
    }
   },
   "outputs": [
    {
     "name": "stdout",
     "output_type": "stream",
     "text": [
      "Saved:  ../allesfitter/toi1730/run.py\n"
     ]
    }
   ],
   "source": [
    "fp = f\"../allesfitter/{name}/run.py\"\n",
    "np.savetxt(fp, [text4], fmt=\"%s\")\n",
    "print(\"Saved: \", fp)"
   ]
  },
  {
   "cell_type": "code",
   "execution_count": 22,
   "id": "7decaa85",
   "metadata": {
    "ExecuteTime": {
     "end_time": "2023-02-18T04:32:37.489916Z",
     "start_time": "2023-02-18T04:32:33.773472Z"
    }
   },
   "outputs": [
    {
     "name": "stderr",
     "output_type": "stream",
     "text": [
      "/home/jp/miniconda3/envs/lk2/lib/python3.10/site-packages/lightkurve/config/__init__.py:119: UserWarning: The default Lightkurve cache directory, used by download(), etc., has been moved to /home/jp/.lightkurve/cache. Please move all the files in the legacy directory /home/jp/.lightkurve-cache to the new location and remove the legacy directory. Refer to https://docs.lightkurve.org/reference/config.html#default-cache-directory-migration for more information.\n",
      "  warnings.warn(\n"
     ]
    },
    {
     "name": "stdout",
     "output_type": "stream",
     "text": [
      "Saved:  ../allesfitter/toi1730/tess.csv\n",
      "                     time      flux  flux_err\n",
      "time                                         \n",
      "1842.536688  2.458843e+06  1.000783  0.000408\n",
      "1842.557521  2.458843e+06  0.999843  0.000408\n",
      "1842.599189  2.458843e+06  0.999832  0.000409\n",
      "1842.640856  2.458843e+06  0.999312  0.000408\n",
      "1842.682524  2.458843e+06  0.999663  0.000408\n"
     ]
    },
    {
     "data": {
      "image/png": "[encoded data removed]",
      "text/plain": [
       "<Figure size 848.5x400 with 1 Axes>"
      ]
     },
     "metadata": {},
     "output_type": "display_data"
    }
   ],
   "source": [
    "#!/usr/bin/env python\n",
    "import lightkurve as lk\n",
    "\n",
    "multi_sector = True\n",
    "cols = ['time','flux','flux_err']\n",
    "\n",
    "result = lk.search_lightcurve(f'TIC {tic}', author='SPOC')\n",
    "if result:\n",
    "    if multi_sector:\n",
    "        lc = result.download_all().stitch()\n",
    "    else:\n",
    "        lc = result.download().normalize()\n",
    "    ax = lc.scatter()\n",
    "    #ax.set_title(f\"TOI {toi} (sector {lc.sector})\")\n",
    "    ax.figure.savefig(f\"../allesfitter/{name}/toi{toiid}_tess.png\")\n",
    "    fp = f\"../allesfitter/{name}/tess.csv\"\n",
    "    df = lc.to_pandas()\n",
    "    df['time'] = df.index + 2457000\n",
    "    df = df[cols].dropna()\n",
    "    #import pdb; pdb.set_trace()\n",
    "    df.to_csv(fp, sep=',', header=False, index=False)\n",
    "    print(\"Saved: \", fp)\n",
    "    print(df.head())"
   ]
  },
  {
   "cell_type": "code",
   "execution_count": 24,
   "id": "94b70482",
   "metadata": {
    "ExecuteTime": {
     "end_time": "2023-02-17T23:59:42.625304Z",
     "start_time": "2023-02-17T23:59:42.619409Z"
    }
   },
   "outputs": [
    {
     "data": {
      "text/plain": [
       "17941"
      ]
     },
     "execution_count": 24,
     "metadata": {},
     "output_type": "execute_result"
    }
   ],
   "source": [
    "len(df)"
   ]
  },
  {
   "cell_type": "code",
   "execution_count": null,
   "id": "79de3fd0",
   "metadata": {},
   "outputs": [],
   "source": []
  }
 ],
 "metadata": {
  "kernelspec": {
   "display_name": "Python 3 (ipykernel)",
   "language": "python",
   "name": "python3"
  },
  "language_info": {
   "codemirror_mode": {
    "name": "ipython",
    "version": 3
   },
   "file_extension": ".py",
   "mimetype": "text/x-python",
   "name": "python",
   "nbconvert_exporter": "python",
   "pygments_lexer": "ipython3",
   "version": "3.10.9"
  },
  "toc": {
   "base_numbering": 1,
   "nav_menu": {},
   "number_sections": true,
   "sideBar": true,
   "skip_h1_title": false,
   "title_cell": "Table of Contents",
   "title_sidebar": "Contents",
   "toc_cell": false,
   "toc_position": {},
   "toc_section_display": true,
   "toc_window_display": false
  }
 },
 "nbformat": 4,
 "nbformat_minor": 5
}
