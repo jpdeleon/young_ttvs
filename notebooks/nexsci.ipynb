{
 "cells": [
  {
   "cell_type": "code",
   "execution_count": 1,
   "id": "f65a6717-1351-4c6a-aabe-1236fd5aecc0",
   "metadata": {
    "ExecuteTime": {
     "end_time": "2023-02-21T04:37:04.782447Z",
     "start_time": "2023-02-21T04:37:04.777945Z"
    }
   },
   "outputs": [],
   "source": [
    "import os\n",
    "import sys\n",
    "\n",
    "# assert os.environ['CONDA_DEFAULT_ENV']=='ttv'\n",
    "assert sys.executable==\"/ut3/jerome/miniconda3/envs/ttv/bin/python\""
   ]
  },
  {
   "cell_type": "markdown",
   "id": "5c346243",
   "metadata": {},
   "source": [
    "Naming aliases:\n",
    "\n",
    "\n",
    "https://exoplanetarchive.ipac.caltech.edu/cgi-bin/Lookup/nph-aliaslookup.py?objname=Gaia DR2 2127941757262806656 b"
   ]
  },
  {
   "cell_type": "markdown",
   "id": "832e7198",
   "metadata": {},
   "source": [
    "# NExSci"
   ]
  },
  {
   "cell_type": "code",
   "execution_count": 2,
   "id": "8c97dbb5",
   "metadata": {
    "ExecuteTime": {
     "end_time": "2023-02-21T04:37:05.664803Z",
     "start_time": "2023-02-21T04:37:04.785470Z"
    }
   },
   "outputs": [],
   "source": [
    "import sys\n",
    "sys.path.insert(0, '../code')\n",
    "from utils import *"
   ]
  },
  {
   "cell_type": "code",
   "execution_count": 3,
   "id": "844ef3c3",
   "metadata": {
    "ExecuteTime": {
     "end_time": "2023-02-21T04:37:07.208417Z",
     "start_time": "2023-02-21T04:37:05.666639Z"
    }
   },
   "outputs": [
    {
     "name": "stdout",
     "output_type": "stream",
     "text": [
      "Column definitions:  https://exoplanetarchive.ipac.caltech.edu/docs/API_PS_columns.html\n"
     ]
    },
    {
     "name": "stderr",
     "output_type": "stream",
     "text": [
      "/mnt_ut3/raid_ut3/home/jerome/github/research/project/young_ttvs/notebooks/../code/utils.py:260: DtypeWarning: Columns (50,65,183,206,211,237,242) have mixed types. Specify dtype option on import or set low_memory=False.\n",
      "  df_nexsci = pd.read_csv(fp)\n"
     ]
    },
    {
     "name": "stdout",
     "output_type": "stream",
     "text": [
      "Loaded:  ../data/nexsci_ps.csv\n"
     ]
    },
    {
     "data": {
      "text/html": [
       "<div>\n",
       "<style scoped>\n",
       "    .dataframe tbody tr th:only-of-type {\n",
       "        vertical-align: middle;\n",
       "    }\n",
       "\n",
       "    .dataframe tbody tr th {\n",
       "        vertical-align: top;\n",
       "    }\n",
       "\n",
       "    .dataframe thead th {\n",
       "        text-align: right;\n",
       "    }\n",
       "</style>\n",
       "<table border=\"1\" class=\"dataframe\">\n",
       "  <thead>\n",
       "    <tr style=\"text-align: right;\">\n",
       "      <th></th>\n",
       "      <th>pl_name</th>\n",
       "      <th>pl_letter</th>\n",
       "      <th>hostname</th>\n",
       "      <th>hd_name</th>\n",
       "      <th>hip_name</th>\n",
       "      <th>tic_id</th>\n",
       "      <th>gaia_id</th>\n",
       "      <th>default_flag</th>\n",
       "      <th>pl_refname</th>\n",
       "      <th>sy_refname</th>\n",
       "      <th>...</th>\n",
       "      <th>sy_jmagstr</th>\n",
       "      <th>sy_hmag</th>\n",
       "      <th>sy_hmagerr1</th>\n",
       "      <th>sy_hmagerr2</th>\n",
       "      <th>sy_hmagstr</th>\n",
       "      <th>sy_kmag</th>\n",
       "      <th>sy_kmagerr1</th>\n",
       "      <th>sy_kmagerr2</th>\n",
       "      <th>sky_coord.ra</th>\n",
       "      <th>sky_coord.dec</th>\n",
       "    </tr>\n",
       "  </thead>\n",
       "  <tbody>\n",
       "    <tr>\n",
       "      <th>32865</th>\n",
       "      <td>TOI-237 b</td>\n",
       "      <td>b</td>\n",
       "      <td>TOI-237</td>\n",
       "      <td>NaN</td>\n",
       "      <td>NaN</td>\n",
       "      <td>TIC 305048087</td>\n",
       "      <td>Gaia DR2 2329387852426700800</td>\n",
       "      <td>0</td>\n",
       "      <td>&lt;a refstr=EXOFOP_TESS_TOI href=https://exofop....</td>\n",
       "      <td>&lt;a refstr=STASSUN_ET_AL__2019 href=https://ui....</td>\n",
       "      <td>...</td>\n",
       "      <td>11.740&amp;plusmn;0.021</td>\n",
       "      <td>11.190</td>\n",
       "      <td>0.022</td>\n",
       "      <td>-0.022</td>\n",
       "      <td>11.190&amp;plusmn;0.022</td>\n",
       "      <td>10.896</td>\n",
       "      <td>0.025</td>\n",
       "      <td>-0.025</td>\n",
       "      <td>353.243538</td>\n",
       "      <td>-29.416487</td>\n",
       "    </tr>\n",
       "    <tr>\n",
       "      <th>32866</th>\n",
       "      <td>HD 1397 b</td>\n",
       "      <td>b</td>\n",
       "      <td>HD 1397</td>\n",
       "      <td>HD 1397</td>\n",
       "      <td>HIP 1419</td>\n",
       "      <td>TIC 394137592</td>\n",
       "      <td>Gaia DR2 4707634458245031552</td>\n",
       "      <td>0</td>\n",
       "      <td>&lt;a refstr=EXOFOP_TESS_TOI href=https://exofop....</td>\n",
       "      <td>&lt;a refstr=STASSUN_ET_AL__2019 href=https://ui....</td>\n",
       "      <td>...</td>\n",
       "      <td>6.442&amp;plusmn;0.020</td>\n",
       "      <td>6.090</td>\n",
       "      <td>0.049</td>\n",
       "      <td>-0.049</td>\n",
       "      <td>6.090&amp;plusmn;0.049</td>\n",
       "      <td>5.988</td>\n",
       "      <td>0.018</td>\n",
       "      <td>-0.018</td>\n",
       "      <td>4.447163</td>\n",
       "      <td>-66.358929</td>\n",
       "    </tr>\n",
       "    <tr>\n",
       "      <th>32867</th>\n",
       "      <td>OGLE2-TR-L9 b</td>\n",
       "      <td>b</td>\n",
       "      <td>OGLE2-TR-L9</td>\n",
       "      <td>NaN</td>\n",
       "      <td>NaN</td>\n",
       "      <td>TIC 466840711</td>\n",
       "      <td>Gaia DR2 5337273743301313536</td>\n",
       "      <td>1</td>\n",
       "      <td>&lt;a refstr=SNELLEN_ET_AL__2009 href=https://ui....</td>\n",
       "      <td>&lt;a refstr=STASSUN_ET_AL__2019 href=https://ui....</td>\n",
       "      <td>...</td>\n",
       "      <td>13.508&amp;plusmn;0.032</td>\n",
       "      <td>13.246</td>\n",
       "      <td>0.035</td>\n",
       "      <td>-0.035</td>\n",
       "      <td>13.246&amp;plusmn;0.035</td>\n",
       "      <td>13.117</td>\n",
       "      <td>0.037</td>\n",
       "      <td>-0.037</td>\n",
       "      <td>166.979879</td>\n",
       "      <td>-61.146250</td>\n",
       "    </tr>\n",
       "    <tr>\n",
       "      <th>32868</th>\n",
       "      <td>CoRoT-12 b</td>\n",
       "      <td>b</td>\n",
       "      <td>CoRoT-12</td>\n",
       "      <td>NaN</td>\n",
       "      <td>NaN</td>\n",
       "      <td>TIC 280210963</td>\n",
       "      <td>Gaia DR2 3107255598526406912</td>\n",
       "      <td>0</td>\n",
       "      <td>&lt;a refstr=BONOMO_ET_AL__2017 href=https://ui.a...</td>\n",
       "      <td>&lt;a refstr=STASSUN_ET_AL__2019 href=https://ui....</td>\n",
       "      <td>...</td>\n",
       "      <td>14.024&amp;plusmn;0.032</td>\n",
       "      <td>13.630</td>\n",
       "      <td>0.031</td>\n",
       "      <td>-0.031</td>\n",
       "      <td>13.630&amp;plusmn;0.031</td>\n",
       "      <td>13.557</td>\n",
       "      <td>0.042</td>\n",
       "      <td>-0.042</td>\n",
       "      <td>100.765687</td>\n",
       "      <td>-1.296444</td>\n",
       "    </tr>\n",
       "    <tr>\n",
       "      <th>32869</th>\n",
       "      <td>CoRoT-20 b</td>\n",
       "      <td>b</td>\n",
       "      <td>CoRoT-20</td>\n",
       "      <td>NaN</td>\n",
       "      <td>NaN</td>\n",
       "      <td>TIC 234825296</td>\n",
       "      <td>Gaia DR2 3120122805143587328</td>\n",
       "      <td>0</td>\n",
       "      <td>&lt;a refstr=BONOMO_ET_AL__2017 href=https://ui.a...</td>\n",
       "      <td>&lt;a refstr=STASSUN_ET_AL__2019 href=https://ui....</td>\n",
       "      <td>...</td>\n",
       "      <td>12.991&amp;plusmn;0.026</td>\n",
       "      <td>12.652</td>\n",
       "      <td>0.027</td>\n",
       "      <td>-0.027</td>\n",
       "      <td>12.652&amp;plusmn;0.027</td>\n",
       "      <td>12.513</td>\n",
       "      <td>0.029</td>\n",
       "      <td>-0.029</td>\n",
       "      <td>97.720425</td>\n",
       "      <td>0.226893</td>\n",
       "    </tr>\n",
       "  </tbody>\n",
       "</table>\n",
       "<p>5 rows × 356 columns</p>\n",
       "</div>"
      ],
      "text/plain": [
       "             pl_name pl_letter     hostname  hd_name  hip_name         tic_id  \\\n",
       "32865      TOI-237 b         b      TOI-237      NaN       NaN  TIC 305048087   \n",
       "32866      HD 1397 b         b      HD 1397  HD 1397  HIP 1419  TIC 394137592   \n",
       "32867  OGLE2-TR-L9 b         b  OGLE2-TR-L9      NaN       NaN  TIC 466840711   \n",
       "32868     CoRoT-12 b         b     CoRoT-12      NaN       NaN  TIC 280210963   \n",
       "32869     CoRoT-20 b         b     CoRoT-20      NaN       NaN  TIC 234825296   \n",
       "\n",
       "                            gaia_id  default_flag  \\\n",
       "32865  Gaia DR2 2329387852426700800             0   \n",
       "32866  Gaia DR2 4707634458245031552             0   \n",
       "32867  Gaia DR2 5337273743301313536             1   \n",
       "32868  Gaia DR2 3107255598526406912             0   \n",
       "32869  Gaia DR2 3120122805143587328             0   \n",
       "\n",
       "                                              pl_refname  \\\n",
       "32865  <a refstr=EXOFOP_TESS_TOI href=https://exofop....   \n",
       "32866  <a refstr=EXOFOP_TESS_TOI href=https://exofop....   \n",
       "32867  <a refstr=SNELLEN_ET_AL__2009 href=https://ui....   \n",
       "32868  <a refstr=BONOMO_ET_AL__2017 href=https://ui.a...   \n",
       "32869  <a refstr=BONOMO_ET_AL__2017 href=https://ui.a...   \n",
       "\n",
       "                                              sy_refname  ...  \\\n",
       "32865  <a refstr=STASSUN_ET_AL__2019 href=https://ui....  ...   \n",
       "32866  <a refstr=STASSUN_ET_AL__2019 href=https://ui....  ...   \n",
       "32867  <a refstr=STASSUN_ET_AL__2019 href=https://ui....  ...   \n",
       "32868  <a refstr=STASSUN_ET_AL__2019 href=https://ui....  ...   \n",
       "32869  <a refstr=STASSUN_ET_AL__2019 href=https://ui....  ...   \n",
       "\n",
       "                sy_jmagstr  sy_hmag sy_hmagerr1 sy_hmagerr2  \\\n",
       "32865  11.740&plusmn;0.021   11.190       0.022      -0.022   \n",
       "32866   6.442&plusmn;0.020    6.090       0.049      -0.049   \n",
       "32867  13.508&plusmn;0.032   13.246       0.035      -0.035   \n",
       "32868  14.024&plusmn;0.032   13.630       0.031      -0.031   \n",
       "32869  12.991&plusmn;0.026   12.652       0.027      -0.027   \n",
       "\n",
       "                sy_hmagstr sy_kmag sy_kmagerr1 sy_kmagerr2  sky_coord.ra  \\\n",
       "32865  11.190&plusmn;0.022  10.896       0.025      -0.025    353.243538   \n",
       "32866   6.090&plusmn;0.049   5.988       0.018      -0.018      4.447163   \n",
       "32867  13.246&plusmn;0.035  13.117       0.037      -0.037    166.979879   \n",
       "32868  13.630&plusmn;0.031  13.557       0.042      -0.042    100.765687   \n",
       "32869  12.652&plusmn;0.027  12.513       0.029      -0.029     97.720425   \n",
       "\n",
       "      sky_coord.dec  \n",
       "32865    -29.416487  \n",
       "32866    -66.358929  \n",
       "32867    -61.146250  \n",
       "32868     -1.296444  \n",
       "32869      0.226893  \n",
       "\n",
       "[5 rows x 356 columns]"
      ]
     },
     "execution_count": 3,
     "metadata": {},
     "output_type": "execute_result"
    }
   ],
   "source": [
    "df3_orig = get_nexsci(clobber=False) #set to True when updating\n",
    "df3_orig.tail()"
   ]
  },
  {
   "cell_type": "code",
   "execution_count": 4,
   "id": "a520ea4b",
   "metadata": {
    "ExecuteTime": {
     "end_time": "2023-02-21T04:37:07.285803Z",
     "start_time": "2023-02-21T04:37:07.210457Z"
    }
   },
   "outputs": [
    {
     "data": {
      "text/html": [
       "<div>\n",
       "<style scoped>\n",
       "    .dataframe tbody tr th:only-of-type {\n",
       "        vertical-align: middle;\n",
       "    }\n",
       "\n",
       "    .dataframe tbody tr th {\n",
       "        vertical-align: top;\n",
       "    }\n",
       "\n",
       "    .dataframe thead th {\n",
       "        text-align: right;\n",
       "    }\n",
       "</style>\n",
       "<table border=\"1\" class=\"dataframe\">\n",
       "  <thead>\n",
       "    <tr style=\"text-align: right;\">\n",
       "      <th></th>\n",
       "      <th>pl_name</th>\n",
       "      <th>pl_letter</th>\n",
       "      <th>hostname</th>\n",
       "      <th>hd_name</th>\n",
       "      <th>hip_name</th>\n",
       "      <th>tic_id</th>\n",
       "      <th>gaia_id</th>\n",
       "      <th>default_flag</th>\n",
       "      <th>pl_refname</th>\n",
       "      <th>sy_refname</th>\n",
       "      <th>...</th>\n",
       "      <th>sy_jmagstr</th>\n",
       "      <th>sy_hmag</th>\n",
       "      <th>sy_hmagerr1</th>\n",
       "      <th>sy_hmagerr2</th>\n",
       "      <th>sy_hmagstr</th>\n",
       "      <th>sy_kmag</th>\n",
       "      <th>sy_kmagerr1</th>\n",
       "      <th>sy_kmagerr2</th>\n",
       "      <th>sky_coord.ra</th>\n",
       "      <th>sky_coord.dec</th>\n",
       "    </tr>\n",
       "  </thead>\n",
       "  <tbody>\n",
       "    <tr>\n",
       "      <th>31847</th>\n",
       "      <td>V1298 Tau d</td>\n",
       "      <td>d</td>\n",
       "      <td>V1298 Tau</td>\n",
       "      <td>NaN</td>\n",
       "      <td>NaN</td>\n",
       "      <td>TIC 15756231</td>\n",
       "      <td>Gaia DR2 51886335968692480</td>\n",
       "      <td>1</td>\n",
       "      <td>&lt;a refstr=DAVID_ET_AL__2019 href=https://ui.ad...</td>\n",
       "      <td>&lt;a refstr=STASSUN_ET_AL__2019 href=https://ui....</td>\n",
       "      <td>...</td>\n",
       "      <td>8.687&amp;plusmn;0.023</td>\n",
       "      <td>8.191</td>\n",
       "      <td>0.023</td>\n",
       "      <td>-0.023</td>\n",
       "      <td>8.191&amp;plusmn;0.023</td>\n",
       "      <td>8.094</td>\n",
       "      <td>0.021</td>\n",
       "      <td>-0.021</td>\n",
       "      <td>61.331654</td>\n",
       "      <td>20.157032</td>\n",
       "    </tr>\n",
       "    <tr>\n",
       "      <th>32101</th>\n",
       "      <td>V1298 Tau c</td>\n",
       "      <td>c</td>\n",
       "      <td>V1298 Tau</td>\n",
       "      <td>NaN</td>\n",
       "      <td>NaN</td>\n",
       "      <td>TIC 15756231</td>\n",
       "      <td>Gaia DR2 51886335968692480</td>\n",
       "      <td>1</td>\n",
       "      <td>&lt;a refstr=DAVID_ET_AL__2019 href=https://ui.ad...</td>\n",
       "      <td>&lt;a refstr=STASSUN_ET_AL__2019 href=https://ui....</td>\n",
       "      <td>...</td>\n",
       "      <td>8.687&amp;plusmn;0.023</td>\n",
       "      <td>8.191</td>\n",
       "      <td>0.023</td>\n",
       "      <td>-0.023</td>\n",
       "      <td>8.191&amp;plusmn;0.023</td>\n",
       "      <td>8.094</td>\n",
       "      <td>0.021</td>\n",
       "      <td>-0.021</td>\n",
       "      <td>61.331654</td>\n",
       "      <td>20.157032</td>\n",
       "    </tr>\n",
       "    <tr>\n",
       "      <th>32701</th>\n",
       "      <td>V1298 Tau e</td>\n",
       "      <td>e</td>\n",
       "      <td>V1298 Tau</td>\n",
       "      <td>NaN</td>\n",
       "      <td>NaN</td>\n",
       "      <td>TIC 15756231</td>\n",
       "      <td>Gaia DR2 51886335968692480</td>\n",
       "      <td>1</td>\n",
       "      <td>&lt;a refstr=FINOCIETY_ET_AL__2023 href=https://u...</td>\n",
       "      <td>&lt;a refstr=STASSUN_ET_AL__2019 href=https://ui....</td>\n",
       "      <td>...</td>\n",
       "      <td>8.687&amp;plusmn;0.023</td>\n",
       "      <td>8.191</td>\n",
       "      <td>0.023</td>\n",
       "      <td>-0.023</td>\n",
       "      <td>8.191&amp;plusmn;0.023</td>\n",
       "      <td>8.094</td>\n",
       "      <td>0.021</td>\n",
       "      <td>-0.021</td>\n",
       "      <td>61.331654</td>\n",
       "      <td>20.157032</td>\n",
       "    </tr>\n",
       "    <tr>\n",
       "      <th>32767</th>\n",
       "      <td>V1298 Tau b</td>\n",
       "      <td>b</td>\n",
       "      <td>V1298 Tau</td>\n",
       "      <td>NaN</td>\n",
       "      <td>NaN</td>\n",
       "      <td>TIC 15756231</td>\n",
       "      <td>Gaia DR2 51886335968692480</td>\n",
       "      <td>1</td>\n",
       "      <td>&lt;a refstr=DAVID_ET_AL__2019 href=https://ui.ad...</td>\n",
       "      <td>&lt;a refstr=STASSUN_ET_AL__2019 href=https://ui....</td>\n",
       "      <td>...</td>\n",
       "      <td>8.687&amp;plusmn;0.023</td>\n",
       "      <td>8.191</td>\n",
       "      <td>0.023</td>\n",
       "      <td>-0.023</td>\n",
       "      <td>8.191&amp;plusmn;0.023</td>\n",
       "      <td>8.094</td>\n",
       "      <td>0.021</td>\n",
       "      <td>-0.021</td>\n",
       "      <td>61.331654</td>\n",
       "      <td>20.157032</td>\n",
       "    </tr>\n",
       "  </tbody>\n",
       "</table>\n",
       "<p>4 rows × 356 columns</p>\n",
       "</div>"
      ],
      "text/plain": [
       "           pl_name pl_letter   hostname hd_name hip_name        tic_id  \\\n",
       "31847  V1298 Tau d         d  V1298 Tau     NaN      NaN  TIC 15756231   \n",
       "32101  V1298 Tau c         c  V1298 Tau     NaN      NaN  TIC 15756231   \n",
       "32701  V1298 Tau e         e  V1298 Tau     NaN      NaN  TIC 15756231   \n",
       "32767  V1298 Tau b         b  V1298 Tau     NaN      NaN  TIC 15756231   \n",
       "\n",
       "                          gaia_id  default_flag  \\\n",
       "31847  Gaia DR2 51886335968692480             1   \n",
       "32101  Gaia DR2 51886335968692480             1   \n",
       "32701  Gaia DR2 51886335968692480             1   \n",
       "32767  Gaia DR2 51886335968692480             1   \n",
       "\n",
       "                                              pl_refname  \\\n",
       "31847  <a refstr=DAVID_ET_AL__2019 href=https://ui.ad...   \n",
       "32101  <a refstr=DAVID_ET_AL__2019 href=https://ui.ad...   \n",
       "32701  <a refstr=FINOCIETY_ET_AL__2023 href=https://u...   \n",
       "32767  <a refstr=DAVID_ET_AL__2019 href=https://ui.ad...   \n",
       "\n",
       "                                              sy_refname  ...  \\\n",
       "31847  <a refstr=STASSUN_ET_AL__2019 href=https://ui....  ...   \n",
       "32101  <a refstr=STASSUN_ET_AL__2019 href=https://ui....  ...   \n",
       "32701  <a refstr=STASSUN_ET_AL__2019 href=https://ui....  ...   \n",
       "32767  <a refstr=STASSUN_ET_AL__2019 href=https://ui....  ...   \n",
       "\n",
       "               sy_jmagstr  sy_hmag sy_hmagerr1 sy_hmagerr2  \\\n",
       "31847  8.687&plusmn;0.023    8.191       0.023      -0.023   \n",
       "32101  8.687&plusmn;0.023    8.191       0.023      -0.023   \n",
       "32701  8.687&plusmn;0.023    8.191       0.023      -0.023   \n",
       "32767  8.687&plusmn;0.023    8.191       0.023      -0.023   \n",
       "\n",
       "               sy_hmagstr sy_kmag sy_kmagerr1 sy_kmagerr2  sky_coord.ra  \\\n",
       "31847  8.191&plusmn;0.023   8.094       0.021      -0.021     61.331654   \n",
       "32101  8.191&plusmn;0.023   8.094       0.021      -0.021     61.331654   \n",
       "32701  8.191&plusmn;0.023   8.094       0.021      -0.021     61.331654   \n",
       "32767  8.191&plusmn;0.023   8.094       0.021      -0.021     61.331654   \n",
       "\n",
       "      sky_coord.dec  \n",
       "31847     20.157032  \n",
       "32101     20.157032  \n",
       "32701     20.157032  \n",
       "32767     20.157032  \n",
       "\n",
       "[4 rows x 356 columns]"
      ]
     },
     "execution_count": 4,
     "metadata": {},
     "output_type": "execute_result"
    }
   ],
   "source": [
    "df3 = df3_orig[df3_orig['default_flag']==1]\n",
    "df3.query(\"hostname=='V1298 Tau'\")"
   ]
  },
  {
   "cell_type": "code",
   "execution_count": 5,
   "id": "42fd7ef9",
   "metadata": {
    "ExecuteTime": {
     "end_time": "2023-02-21T04:37:07.297242Z",
     "start_time": "2023-02-21T04:37:07.289264Z"
    }
   },
   "outputs": [
    {
     "data": {
      "text/plain": [
       "hostname\n",
       "KOI-351        8\n",
       "TRAPPIST-1     7\n",
       "TOI-178        6\n",
       "TOI-1136       6\n",
       "Kepler-80      6\n",
       "              ..\n",
       "Kepler-1459    1\n",
       "Kepler-1919    1\n",
       "Kepler-977     1\n",
       "Kepler-617     1\n",
       "OGLE2-TR-L9    1\n",
       "Name: count, Length: 3259, dtype: int64"
      ]
     },
     "execution_count": 5,
     "metadata": {},
     "output_type": "execute_result"
    }
   ],
   "source": [
    "nsys = df3['hostname'].value_counts()\n",
    "nsys"
   ]
  },
  {
   "cell_type": "code",
   "execution_count": 6,
   "id": "6225ff23",
   "metadata": {
    "ExecuteTime": {
     "end_time": "2023-02-21T04:37:07.303875Z",
     "start_time": "2023-02-21T04:37:07.299593Z"
    }
   },
   "outputs": [
    {
     "name": "stdout",
     "output_type": "stream",
     "text": [
      "683\n"
     ]
    }
   ],
   "source": [
    "host_multis = list(nsys[nsys>1].index)\n",
    "print(len(host_multis))"
   ]
  },
  {
   "cell_type": "code",
   "execution_count": 12,
   "id": "ebd2bd36",
   "metadata": {
    "ExecuteTime": {
     "end_time": "2023-02-21T04:37:07.327849Z",
     "start_time": "2023-02-21T04:37:07.306013Z"
    }
   },
   "outputs": [
    {
     "data": {
      "text/plain": [
       "array(['TOI-1224', 'HD 23472', 'TOI-431', 'LHS 1140', 'TOI-421',\n",
       "       'Kepler-102', 'Kepler-411', 'HIP 67522', 'GJ 9827', 'TOI-1347',\n",
       "       'L 98-59', 'TOI-5398', 'TOI-776', 'TOI-663', 'TOI-4010', 'TOI-286',\n",
       "       'HD 15337', 'WASP-132', 'TOI-815', 'K2-185', 'EPIC 249893012',\n",
       "       'K2-331', 'K2-36', 'K2-350', 'K2-155', 'TOI-2095', 'K2-240',\n",
       "       'K2-268', 'TOI-451', 'K2-141', 'TOI-836', 'K2-352', 'TOI-1470',\n",
       "       'TOI-904', 'TOI-2134', 'TOI-712', 'HD 63433', 'TOI-1246',\n",
       "       'HD 260655', 'HIP 113103', 'TOI-1266', 'HD 73583', 'TOI-763',\n",
       "       'TOI-1260', 'TOI-1468', 'HD 109833', 'LHS 1678', 'TOI-1450 A',\n",
       "       'V1298 Tau', 'K2-264'], dtype=object)"
      ]
     },
     "execution_count": 12,
     "metadata": {},
     "output_type": "execute_result"
    }
   ],
   "source": [
    "multi_w_prot = df3[df3.hostname.isin(host_multis)]\n",
    "host_multis_w_prot = multi_w_prot[multi_w_prot.st_rotp>0].hostname.unique()\n",
    "host_multis_w_prot"
   ]
  },
  {
   "cell_type": "raw",
   "id": "f86a1f86-8dfa-4113-8ac6-48bdb2101a7f",
   "metadata": {
    "ExecuteTime": {
     "end_time": "2023-02-21T00:36:10.664100Z",
     "start_time": "2023-02-21T00:36:07.659563Z"
    }
   },
   "source": [
    "!pip install tess-point"
   ]
  },
  {
   "cell_type": "code",
   "execution_count": 8,
   "id": "ddb2f1e6",
   "metadata": {
    "ExecuteTime": {
     "end_time": "2023-02-21T04:37:07.575781Z",
     "start_time": "2023-02-21T04:37:07.330181Z"
    }
   },
   "outputs": [
    {
     "data": {
      "text/plain": [
       "array([ 3, 30, 42, 43, 70])"
      ]
     },
     "execution_count": 8,
     "metadata": {},
     "output_type": "execute_result"
    }
   ],
   "source": [
    "from tess_stars2px import tess_stars2px_function_entry\n",
    "\n",
    "target = 'K2-384'\n",
    "dd = df3[df3.hostname==target]\n",
    "ra, dec, tic = dd.iloc[0][['ra','dec','tic_id']].values\n",
    "ticid = int(tic.split()[-1])\n",
    "outID, outEclipLong, outEclipLat, outSec, outCam, outCcd, \\\n",
    "            outColPix, outRowPix, scinfo = tess_stars2px_function_entry(\n",
    "                    ticid, ra, dec)\n",
    "outSec"
   ]
  },
  {
   "cell_type": "markdown",
   "id": "44510463-34af-4ce0-8536-2accf3f466ca",
   "metadata": {},
   "source": [
    "# multis with reported TTVs"
   ]
  },
  {
   "cell_type": "markdown",
   "id": "6844a318-1883-415c-974d-dee1f6564203",
   "metadata": {},
   "source": [
    "* Science: Refinement of TTV model using new TESS data"
   ]
  },
  {
   "cell_type": "code",
   "execution_count": 9,
   "id": "0fe49951-2cc6-43ef-846c-a662fab6e7ee",
   "metadata": {},
   "outputs": [],
   "source": [
    "idx = df3.ttv_flag.astype(bool)\n",
    "known_ttvs = df3[idx]"
   ]
  },
  {
   "cell_type": "code",
   "execution_count": 14,
   "id": "38964ef9-c2ba-4eb3-a1c8-b6d0a51a7945",
   "metadata": {},
   "outputs": [],
   "source": [
    "idx = known_ttvs.hostname.isin(host_multis)\n",
    "nexsci_ttvs_multis = known_ttvs[idx]"
   ]
  },
  {
   "cell_type": "code",
   "execution_count": 15,
   "id": "62b45147-c1aa-4345-a713-1ebbaf0c1658",
   "metadata": {},
   "outputs": [],
   "source": [
    "nexsci_ttvs_multis.to_csv('../data/nexsci_ttvs_multis.csv', index=False)"
   ]
  },
  {
   "cell_type": "code",
   "execution_count": 16,
   "id": "b7505d54-372d-4495-bd67-4221c3c5a258",
   "metadata": {},
   "outputs": [
    {
     "data": {
      "text/plain": [
       "(154,)"
      ]
     },
     "execution_count": 16,
     "metadata": {},
     "output_type": "execute_result"
    }
   ],
   "source": [
    "host_multis_ttv = nexsci_ttvs_multis.hostname.unique()\n",
    "host_multis_ttv.shape"
   ]
  },
  {
   "cell_type": "code",
   "execution_count": 17,
   "id": "585c6cee-94e4-47fa-bf40-13f999440286",
   "metadata": {},
   "outputs": [
    {
     "data": {
      "text/html": [
       "<div>\n",
       "<style scoped>\n",
       "    .dataframe tbody tr th:only-of-type {\n",
       "        vertical-align: middle;\n",
       "    }\n",
       "\n",
       "    .dataframe tbody tr th {\n",
       "        vertical-align: top;\n",
       "    }\n",
       "\n",
       "    .dataframe thead th {\n",
       "        text-align: right;\n",
       "    }\n",
       "</style>\n",
       "<table border=\"1\" class=\"dataframe\">\n",
       "  <thead>\n",
       "    <tr style=\"text-align: right;\">\n",
       "      <th></th>\n",
       "      <th>pl_name</th>\n",
       "      <th>pl_letter</th>\n",
       "      <th>hostname</th>\n",
       "      <th>hd_name</th>\n",
       "      <th>hip_name</th>\n",
       "      <th>tic_id</th>\n",
       "      <th>gaia_id</th>\n",
       "      <th>default_flag</th>\n",
       "      <th>pl_refname</th>\n",
       "      <th>sy_refname</th>\n",
       "      <th>...</th>\n",
       "      <th>sy_jmagstr</th>\n",
       "      <th>sy_hmag</th>\n",
       "      <th>sy_hmagerr1</th>\n",
       "      <th>sy_hmagerr2</th>\n",
       "      <th>sy_hmagstr</th>\n",
       "      <th>sy_kmag</th>\n",
       "      <th>sy_kmagerr1</th>\n",
       "      <th>sy_kmagerr2</th>\n",
       "      <th>sky_coord.ra</th>\n",
       "      <th>sky_coord.dec</th>\n",
       "    </tr>\n",
       "  </thead>\n",
       "  <tbody>\n",
       "    <tr>\n",
       "      <th>43</th>\n",
       "      <td>TOI-1224 c</td>\n",
       "      <td>c</td>\n",
       "      <td>TOI-1224</td>\n",
       "      <td>NaN</td>\n",
       "      <td>NaN</td>\n",
       "      <td>TIC 299798795</td>\n",
       "      <td>Gaia DR2 4620009665047355520</td>\n",
       "      <td>1</td>\n",
       "      <td>&lt;a refstr=THAO_ET_AL__2024 href=https://ui.ads...</td>\n",
       "      <td>&lt;a refstr=STASSUN_ET_AL__2019 href=https://ui....</td>\n",
       "      <td>...</td>\n",
       "      <td>10.018&amp;plusmn;0.023</td>\n",
       "      <td>9.405</td>\n",
       "      <td>0.024</td>\n",
       "      <td>-0.024</td>\n",
       "      <td>9.405&amp;plusmn;0.024</td>\n",
       "      <td>9.134</td>\n",
       "      <td>0.019</td>\n",
       "      <td>-0.019</td>\n",
       "      <td>37.197836</td>\n",
       "      <td>-80.899105</td>\n",
       "    </tr>\n",
       "  </tbody>\n",
       "</table>\n",
       "<p>1 rows × 356 columns</p>\n",
       "</div>"
      ],
      "text/plain": [
       "       pl_name pl_letter  hostname hd_name hip_name         tic_id  \\\n",
       "43  TOI-1224 c         c  TOI-1224     NaN      NaN  TIC 299798795   \n",
       "\n",
       "                         gaia_id  default_flag  \\\n",
       "43  Gaia DR2 4620009665047355520             1   \n",
       "\n",
       "                                           pl_refname  \\\n",
       "43  <a refstr=THAO_ET_AL__2024 href=https://ui.ads...   \n",
       "\n",
       "                                           sy_refname  ...  \\\n",
       "43  <a refstr=STASSUN_ET_AL__2019 href=https://ui....  ...   \n",
       "\n",
       "             sy_jmagstr  sy_hmag sy_hmagerr1 sy_hmagerr2          sy_hmagstr  \\\n",
       "43  10.018&plusmn;0.023    9.405       0.024      -0.024  9.405&plusmn;0.024   \n",
       "\n",
       "   sy_kmag sy_kmagerr1 sy_kmagerr2  sky_coord.ra sky_coord.dec  \n",
       "43   9.134       0.019      -0.019     37.197836    -80.899105  \n",
       "\n",
       "[1 rows x 356 columns]"
      ]
     },
     "execution_count": 17,
     "metadata": {},
     "output_type": "execute_result"
    }
   ],
   "source": [
    "hostname='TOI-1224'\n",
    "dd = nexsci_ttvs_multis[nexsci_ttvs_multis['hostname']==hostname].sort_values(by='pl_orbper')\n",
    "dd"
   ]
  },
  {
   "cell_type": "code",
   "execution_count": 20,
   "id": "d0a783f3-75a8-4855-9045-49eaba3fa963",
   "metadata": {},
   "outputs": [
    {
     "name": "stdout",
     "output_type": "stream",
     "text": [
      "Kepler-30 (nplanets=3, [Sanchis_Ojeda+2012](https://exoplanetarchive.ipac.caltech.edu/overview/Kepler-30), known TTV):<br>\n",
      "TESS sectors=[14 26 40 41 53 54 74 80 81]<br>\n",
      "\n",
      "Kepler-33 (nplanets=5, [Lissauer+2012](https://exoplanetarchive.ipac.caltech.edu/overview/Kepler-33), known TTV):<br>\n",
      "TESS sectors=[14 15 40 41 53 54 55 74 75 80 81 82]<br>\n",
      "\n",
      "Kepler-18 (nplanets=3, [Cochran+2011](https://exoplanetarchive.ipac.caltech.edu/overview/Kepler-18), known TTV):<br>\n",
      "TESS sectors=[14 15 41 54 55 74 75 81 82]<br>\n",
      "\n",
      "Kepler-111 (nplanets=2, [Dalba+2024](https://exoplanetarchive.ipac.caltech.edu/overview/Kepler-111), known TTV):<br>\n",
      "TESS sectors=[15 40 41 54 74 75 81 82]<br>\n",
      "\n",
      "Kepler-11 (nplanets=6, [Lissauer+2013](https://exoplanetarchive.ipac.caltech.edu/overview/Kepler-11), known TTV):<br>\n",
      "TESS sectors=[14 15 41 54 55 74 75 81 82]<br>\n",
      "\n",
      "Kepler-177 (nplanets=2, [Vissapragada+2020](https://exoplanetarchive.ipac.caltech.edu/overview/Kepler-177), known TTV):<br>\n",
      "First Order: 4:3 | P=(36.86,49.41) (delta=0.53%)<br>\n",
      "TESS sectors=[14 26 40 41 53 55 74 75 80 81 82]<br>\n",
      "\n",
      "Kepler-130 (nplanets=2, [Wang+2014](https://exoplanetarchive.ipac.caltech.edu/overview/Kepler-130), known TTV):<br>\n",
      "TESS sectors=[14 40 41 54 55 74 75 80 81]<br>\n",
      "\n",
      "Kepler-29 (nplanets=2, [Vissapragada+2020](https://exoplanetarchive.ipac.caltech.edu/overview/Kepler-29), known TTV):<br>\n",
      "TESS sectors=[14 15 41 54 56 74 75 76 81 82]<br>\n",
      "\n",
      "KOI-1783 (nplanets=2, [Vissapragada+2020](https://exoplanetarchive.ipac.caltech.edu/overview/KOI-1783), known TTV):<br>\n",
      "TESS sectors=[14 15 40 41 53 54 55 74 75 80 81 82]<br>\n",
      "\n",
      "Kepler-31 (nplanets=2, [Fabrycky+2012](https://exoplanetarchive.ipac.caltech.edu/overview/Kepler-31), known TTV):<br>\n",
      "TESS sectors=[14 15 40 74 75 81 82]<br>\n",
      "\n",
      "Kepler-65 (nplanets=2, [Chaplin+2013](https://exoplanetarchive.ipac.caltech.edu/overview/Kepler-65), known TTV):<br>\n",
      "TESS sectors=[14 40 41 54 55 74 75 80 81 82]<br>\n",
      "\n",
      "Kepler-79 (nplanets=4, [Jontof_Hutter+2014](https://exoplanetarchive.ipac.caltech.edu/overview/Kepler-79), known TTV):<br>\n",
      "TESS sectors=[14 15 41 54 55 74 75 81 82]<br>\n",
      "\n",
      "Kepler-36 (nplanets=2, [Vissapragada+2020](https://exoplanetarchive.ipac.caltech.edu/overview/Kepler-36), known TTV):<br>\n",
      "First Order: 7:6 | P=(13.87,16.22) (delta=0.24%)<br>\n",
      "TESS sectors=[14 15 40 41 54 55 74 75 80 81 82]<br>\n",
      "\n",
      "Kepler-32 (nplanets=2, [Fabrycky+2012](https://exoplanetarchive.ipac.caltech.edu/overview/Kepler-32), known TTV):<br>\n",
      "TESS sectors=[14 15 41 54 55 74 75 81 82]<br>\n",
      "\n",
      "TOI-216 (nplanets=2, [Dawson+2021](https://exoplanetarchive.ipac.caltech.edu/overview/TOI-216), known TTV):<br>\n",
      "First Order: 2:1 | P=(17.16,34.53) (delta=0.59%)<br>\n",
      "TESS sectors=[ 1  2  3  4  5  6  7  8  9 11 12 13 27 28 29 30 31 32 33 34 35 36 37 38\n",
      " 39 61 62 63 64 65 66 67 68 69]<br>\n",
      "\n",
      "AU Mic (nplanets=1, [Wittrock+2023](https://exoplanetarchive.ipac.caltech.edu/overview/AUMic), known TTV):<br>\n",
      "TESS sectors=[ 1 27]<br>\n",
      "\n",
      "HD 108236 (nplanets=1, [Bonfanti+2021](https://exoplanetarchive.ipac.caltech.edu/overview/HD108236), known TTV):<br>\n",
      "TESS sectors=[10 11 37]<br>\n",
      "\n",
      "Kepler-50 (nplanets=2, [Chaplin+2013](https://exoplanetarchive.ipac.caltech.edu/overview/Kepler-50), known TTV):<br>\n",
      "First Order: 6:5 | P=(7.81,9.38) (delta=0.02%)<br>\n",
      "TESS sectors=[26 40 41 53 54 55 74 75 80 81 82]<br>\n",
      "\n",
      "TRAPPIST-1 (nplanets=7, [Agol+2021](https://exoplanetarchive.ipac.caltech.edu/overview/TRAPPIST-1), known TTV):<br>\n",
      "First Order: 3:2 | P=(4.05,6.10) (delta=0.45%) 3:2 | P=(6.10,9.21) (delta=0.61%) 4:3 | P=(9.21,12.35) (delta=0.62%)<br>\n",
      "TESS sectors=[70]<br>\n",
      "\n",
      "HD 28109 (nplanets=2, [Dransfield+2022](https://exoplanetarchive.ipac.caltech.edu/overview/HD28109), known TTV):<br>\n",
      "First Order: 3:2 | P=(56.01,84.26) (delta=0.29%)<br>\n",
      "TESS sectors=[ 1  2  3  4  5  6  7  8  9 10 11 12 13 27 28 29 30 31 33 34 35 36 37 38\n",
      " 39 61 62 63 64 65 66 67 68 69]<br>\n",
      "\n",
      "TOI-1266 (nplanets=2, [Cloutier+2024](https://exoplanetarchive.ipac.caltech.edu/overview/TOI-1266), known TTV):<br>\n",
      "Prot=44.60 d\n",
      "TESS sectors=[14 15 21 22 41 48 49 75 76]<br>\n",
      "\n",
      "K2-266 (nplanets=2, [Rodriguez+2018](https://exoplanetarchive.ipac.caltech.edu/overview/K2-266), known TTV):<br>\n",
      "First Order: 4:3 | P=(14.70,19.48) (delta=0.58%)<br>\n",
      "TESS sectors=[35 45 46 62 72]<br>\n",
      "\n"
     ]
    }
   ],
   "source": [
    "show_known_ttvs = True\n",
    "\n",
    "# check if observed by TESS\n",
    "texts = []\n",
    "for hostname in host_multis_ttv:    \n",
    "    dd = nexsci_ttvs_multis[nexsci_ttvs_multis['hostname']==hostname].sort_values(by='pl_orbper')\n",
    "    # make sure depth>1ppt\n",
    "    if dd['pl_trandep'].any() or (dd['pl_trandep']>0.1).any():\n",
    "            \n",
    "        ra, dec, tic, Prot = dd.iloc[0][['ra','dec','tic_id','st_rotp']].values\n",
    "        try:\n",
    "            ticid = int(tic.split()[-1])\n",
    "        except Exception as e:\n",
    "            print(e)\n",
    "            ticid = None     \n",
    "\n",
    "        periods = dd[\"pl_orbper\"].values\n",
    "        Nplanets = len(periods)\n",
    "        resonances_1st_order, delta1 = get_resonant_pairs(periods, order=1, tol=0.01);\n",
    "    \n",
    "        url = f\"https://exoplanetarchive.ipac.caltech.edu/overview/{hostname.replace(' ','')}\"\n",
    "        refs = dd['pl_refname'].unique()\n",
    "        ref = refs[-1].split()[1].split('=')[-1].replace('_ET_AL__', '+').title()\n",
    "        ref = ref.replace('__Amp__', '&')\n",
    "\n",
    "        msg = f\"{hostname} (nplanets={Nplanets}, [{ref}]({url}), known TTV):<br>\\n\"\n",
    "        \n",
    "        show = False\n",
    "        if len(resonances_1st_order)>=1:\n",
    "            msg += f\"First Order: {' '.join(resonances_1st_order)}<br>\\n\"\n",
    "        if str(Prot)!='nan':\n",
    "            msg+=f'Prot={Prot:.2f} d\\n'\n",
    "                        \n",
    "        # check if observed by TESS\n",
    "        if ticid is not None:\n",
    "            outID, outEclipLong, outEclipLat, outSec, outCam, outCcd, \\\n",
    "                    outColPix, outRowPix, scinfo = tess_stars2px_function_entry(\n",
    "                            ticid, ra, dec)\n",
    "            if len(outSec)>0:\n",
    "                msg += f\"TESS sectors={outSec}<br>\\n\"\n",
    "                \n",
    "        print(msg)\n",
    "        # break\n",
    "        texts.append(msg)"
   ]
  },
  {
   "cell_type": "markdown",
   "id": "f3fbcf21-c1fb-4e15-89c4-e3ed2b67ad89",
   "metadata": {},
   "source": [
    "# single systems with reported TTVs"
   ]
  },
  {
   "cell_type": "markdown",
   "id": "30657334-bab1-44fb-90c3-2812963ac105",
   "metadata": {},
   "source": [
    "* Science: Discovery of new transiting planets; ephemeris recovery"
   ]
  },
  {
   "cell_type": "code",
   "execution_count": 26,
   "id": "685a7ff1-4277-4e53-84fc-bc33c235052b",
   "metadata": {},
   "outputs": [],
   "source": [
    "idx = known_ttvs.hostname.isin(host_multis)\n",
    "nexsci_ttv_single = known_ttvs[~idx]"
   ]
  },
  {
   "cell_type": "code",
   "execution_count": 27,
   "id": "596ba6ec-03bc-4247-a996-0a0a12e51412",
   "metadata": {},
   "outputs": [
    {
     "data": {
      "text/plain": [
       "(62, 356)"
      ]
     },
     "execution_count": 27,
     "metadata": {},
     "output_type": "execute_result"
    }
   ],
   "source": [
    "nexsci_ttv_single.shape"
   ]
  },
  {
   "cell_type": "code",
   "execution_count": 28,
   "id": "944bed11-c723-4987-b624-574e044fca72",
   "metadata": {},
   "outputs": [],
   "source": [
    "nexsci_ttv_single.to_csv('../data/nexsci_ttv_single.csv', index=False)"
   ]
  },
  {
   "cell_type": "code",
   "execution_count": 31,
   "id": "fae09b55-4a01-4bca-8149-8e4b86f2c4fd",
   "metadata": {},
   "outputs": [
    {
     "data": {
      "text/plain": [
       "(62,)"
      ]
     },
     "execution_count": 31,
     "metadata": {},
     "output_type": "execute_result"
    }
   ],
   "source": [
    "host_single_ttv = nexsci_ttv_single.hostname.unique()\n",
    "host_single_ttv.shape"
   ]
  },
  {
   "cell_type": "code",
   "execution_count": 32,
   "id": "7265a5d0-ced2-44f5-940a-c618f8caf8b3",
   "metadata": {},
   "outputs": [
    {
     "data": {
      "text/plain": [
       "(62, 356)"
      ]
     },
     "execution_count": 32,
     "metadata": {},
     "output_type": "execute_result"
    }
   ],
   "source": [
    "nexsci_ttv_single.shape"
   ]
  },
  {
   "cell_type": "code",
   "execution_count": 33,
   "id": "dd2b0912-eec2-4926-8ada-83a88b035d8a",
   "metadata": {},
   "outputs": [
    {
     "name": "stdout",
     "output_type": "stream",
     "text": [
      "TOI-199 (nplanets=1, [Hobson+2023](https://exoplanetarchive.ipac.caltech.edu/overview/TOI-199), known TTV):<br>\n",
      "TESS sectors=[ 1  2  3  4  5  6  7  8  9 10 11 12 13 27 29 30 31 32 33 34 35 36 37 39\n",
      " 61 62 63 64 66 67 68 69]<br>\n",
      "\n",
      "WASP-43 (nplanets=1, [Hellier+2011](https://exoplanetarchive.ipac.caltech.edu/overview/WASP-43), known TTV):<br>\n",
      "TESS sectors=[ 9 35 62]<br>\n",
      "\n",
      "Kepler-1624 (nplanets=1, [Morton+2016](https://exoplanetarchive.ipac.caltech.edu/overview/Kepler-1624), known TTV):<br>\n",
      "TESS sectors=[14 40 41 54 55 74 75 81]<br>\n",
      "\n",
      "Kepler-852 (nplanets=1, [Morton+2016](https://exoplanetarchive.ipac.caltech.edu/overview/Kepler-852), known TTV):<br>\n",
      "TESS sectors=[14 15 41 54 55 56 74 75 76 81 83]<br>\n",
      "\n",
      "Kepler-540 (nplanets=1, [Morton+2016](https://exoplanetarchive.ipac.caltech.edu/overview/Kepler-540), known TTV):<br>\n",
      "TESS sectors=[14 15 40 41 55 74 75 80 81]<br>\n",
      "\n",
      "Kepler-1513 (nplanets=1, [Yahalomi+2023](https://exoplanetarchive.ipac.caltech.edu/overview/Kepler-1513), known TTV):<br>\n",
      "TESS sectors=[14 40 41 54 55 75 80 81]<br>\n",
      "\n",
      "Kepler-952 (nplanets=1, [Morton+2016](https://exoplanetarchive.ipac.caltech.edu/overview/Kepler-952), known TTV):<br>\n",
      "TESS sectors=[14 26 40 41 53 54 75 80 81]<br>\n",
      "\n",
      "Kepler-539 (nplanets=1, [Mancini+2016](https://exoplanetarchive.ipac.caltech.edu/overview/Kepler-539), known TTV):<br>\n",
      "Prot=11.77 d\n",
      "TESS sectors=[14 15 41 54 55 74 81 82]<br>\n",
      "\n",
      "Kepler-1527 (nplanets=1, [Morton+2016](https://exoplanetarchive.ipac.caltech.edu/overview/Kepler-1527), known TTV):<br>\n",
      "TESS sectors=[14 15 41 55 74 75 81 82]<br>\n",
      "\n",
      "Kepler-1040 (nplanets=1, [Morton+2016](https://exoplanetarchive.ipac.caltech.edu/overview/Kepler-1040), known TTV):<br>\n",
      "TESS sectors=[14 15 26 40 41 53 54 55 75 80 81 82]<br>\n",
      "\n",
      "Kepler-672 (nplanets=1, [Morton+2016](https://exoplanetarchive.ipac.caltech.edu/overview/Kepler-672), known TTV):<br>\n",
      "TESS sectors=[14 15 40 54 55 56 74 75 81 82]<br>\n",
      "\n",
      "Kepler-1638 (nplanets=1, [Morton+2016](https://exoplanetarchive.ipac.caltech.edu/overview/Kepler-1638), known TTV):<br>\n",
      "TESS sectors=[14 15 40 41 54 55 56 74 75 81 82]<br>\n",
      "\n",
      "Kepler-1593 (nplanets=1, [Morton+2016](https://exoplanetarchive.ipac.caltech.edu/overview/Kepler-1593), known TTV):<br>\n",
      "TESS sectors=[14 15 41 54 55 74 75 81 82]<br>\n",
      "\n",
      "Kepler-410 A (nplanets=1, [Van_Eylen+2014](https://exoplanetarchive.ipac.caltech.edu/overview/Kepler-410A), known TTV):<br>\n",
      "TESS sectors=[14 26 40 41 53 54 55 74 75 80 82]<br>\n",
      "\n",
      "Kepler-1036 (nplanets=1, [Morton+2016](https://exoplanetarchive.ipac.caltech.edu/overview/Kepler-1036), known TTV):<br>\n",
      "TESS sectors=[14 15 40 41 54 55 56 74 75 76 81 82 83]<br>\n",
      "\n",
      "Kepler-412 (nplanets=1, [Esteves+2015](https://exoplanetarchive.ipac.caltech.edu/overview/Kepler-412), known TTV):<br>\n",
      "TESS sectors=[14 26 40 41 53 55 74 75 80 81 82]<br>\n",
      "\n",
      "Kepler-827 (nplanets=1, [Morton+2016](https://exoplanetarchive.ipac.caltech.edu/overview/Kepler-827), known TTV):<br>\n",
      "TESS sectors=[14 15 40 41 54 55 74 75 81 82]<br>\n",
      "\n",
      "TOI-4562 (nplanets=1, [Fermiano+2024](https://exoplanetarchive.ipac.caltech.edu/overview/TOI-4562), known TTV):<br>\n",
      "Prot=3.86 d\n",
      "TESS sectors=[ 1  2  3  4  5  6  7  8 10 11 12 13 27 28 29 30 31 32 33 34 35 36 37 38\n",
      " 39 61 62 63 64 65 66 67 68 69]<br>\n",
      "\n",
      "Kepler-19 (nplanets=1, [Bonomo+2023](https://exoplanetarchive.ipac.caltech.edu/overview/Kepler-19), known TTV):<br>\n",
      "TESS sectors=[14 40 41 54 55 74 81]<br>\n",
      "\n",
      "Kepler-509 (nplanets=1, [Morton+2016](https://exoplanetarchive.ipac.caltech.edu/overview/Kepler-509), known TTV):<br>\n",
      "TESS sectors=[14 15 40 41 54 55 74 75 80 81 82]<br>\n",
      "\n",
      "KOI-142 (nplanets=1, [Weiss+2020](https://exoplanetarchive.ipac.caltech.edu/overview/KOI-142), known TTV):<br>\n",
      "TESS sectors=[14 40 41 54 55 74 75 81 82]<br>\n",
      "\n",
      "KOI-984 (nplanets=1, [Sun+2022](https://exoplanetarchive.ipac.caltech.edu/overview/KOI-984), known TTV):<br>\n",
      "TESS sectors=[14 40 41 54 74 75 81]<br>\n",
      "\n",
      "Kepler-1184 (nplanets=1, [Morton+2016](https://exoplanetarchive.ipac.caltech.edu/overview/Kepler-1184), known TTV):<br>\n",
      "TESS sectors=[14 15 40 41 54 55 74 75 80 82]<br>\n",
      "\n",
      "Kepler-795 (nplanets=1, [Morton+2016](https://exoplanetarchive.ipac.caltech.edu/overview/Kepler-795), known TTV):<br>\n",
      "TESS sectors=[14 40 41 54 55 74 75]<br>\n",
      "\n",
      "Kepler-1453 (nplanets=1, [Morton+2016](https://exoplanetarchive.ipac.caltech.edu/overview/Kepler-1453), known TTV):<br>\n",
      "TESS sectors=[14 15 26 40 41 53 54 55 74 75 80 82]<br>\n",
      "\n",
      "Kepler-419 (nplanets=1, [Dawson+2014](https://exoplanetarchive.ipac.caltech.edu/overview/Kepler-419), known TTV):<br>\n",
      "TESS sectors=[14 15 40 41 54 55 56 74 75 81 82 83]<br>\n",
      "\n",
      "Kepler-1185 (nplanets=1, [Morton+2016](https://exoplanetarchive.ipac.caltech.edu/overview/Kepler-1185), known TTV):<br>\n",
      "TESS sectors=[14 40 41 53 54 74 75 80 81]<br>\n",
      "\n",
      "WASP-126 (nplanets=1, [Pearson_2019](https://exoplanetarchive.ipac.caltech.edu/overview/WASP-126), known TTV):<br>\n",
      "TESS sectors=[ 1  2  3  4  5  6  7  8  9 10 11 12 13 27 28 29 30 31 32 33 34 36 37 38\n",
      " 39 61 63 64 65 66 67 68 69]<br>\n",
      "\n",
      "HAT-P-13 (nplanets=1, [Winn+2010](https://exoplanetarchive.ipac.caltech.edu/overview/HAT-P-13), known TTV):<br>\n",
      "TESS sectors=[47]<br>\n",
      "\n",
      "Kepler-1552 (nplanets=1, [Morton+2016](https://exoplanetarchive.ipac.caltech.edu/overview/Kepler-1552), known TTV):<br>\n",
      "TESS sectors=[14 40 41 54 55 74 75 81 82]<br>\n",
      "\n",
      "Kepler-39 (nplanets=1, [Bonomo+2015](https://exoplanetarchive.ipac.caltech.edu/overview/Kepler-39), known TTV):<br>\n",
      "TESS sectors=[14 15 41 55 74 75 81 82]<br>\n",
      "\n",
      "Kepler-1524 (nplanets=1, [Morton+2016](https://exoplanetarchive.ipac.caltech.edu/overview/Kepler-1524), known TTV):<br>\n",
      "TESS sectors=[40 41 54 55 81 82]<br>\n",
      "\n",
      "Kepler-1097 (nplanets=1, [Morton+2016](https://exoplanetarchive.ipac.caltech.edu/overview/Kepler-1097), known TTV):<br>\n",
      "TESS sectors=[14 26 40 41 53 54 74 80 81]<br>\n",
      "\n",
      "Kepler-34 (nplanets=1, [Welsh+2012](https://exoplanetarchive.ipac.caltech.edu/overview/Kepler-34), known TTV):<br>\n",
      "TESS sectors=[14 15 41 54 55 74 75 81 82]<br>\n",
      "\n",
      "Kepler-16 (nplanets=1, [Doyle+2011](https://exoplanetarchive.ipac.caltech.edu/overview/Kepler-16), known TTV):<br>\n",
      "TESS sectors=[14 15 26 40 41 53 54 55 56 73 74 75 76 80 81 82 83]<br>\n",
      "\n",
      "Kepler-797 (nplanets=1, [Morton+2016](https://exoplanetarchive.ipac.caltech.edu/overview/Kepler-797), known TTV):<br>\n",
      "TESS sectors=[14 15 41 54 55 74 75 81 82]<br>\n",
      "\n",
      "Qatar-1 (nplanets=1, [Collins+2017](https://exoplanetarchive.ipac.caltech.edu/overview/Qatar-1), known TTV):<br>\n",
      "TESS sectors=[15 16 17 18 21 24 25 41 48 51 55 56 57 58 59 75 76 77 78 82 83]<br>\n",
      "\n",
      "WASP-18 (nplanets=1, [Cort_Eacute_S_Zuleta+2020](https://exoplanetarchive.ipac.caltech.edu/overview/WASP-18), known TTV):<br>\n",
      "TESS sectors=[ 2  3 29 30 69]<br>\n",
      "\n",
      "K2-184 (nplanets=1, [Castro_Gonz_Aacute_Lez+2022](https://exoplanetarchive.ipac.caltech.edu/overview/K2-184), known TTV):<br>\n",
      "TESS sectors=[44 45 46 72]<br>\n",
      "\n",
      "Kepler-765 (nplanets=1, [Morton+2016](https://exoplanetarchive.ipac.caltech.edu/overview/Kepler-765), known TTV):<br>\n",
      "TESS sectors=[14 26 40 41 53 54 55 75 80 81 82]<br>\n",
      "\n",
      "Kepler-35 (nplanets=1, [Welsh+2012](https://exoplanetarchive.ipac.caltech.edu/overview/Kepler-35), known TTV):<br>\n",
      "TESS sectors=[14 15 40 41 54 55 74 75 81 82]<br>\n",
      "\n",
      "KELT-19 A (nplanets=1, [Siverd+2018](https://exoplanetarchive.ipac.caltech.edu/overview/KELT-19A), known TTV):<br>\n",
      "TESS sectors=[ 7 33]<br>\n",
      "\n",
      "Kepler-1515 (nplanets=1, [Morton+2016](https://exoplanetarchive.ipac.caltech.edu/overview/Kepler-1515), known TTV):<br>\n",
      "TESS sectors=[14 15 40 41 54 55 74 75 80 81 82]<br>\n",
      "\n",
      "K2-342 (nplanets=1, [De_Leon+2021](https://exoplanetarchive.ipac.caltech.edu/overview/K2-342), known TTV):<br>\n",
      "TESS sectors=[44 45 46 72]<br>\n",
      "\n",
      "KOI-13 (nplanets=1, [Esteves+2015](https://exoplanetarchive.ipac.caltech.edu/overview/KOI-13), known TTV):<br>\n",
      "TESS sectors=[14 15 26 40 41 53 54 55 74 75 80 82]<br>\n",
      "\n",
      "KOI-12 (nplanets=1, [Masuda_2017](https://exoplanetarchive.ipac.caltech.edu/overview/KOI-12), known TTV):<br>\n",
      "TESS sectors=[14 15 54 55 74 81 82]<br>\n",
      "\n",
      "KOI-217 (nplanets=1, [Howell+2010](https://exoplanetarchive.ipac.caltech.edu/overview/KOI-217), known TTV):<br>\n",
      "TESS sectors=[14 15 40 41 54 74 75 81 82]<br>\n",
      "\n",
      "Kepler-725 (nplanets=1, [Morton+2016](https://exoplanetarchive.ipac.caltech.edu/overview/Kepler-725), known TTV):<br>\n",
      "TESS sectors=[14 26 40 41 53 54 55 75 82]<br>\n",
      "\n",
      "Kepler-17 (nplanets=1, [Desert+2011](https://exoplanetarchive.ipac.caltech.edu/overview/Kepler-17), known TTV):<br>\n",
      "TESS sectors=[14 15 41 54 56 74 75 76 81 82 83]<br>\n",
      "\n",
      "Kepler-1389 (nplanets=1, [Morton+2016](https://exoplanetarchive.ipac.caltech.edu/overview/Kepler-1389), known TTV):<br>\n",
      "TESS sectors=[14 26 40 41 53 55 74 75 81 82]<br>\n",
      "\n",
      "Kepler-591 (nplanets=1, [Morton+2016](https://exoplanetarchive.ipac.caltech.edu/overview/Kepler-591), known TTV):<br>\n",
      "TESS sectors=[14 40 41 53 54 55 74 75 80 82]<br>\n",
      "\n",
      "Kepler-966 (nplanets=1, [Morton+2016](https://exoplanetarchive.ipac.caltech.edu/overview/Kepler-966), known TTV):<br>\n",
      "TESS sectors=[14 15 41 54 55 56 74 76 81 82 83]<br>\n",
      "\n",
      "TOI-2202 (nplanets=1, [Trifonov+2021](https://exoplanetarchive.ipac.caltech.edu/overview/TOI-2202), known TTV):<br>\n",
      "TESS sectors=[ 1  2  6  9 13 27 28 29 36 39 62 63 66 67 68 69]<br>\n",
      "\n",
      "TOI-1338 A (nplanets=1, [Wang&Liu_2024](https://exoplanetarchive.ipac.caltech.edu/overview/TOI-1338A), known TTV):<br>\n",
      "TESS sectors=[ 1  2  3  4  5  6  7  8  9 10 11 12 27 28 29 30 31 32 34 35 36 37 38 39\n",
      " 61 62 63 64 65 66 67 68 69]<br>\n",
      "\n",
      "CoRoT-2 (nplanets=1, [Gillon+2010](https://exoplanetarchive.ipac.caltech.edu/overview/CoRoT-2), known TTV):<br>\n",
      "TESS sectors=[54 81]<br>\n",
      "\n",
      "WASP-148 (nplanets=1, [Almenara+2022](https://exoplanetarchive.ipac.caltech.edu/overview/WASP-148), known TTV):<br>\n",
      "TESS sectors=[24 25 26 51 52 78 79]<br>\n",
      "\n",
      "TOI-2447 (nplanets=1, [Gill+2024](https://exoplanetarchive.ipac.caltech.edu/overview/TOI-2447), known TTV):<br>\n",
      "Prot=13.00 d\n",
      "TESS sectors=[ 5 31 32]<br>\n",
      "\n",
      "TOI-1408 (nplanets=1, [Korth+2024](https://exoplanetarchive.ipac.caltech.edu/overview/TOI-1408), known TTV):<br>\n",
      "Prot=7.91 d\n",
      "TESS sectors=[16 17 18 19 24 25 52 57 58 59 73 76 77 78 79]<br>\n",
      "\n",
      "TrES-3 (nplanets=1, [Sozzetti+2009](https://exoplanetarchive.ipac.caltech.edu/overview/TrES-3), known TTV):<br>\n",
      "TESS sectors=[25 26 26 40 52 53 79 80]<br>\n",
      "\n",
      "CoRoT-35 (nplanets=1, [Sebastian+2022](https://exoplanetarchive.ipac.caltech.edu/overview/CoRoT-35), known TTV):<br>\n",
      "TESS sectors=[54]<br>\n",
      "\n",
      "TOI-2180 (nplanets=1, [Dalba+2022](https://exoplanetarchive.ipac.caltech.edu/overview/TOI-2180), known TTV):<br>\n",
      "TESS sectors=[14 15 16 17 18 19 20 21 22 23 24 25 26 40 41 48 49 50 51 52 53 54 55 56\n",
      " 57 58 59 60 73 74 75 77 78 79 80 81 82 83]<br>\n",
      "\n",
      "TOI-1221 (nplanets=1, [Mann+2023](https://exoplanetarchive.ipac.caltech.edu/overview/TOI-1221), known TTV):<br>\n",
      "TESS sectors=[ 1  2  3  4  5  6  7  8  9 10 11 12 13 27 28 29 30 31 32 33 34 35 37 38\n",
      " 39 61 62 63 64 65 66 67 68 69]<br>\n",
      "\n"
     ]
    }
   ],
   "source": [
    "# check if observed by TESS\n",
    "txts = []\n",
    "for i,row in nexsci_ttv_single.iterrows():\n",
    "    # make sure depth>1ppt\n",
    "    if row['pl_trandep'] or row['pl_trandep']>0.1:\n",
    "            \n",
    "        hostname = row['hostname']\n",
    "        ra, dec, tic, Prot = row[['ra','dec','tic_id','st_rotp']].values\n",
    "        try:\n",
    "            ticid = int(tic.split()[-1])\n",
    "        except Exception as e:\n",
    "            print(e)\n",
    "            ticid = None\n",
    "    \n",
    "        url = f\"https://exoplanetarchive.ipac.caltech.edu/overview/{hostname.replace(' ','')}\"\n",
    "        refs = row['pl_refname']\n",
    "        ref = refs.split()[1].split('=')[-1].replace('_ET_AL__', '+').title()\n",
    "        ref = ref.replace('__Amp__', '&')\n",
    "        is_ttv = row.ttv_flag==1\n",
    "        \n",
    "        msg = f\"{hostname} (nplanets=1, [{ref}]({url}), known TTV):<br>\\n\"\n",
    "        if str(Prot)!='nan':\n",
    "            msg+=f'Prot={Prot:.2f} d\\n'\n",
    "        if ticid is not None:\n",
    "            outID, outEclipLong, outEclipLat, outSec, outCam, outCcd, \\\n",
    "                    outColPix, outRowPix, scinfo = tess_stars2px_function_entry(\n",
    "                            ticid, ra, dec)\n",
    "            if len(outSec)>0:\n",
    "                msg += f\"TESS sectors={outSec}<br>\\n\"\n",
    "        print(msg)\n",
    "        txts.append(msg)"
   ]
  },
  {
   "cell_type": "raw",
   "id": "7d031101-5f7e-424c-9423-87f7745f9d9b",
   "metadata": {
    "ExecuteTime": {
     "end_time": "2023-02-21T04:40:35.548996Z",
     "start_time": "2023-02-21T04:40:32.090714Z"
    }
   },
   "source": [
    "import lightkurve as lk\n",
    "\n",
    "alias = get_name_aliases(target, key='epic')\n",
    "res=lk.search_lightcurve(alias, mission='tess', author='spoc')\n",
    "res"
   ]
  },
  {
   "cell_type": "markdown",
   "id": "26def53f-27e9-43a9-a73b-853e2ba21ca1",
   "metadata": {},
   "source": [
    "# multi-planet systems near MMR"
   ]
  },
  {
   "cell_type": "markdown",
   "id": "42b3a81f-622b-491a-9742-df8d2e2bdf8f",
   "metadata": {},
   "source": [
    "* Science: Discover new TTV systems"
   ]
  },
  {
   "cell_type": "code",
   "execution_count": 34,
   "id": "da0959c2",
   "metadata": {
    "ExecuteTime": {
     "end_time": "2023-02-21T03:43:58.144807Z",
     "start_time": "2023-02-21T03:43:35.820419Z"
    },
    "scrolled": true
   },
   "outputs": [
    {
     "name": "stdout",
     "output_type": "stream",
     "text": [
      "TRAPPIST-1 (nplanets=7, [Agol+2021](https://exoplanetarchive.ipac.caltech.edu/overview/TRAPPIST-1), known TTV):<br>\n",
      "First Order: 3:2 | P=(4.05,6.10) (delta=0.45%) 3:2 | P=(6.10,9.21) (delta=0.61%) 4:3 | P=(9.21,12.35) (delta=0.62%)<br>\n",
      "Second Order: 5:3 | P=(2.42,4.05) (delta=0.31%) 6:4 | P=(4.05,6.10) (delta=0.45%) 6:4 | P=(6.10,9.21) (delta=0.61%) 8:6 | P=(9.21,12.35) (delta=0.62%)<br>\n",
      "TESS sectors=[70]<br>\n",
      "\n",
      "Kepler-11 (nplanets=6, [Lissauer+2013](https://exoplanetarchive.ipac.caltech.edu/overview/Kepler-11), known TTV):<br>\n",
      "Second Order: 7:5 | P=(22.68,32.00) (delta=0.76%)<br>\n",
      "TESS sectors=[14 15 41 54 55 74 75 81 82]<br>\n",
      "\n",
      "Kepler-33 (nplanets=5, [Lissauer+2012](https://exoplanetarchive.ipac.caltech.edu/overview/Kepler-33), known TTV):<br>\n",
      "Second Order: 5:3 | P=(13.18,21.78) (delta=0.84%) 9:7 | P=(31.78,41.03) (delta=0.40%)<br>\n",
      "TESS sectors=[14 15 40 41 53 54 55 74 75 80 81 82]<br>\n",
      "\n",
      "HD 108236 (nplanets=5, [Bonfanti+2021](https://exoplanetarchive.ipac.caltech.edu/overview/HD 108236), known TTV):<br>\n",
      "First Order: 3:2 | P=(19.59,29.54) (delta=0.53%)<br>\n",
      "TESS sectors=[10 11 37]<br>\n",
      "\n",
      "K2-285 (nplanets=4, [Palle+2019](https://exoplanetarchive.ipac.caltech.edu/overview/K2-285)):<br>\n",
      "Second Order: 7:5 | P=(10.46,14.76) (delta=0.85%)<br>\n",
      "TESS sectors=[42 70]<br>\n",
      "\n",
      "K2-266 (nplanets=4, [Rodriguez+2018](https://exoplanetarchive.ipac.caltech.edu/overview/K2-266), known TTV):<br>\n",
      "First Order: 4:3 | P=(14.70,19.48) (delta=0.58%)<br>\n",
      "TESS sectors=[35 45 46 62 72]<br>\n",
      "\n",
      "Kepler-65 (nplanets=3, [Chaplin+2013](https://exoplanetarchive.ipac.caltech.edu/overview/Kepler-65), known TTV):<br>\n",
      "Second Order: 7:5 | P=(5.86,8.13) (delta=0.89%)<br>\n",
      "TESS sectors=[14 40 41 54 55 74 75 80 81 82]<br>\n",
      "\n",
      "KOI-7892 (nplanets=3, [Wang+2015](https://exoplanetarchive.ipac.caltech.edu/overview/KOI-7892)):<br>\n",
      "Second Order: 3:1 | P=(10.69,31.81) (delta=0.82%)<br>\n",
      "TESS sectors=[14 26 40 41 53 54 74 75]<br>\n",
      "\n",
      "HR 858 (nplanets=3, [Vanderburg+2019](https://exoplanetarchive.ipac.caltech.edu/overview/HR 858)):<br>\n",
      "Second Order: 5:3 | P=(3.59,5.97) (delta=0.06%)<br>\n",
      "TESS sectors=[ 3  4 30 31]<br>\n",
      "\n",
      "Kepler-297 (nplanets=3, [Q1_Q17_Dr25_Koi_Table](https://exoplanetarchive.ipac.caltech.edu/overview/Kepler-297), known TTV):<br>\n",
      "First Order: 2:1 | P=(74.92,150.02) (delta=0.12%)<br>\n",
      "TESS sectors=[14 15 40 41 53 54 55 74 75 80 81 82]<br>\n",
      "\n",
      "Kepler-1669 (nplanets=3, [Armstrong+2021](https://exoplanetarchive.ipac.caltech.edu/overview/Kepler-1669)):<br>\n",
      "First Order: 2:1 | P=(4.73,9.51) (delta=0.56%)<br>\n",
      "TESS sectors=[14 54 55 75 81 82]<br>\n",
      "\n",
      "HD 28109 (nplanets=3, [Dransfield+2022](https://exoplanetarchive.ipac.caltech.edu/overview/HD 28109), known TTV):<br>\n",
      "First Order: 3:2 | P=(56.01,84.26) (delta=0.29%)<br>\n",
      "TESS sectors=[ 1  2  3  4  5  6  7  8  9 10 11 12 13 27 28 29 30 31 33 34 35 36 37 38\n",
      " 39 61 62 63 64 65 66 67 68 69]<br>\n",
      "\n",
      "Kepler-36 (nplanets=2, [Vissapragada+2020](https://exoplanetarchive.ipac.caltech.edu/overview/Kepler-36), known TTV):<br>\n",
      "First Order: 7:6 | P=(13.87,16.22) (delta=0.24%)<br>\n",
      "TESS sectors=[14 15 40 41 54 55 74 75 80 81 82]<br>\n",
      "\n",
      "TOI-216 (nplanets=2, [Dawson+2021](https://exoplanetarchive.ipac.caltech.edu/overview/TOI-216), known TTV):<br>\n",
      "First Order: 2:1 | P=(17.16,34.53) (delta=0.59%)<br>\n",
      "TESS sectors=[ 1  2  3  4  5  6  7  8  9 11 12 13 27 28 29 30 31 32 33 34 35 36 37 38\n",
      " 39 61 62 63 64 65 66 67 68 69]<br>\n",
      "\n",
      "Kepler-177 (nplanets=2, [Vissapragada+2020](https://exoplanetarchive.ipac.caltech.edu/overview/Kepler-177), known TTV):<br>\n",
      "First Order: 4:3 | P=(36.86,49.41) (delta=0.53%)<br>\n",
      "TESS sectors=[14 26 40 41 53 55 74 75 80 81 82]<br>\n",
      "\n",
      "Kepler-29 (nplanets=2, [Vissapragada+2020](https://exoplanetarchive.ipac.caltech.edu/overview/Kepler-29), known TTV):<br>\n",
      "Second Order: 9:7 | P=(10.34,13.29) (delta=0.06%)<br>\n",
      "TESS sectors=[14 15 41 54 56 74 75 76 81 82]<br>\n",
      "\n",
      "KIC 5437945 (nplanets=2, [Wang+2015](https://exoplanetarchive.ipac.caltech.edu/overview/KIC 5437945)):<br>\n",
      "First Order: 2:1 | P=(220.13,440.78) (delta=0.12%)<br>\n",
      "TESS sectors=[14 40 41 54 55 74 75 80 81]<br>\n",
      "\n",
      "Kepler-50 (nplanets=2, [Chaplin+2013](https://exoplanetarchive.ipac.caltech.edu/overview/Kepler-50), known TTV):<br>\n",
      "First Order: 6:5 | P=(7.81,9.38) (delta=0.02%)<br>\n",
      "TESS sectors=[26 40 41 53 54 55 74 75 80 81 82]<br>\n",
      "\n"
     ]
    }
   ],
   "source": [
    "show_known_ttvs = True\n",
    "\n",
    "ttv_1st_order = []       # commensurability in 1 planet pair \n",
    "ttv_2nd_order = []\n",
    "ttv_chain = []           # more than 1 planet pair\n",
    "deltas1 = []\n",
    "deltas2 = []\n",
    "texts = []\n",
    "for hostname in host_multis:\n",
    "    dd = df3[df3['hostname']==hostname].sort_values(by='pl_orbper')\n",
    "    # make sure depth>1ppt\n",
    "    if dd['pl_trandep'].any() or (dd['pl_trandep']>0.1).any():\n",
    "            \n",
    "            ra, dec, tic = dd.iloc[0][['ra','dec','tic_id']].values\n",
    "            try:\n",
    "                ticid = int(tic.split()[-1])\n",
    "            except Exception as e:\n",
    "                ticid = None\n",
    "                    \n",
    "            periods = dd[\"pl_orbper\"].values\n",
    "            Nplanets = len(periods)\n",
    "            \n",
    "            resonances_1st_order, delta1 = get_resonant_pairs(periods, order=1, tol=0.01);\n",
    "            resonances_2nd_order, delta2 = get_resonant_pairs(periods, order=2, tol=0.01);\n",
    "            \n",
    "            Prot = dd['st_rotp'].unique()[0]\n",
    "        #     url = dd.iloc[-1]['pl_refname'].split()[2].split('=')[-1]\n",
    "            url = f\"https://exoplanetarchive.ipac.caltech.edu/overview/{hostname}\"\n",
    "            refs = dd['pl_refname'].unique()\n",
    "            ref = refs[-1].split()[1].split('=')[-1].replace('_ET_AL__', '+').title()\n",
    "            ref = ref.replace('__Amp__', '&')\n",
    "            \n",
    "            msg = f\"{hostname} (nplanets={Nplanets}, [{ref}]({url})):<br>\\n\"\n",
    "            is_ttv = dd.ttv_flag.sum()>=1\n",
    "            if show_known_ttvs:\n",
    "                flag = ', known TTV' if is_ttv else ''\n",
    "                msg = f\"{hostname} (nplanets={Nplanets}, [{ref}]({url}){flag}):<br>\\n\"\n",
    "            \n",
    "            show = False\n",
    "            if len(resonances_1st_order)>=1:\n",
    "                msg += f\"First Order: {' '.join(resonances_1st_order)}<br>\\n\"\n",
    "                ttv_1st_order.append(hostname)\n",
    "                deltas1.append(min(delta1))\n",
    "                if len(resonances_1st_order)>=2:\n",
    "                    ttv_chain.append(hostname)\n",
    "                    if str(Prot)!='nan':\n",
    "                        msg+=f'Prot={Prot:.2f} d\\n'\n",
    "                show = True\n",
    "            if len(resonances_2nd_order)>=1:\n",
    "                if len(resonances_1st_order)>=1:\n",
    "                    i = int(resonances_1st_order[0].split(':')[0])\n",
    "                    j = int(resonances_2nd_order[0].split(':')[0])\n",
    "                    if j/i!=2:\n",
    "                        msg += f\"Second Order: {' '.join(resonances_2nd_order)}<br>\\n\"\n",
    "                        ttv_2nd_order.append(tic)\n",
    "                        deltas2.append(min(delta2))\n",
    "                        show = True\n",
    "                        \n",
    "                else:\n",
    "                    msg += f\"Second Order: {' '.join(resonances_2nd_order)}<br>\\n\"\n",
    "                    ttv_2nd_order.append(tic)\n",
    "                    deltas2.append(min(delta2))\n",
    "                    show = True\n",
    "                \n",
    "            # check if observed by TESS\n",
    "            if ticid is not None:\n",
    "                outID, outEclipLong, outEclipLat, outSec, outCam, outCcd, \\\n",
    "                        outColPix, outRowPix, scinfo = tess_stars2px_function_entry(\n",
    "                                ticid, ra, dec)\n",
    "                if len(outSec)>0:\n",
    "                    msg += f\"TESS sectors={outSec}<br>\\n\"\n",
    "                \n",
    "            if show:\n",
    "                print(msg)\n",
    "                # break\n",
    "                texts.append(msg)"
   ]
  },
  {
   "cell_type": "code",
   "execution_count": 35,
   "id": "fe188f47",
   "metadata": {
    "ExecuteTime": {
     "end_time": "2023-02-21T03:43:23.495843Z",
     "start_time": "2023-02-21T03:43:23.490160Z"
    }
   },
   "outputs": [
    {
     "data": {
      "text/plain": [
       "(11, 11)"
      ]
     },
     "execution_count": 35,
     "metadata": {},
     "output_type": "execute_result"
    }
   ],
   "source": [
    "len(ttv_1st_order), len(deltas1)"
   ]
  },
  {
   "cell_type": "code",
   "execution_count": 36,
   "id": "3e1f2c11",
   "metadata": {
    "ExecuteTime": {
     "end_time": "2023-02-21T01:04:36.327365Z",
     "start_time": "2023-02-21T01:04:36.315723Z"
    }
   },
   "outputs": [
    {
     "data": {
      "text/html": [
       "<div>\n",
       "<style scoped>\n",
       "    .dataframe tbody tr th:only-of-type {\n",
       "        vertical-align: middle;\n",
       "    }\n",
       "\n",
       "    .dataframe tbody tr th {\n",
       "        vertical-align: top;\n",
       "    }\n",
       "\n",
       "    .dataframe thead th {\n",
       "        text-align: right;\n",
       "    }\n",
       "</style>\n",
       "<table border=\"1\" class=\"dataframe\">\n",
       "  <thead>\n",
       "    <tr style=\"text-align: right;\">\n",
       "      <th></th>\n",
       "      <th>name</th>\n",
       "      <th>delta_min</th>\n",
       "      <th>1st order</th>\n",
       "    </tr>\n",
       "  </thead>\n",
       "  <tbody>\n",
       "    <tr>\n",
       "      <th>10</th>\n",
       "      <td>Kepler-50</td>\n",
       "      <td>0.0001516792234022013</td>\n",
       "      <td>True</td>\n",
       "    </tr>\n",
       "    <tr>\n",
       "      <th>9</th>\n",
       "      <td>KIC 5437945</td>\n",
       "      <td>0.0011825462364023487</td>\n",
       "      <td>True</td>\n",
       "    </tr>\n",
       "    <tr>\n",
       "      <th>3</th>\n",
       "      <td>Kepler-297</td>\n",
       "      <td>0.0011924504355886878</td>\n",
       "      <td>True</td>\n",
       "    </tr>\n",
       "    <tr>\n",
       "      <th>6</th>\n",
       "      <td>Kepler-36</td>\n",
       "      <td>0.002411984208533946</td>\n",
       "      <td>True</td>\n",
       "    </tr>\n",
       "    <tr>\n",
       "      <th>5</th>\n",
       "      <td>HD 28109</td>\n",
       "      <td>0.002948437838585116</td>\n",
       "      <td>True</td>\n",
       "    </tr>\n",
       "    <tr>\n",
       "      <th>0</th>\n",
       "      <td>TRAPPIST-1</td>\n",
       "      <td>0.0044756779023313875</td>\n",
       "      <td>True</td>\n",
       "    </tr>\n",
       "    <tr>\n",
       "      <th>1</th>\n",
       "      <td>HD 108236</td>\n",
       "      <td>0.005312652740361301</td>\n",
       "      <td>True</td>\n",
       "    </tr>\n",
       "    <tr>\n",
       "      <th>8</th>\n",
       "      <td>Kepler-177</td>\n",
       "      <td>0.005340327345829232</td>\n",
       "      <td>True</td>\n",
       "    </tr>\n",
       "    <tr>\n",
       "      <th>4</th>\n",
       "      <td>Kepler-1669</td>\n",
       "      <td>0.005638804844434242</td>\n",
       "      <td>True</td>\n",
       "    </tr>\n",
       "    <tr>\n",
       "      <th>2</th>\n",
       "      <td>K2-266</td>\n",
       "      <td>0.00581751377832207</td>\n",
       "      <td>True</td>\n",
       "    </tr>\n",
       "    <tr>\n",
       "      <th>7</th>\n",
       "      <td>TOI-216</td>\n",
       "      <td>0.005945784357658468</td>\n",
       "      <td>True</td>\n",
       "    </tr>\n",
       "  </tbody>\n",
       "</table>\n",
       "</div>"
      ],
      "text/plain": [
       "           name              delta_min  1st order\n",
       "10    Kepler-50  0.0001516792234022013       True\n",
       "9   KIC 5437945  0.0011825462364023487       True\n",
       "3    Kepler-297  0.0011924504355886878       True\n",
       "6     Kepler-36   0.002411984208533946       True\n",
       "5      HD 28109   0.002948437838585116       True\n",
       "0    TRAPPIST-1  0.0044756779023313875       True\n",
       "1     HD 108236   0.005312652740361301       True\n",
       "8    Kepler-177   0.005340327345829232       True\n",
       "4   Kepler-1669   0.005638804844434242       True\n",
       "2        K2-266    0.00581751377832207       True\n",
       "7       TOI-216   0.005945784357658468       True"
      ]
     },
     "execution_count": 36,
     "metadata": {},
     "output_type": "execute_result"
    }
   ],
   "source": [
    "import pandas as pd\n",
    "\n",
    "s1 = pd.DataFrame(np.c_[ttv_1st_order,deltas1], columns=['name','delta_min'])\n",
    "s1['1st order'] = True\n",
    "s1.sort_values(by='delta_min')"
   ]
  },
  {
   "cell_type": "code",
   "execution_count": 37,
   "id": "ed311e22",
   "metadata": {
    "ExecuteTime": {
     "end_time": "2023-02-21T01:04:39.381733Z",
     "start_time": "2023-02-21T01:04:39.369713Z"
    }
   },
   "outputs": [
    {
     "data": {
      "text/html": [
       "<div>\n",
       "<style scoped>\n",
       "    .dataframe tbody tr th:only-of-type {\n",
       "        vertical-align: middle;\n",
       "    }\n",
       "\n",
       "    .dataframe tbody tr th {\n",
       "        vertical-align: top;\n",
       "    }\n",
       "\n",
       "    .dataframe thead th {\n",
       "        text-align: right;\n",
       "    }\n",
       "</style>\n",
       "<table border=\"1\" class=\"dataframe\">\n",
       "  <thead>\n",
       "    <tr style=\"text-align: right;\">\n",
       "      <th></th>\n",
       "      <th>name</th>\n",
       "      <th>delta_min</th>\n",
       "      <th>2nd order</th>\n",
       "    </tr>\n",
       "  </thead>\n",
       "  <tbody>\n",
       "    <tr>\n",
       "      <th>7</th>\n",
       "      <td>TIC 273875635</td>\n",
       "      <td>0.0005883449035792854</td>\n",
       "      <td>True</td>\n",
       "    </tr>\n",
       "    <tr>\n",
       "      <th>6</th>\n",
       "      <td>TIC 178155732</td>\n",
       "      <td>0.0006224222599617857</td>\n",
       "      <td>True</td>\n",
       "    </tr>\n",
       "    <tr>\n",
       "      <th>0</th>\n",
       "      <td>TIC 278892590</td>\n",
       "      <td>0.0031356719848618653</td>\n",
       "      <td>True</td>\n",
       "    </tr>\n",
       "    <tr>\n",
       "      <th>2</th>\n",
       "      <td>TIC 158935283</td>\n",
       "      <td>0.0039975585507356914</td>\n",
       "      <td>True</td>\n",
       "    </tr>\n",
       "    <tr>\n",
       "      <th>1</th>\n",
       "      <td>TIC 169175503</td>\n",
       "      <td>0.007598013747587284</td>\n",
       "      <td>True</td>\n",
       "    </tr>\n",
       "    <tr>\n",
       "      <th>5</th>\n",
       "      <td>TIC 123449386</td>\n",
       "      <td>0.008166089530387888</td>\n",
       "      <td>True</td>\n",
       "    </tr>\n",
       "    <tr>\n",
       "      <th>3</th>\n",
       "      <td>TIC 262715204</td>\n",
       "      <td>0.008521706434448051</td>\n",
       "      <td>True</td>\n",
       "    </tr>\n",
       "    <tr>\n",
       "      <th>4</th>\n",
       "      <td>TIC 121731834</td>\n",
       "      <td>0.008860591744318858</td>\n",
       "      <td>True</td>\n",
       "    </tr>\n",
       "  </tbody>\n",
       "</table>\n",
       "</div>"
      ],
      "text/plain": [
       "            name              delta_min  2nd order\n",
       "7  TIC 273875635  0.0005883449035792854       True\n",
       "6  TIC 178155732  0.0006224222599617857       True\n",
       "0  TIC 278892590  0.0031356719848618653       True\n",
       "2  TIC 158935283  0.0039975585507356914       True\n",
       "1  TIC 169175503   0.007598013747587284       True\n",
       "5  TIC 123449386   0.008166089530387888       True\n",
       "3  TIC 262715204   0.008521706434448051       True\n",
       "4  TIC 121731834   0.008860591744318858       True"
      ]
     },
     "execution_count": 37,
     "metadata": {},
     "output_type": "execute_result"
    }
   ],
   "source": [
    "s2 = pd.DataFrame(np.c_[ttv_2nd_order,deltas2], columns=['name','delta_min'])\n",
    "s2['2nd order'] = True\n",
    "s2.sort_values(by='delta_min')"
   ]
  },
  {
   "cell_type": "code",
   "execution_count": 38,
   "id": "a88becc0",
   "metadata": {
    "ExecuteTime": {
     "end_time": "2023-02-21T01:04:40.462567Z",
     "start_time": "2023-02-21T01:04:40.441294Z"
    }
   },
   "outputs": [
    {
     "name": "stderr",
     "output_type": "stream",
     "text": [
      "/tmp/ipykernel_3483687/3049121476.py:2: FutureWarning: Downcasting behavior in `replace` is deprecated and will be removed in a future version. To retain the old behavior, explicitly call `result.infer_objects(copy=False)`. To opt-in to the future behavior, set `pd.set_option('future.no_silent_downcasting', True)`\n",
      "  res3 = res3.replace(np.nan, False)\n"
     ]
    },
    {
     "data": {
      "text/plain": [
       "(19, 4)"
      ]
     },
     "execution_count": 38,
     "metadata": {},
     "output_type": "execute_result"
    }
   ],
   "source": [
    "res3 = pd.merge(s1, s2, how='outer')\n",
    "res3 = res3.replace(np.nan, False)\n",
    "res3.shape"
   ]
  },
  {
   "cell_type": "code",
   "execution_count": 39,
   "id": "8d07fe05-9516-4673-a79e-3995f8819566",
   "metadata": {
    "scrolled": true
   },
   "outputs": [
    {
     "name": "stdout",
     "output_type": "stream",
     "text": [
      "\n",
      "\n",
      "K2-266 (nplanets=4, [Rodriguez+2018](https://exoplanetarchive.ipac.caltech.edu/overview/K2-266), known TTV):<br>\n",
      "First Order: 4:3 | P=(14.70,19.48) (delta=0.58%)<br>\n",
      "TESS sectors=[35 45 46 62 72]<br>\n",
      "\n",
      "\n",
      "Kepler-1669 (nplanets=3, [Armstrong+2021](https://exoplanetarchive.ipac.caltech.edu/overview/Kepler-1669)):<br>\n",
      "First Order: 2:1 | P=(4.73,9.51) (delta=0.56%)<br>\n",
      "TESS sectors=[14 54 55 75 81 82]<br>\n",
      "\n",
      "Kepler-177 (nplanets=2, [Vissapragada+2020](https://exoplanetarchive.ipac.caltech.edu/overview/Kepler-177), known TTV):<br>\n",
      "First Order: 4:3 | P=(36.86,49.41) (delta=0.53%)<br>\n",
      "TESS sectors=[14 26 40 41 53 55 74 75 80 81 82]<br>\n",
      "\n",
      "Kepler-297 (nplanets=3, [Q1_Q17_Dr25_Koi_Table](https://exoplanetarchive.ipac.caltech.edu/overview/Kepler-297), known TTV):<br>\n",
      "First Order: 2:1 | P=(74.92,150.02) (delta=0.12%)<br>\n",
      "TESS sectors=[14 15 40 41 53 54 55 74 75 80 81 82]<br>\n",
      "\n",
      "Kepler-36 (nplanets=2, [Vissapragada+2020](https://exoplanetarchive.ipac.caltech.edu/overview/Kepler-36), known TTV):<br>\n",
      "First Order: 7:6 | P=(13.87,16.22) (delta=0.24%)<br>\n",
      "TESS sectors=[14 15 40 41 54 55 74 75 80 81 82]<br>\n",
      "\n",
      "Kepler-50 (nplanets=2, [Chaplin+2013](https://exoplanetarchive.ipac.caltech.edu/overview/Kepler-50), known TTV):<br>\n",
      "First Order: 6:5 | P=(7.81,9.38) (delta=0.02%)<br>\n",
      "TESS sectors=[26 40 41 53 54 55 74 75 80 81 82]<br>\n",
      "\n",
      "\n",
      "\n",
      "\n",
      "\n",
      "\n",
      "\n",
      "\n",
      "\n",
      "TOI-216 (nplanets=2, [Dawson+2021](https://exoplanetarchive.ipac.caltech.edu/overview/TOI-216), known TTV):<br>\n",
      "First Order: 2:1 | P=(17.16,34.53) (delta=0.59%)<br>\n",
      "TESS sectors=[ 1  2  3  4  5  6  7  8  9 11 12 13 27 28 29 30 31 32 33 34 35 36 37 38\n",
      " 39 61 62 63 64 65 66 67 68 69]<br>\n",
      "\n",
      "TRAPPIST-1 (nplanets=7, [Agol+2021](https://exoplanetarchive.ipac.caltech.edu/overview/TRAPPIST-1), known TTV):<br>\n",
      "First Order: 3:2 | P=(4.05,6.10) (delta=0.45%) 3:2 | P=(6.10,9.21) (delta=0.61%) 4:3 | P=(9.21,12.35) (delta=0.62%)<br>\n",
      "Second Order: 5:3 | P=(2.42,4.05) (delta=0.31%) 6:4 | P=(4.05,6.10) (delta=0.45%) 6:4 | P=(6.10,9.21) (delta=0.61%) 8:6 | P=(9.21,12.35) (delta=0.62%)<br>\n",
      "TESS sectors=[70]<br>\n",
      "\n"
     ]
    }
   ],
   "source": [
    "for name in res3.name:\n",
    "    idx = [True if i.split()[0]==str(name) else False for i in texts]\n",
    "    x = np.array(texts)[idx]\n",
    "    print(x[0] if len(x)>0 else '')"
   ]
  },
  {
   "cell_type": "code",
   "execution_count": 50,
   "id": "14775c4d-bcfd-428f-98c7-51536e531629",
   "metadata": {
    "ExecuteTime": {
     "end_time": "2023-02-20T03:52:52.014646Z",
     "start_time": "2023-02-20T03:52:52.002889Z"
    }
   },
   "outputs": [
    {
     "data": {
      "text/plain": [
       "name\n",
       "HD 108236        1\n",
       "K2-266           1\n",
       "KIC 5437945      1\n",
       "Kepler-177       1\n",
       "Kepler-297       1\n",
       "TIC 169175503    1\n",
       "TIC 262715204    1\n",
       "TIC 273875635    1\n",
       "TIC 278892590    1\n",
       "TOI-216          1\n",
       "dtype: int64"
      ]
     },
     "execution_count": 50,
     "metadata": {},
     "output_type": "execute_result"
    }
   ],
   "source": [
    "res3.groupby('name').count().max(axis=1).sort_values(ascending=False).head(10)"
   ]
  },
  {
   "cell_type": "raw",
   "id": "4905768f-264d-441a-b251-1f972749f5ee",
   "metadata": {
    "ExecuteTime": {
     "end_time": "2023-02-21T01:04:43.626617Z",
     "start_time": "2023-02-21T01:04:43.615286Z"
    }
   },
   "source": [
    "duplicate_names=\"KOI-351,K2-381,TRAPPIST-1,TOI-561,Kepler-1542,TOI-1136,Kepler-339,Kepler-60\".split(',')\n",
    "res3[res3.name.isin(duplicate_names)].sort_values('name')"
   ]
  },
  {
   "cell_type": "code",
   "execution_count": 21,
   "id": "01267be9",
   "metadata": {
    "ExecuteTime": {
     "end_time": "2023-02-21T01:04:47.109302Z",
     "start_time": "2023-02-21T01:04:47.086623Z"
    }
   },
   "outputs": [
    {
     "data": {
      "text/html": [
       "<div>\n",
       "<style scoped>\n",
       "    .dataframe tbody tr th:only-of-type {\n",
       "        vertical-align: middle;\n",
       "    }\n",
       "\n",
       "    .dataframe tbody tr th {\n",
       "        vertical-align: top;\n",
       "    }\n",
       "\n",
       "    .dataframe thead th {\n",
       "        text-align: right;\n",
       "    }\n",
       "</style>\n",
       "<table border=\"1\" class=\"dataframe\">\n",
       "  <thead>\n",
       "    <tr style=\"text-align: right;\">\n",
       "      <th></th>\n",
       "      <th>name</th>\n",
       "      <th>delta_min</th>\n",
       "      <th>1st order</th>\n",
       "      <th>2nd order</th>\n",
       "    </tr>\n",
       "  </thead>\n",
       "  <tbody>\n",
       "    <tr>\n",
       "      <th>47</th>\n",
       "      <td>Kepler-50</td>\n",
       "      <td>0.0001516792234022013</td>\n",
       "      <td>True</td>\n",
       "      <td>False</td>\n",
       "    </tr>\n",
       "    <tr>\n",
       "      <th>51</th>\n",
       "      <td>Kepler-60</td>\n",
       "      <td>0.00021868954495740667</td>\n",
       "      <td>True</td>\n",
       "      <td>False</td>\n",
       "    </tr>\n",
       "    <tr>\n",
       "      <th>93</th>\n",
       "      <td>TOI-1136</td>\n",
       "      <td>0.0003067499364933779</td>\n",
       "      <td>True</td>\n",
       "      <td>False</td>\n",
       "    </tr>\n",
       "    <tr>\n",
       "      <th>40</th>\n",
       "      <td>Kepler-372</td>\n",
       "      <td>0.0003963844591161614</td>\n",
       "      <td>True</td>\n",
       "      <td>False</td>\n",
       "    </tr>\n",
       "    <tr>\n",
       "      <th>83</th>\n",
       "      <td>TIC 27530849</td>\n",
       "      <td>0.0005226864229330719</td>\n",
       "      <td>False</td>\n",
       "      <td>True</td>\n",
       "    </tr>\n",
       "    <tr>\n",
       "      <th>...</th>\n",
       "      <td>...</td>\n",
       "      <td>...</td>\n",
       "      <td>...</td>\n",
       "      <td>...</td>\n",
       "    </tr>\n",
       "    <tr>\n",
       "      <th>46</th>\n",
       "      <td>Kepler-49</td>\n",
       "      <td>0.009924635320084807</td>\n",
       "      <td>True</td>\n",
       "      <td>False</td>\n",
       "    </tr>\n",
       "    <tr>\n",
       "      <th>50</th>\n",
       "      <td>Kepler-59</td>\n",
       "      <td>0.009991287031286156</td>\n",
       "      <td>True</td>\n",
       "      <td>False</td>\n",
       "    </tr>\n",
       "    <tr>\n",
       "      <th>79</th>\n",
       "      <td>TIC 273592336</td>\n",
       "      <td>2.3793680032468956e-05</td>\n",
       "      <td>False</td>\n",
       "      <td>True</td>\n",
       "    </tr>\n",
       "    <tr>\n",
       "      <th>2</th>\n",
       "      <td>HD 110067</td>\n",
       "      <td>2.6434501167793556e-05</td>\n",
       "      <td>True</td>\n",
       "      <td>False</td>\n",
       "    </tr>\n",
       "    <tr>\n",
       "      <th>29</th>\n",
       "      <td>Kepler-223</td>\n",
       "      <td>3.52089311518311e-05</td>\n",
       "      <td>True</td>\n",
       "      <td>False</td>\n",
       "    </tr>\n",
       "  </tbody>\n",
       "</table>\n",
       "<p>100 rows × 4 columns</p>\n",
       "</div>"
      ],
      "text/plain": [
       "             name               delta_min  1st order  2nd order\n",
       "47      Kepler-50   0.0001516792234022013       True      False\n",
       "51      Kepler-60  0.00021868954495740667       True      False\n",
       "93       TOI-1136   0.0003067499364933779       True      False\n",
       "40     Kepler-372   0.0003963844591161614       True      False\n",
       "83   TIC 27530849   0.0005226864229330719      False       True\n",
       "..            ...                     ...        ...        ...\n",
       "46      Kepler-49    0.009924635320084807       True      False\n",
       "50      Kepler-59    0.009991287031286156       True      False\n",
       "79  TIC 273592336  2.3793680032468956e-05      False       True\n",
       "2       HD 110067  2.6434501167793556e-05       True      False\n",
       "29     Kepler-223    3.52089311518311e-05       True      False\n",
       "\n",
       "[100 rows x 4 columns]"
      ]
     },
     "execution_count": 21,
     "metadata": {},
     "output_type": "execute_result"
    }
   ],
   "source": [
    "#merge duplicate row and keep only True\n",
    "res3 = res3.groupby('name', as_index=False).max()\n",
    "res3 = res3.sort_values(by='delta_min')\n",
    "res3"
   ]
  },
  {
   "cell_type": "code",
   "execution_count": 22,
   "id": "64db76af-c18c-423e-ace7-6bbef542f901",
   "metadata": {},
   "outputs": [
    {
     "data": {
      "text/plain": [
       "100"
      ]
     },
     "execution_count": 22,
     "metadata": {},
     "output_type": "execute_result"
    }
   ],
   "source": [
    "len(res3.name.unique())"
   ]
  },
  {
   "cell_type": "raw",
   "id": "506373ac-f9d2-474e-b005-8de356dcd0f0",
   "metadata": {
    "ExecuteTime": {
     "end_time": "2023-02-21T01:04:47.619294Z",
     "start_time": "2023-02-21T01:04:47.595789Z"
    }
   },
   "source": [
    "res3[res3.name.isin(duplicate_names)].sort_values('name')"
   ]
  },
  {
   "cell_type": "code",
   "execution_count": 23,
   "id": "a16c1097",
   "metadata": {
    "ExecuteTime": {
     "end_time": "2023-02-21T01:04:50.537781Z",
     "start_time": "2023-02-21T01:04:50.529529Z"
    }
   },
   "outputs": [],
   "source": [
    "res3.to_csv('../data/name_resonance_from_nexsci.csv')"
   ]
  },
  {
   "cell_type": "code",
   "execution_count": 24,
   "id": "da95ceb5",
   "metadata": {
    "ExecuteTime": {
     "end_time": "2023-02-21T01:04:50.850525Z",
     "start_time": "2023-02-21T01:04:50.836969Z"
    }
   },
   "outputs": [
    {
     "data": {
      "text/plain": [
       "(95, 100)"
      ]
     },
     "execution_count": 24,
     "metadata": {},
     "output_type": "execute_result"
    }
   ],
   "source": [
    "len(texts), len(res3)"
   ]
  },
  {
   "cell_type": "code",
   "execution_count": 25,
   "id": "cae03e79",
   "metadata": {
    "ExecuteTime": {
     "end_time": "2023-02-21T01:04:51.568797Z",
     "start_time": "2023-02-21T01:04:51.559935Z"
    }
   },
   "outputs": [
    {
     "data": {
      "text/html": [
       "<div>\n",
       "<style scoped>\n",
       "    .dataframe tbody tr th:only-of-type {\n",
       "        vertical-align: middle;\n",
       "    }\n",
       "\n",
       "    .dataframe tbody tr th {\n",
       "        vertical-align: top;\n",
       "    }\n",
       "\n",
       "    .dataframe thead th {\n",
       "        text-align: right;\n",
       "    }\n",
       "</style>\n",
       "<table border=\"1\" class=\"dataframe\">\n",
       "  <thead>\n",
       "    <tr style=\"text-align: right;\">\n",
       "      <th></th>\n",
       "      <th>name</th>\n",
       "      <th>delta_min</th>\n",
       "      <th>1st order</th>\n",
       "      <th>2nd order</th>\n",
       "    </tr>\n",
       "  </thead>\n",
       "  <tbody>\n",
       "    <tr>\n",
       "      <th>47</th>\n",
       "      <td>Kepler-50</td>\n",
       "      <td>0.0001516792234022013</td>\n",
       "      <td>True</td>\n",
       "      <td>False</td>\n",
       "    </tr>\n",
       "    <tr>\n",
       "      <th>51</th>\n",
       "      <td>Kepler-60</td>\n",
       "      <td>0.00021868954495740667</td>\n",
       "      <td>True</td>\n",
       "      <td>False</td>\n",
       "    </tr>\n",
       "    <tr>\n",
       "      <th>93</th>\n",
       "      <td>TOI-1136</td>\n",
       "      <td>0.0003067499364933779</td>\n",
       "      <td>True</td>\n",
       "      <td>False</td>\n",
       "    </tr>\n",
       "    <tr>\n",
       "      <th>40</th>\n",
       "      <td>Kepler-372</td>\n",
       "      <td>0.0003963844591161614</td>\n",
       "      <td>True</td>\n",
       "      <td>False</td>\n",
       "    </tr>\n",
       "    <tr>\n",
       "      <th>83</th>\n",
       "      <td>TIC 27530849</td>\n",
       "      <td>0.0005226864229330719</td>\n",
       "      <td>False</td>\n",
       "      <td>True</td>\n",
       "    </tr>\n",
       "  </tbody>\n",
       "</table>\n",
       "</div>"
      ],
      "text/plain": [
       "            name               delta_min  1st order  2nd order\n",
       "47     Kepler-50   0.0001516792234022013       True      False\n",
       "51     Kepler-60  0.00021868954495740667       True      False\n",
       "93      TOI-1136   0.0003067499364933779       True      False\n",
       "40    Kepler-372   0.0003963844591161614       True      False\n",
       "83  TIC 27530849   0.0005226864229330719      False       True"
      ]
     },
     "execution_count": 25,
     "metadata": {},
     "output_type": "execute_result"
    }
   ],
   "source": [
    "res3.head()"
   ]
  },
  {
   "cell_type": "raw",
   "id": "0261c558",
   "metadata": {
    "ExecuteTime": {
     "end_time": "2023-02-20T04:05:21.087956Z",
     "start_time": "2023-02-20T04:05:21.082096Z"
    }
   },
   "source": [
    "idx = res3.index.values\n",
    "for i in idx:\n",
    "    print(texts[i])"
   ]
  },
  {
   "cell_type": "code",
   "execution_count": 51,
   "id": "b75838c9-6996-4e28-b6a5-33360a0d6a02",
   "metadata": {
    "ExecuteTime": {
     "end_time": "2023-02-21T01:04:53.932053Z",
     "start_time": "2023-02-21T01:04:53.900986Z"
    }
   },
   "outputs": [
    {
     "name": "stdout",
     "output_type": "stream",
     "text": [
      "\n",
      "K2-266 (nplanets=4, [Rodriguez+2018](https://exoplanetarchive.ipac.caltech.edu/overview/K2-266), known TTV):<br>\n",
      "First Order: 4:3 | P=(14.70,19.48) (delta=0.58%)<br>\n",
      "TESS sectors=[35 45 46 62 72]<br>\n",
      "\n",
      "\n",
      "Kepler-177 (nplanets=2, [Vissapragada+2020](https://exoplanetarchive.ipac.caltech.edu/overview/Kepler-177), known TTV):<br>\n",
      "First Order: 4:3 | P=(36.86,49.41) (delta=0.53%)<br>\n",
      "TESS sectors=[14 26 40 41 53 55 74 75 80 81 82]<br>\n",
      "\n",
      "Kepler-297 (nplanets=3, [Q1_Q17_Dr25_Koi_Table](https://exoplanetarchive.ipac.caltech.edu/overview/Kepler-297), known TTV):<br>\n",
      "First Order: 2:1 | P=(74.92,150.02) (delta=0.12%)<br>\n",
      "TESS sectors=[14 15 40 41 53 54 55 74 75 80 81 82]<br>\n",
      "\n",
      "\n",
      "\n",
      "\n",
      "\n",
      "TOI-216 (nplanets=2, [Dawson+2021](https://exoplanetarchive.ipac.caltech.edu/overview/TOI-216), known TTV):<br>\n",
      "First Order: 2:1 | P=(17.16,34.53) (delta=0.59%)<br>\n",
      "TESS sectors=[ 1  2  3  4  5  6  7  8  9 11 12 13 27 28 29 30 31 32 33 34 35 36 37 38\n",
      " 39 61 62 63 64 65 66 67 68 69]<br>\n",
      "\n",
      "TRAPPIST-1 (nplanets=7, [Agol+2021](https://exoplanetarchive.ipac.caltech.edu/overview/TRAPPIST-1), known TTV):<br>\n",
      "First Order: 3:2 | P=(4.05,6.10) (delta=0.45%) 3:2 | P=(6.10,9.21) (delta=0.61%) 4:3 | P=(9.21,12.35) (delta=0.62%)<br>\n",
      "Second Order: 5:3 | P=(2.42,4.05) (delta=0.31%) 6:4 | P=(4.05,6.10) (delta=0.45%) 6:4 | P=(6.10,9.21) (delta=0.61%) 8:6 | P=(9.21,12.35) (delta=0.62%)<br>\n",
      "TESS sectors=[70]<br>\n",
      "\n"
     ]
    }
   ],
   "source": [
    "for name in res3.name:\n",
    "    idx = [True if i.split()[0]==name else False for i in texts]\n",
    "    x = np.array(texts)[idx]\n",
    "    print(x[0] if len(x)>0 else '')"
   ]
  },
  {
   "cell_type": "code",
   "execution_count": 27,
   "id": "6df7dbbf",
   "metadata": {
    "ExecuteTime": {
     "end_time": "2023-02-20T09:33:30.080371Z",
     "start_time": "2023-02-20T09:33:30.075168Z"
    }
   },
   "outputs": [],
   "source": [
    "np.savetxt('../data/name_resonance_from_nexsci.txt', res3.name.tolist(), fmt=\"%s\")\n",
    "np.savetxt('../data/name_resonance_from_nexsci_1st_order.txt', ttv_1st_order, fmt=\"%s\")\n",
    "np.savetxt('../data/name_resonance_from_nexsci_2nd_order.txt', ttv_2nd_order, fmt=\"%s\")"
   ]
  },
  {
   "cell_type": "code",
   "execution_count": 28,
   "id": "3b5ed42c",
   "metadata": {
    "ExecuteTime": {
     "end_time": "2023-02-20T09:33:30.101235Z",
     "start_time": "2023-02-20T09:33:30.082404Z"
    }
   },
   "outputs": [
    {
     "name": "stdout",
     "output_type": "stream",
     "text": [
      "['HD 23472']: Prot=[40.1] d\n",
      "      pl_name  pl_orbper\n",
      "0  HD 23472 d   3.976640\n",
      "1  HD 23472 e   7.907540\n",
      "2  HD 23472 f  12.162184\n",
      "3  HD 23472 c  29.797490\n",
      "4  HD 23472 b  17.667087\n",
      "['Kepler-102']: Prot=[27.95] d\n",
      "        pl_name  pl_orbper\n",
      "0  Kepler-102 b   5.286965\n",
      "1  Kepler-102 c   7.071392\n",
      "2  Kepler-102 d  10.311767\n",
      "3  Kepler-102 e  16.145699\n",
      "4  Kepler-102 f  27.453592\n",
      "['V1298 Tau']: Prot=[2.87] d\n",
      "       pl_name  pl_orbper\n",
      "0  V1298 Tau b   24.13960\n",
      "1  V1298 Tau d   12.40320\n",
      "2  V1298 Tau e   60.00000\n",
      "3  V1298 Tau c    8.24958\n",
      "['L 98-59']: Prot=[78.  80.9] d\n",
      "     pl_name  pl_orbper\n",
      "0  L 98-59 d   7.450729\n",
      "1  L 98-59 b   2.253114\n",
      "2  L 98-59 c   3.690675\n",
      "['HD 109833']: Prot=[5.11] d\n",
      "       pl_name  pl_orbper\n",
      "0  HD 109833 b   9.188526\n",
      "1  HD 109833 c  13.900148\n"
     ]
    }
   ],
   "source": [
    "s = pd.Series(ttv_1st_order)\n",
    "s = s[s.isin(host_multis_w_prot)]\n",
    "for i in s:\n",
    "    d = df3[df3.hostname==i].reset_index(drop=True)\n",
    "    print(f\"{d.hostname.unique()}: Prot={d.st_rotp.unique()} d\")\n",
    "    print(d[['pl_name','pl_orbper']])"
   ]
  },
  {
   "cell_type": "markdown",
   "id": "6da71238",
   "metadata": {},
   "source": [
    "# literature search for TTV"
   ]
  },
  {
   "cell_type": "raw",
   "id": "00fb9878",
   "metadata": {
    "ExecuteTime": {
     "end_time": "2023-02-20T08:54:07.646589Z",
     "start_time": "2023-02-20T08:54:04.917470Z"
    }
   },
   "source": [
    "!pip install arxiv"
   ]
  },
  {
   "cell_type": "code",
   "execution_count": 1,
   "id": "d4a3a946",
   "metadata": {
    "ExecuteTime": {
     "end_time": "2023-02-20T09:33:41.154956Z",
     "start_time": "2023-02-20T09:33:30.103339Z"
    }
   },
   "outputs": [],
   "source": [
    "import arxiv\n",
    "\n",
    "search = arxiv.Search(\n",
    "  query = \"abs:ttv\",\n",
    "  max_results = 1_000,\n",
    "  sort_by = arxiv.SortCriterion.SubmittedDate\n",
    ")\n",
    "\n",
    "titles = [r.title for r in search.results()]"
   ]
  },
  {
   "cell_type": "code",
   "execution_count": 23,
   "id": "a8a014c6",
   "metadata": {
    "ExecuteTime": {
     "end_time": "2023-02-20T09:33:41.162981Z",
     "start_time": "2023-02-20T09:33:41.156382Z"
    }
   },
   "outputs": [
    {
     "data": {
      "text/plain": [
       "{'K2-138',\n",
       " 'K2-146',\n",
       " 'K2-19',\n",
       " 'KOI-1599',\n",
       " 'Kepler-1705',\n",
       " 'Kepler-1972',\n",
       " 'Kepler-59',\n",
       " 'Kepler-60',\n",
       " 'Kepler-80',\n",
       " 'TOI-216',\n",
       " 'TOI-270',\n",
       " 'TRAPPIST-1'}"
      ]
     },
     "execution_count": 23,
     "metadata": {},
     "output_type": "execute_result"
    }
   ],
   "source": [
    "known_ttvs = []\n",
    "for title in titles:\n",
    "    for word in title.split():\n",
    "#         print(word)\n",
    "        if word[-1]=='b':\n",
    "            word = word[:-2]\n",
    "        if word in ttv_1st_order:\n",
    "            known_ttvs.append(word)\n",
    "set(known_ttvs)"
   ]
  },
  {
   "cell_type": "code",
   "execution_count": null,
   "id": "dd697f42",
   "metadata": {},
   "outputs": [],
   "source": []
  }
 ],
 "metadata": {
  "kernelspec": {
   "display_name": "ttv",
   "language": "python",
   "name": "ttv"
  },
  "language_info": {
   "codemirror_mode": {
    "name": "ipython",
    "version": 3
   },
   "file_extension": ".py",
   "mimetype": "text/x-python",
   "name": "python",
   "nbconvert_exporter": "python",
   "pygments_lexer": "ipython3",
   "version": "3.10.9"
  },
  "toc": {
   "base_numbering": 1,
   "nav_menu": {},
   "number_sections": true,
   "sideBar": true,
   "skip_h1_title": false,
   "title_cell": "Table of Contents",
   "title_sidebar": "Contents",
   "toc_cell": false,
   "toc_position": {},
   "toc_section_display": true,
   "toc_window_display": false
  }
 },
 "nbformat": 4,
 "nbformat_minor": 5
}
